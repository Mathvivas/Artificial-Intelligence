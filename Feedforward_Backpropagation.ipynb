{
  "nbformat": 4,
  "nbformat_minor": 0,
  "metadata": {
    "colab": {
      "provenance": [],
      "authorship_tag": "ABX9TyO1mWRqMOld0WhJf/zY2v9D"
    },
    "kernelspec": {
      "name": "python3",
      "display_name": "Python 3"
    },
    "language_info": {
      "name": "python"
    }
  },
  "cells": [
    {
      "cell_type": "markdown",
      "source": [
        "- Book: Modern Computer Vision with PyTorch (by V Kishore Ayyadevara)"
      ],
      "metadata": {
        "id": "KjbWpFcwoDzg"
      }
    },
    {
      "cell_type": "markdown",
      "source": [
        "## Libraries"
      ],
      "metadata": {
        "id": "Yl4Jr3qJo3tt"
      }
    },
    {
      "cell_type": "code",
      "source": [
        "import numpy as np\n",
        "from copy import deepcopy\n",
        "import matplotlib.pyplot as plt\n",
        "%matplotlib inline"
      ],
      "metadata": {
        "id": "PxjanMGMo3M0"
      },
      "execution_count": null,
      "outputs": []
    },
    {
      "cell_type": "markdown",
      "source": [
        "# Feedforward Propagation"
      ],
      "metadata": {
        "id": "QzXJNhoXn-sF"
      }
    },
    {
      "cell_type": "markdown",
      "source": [
        "$a = f(w_o + \\sum_{i=1}^n w_i x_i)$\n",
        "\n",
        "- f: Activation Function\n",
        "- x: input\n",
        "- w: weight\n",
        "\n",
        "Sigmoid Activation(x) = $\\tfrac{1}{(1+e^{-x})}$\n",
        "\n",
        "Mean Squared Error = $\\tfrac{1}{m}\\sum_{i=1}^m (y_i - ŷ_i)^{2}$"
      ],
      "metadata": {
        "id": "_LZ5sJJRsd_k"
      }
    },
    {
      "cell_type": "code",
      "execution_count": null,
      "metadata": {
        "id": "kM4oXgiXnmfg"
      },
      "outputs": [],
      "source": [
        "def feed_forward(inputs, outputs, weights):\n",
        "    # Applying the calculation between the input layer and the hidden layer\n",
        "    pre_hidden = np.dot(inputs, weights[0]) + weights[1]\n",
        "    # Activation function\n",
        "    hidden = 1 / (1 + np.exp(-pre_hidden))\n",
        "    # Applying the calculation between the hidden layer and the output layer\n",
        "    pred_out = np.dot(hidden, weights[2]) + weights[3]\n",
        "    # Calculating the Mean Squared Error\n",
        "    mean_squared_error = np.mean(np.square(pred_out - outputs))\n",
        "    return mean_squared_error"
      ]
    },
    {
      "cell_type": "markdown",
      "source": [
        "# Backpropagation (Gradient Descent)"
      ],
      "metadata": {
        "id": "ZeQIatfNhl-2"
      }
    },
    {
      "cell_type": "code",
      "source": [
        "def update_weights(inputs, outputs, weights, lr):\n",
        "    original_weights = deepcopy(weights)\n",
        "    temp_weights = deepcopy(weights)\n",
        "    updated_weights = deepcopy(weights)\n",
        "    # Calculating the loss value with the original set of weights\n",
        "    original_loss = feed_forward(inputs, outputs, original_weights)\n",
        "    # Looping through all the layers of the network\n",
        "    for i, layer in enumerate(original_weights):\n",
        "        # Looping through each parameter within a given list\n",
        "        for index, weight in np.ndenumerate(layer):\n",
        "            temp_weights = deepcopy(weights)\n",
        "            temp_weights[i][index] += 0.0001\n",
        "            _loss_plus = feed_forward(inputs, outputs, temp_weights)\n",
        "            grad = (_loss_plus - original_loss) / (0.0001)\n",
        "            updated_weights[i][index] -= grad * lr\n",
        "    return updated_weights, original_loss"
      ],
      "metadata": {
        "id": "0Um2wuOk3KP5"
      },
      "execution_count": null,
      "outputs": []
    },
    {
      "cell_type": "markdown",
      "source": [
        "# Feedforward Propagation with Backpropagation"
      ],
      "metadata": {
        "id": "YfGSIWP9iGHl"
      }
    },
    {
      "cell_type": "markdown",
      "source": [
        "### Defining the Dataset"
      ],
      "metadata": {
        "id": "OlWotncxjNfp"
      }
    },
    {
      "cell_type": "code",
      "source": [
        "x = np.array([[1, 1]])\n",
        "y = np.array([[0]])"
      ],
      "metadata": {
        "id": "fOEimz0gK3_0"
      },
      "execution_count": null,
      "outputs": []
    },
    {
      "cell_type": "markdown",
      "source": [
        "### Initialize the weight and bias values randomly"
      ],
      "metadata": {
        "id": "-c06udXljP2_"
      }
    },
    {
      "cell_type": "markdown",
      "source": [
        "- Hidden layer has 3 nodes\n",
        "- Input layer has 2 nodes\n",
        "- Input - Hidden makes 6 connections (6 weights) and 3 bias\n",
        "- Output layer has 1 node\n",
        "- Hidden - Output makes 3 connections (3 weights) and 1 bias"
      ],
      "metadata": {
        "id": "kY9xz2g0jcpm"
      }
    },
    {
      "cell_type": "code",
      "source": [
        "W = [\n",
        "    # 2x3 matrix of weights that connects the input layer to the hidden layer\n",
        "    np.array([[-0.0053, 0.3793],\n",
        "              [-0.5820, -0.5204],\n",
        "              [-0.2723, 0.1896]], dtype=np.float32).T,\n",
        "    # Bias of each node of the hidden layer\n",
        "    np.array([-0.0140, 0.5607, -0.0628], dtype=np.float32),\n",
        "    # 3x1 matrix of weights that connects the hidden layer to the output layer\n",
        "    np.array([[0.1528, -0.1745, -0.1135]], dtype=np.float32).T,\n",
        "    # Bias of the output layer\n",
        "    np.array([-0.5516], dtype=np.float32)\n",
        "]"
      ],
      "metadata": {
        "id": "bisrAhJiib_N"
      },
      "execution_count": null,
      "outputs": []
    },
    {
      "cell_type": "markdown",
      "source": [
        "### Updating the weights over 100 epochs and fetching the loss and the updated weight values"
      ],
      "metadata": {
        "id": "81dvOTpdorAw"
      }
    },
    {
      "cell_type": "code",
      "source": [
        "losses = []\n",
        "for epoch in range(100):\n",
        "    W, loss = update_weights(x, y, W, 0.01)\n",
        "    losses.append(loss)"
      ],
      "metadata": {
        "id": "DGplZu5micep"
      },
      "execution_count": null,
      "outputs": []
    },
    {
      "cell_type": "code",
      "source": [
        "plt.plot(losses)\n",
        "plt.title('Loss over increasing number of epochs')\n",
        "plt.xlabel('Epochs')\n",
        "plt.ylabel('Loss')"
      ],
      "metadata": {
        "colab": {
          "base_uri": "https://localhost:8080/",
          "height": 312
        },
        "id": "qM4Qt_6zo8UD",
        "outputId": "ac14ac5d-0b68-4e06-8772-1782b058e692"
      },
      "execution_count": null,
      "outputs": [
        {
          "output_type": "execute_result",
          "data": {
            "text/plain": [
              "Text(0, 0.5, 'Loss')"
            ]
          },
          "metadata": {},
          "execution_count": 9
        },
        {
          "output_type": "display_data",
          "data": {
            "text/plain": [
              "<Figure size 432x288 with 1 Axes>"
            ],
            "image/png": "[encoded data removed]"
          },
          "metadata": {
            "needs_background": "light"
          }
        }
      ]
    },
    {
      "cell_type": "markdown",
      "source": [
        "### Updated Weights (Final)"
      ],
      "metadata": {
        "id": "FE79epcVp3a_"
      }
    },
    {
      "cell_type": "code",
      "source": [
        "W"
      ],
      "metadata": {
        "colab": {
          "base_uri": "https://localhost:8080/"
        },
        "id": "Ik-PjULcpZAz",
        "outputId": "7a32b3cc-91af-442a-d970-6a309cdc264f"
      },
      "execution_count": null,
      "outputs": [
        {
          "output_type": "execute_result",
          "data": {
            "text/plain": [
              "[array([[ 0.01424004, -0.5907864 , -0.27549535],\n",
              "        [ 0.39883757, -0.52918637,  0.18640439]], dtype=float32),\n",
              " array([ 0.00554004,  0.5519136 , -0.06599568], dtype=float32),\n",
              " array([[ 0.3475135 ],\n",
              "        [-0.05529078],\n",
              "        [ 0.03760847]], dtype=float32),\n",
              " array([-0.22443289], dtype=float32)]"
            ]
          },
          "metadata": {},
          "execution_count": 10
        }
      ]
    },
    {
      "cell_type": "markdown",
      "source": [
        "# Calculating the Output Value based on the Updated Weights"
      ],
      "metadata": {
        "id": "B8kEdZ-rqydL"
      }
    },
    {
      "cell_type": "code",
      "source": [
        "pre_hidden = np.dot(x, W[0]) + W[1]\n",
        "hidden = 1 / (1 + np.exp(-pre_hidden))\n",
        "pred_out = np.dot(hidden, W[2]) + W[3]\n",
        "pred_out"
      ],
      "metadata": {
        "colab": {
          "base_uri": "https://localhost:8080/"
        },
        "id": "TCdLoO1ep0bc",
        "outputId": "a01d22e8-cbc7-49f1-9670-720e6b57f269"
      },
      "execution_count": null,
      "outputs": [
        {
          "output_type": "execute_result",
          "data": {
            "text/plain": [
              "array([[-0.0174781]])"
            ]
          },
          "metadata": {},
          "execution_count": 11
        }
      ]
    },
    {
      "cell_type": "code",
      "source": [],
      "metadata": {
        "id": "CqUXGbBArI_p"
      },
      "execution_count": null,
      "outputs": []
    }
  ]
}