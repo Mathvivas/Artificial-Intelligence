{
  "nbformat": 4,
  "nbformat_minor": 0,
  "metadata": {
    "colab": {
      "provenance": [],
      "authorship_tag": "ABX9TyPRvX8v8bNFTLDjyHlo8B7Y"
    },
    "kernelspec": {
      "name": "python3",
      "display_name": "Python 3"
    },
    "language_info": {
      "name": "python"
    }
  },
  "cells": [
    {
      "cell_type": "markdown",
      "source": [
        "- Book: Modern Computer Vision with PyTorch (by V Kishore Ayyadevara)"
      ],
      "metadata": {
        "id": "KjbWpFcwoDzg"
      }
    },
    {
      "cell_type": "markdown",
      "source": [
        "## Libraries"
      ],
      "metadata": {
        "id": "Yl4Jr3qJo3tt"
      }
    },
    {
      "cell_type": "code",
      "source": [
        "import numpy as np\n",
        "from copy import deepcopy\n",
        "import matplotlib.pyplot as plt\n",
        "%matplotlib inline"
      ],
      "metadata": {
        "id": "PxjanMGMo3M0"
      },
      "execution_count": 1,
      "outputs": []
    },
    {
      "cell_type": "markdown",
      "source": [
        "# Feedforward Propagation"
      ],
      "metadata": {
        "id": "QzXJNhoXn-sF"
      }
    },
    {
      "cell_type": "markdown",
      "source": [
        "$a = f(w_o + \\sum_{i=1}^n w_i x_i)$\n",
        "\n",
        "- f: Activation Function\n",
        "- x: input\n",
        "- w: weight\n",
        "\n",
        "Sigmoid Activation(x) = $\\tfrac{1}{(1+e^{-x})}$\n",
        "\n",
        "Mean Squared Error = $\\tfrac{1}{m}\\sum_{i=1}^m (y_i - ŷ_i)^{2}$"
      ],
      "metadata": {
        "id": "_LZ5sJJRsd_k"
      }
    },
    {
      "cell_type": "code",
      "execution_count": 2,
      "metadata": {
        "id": "kM4oXgiXnmfg"
      },
      "outputs": [],
      "source": [
        "def feed_forward(inputs, outputs, weights):\n",
        "    # Applying the calculation between the input layer and the hidden layer\n",
        "    pre_hidden = np.dot(inputs, weights[0]) + weights[1]\n",
        "    # Activation function\n",
        "    hidden = 1 / (1 + np.exp(-pre_hidden))\n",
        "    # Applying the calculation between the hidden layer and the output layer\n",
        "    pred_out = np.dot(hidden, weights[2]) + weights[3]\n",
        "    # Calculating the Mean Squared Error\n",
        "    mean_squared_error = np.mean(np.square(pred_out - outputs))\n",
        "    return mean_squared_error"
      ]
    },
    {
      "cell_type": "markdown",
      "source": [
        "# Backpropagation (Gradient Descent)"
      ],
      "metadata": {
        "id": "ZeQIatfNhl-2"
      }
    },
    {
      "cell_type": "code",
      "source": [
        "def update_weights(inputs, outputs, weights, lr):\n",
        "    original_weights = deepcopy(weights)\n",
        "    temp_weights = deepcopy(weights)\n",
        "    updated_weights = deepcopy(weights)\n",
        "    # Calculating the loss value with the original set of weights\n",
        "    original_loss = feed_forward(inputs, outputs, original_weights)\n",
        "    # Looping through all the layers of the network\n",
        "    for i, layer in enumerate(original_weights):\n",
        "        # Looping through each parameter within a given list\n",
        "        for index, weight in np.ndenumerate(layer):\n",
        "            temp_weights = deepcopy(weights)\n",
        "            temp_weights[i][index] += 0.0001\n",
        "            _loss_plus = feed_forward(inputs, outputs, temp_weights)\n",
        "            grad = (_loss_plus - original_loss) / (0.0001)\n",
        "            updated_weights[i][index] -= grad * lr\n",
        "    return updated_weights, original_loss"
      ],
      "metadata": {
        "id": "0Um2wuOk3KP5"
      },
      "execution_count": 3,
      "outputs": []
    },
    {
      "cell_type": "markdown",
      "source": [
        "# Feedforward Propagation with Backpropagation"
      ],
      "metadata": {
        "id": "YfGSIWP9iGHl"
      }
    },
    {
      "cell_type": "markdown",
      "source": [
        "### Defining the Dataset"
      ],
      "metadata": {
        "id": "OlWotncxjNfp"
      }
    },
    {
      "cell_type": "code",
      "source": [
        "x = np.array([[1, 1]])\n",
        "y = np.array([[0]])"
      ],
      "metadata": {
        "id": "fOEimz0gK3_0"
      },
      "execution_count": 4,
      "outputs": []
    },
    {
      "cell_type": "markdown",
      "source": [
        "### Initialize the weight and bias values randomly"
      ],
      "metadata": {
        "id": "-c06udXljP2_"
      }
    },
    {
      "cell_type": "markdown",
      "source": [
        "- Hidden layer has 3 nodes\n",
        "- Input layer has 2 nodes\n",
        "- Input - Hidden makes 6 connections (6 weights) and 3 bias\n",
        "- Output layer has 1 node\n",
        "- Hidden - Output makes 3 connections (3 weights) and 1 bias"
      ],
      "metadata": {
        "id": "kY9xz2g0jcpm"
      }
    },
    {
      "cell_type": "code",
      "source": [
        "W = [\n",
        "    # 2x3 matrix of weights that connects the input layer to the hidden layer\n",
        "    np.array([[-0.0053, 0.3793],\n",
        "              [-0.5820, -0.5204],\n",
        "              [-0.2723, 0.1896]], dtype=np.float32).T,\n",
        "    # Bias of each node of the hidden layer\n",
        "    np.array([-0.0140, 0.5607, -0.0628], dtype=np.float32),\n",
        "    # 3x1 matrix of weights that connects the hidden layer to the output layer\n",
        "    np.array([[0.1528, -0.1745, -0.1135]], dtype=np.float32).T,\n",
        "    # Bias of the output layer\n",
        "    np.array([-0.5516], dtype=np.float32)\n",
        "]"
      ],
      "metadata": {
        "id": "bisrAhJiib_N"
      },
      "execution_count": 5,
      "outputs": []
    },
    {
      "cell_type": "code",
      "source": [
        "W[1]"
      ],
      "metadata": {
        "colab": {
          "base_uri": "https://localhost:8080/"
        },
        "id": "eP6twk1NYA-I",
        "outputId": "d969e360-114e-4aaa-8cb3-b4a277a4aad7"
      },
      "execution_count": 7,
      "outputs": [
        {
          "output_type": "execute_result",
          "data": {
            "text/plain": [
              "array([-0.014 ,  0.5607, -0.0628], dtype=float32)"
            ]
          },
          "metadata": {},
          "execution_count": 7
        }
      ]
    },
    {
      "cell_type": "code",
      "source": [
        "W[0]"
      ],
      "metadata": {
        "colab": {
          "base_uri": "https://localhost:8080/"
        },
        "id": "WMIKXrT0bwGz",
        "outputId": "a0f3567a-d13d-4a4d-ddbd-5595fdd1b741"
      },
      "execution_count": 15,
      "outputs": [
        {
          "output_type": "execute_result",
          "data": {
            "text/plain": [
              "array([[-0.0053, -0.582 , -0.2723],\n",
              "       [ 0.3793, -0.5204,  0.1896]], dtype=float32)"
            ]
          },
          "metadata": {},
          "execution_count": 15
        }
      ]
    },
    {
      "cell_type": "code",
      "source": [
        "print(np.dot(x, W[0]))\n",
        "print(np.dot(x, W[0]) + W[1])"
      ],
      "metadata": {
        "colab": {
          "base_uri": "https://localhost:8080/"
        },
        "id": "5v3HyWd_YWxQ",
        "outputId": "adf933a2-ff05-47f2-f843-194624987adc"
      },
      "execution_count": 11,
      "outputs": [
        {
          "output_type": "stream",
          "name": "stdout",
          "text": [
            "[[ 0.374  -1.1024 -0.0827]]\n",
            "[[ 0.36       -0.54170001 -0.1455    ]]\n"
          ]
        }
      ]
    },
    {
      "cell_type": "markdown",
      "source": [
        "### Updating the weights over 100 epochs and fetching the loss and the updated weight values"
      ],
      "metadata": {
        "id": "81dvOTpdorAw"
      }
    },
    {
      "cell_type": "code",
      "source": [
        "losses = []\n",
        "for epoch in range(100):\n",
        "    W, loss = update_weights(x, y, W, 0.01)\n",
        "    losses.append(loss)"
      ],
      "metadata": {
        "id": "DGplZu5micep"
      },
      "execution_count": null,
      "outputs": []
    },
    {
      "cell_type": "code",
      "source": [
        "plt.plot(losses)\n",
        "plt.title('Loss over increasing number of epochs')\n",
        "plt.xlabel('Epochs')\n",
        "plt.ylabel('Loss')"
      ],
      "metadata": {
        "colab": {
          "base_uri": "https://localhost:8080/",
          "height": 312
        },
        "id": "qM4Qt_6zo8UD",
        "outputId": "ac14ac5d-0b68-4e06-8772-1782b058e692"
      },
      "execution_count": null,
      "outputs": [
        {
          "output_type": "execute_result",
          "data": {
            "text/plain": [
              "Text(0, 0.5, 'Loss')"
            ]
          },
          "metadata": {},
          "execution_count": 9
        },
        {
          "output_type": "display_data",
          "data": {
            "text/plain": [
              "<Figure size 432x288 with 1 Axes>"
            ],
            "image/png": "[encoded data removed]"
          },
          "metadata": {
            "needs_background": "light"
          }
        }
      ]
    },
    {
      "cell_type": "markdown",
      "source": [
        "### Updated Weights (Final)"
      ],
      "metadata": {
        "id": "FE79epcVp3a_"
      }
    },
    {
      "cell_type": "code",
      "source": [
        "W"
      ],
      "metadata": {
        "colab": {
          "base_uri": "https://localhost:8080/"
        },
        "id": "Ik-PjULcpZAz",
        "outputId": "7a32b3cc-91af-442a-d970-6a309cdc264f"
      },
      "execution_count": null,
      "outputs": [
        {
          "output_type": "execute_result",
          "data": {
            "text/plain": [
              "[array([[ 0.01424004, -0.5907864 , -0.27549535],\n",
              "        [ 0.39883757, -0.52918637,  0.18640439]], dtype=float32),\n",
              " array([ 0.00554004,  0.5519136 , -0.06599568], dtype=float32),\n",
              " array([[ 0.3475135 ],\n",
              "        [-0.05529078],\n",
              "        [ 0.03760847]], dtype=float32),\n",
              " array([-0.22443289], dtype=float32)]"
            ]
          },
          "metadata": {},
          "execution_count": 10
        }
      ]
    },
    {
      "cell_type": "markdown",
      "source": [
        "# Calculating the Output Value based on the Updated Weights"
      ],
      "metadata": {
        "id": "B8kEdZ-rqydL"
      }
    },
    {
      "cell_type": "markdown",
      "source": [
        "![image.png](data:image/png;base64,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)"
      ],
      "metadata": {
        "id": "KyFNpA2kcd58"
      }
    },
    {
      "cell_type": "code",
      "source": [
        "# 1x2 dot 2x3 = 1x3\n",
        "pre_hidden = np.dot(x, W[0]) + W[1]\n",
        "print(f'pre_hidden: {pre_hidden}')\n",
        "hidden = 1 / (1 + np.exp(-pre_hidden))\n",
        "print(f'hidden: {hidden}')\n",
        "pred_out = np.dot(hidden, W[2]) + W[3]\n",
        "print(f'pred_out: {pred_out}')"
      ],
      "metadata": {
        "colab": {
          "base_uri": "https://localhost:8080/"
        },
        "id": "TCdLoO1ep0bc",
        "outputId": "810679a2-ed86-4bff-ae97-7bacce559343"
      },
      "execution_count": 12,
      "outputs": [
        {
          "output_type": "stream",
          "name": "stdout",
          "text": [
            "pre_hidden: [[ 0.36       -0.54170001 -0.1455    ]]\n",
            "hidden: [[0.58904043 0.36779221 0.46368904]]\n",
            "pred_out: [[-0.57840305]]\n"
          ]
        }
      ]
    },
    {
      "cell_type": "code",
      "source": [
        "np.dot(hidden, W[2])"
      ],
      "metadata": {
        "id": "CqUXGbBArI_p",
        "colab": {
          "base_uri": "https://localhost:8080/"
        },
        "outputId": "f7e61332-2544-4c4b-b2f9-1dd7319e261c"
      },
      "execution_count": 13,
      "outputs": [
        {
          "output_type": "execute_result",
          "data": {
            "text/plain": [
              "array([[-0.02680307]])"
            ]
          },
          "metadata": {},
          "execution_count": 13
        }
      ]
    },
    {
      "cell_type": "code",
      "source": [
        "W[2]"
      ],
      "metadata": {
        "colab": {
          "base_uri": "https://localhost:8080/"
        },
        "id": "-5aXDFllaAhI",
        "outputId": "fe6e3b0d-79c2-4223-a71e-3e80e66229d6"
      },
      "execution_count": 14,
      "outputs": [
        {
          "output_type": "execute_result",
          "data": {
            "text/plain": [
              "array([[ 0.1528],\n",
              "       [-0.1745],\n",
              "       [-0.1135]], dtype=float32)"
            ]
          },
          "metadata": {},
          "execution_count": 14
        }
      ]
    }
  ]
}