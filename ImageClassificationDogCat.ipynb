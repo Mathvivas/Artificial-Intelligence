{
  "nbformat": 4,
  "nbformat_minor": 0,
  "metadata": {
    "colab": {
      "provenance": [],
      "authorship_tag": "ABX9TyN1VCsdgW7v4IFiycRfQJFC"
    },
    "kernelspec": {
      "name": "python3",
      "display_name": "Python 3"
    },
    "language_info": {
      "name": "python"
    },
    "accelerator": "GPU",
    "gpuClass": "standard"
  },
  "cells": [
    {
      "cell_type": "markdown",
      "source": [
        "- Book: Modern Computer Vision with PyTorch (by V Kishore Ayyadevara)"
      ],
      "metadata": {
        "id": "SY9i_XkvjS8A"
      }
    },
    {
      "cell_type": "code",
      "execution_count": 1,
      "metadata": {
        "id": "LE8Wi47qjKxW"
      },
      "outputs": [],
      "source": [
        "# Libraries\n",
        "import torchvision\n",
        "import torch.nn as nn\n",
        "import torch\n",
        "import torch.nn.functional as F\n",
        "from torch.utils.data import DataLoader, Dataset\n",
        "from torchvision import transforms, models, datasets\n",
        "from PIL import Image\n",
        "from torch import optim\n",
        "device = 'cuda' if torch.cuda.is_available() else 'cpu'\n",
        "import cv2, glob, numpy as np, pandas as pd\n",
        "import matplotlib.pyplot as plt\n",
        "import matplotlib.ticker as mtick\n",
        "import matplotlib.ticker as mticker\n",
        "%matplotlib inline\n",
        "from glob import glob\n",
        "from random import shuffle, seed; seed(10);"
      ]
    },
    {
      "cell_type": "code",
      "source": [
        "!pip install torch_summary"
      ],
      "metadata": {
        "colab": {
          "base_uri": "https://localhost:8080/"
        },
        "id": "l7FVROtdu0WM",
        "outputId": "3f43cf61-791f-4996-a1c5-5a9f456ebb35"
      },
      "execution_count": 2,
      "outputs": [
        {
          "output_type": "stream",
          "name": "stdout",
          "text": [
            "Looking in indexes: https://pypi.org/simple, https://us-python.pkg.dev/colab-wheels/public/simple/\n",
            "Collecting torch_summary\n",
            "  Downloading torch_summary-1.4.5-py3-none-any.whl (16 kB)\n",
            "Installing collected packages: torch_summary\n",
            "Successfully installed torch_summary-1.4.5\n"
          ]
        }
      ]
    },
    {
      "cell_type": "code",
      "source": [
        "!pip install -q kaggle"
      ],
      "metadata": {
        "id": "YLkN6J8EqtBO"
      },
      "execution_count": 3,
      "outputs": []
    },
    {
      "cell_type": "code",
      "source": [
        "from torchsummary import summary"
      ],
      "metadata": {
        "id": "-Myk143Q6tsy"
      },
      "execution_count": 4,
      "outputs": []
    },
    {
      "cell_type": "code",
      "source": [
        "# Upload kaggle.json\n",
        "from google.colab import files\n",
        "files.upload()"
      ],
      "metadata": {
        "colab": {
          "base_uri": "https://localhost:8080/",
          "height": 90
        },
        "id": "ysHDlc5nsD7i",
        "outputId": "a04f7ad7-fa42-4c97-ea7b-313906b94eca"
      },
      "execution_count": 5,
      "outputs": [
        {
          "output_type": "display_data",
          "data": {
            "text/plain": [
              "<IPython.core.display.HTML object>"
            ],
            "text/html": [
              "\n",
              "     <input type=\"file\" id=\"files-23f6b654-a833-4b51-8d83-b50e2e1a9417\" name=\"files[]\" multiple disabled\n",
              "        style=\"border:none\" />\n",
              "     <output id=\"result-23f6b654-a833-4b51-8d83-b50e2e1a9417\">\n",
              "      Upload widget is only available when the cell has been executed in the\n",
              "      current browser session. Please rerun this cell to enable.\n",
              "      </output>\n",
              "      <script>// Copyright 2017 Google LLC\n",
              "//\n",
              "// Licensed under the Apache License, Version 2.0 (the \"License\");\n",
              "// you may not use this file except in compliance with the License.\n",
              "// You may obtain a copy of the License at\n",
              "//\n",
              "//      http://www.apache.org/licenses/LICENSE-2.0\n",
              "//\n",
              "// Unless required by applicable law or agreed to in writing, software\n",
              "// distributed under the License is distributed on an \"AS IS\" BASIS,\n",
              "// WITHOUT WARRANTIES OR CONDITIONS OF ANY KIND, either express or implied.\n",
              "// See the License for the specific language governing permissions and\n",
              "// limitations under the License.\n",
              "\n",
              "/**\n",
              " * @fileoverview Helpers for google.colab Python module.\n",
              " */\n",
              "(function(scope) {\n",
              "function span(text, styleAttributes = {}) {\n",
              "  const element = document.createElement('span');\n",
              "  element.textContent = text;\n",
              "  for (const key of Object.keys(styleAttributes)) {\n",
              "    element.style[key] = styleAttributes[key];\n",
              "  }\n",
              "  return element;\n",
              "}\n",
              "\n",
              "// Max number of bytes which will be uploaded at a time.\n",
              "const MAX_PAYLOAD_SIZE = 100 * 1024;\n",
              "\n",
              "function _uploadFiles(inputId, outputId) {\n",
              "  const steps = uploadFilesStep(inputId, outputId);\n",
              "  const outputElement = document.getElementById(outputId);\n",
              "  // Cache steps on the outputElement to make it available for the next call\n",
              "  // to uploadFilesContinue from Python.\n",
              "  outputElement.steps = steps;\n",
              "\n",
              "  return _uploadFilesContinue(outputId);\n",
              "}\n",
              "\n",
              "// This is roughly an async generator (not supported in the browser yet),\n",
              "// where there are multiple asynchronous steps and the Python side is going\n",
              "// to poll for completion of each step.\n",
              "// This uses a Promise to block the python side on completion of each step,\n",
              "// then passes the result of the previous step as the input to the next step.\n",
              "function _uploadFilesContinue(outputId) {\n",
              "  const outputElement = document.getElementById(outputId);\n",
              "  const steps = outputElement.steps;\n",
              "\n",
              "  const next = steps.next(outputElement.lastPromiseValue);\n",
              "  return Promise.resolve(next.value.promise).then((value) => {\n",
              "    // Cache the last promise value to make it available to the next\n",
              "    // step of the generator.\n",
              "    outputElement.lastPromiseValue = value;\n",
              "    return next.value.response;\n",
              "  });\n",
              "}\n",
              "\n",
              "/**\n",
              " * Generator function which is called between each async step of the upload\n",
              " * process.\n",
              " * @param {string} inputId Element ID of the input file picker element.\n",
              " * @param {string} outputId Element ID of the output display.\n",
              " * @return {!Iterable<!Object>} Iterable of next steps.\n",
              " */\n",
              "function* uploadFilesStep(inputId, outputId) {\n",
              "  const inputElement = document.getElementById(inputId);\n",
              "  inputElement.disabled = false;\n",
              "\n",
              "  const outputElement = document.getElementById(outputId);\n",
              "  outputElement.innerHTML = '';\n",
              "\n",
              "  const pickedPromise = new Promise((resolve) => {\n",
              "    inputElement.addEventListener('change', (e) => {\n",
              "      resolve(e.target.files);\n",
              "    });\n",
              "  });\n",
              "\n",
              "  const cancel = document.createElement('button');\n",
              "  inputElement.parentElement.appendChild(cancel);\n",
              "  cancel.textContent = 'Cancel upload';\n",
              "  const cancelPromise = new Promise((resolve) => {\n",
              "    cancel.onclick = () => {\n",
              "      resolve(null);\n",
              "    };\n",
              "  });\n",
              "\n",
              "  // Wait for the user to pick the files.\n",
              "  const files = yield {\n",
              "    promise: Promise.race([pickedPromise, cancelPromise]),\n",
              "    response: {\n",
              "      action: 'starting',\n",
              "    }\n",
              "  };\n",
              "\n",
              "  cancel.remove();\n",
              "\n",
              "  // Disable the input element since further picks are not allowed.\n",
              "  inputElement.disabled = true;\n",
              "\n",
              "  if (!files) {\n",
              "    return {\n",
              "      response: {\n",
              "        action: 'complete',\n",
              "      }\n",
              "    };\n",
              "  }\n",
              "\n",
              "  for (const file of files) {\n",
              "    const li = document.createElement('li');\n",
              "    li.append(span(file.name, {fontWeight: 'bold'}));\n",
              "    li.append(span(\n",
              "        `(${file.type || 'n/a'}) - ${file.size} bytes, ` +\n",
              "        `last modified: ${\n",
              "            file.lastModifiedDate ? file.lastModifiedDate.toLocaleDateString() :\n",
              "                                    'n/a'} - `));\n",
              "    const percent = span('0% done');\n",
              "    li.appendChild(percent);\n",
              "\n",
              "    outputElement.appendChild(li);\n",
              "\n",
              "    const fileDataPromise = new Promise((resolve) => {\n",
              "      const reader = new FileReader();\n",
              "      reader.onload = (e) => {\n",
              "        resolve(e.target.result);\n",
              "      };\n",
              "      reader.readAsArrayBuffer(file);\n",
              "    });\n",
              "    // Wait for the data to be ready.\n",
              "    let fileData = yield {\n",
              "      promise: fileDataPromise,\n",
              "      response: {\n",
              "        action: 'continue',\n",
              "      }\n",
              "    };\n",
              "\n",
              "    // Use a chunked sending to avoid message size limits. See b/62115660.\n",
              "    let position = 0;\n",
              "    do {\n",
              "      const length = Math.min(fileData.byteLength - position, MAX_PAYLOAD_SIZE);\n",
              "      const chunk = new Uint8Array(fileData, position, length);\n",
              "      position += length;\n",
              "\n",
              "      const base64 = btoa(String.fromCharCode.apply(null, chunk));\n",
              "      yield {\n",
              "        response: {\n",
              "          action: 'append',\n",
              "          file: file.name,\n",
              "          data: base64,\n",
              "        },\n",
              "      };\n",
              "\n",
              "      let percentDone = fileData.byteLength === 0 ?\n",
              "          100 :\n",
              "          Math.round((position / fileData.byteLength) * 100);\n",
              "      percent.textContent = `${percentDone}% done`;\n",
              "\n",
              "    } while (position < fileData.byteLength);\n",
              "  }\n",
              "\n",
              "  // All done.\n",
              "  yield {\n",
              "    response: {\n",
              "      action: 'complete',\n",
              "    }\n",
              "  };\n",
              "}\n",
              "\n",
              "scope.google = scope.google || {};\n",
              "scope.google.colab = scope.google.colab || {};\n",
              "scope.google.colab._files = {\n",
              "  _uploadFiles,\n",
              "  _uploadFilesContinue,\n",
              "};\n",
              "})(self);\n",
              "</script> "
            ]
          },
          "metadata": {}
        },
        {
          "output_type": "stream",
          "name": "stdout",
          "text": [
            "Saving kaggle.json to kaggle.json\n"
          ]
        },
        {
          "output_type": "execute_result",
          "data": {
            "text/plain": [
              "{'kaggle.json': b'{\"username\":\"matheuslopesvivas\",\"key\":\"120f904c2a67a5602edf7b9253c9cc2d\"}'}"
            ]
          },
          "metadata": {},
          "execution_count": 5
        }
      ]
    },
    {
      "cell_type": "code",
      "source": [
        "!mkdir -p ~/.kaggle\n",
        "!cp kaggle.json ~/.kaggle\n",
        "!ls ~/.kaggle\n",
        "!chmod 600 /root/.kaggle/kaggle.json"
      ],
      "metadata": {
        "colab": {
          "base_uri": "https://localhost:8080/"
        },
        "id": "vNlX6OKLtF93",
        "outputId": "25c13a50-9ef3-4dfb-baea-926a20268d0f"
      },
      "execution_count": 6,
      "outputs": [
        {
          "output_type": "stream",
          "name": "stdout",
          "text": [
            "kaggle.json\n"
          ]
        }
      ]
    },
    {
      "cell_type": "code",
      "source": [
        "!kaggle datasets download -d tongpython/cat-and-dog\n",
        "!unzip cat-and-dog.zip"
      ],
      "metadata": {
        "id": "XB9Mcz4CrFIh"
      },
      "execution_count": null,
      "outputs": []
    },
    {
      "cell_type": "code",
      "source": [
        "train_data_dir = '/content/training_set/training_set'\n",
        "test_data_dir = '/content/test_set/test_set'"
      ],
      "metadata": {
        "id": "ifU8ELm5ryIy"
      },
      "execution_count": 8,
      "outputs": []
    },
    {
      "cell_type": "code",
      "source": [
        "d = glob('/content/training_set/training_set' + '/cats/*.jpg')\n",
        "d[:3]"
      ],
      "metadata": {
        "colab": {
          "base_uri": "https://localhost:8080/"
        },
        "id": "TGpEmiajvvSc",
        "outputId": "d7be2513-62ea-4a07-9e45-3fb765324048"
      },
      "execution_count": 9,
      "outputs": [
        {
          "output_type": "execute_result",
          "data": {
            "text/plain": [
              "['/content/training_set/training_set/cats/cat.1181.jpg',\n",
              " '/content/training_set/training_set/cats/cat.3622.jpg',\n",
              " '/content/training_set/training_set/cats/cat.1874.jpg']"
            ]
          },
          "metadata": {},
          "execution_count": 9
        }
      ]
    },
    {
      "cell_type": "code",
      "source": [
        "class cats_dogs(Dataset):\n",
        "    def __init__(self, folder):\n",
        "        cats = glob(folder + '/cats/*.jpg')\n",
        "        dogs = glob(folder + '/dogs/*.jpg')\n",
        "        self.fpaths = cats + dogs\n",
        "        shuffle(self.fpaths) # randomize the file paths\n",
        "        # Reminder: startswith return True (1) ou False (0)\n",
        "        self.targets = [fpath.split('/')[-1].startswith('dog')\n",
        "                        for fpath in self.fpaths] # dog = 1, cat = 0\n",
        "    def __len__(self):\n",
        "        return len(self.fpaths)\n",
        "    def __getitem__(self, ix):\n",
        "        f = self.fpaths[ix]\n",
        "        target = self.targets[ix]\n",
        "        im = (cv2.imread(f)[:,:,::-1])\n",
        "        im = cv2.resize(im, (224, 224))\n",
        "        # permute(index 2, index 0, index 1)\n",
        "        # Creating an index 2 for the channel\n",
        "        return torch.tensor(im / 255).permute(2, 0, 1).to(device)\\\n",
        "            .float(), torch.tensor([target]).float().to(device)"
      ],
      "metadata": {
        "id": "6yDUQopruZJ7"
      },
      "execution_count": 10,
      "outputs": []
    },
    {
      "cell_type": "code",
      "source": [
        "# Inspecting a Random Image\n",
        "data = cats_dogs(train_data_dir)\n",
        "im, label = data[200]"
      ],
      "metadata": {
        "id": "KrAqY1ur0OaE"
      },
      "execution_count": 11,
      "outputs": []
    },
    {
      "cell_type": "markdown",
      "source": [
        "- We need to permute the image we've obtained to our channels last. This is because matplotlib expects an image to have the channels specified after the height and width of the image"
      ],
      "metadata": {
        "id": "2xOS_Pki0t-1"
      }
    },
    {
      "cell_type": "code",
      "source": [
        "plt.imshow(im.permute(1, 2, 0).cpu())\n",
        "label"
      ],
      "metadata": {
        "colab": {
          "base_uri": "https://localhost:8080/",
          "height": 286
        },
        "id": "RH_yP-iG0hg5",
        "outputId": "02383810-948f-4b53-c1a0-59f03c55fa4a"
      },
      "execution_count": 12,
      "outputs": [
        {
          "output_type": "execute_result",
          "data": {
            "text/plain": [
              "tensor([1.], device='cuda:0')"
            ]
          },
          "metadata": {},
          "execution_count": 12
        },
        {
          "output_type": "display_data",
          "data": {
            "text/plain": [
              "<Figure size 432x288 with 1 Axes>"
            ],
            "image/png": "[encoded data removed]"
          },
          "metadata": {
            "needs_background": "light"
          }
        }
      ]
    },
    {
      "cell_type": "code",
      "source": [
        "def conv_layer(n_in, n_out, kernel_size, stride = 1):\n",
        "    return nn.Sequential(\n",
        "        nn.Conv2d(n_in, n_out, kernel_size, stride),\n",
        "        nn.ReLU(),\n",
        "        nn.BatchNorm2d(n_out),\n",
        "        nn.MaxPool2d(2)\n",
        "    )"
      ],
      "metadata": {
        "id": "89KPlJDr02kW"
      },
      "execution_count": 13,
      "outputs": []
    },
    {
      "cell_type": "code",
      "source": [
        "def get_model():\n",
        "    model = nn.Sequential(\n",
        "        conv_layer(3, 64, 3),\n",
        "        conv_layer(64, 512, 3),\n",
        "        conv_layer(512, 512, 3),\n",
        "        conv_layer(512, 512, 3),\n",
        "        conv_layer(512, 512, 3),\n",
        "        conv_layer(512, 512, 3),\n",
        "        nn.Flatten(),\n",
        "        nn.Linear(512, 1),\n",
        "        nn.Sigmoid(),\n",
        "    ).to(device)\n",
        "    loss = nn.BCELoss()\n",
        "    optimizer = torch.optim.Adam(model.parameters(), lr=1e-3)\n",
        "    return model, loss, optimizer"
      ],
      "metadata": {
        "id": "r9vsFdCb41Z7"
      },
      "execution_count": 14,
      "outputs": []
    },
    {
      "cell_type": "code",
      "source": [
        "model, loss, optimizer = get_model()\n",
        "summary(model, torch.zeros(1, 3, 224, 224))"
      ],
      "metadata": {
        "colab": {
          "base_uri": "https://localhost:8080/"
        },
        "id": "8hosuBxz6Im6",
        "outputId": "9d5b7ebf-e0a6-45e7-cf6f-3431f1887469"
      },
      "execution_count": 15,
      "outputs": [
        {
          "output_type": "stream",
          "name": "stdout",
          "text": [
            "==========================================================================================\n",
            "Layer (type:depth-idx)                   Output Shape              Param #\n",
            "==========================================================================================\n",
            "├─Sequential: 1-1                        [-1, 64, 111, 111]        --\n",
            "|    └─Conv2d: 2-1                       [-1, 64, 222, 222]        1,792\n",
            "|    └─ReLU: 2-2                         [-1, 64, 222, 222]        --\n",
            "|    └─BatchNorm2d: 2-3                  [-1, 64, 222, 222]        128\n",
            "|    └─MaxPool2d: 2-4                    [-1, 64, 111, 111]        --\n",
            "├─Sequential: 1-2                        [-1, 512, 54, 54]         --\n",
            "|    └─Conv2d: 2-5                       [-1, 512, 109, 109]       295,424\n",
            "|    └─ReLU: 2-6                         [-1, 512, 109, 109]       --\n",
            "|    └─BatchNorm2d: 2-7                  [-1, 512, 109, 109]       1,024\n",
            "|    └─MaxPool2d: 2-8                    [-1, 512, 54, 54]         --\n",
            "├─Sequential: 1-3                        [-1, 512, 26, 26]         --\n",
            "|    └─Conv2d: 2-9                       [-1, 512, 52, 52]         2,359,808\n",
            "|    └─ReLU: 2-10                        [-1, 512, 52, 52]         --\n",
            "|    └─BatchNorm2d: 2-11                 [-1, 512, 52, 52]         1,024\n",
            "|    └─MaxPool2d: 2-12                   [-1, 512, 26, 26]         --\n",
            "├─Sequential: 1-4                        [-1, 512, 12, 12]         --\n",
            "|    └─Conv2d: 2-13                      [-1, 512, 24, 24]         2,359,808\n",
            "|    └─ReLU: 2-14                        [-1, 512, 24, 24]         --\n",
            "|    └─BatchNorm2d: 2-15                 [-1, 512, 24, 24]         1,024\n",
            "|    └─MaxPool2d: 2-16                   [-1, 512, 12, 12]         --\n",
            "├─Sequential: 1-5                        [-1, 512, 5, 5]           --\n",
            "|    └─Conv2d: 2-17                      [-1, 512, 10, 10]         2,359,808\n",
            "|    └─ReLU: 2-18                        [-1, 512, 10, 10]         --\n",
            "|    └─BatchNorm2d: 2-19                 [-1, 512, 10, 10]         1,024\n",
            "|    └─MaxPool2d: 2-20                   [-1, 512, 5, 5]           --\n",
            "├─Sequential: 1-6                        [-1, 512, 1, 1]           --\n",
            "|    └─Conv2d: 2-21                      [-1, 512, 3, 3]           2,359,808\n",
            "|    └─ReLU: 2-22                        [-1, 512, 3, 3]           --\n",
            "|    └─BatchNorm2d: 2-23                 [-1, 512, 3, 3]           1,024\n",
            "|    └─MaxPool2d: 2-24                   [-1, 512, 1, 1]           --\n",
            "├─Flatten: 1-7                           [-1, 512]                 --\n",
            "├─Linear: 1-8                            [-1, 1]                   513\n",
            "├─Sigmoid: 1-9                           [-1, 1]                   --\n",
            "==========================================================================================\n",
            "Total params: 9,742,209\n",
            "Trainable params: 9,742,209\n",
            "Non-trainable params: 0\n",
            "Total mult-adds (G): 11.59\n",
            "==========================================================================================\n",
            "Input size (MB): 0.57\n",
            "Forward/backward pass size (MB): 167.43\n",
            "Params size (MB): 37.16\n",
            "Estimated Total Size (MB): 205.16\n",
            "==========================================================================================\n"
          ]
        },
        {
          "output_type": "execute_result",
          "data": {
            "text/plain": [
              "==========================================================================================\n",
              "Layer (type:depth-idx)                   Output Shape              Param #\n",
              "==========================================================================================\n",
              "├─Sequential: 1-1                        [-1, 64, 111, 111]        --\n",
              "|    └─Conv2d: 2-1                       [-1, 64, 222, 222]        1,792\n",
              "|    └─ReLU: 2-2                         [-1, 64, 222, 222]        --\n",
              "|    └─BatchNorm2d: 2-3                  [-1, 64, 222, 222]        128\n",
              "|    └─MaxPool2d: 2-4                    [-1, 64, 111, 111]        --\n",
              "├─Sequential: 1-2                        [-1, 512, 54, 54]         --\n",
              "|    └─Conv2d: 2-5                       [-1, 512, 109, 109]       295,424\n",
              "|    └─ReLU: 2-6                         [-1, 512, 109, 109]       --\n",
              "|    └─BatchNorm2d: 2-7                  [-1, 512, 109, 109]       1,024\n",
              "|    └─MaxPool2d: 2-8                    [-1, 512, 54, 54]         --\n",
              "├─Sequential: 1-3                        [-1, 512, 26, 26]         --\n",
              "|    └─Conv2d: 2-9                       [-1, 512, 52, 52]         2,359,808\n",
              "|    └─ReLU: 2-10                        [-1, 512, 52, 52]         --\n",
              "|    └─BatchNorm2d: 2-11                 [-1, 512, 52, 52]         1,024\n",
              "|    └─MaxPool2d: 2-12                   [-1, 512, 26, 26]         --\n",
              "├─Sequential: 1-4                        [-1, 512, 12, 12]         --\n",
              "|    └─Conv2d: 2-13                      [-1, 512, 24, 24]         2,359,808\n",
              "|    └─ReLU: 2-14                        [-1, 512, 24, 24]         --\n",
              "|    └─BatchNorm2d: 2-15                 [-1, 512, 24, 24]         1,024\n",
              "|    └─MaxPool2d: 2-16                   [-1, 512, 12, 12]         --\n",
              "├─Sequential: 1-5                        [-1, 512, 5, 5]           --\n",
              "|    └─Conv2d: 2-17                      [-1, 512, 10, 10]         2,359,808\n",
              "|    └─ReLU: 2-18                        [-1, 512, 10, 10]         --\n",
              "|    └─BatchNorm2d: 2-19                 [-1, 512, 10, 10]         1,024\n",
              "|    └─MaxPool2d: 2-20                   [-1, 512, 5, 5]           --\n",
              "├─Sequential: 1-6                        [-1, 512, 1, 1]           --\n",
              "|    └─Conv2d: 2-21                      [-1, 512, 3, 3]           2,359,808\n",
              "|    └─ReLU: 2-22                        [-1, 512, 3, 3]           --\n",
              "|    └─BatchNorm2d: 2-23                 [-1, 512, 3, 3]           1,024\n",
              "|    └─MaxPool2d: 2-24                   [-1, 512, 1, 1]           --\n",
              "├─Flatten: 1-7                           [-1, 512]                 --\n",
              "├─Linear: 1-8                            [-1, 1]                   513\n",
              "├─Sigmoid: 1-9                           [-1, 1]                   --\n",
              "==========================================================================================\n",
              "Total params: 9,742,209\n",
              "Trainable params: 9,742,209\n",
              "Non-trainable params: 0\n",
              "Total mult-adds (G): 11.59\n",
              "==========================================================================================\n",
              "Input size (MB): 0.57\n",
              "Forward/backward pass size (MB): 167.43\n",
              "Params size (MB): 37.16\n",
              "Estimated Total Size (MB): 205.16\n",
              "=========================================================================================="
            ]
          },
          "metadata": {},
          "execution_count": 15
        }
      ]
    },
    {
      "cell_type": "code",
      "source": [
        "def get_data():\n",
        "    # drop_last ignores last batch (possible size difference)\n",
        "    train = cats_dogs(train_data_dir)\n",
        "    trn_dl = DataLoader(train, batch_size=32, shuffle=True, drop_last=True)\n",
        "    val = cats_dogs(test_data_dir)\n",
        "    val_dl = DataLoader(val, batch_size=32, shuffle=True, drop_last=True)\n",
        "    return trn_dl, val_dl"
      ],
      "metadata": {
        "id": "q_67zNrg6nJK"
      },
      "execution_count": 16,
      "outputs": []
    },
    {
      "cell_type": "code",
      "source": [
        "def train_batch(x, y, model, opt, loss):\n",
        "    model.train()\n",
        "    prediction = model(x)\n",
        "    batch_loss = loss(prediction, y)\n",
        "    batch_loss.backward()\n",
        "    opt.step()\n",
        "    opt.zero_grad()\n",
        "    return batch_loss.item()"
      ],
      "metadata": {
        "id": "cLOfbhXF8SWw"
      },
      "execution_count": 17,
      "outputs": []
    },
    {
      "cell_type": "code",
      "source": [
        "@torch.no_grad()\n",
        "def accuracy(x, y, model):\n",
        "    prediction = model(x)\n",
        "    is_correct = (prediction > 0.5) == y\n",
        "    return is_correct.cpu().numpy().tolist()"
      ],
      "metadata": {
        "id": "xjxsJ2pP83AH"
      },
      "execution_count": 18,
      "outputs": []
    },
    {
      "cell_type": "code",
      "source": [
        "@torch.no_grad()\n",
        "def val_loss(x, y, model):\n",
        "    prediction = model(x)\n",
        "    val_loss = loss(prediction, y)\n",
        "    return val_loss.item()"
      ],
      "metadata": {
        "id": "L_RUlzR29P8s"
      },
      "execution_count": 19,
      "outputs": []
    },
    {
      "cell_type": "code",
      "source": [
        "trn_dl, val_dl = get_data()"
      ],
      "metadata": {
        "id": "8gEG5T5n-N0u"
      },
      "execution_count": 20,
      "outputs": []
    },
    {
      "cell_type": "code",
      "source": [
        "train_losses, train_accuracies = [], []\n",
        "val_losses, val_accuracies = [], []\n",
        "for epoch in range(5):\n",
        "    print(epoch)\n",
        "    train_epoch_losses, train_epoch_accuracies = [], []\n",
        "    val_epoch_accuracies = []\n",
        "    for ix, batch in enumerate(iter(trn_dl)):\n",
        "        x, y = batch\n",
        "        batch_loss = train_batch(x, y, model, optimizer, loss)\n",
        "        train_epoch_losses.append(batch_loss)\n",
        "    train_epoch_loss = np.array(train_epoch_losses).mean()\n",
        "\n",
        "    for ix, batch in enumerate(iter(trn_dl)):\n",
        "        x, y = batch\n",
        "        is_correct = accuracy(x, y, model)\n",
        "        train_epoch_accuracies.extend(is_correct)\n",
        "    train_epoch_accuracy = np.mean(train_epoch_accuracies)\n",
        "\n",
        "    for ix, batch in enumerate(iter(val_dl)):\n",
        "        x, y = batch\n",
        "        val_is_correct = accuracy(x, y, model)\n",
        "        val_epoch_accuracies.extend(val_is_correct)\n",
        "    val_epoch_accuracy = np.mean(val_epoch_accuracies)\n",
        "\n",
        "    train_losses.append(train_epoch_loss)\n",
        "    train_accuracies.append(train_epoch_accuracy)\n",
        "    val_accuracies.append(val_epoch_accuracy)"
      ],
      "metadata": {
        "colab": {
          "base_uri": "https://localhost:8080/"
        },
        "id": "sf5Yf35B-lkQ",
        "outputId": "07ad7c26-e30e-4671-ad26-bc0fc7502750"
      },
      "execution_count": 22,
      "outputs": [
        {
          "output_type": "stream",
          "name": "stdout",
          "text": [
            "0\n",
            "1\n",
            "2\n",
            "3\n",
            "4\n"
          ]
        }
      ]
    },
    {
      "cell_type": "code",
      "source": [
        "np.arange(5) + 1"
      ],
      "metadata": {
        "colab": {
          "base_uri": "https://localhost:8080/"
        },
        "id": "7QPGxx0oBMy4",
        "outputId": "ca565044-2ffc-40f1-f90e-a4a6b19335ed"
      },
      "execution_count": 23,
      "outputs": [
        {
          "output_type": "execute_result",
          "data": {
            "text/plain": [
              "array([1, 2, 3, 4, 5])"
            ]
          },
          "metadata": {},
          "execution_count": 23
        }
      ]
    },
    {
      "cell_type": "code",
      "source": [
        "epochs = np.arange(5) + 1\n",
        "plt.plot(epochs, train_accuracies, 'bo', label='Training Accuracy')\n",
        "plt.plot(epochs, val_accuracies, 'r', label='Validation Accuracy')\n",
        "plt.gca().xaxis.set_major_locator(mticker.MultipleLocator(1))\n",
        "plt.title('Training and Validation Accuracy with 4k data \\\n",
        "                    points used for training')\n",
        "plt.xlabel('Epochs')\n",
        "plt.ylabel('Accuracy')\n",
        "plt.gca().set_yticklabels(['{:.0f}%'.format(x*100)\n",
        "        for x in plt.gca().get_yticks()])\n",
        "plt.legend()\n",
        "plt.grid('off')\n",
        "plt.show()"
      ],
      "metadata": {
        "colab": {
          "base_uri": "https://localhost:8080/",
          "height": 295
        },
        "id": "AzHkIMD3A4Uh",
        "outputId": "2b05dd2c-69e2-4fab-9c62-e9ccd1900995"
      },
      "execution_count": 24,
      "outputs": [
        {
          "output_type": "display_data",
          "data": {
            "text/plain": [
              "<Figure size 432x288 with 1 Axes>"
            ],
            "image/png": "[encoded data removed]"
          },
          "metadata": {
            "needs_background": "light"
          }
        }
      ]
    },
    {
      "cell_type": "code",
      "source": [],
      "metadata": {
        "id": "InyPTUeIHGkL"
      },
      "execution_count": null,
      "outputs": []
    }
  ]
}