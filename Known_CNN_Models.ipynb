{
  "nbformat": 4,
  "nbformat_minor": 0,
  "metadata": {
    "colab": {
      "provenance": [],
      "authorship_tag": "ABX9TyPk3qFSZlJ61jCMNH18a+TL"
    },
    "kernelspec": {
      "name": "python3",
      "display_name": "Python 3"
    },
    "language_info": {
      "name": "python"
    },
    "accelerator": "GPU"
  },
  "cells": [
    {
      "cell_type": "markdown",
      "source": [
        "# LeNet-5"
      ],
      "metadata": {
        "id": "M_PhK3Z0cZl_"
      }
    },
    {
      "cell_type": "code",
      "execution_count": null,
      "metadata": {
        "id": "tqCzgSogB7gs"
      },
      "outputs": [],
      "source": [
        "import keras\n",
        "from keras.datasets import mnist\n",
        "from keras.models import Sequential\n",
        "from tensorflow.keras.utils import to_categorical\n",
        "from keras.layers import Dense, Dropout\n",
        "from keras.layers import Conv2D, MaxPooling2D\n",
        "from keras.layers import Flatten"
      ]
    },
    {
      "cell_type": "code",
      "source": [
        "(X_train, y_train), (X_valid, y_valid) = mnist.load_data()"
      ],
      "metadata": {
        "id": "l0Bx4dmqCUi2",
        "colab": {
          "base_uri": "https://localhost:8080/"
        },
        "outputId": "df37e3eb-908c-42db-e069-49dd93c44299"
      },
      "execution_count": null,
      "outputs": [
        {
          "output_type": "stream",
          "name": "stdout",
          "text": [
            "Downloading data from https://storage.googleapis.com/tensorflow/tf-keras-datasets/mnist.npz\n",
            "11493376/11490434 [==============================] - 0s 0us/step\n",
            "11501568/11490434 [==============================] - 0s 0us/step\n"
          ]
        }
      ]
    },
    {
      "cell_type": "code",
      "source": [
        "print(X_train.shape)\n",
        "print(X_valid.shape)"
      ],
      "metadata": {
        "colab": {
          "base_uri": "https://localhost:8080/"
        },
        "id": "bk7xJ5IAF_Qz",
        "outputId": "66c45062-bc6f-42fb-a3b3-0d89a4c5c518"
      },
      "execution_count": null,
      "outputs": [
        {
          "output_type": "stream",
          "name": "stdout",
          "text": [
            "(60000, 28, 28)\n",
            "(10000, 28, 28)\n"
          ]
        }
      ]
    },
    {
      "cell_type": "markdown",
      "source": [
        "### Converting the digits from integers to floats so that they are scaled to range from 0 to 1"
      ],
      "metadata": {
        "id": "IzycKD7pKYMB"
      }
    },
    {
      "cell_type": "markdown",
      "source": [
        "- Since MNIST images are black and white, there's only one dimension, so a reshape is needed"
      ],
      "metadata": {
        "id": "Y1xpLHa1HPn-"
      }
    },
    {
      "cell_type": "code",
      "source": [
        "X_train = X_train.reshape(60000, 28, 28, 1).astype('float32')\n",
        "X_valid = X_valid.reshape(10000, 28, 28, 1).astype('float32')"
      ],
      "metadata": {
        "id": "S2RPJpB5HGgF"
      },
      "execution_count": null,
      "outputs": []
    },
    {
      "cell_type": "code",
      "source": [
        "X_train /= 255\n",
        "X_valid /= 255"
      ],
      "metadata": {
        "id": "EVBhSYKIIxEq"
      },
      "execution_count": null,
      "outputs": []
    },
    {
      "cell_type": "markdown",
      "source": [
        "### Converting the y labels to one-hot encodings"
      ],
      "metadata": {
        "id": "BlfEtRb_K4Yq"
      }
    },
    {
      "cell_type": "code",
      "source": [
        "n_classes = 10\n",
        "y_train = to_categorical(y_train, n_classes)\n",
        "y_valid = to_categorical(y_valid, n_classes)"
      ],
      "metadata": {
        "id": "giLeI6xZI9Va"
      },
      "execution_count": null,
      "outputs": []
    },
    {
      "cell_type": "markdown",
      "source": [
        "## Creating the Model"
      ],
      "metadata": {
        "id": "PgAxWgs4LCVE"
      }
    },
    {
      "cell_type": "code",
      "source": [
        "model = Sequential()\n",
        "\n",
        "# First Convolutional Layer (32 filters, kernels)\n",
        "model.add(Conv2D(32, kernel_size=(3, 3), activation='relu',\n",
        "                    input_shape=(28, 28, 1)))\n",
        "\n",
        "# Second Convolutional Layer (64 filters, kernels), with Pooling and Dropout\n",
        "model.add(Conv2D(64, kernel_size=(3, 3), activation='relu'))\n",
        "model.add(MaxPooling2D(pool_size=(2, 2)))\n",
        "model.add(Dropout(0.25))\n",
        "# Flatten converts the three-dimensional activation map output by Conv2D() \n",
        "# to a one-dimensional array. This enables us to feed the activations as \n",
        "# inputs into a Dense layer, which can only accept one-dimensional arrays.\n",
        "model.add(Flatten())\n",
        "\n",
        "# Dense Hidden Layer, with Dropout\n",
        "model.add(Dense(128, activation='relu'))\n",
        "model.add(Dropout(0.5))\n",
        "\n",
        "# Output Layer\n",
        "model.add(Dense(n_classes, activation='softmax'))"
      ],
      "metadata": {
        "id": "Ga-q38hmJeF8"
      },
      "execution_count": null,
      "outputs": []
    },
    {
      "cell_type": "markdown",
      "source": [
        "- Activation Map = $\\frac{D - F + 2P}{S} + 1$\n",
        "<br>\n",
        "<br>\n",
        "* Knowing that:\n",
        "    * Stride S = 1\n",
        "    * No Padding, P = 0\n",
        "    * Image Size D = 28\n",
        "    * Kernel size F = 3\n",
        "<br>\n",
        "<br>\n",
        "\n",
        "Activation Map = $\\frac{28 - 3 + 2x0}{1} + 1$\n",
        "<br>\n",
        "<br>\n",
        "Activation Map = 26\n",
        "<br>\n",
        "<br>\n",
        "- padding='same' guarantees that the activation map will have the same dimensions as the input\n",
        "\n"
      ],
      "metadata": {
        "id": "IOIbbddIQbqt"
      }
    },
    {
      "cell_type": "markdown",
      "source": [
        "- The two convolutional layers learn to identify and label spatial features in the images, and these spatial features are then fed into a dense layer that maps these spatial features to a particular class of images. \n",
        "- **The convolutional layers can be thought of as feature extractors**"
      ],
      "metadata": {
        "id": "qs6EK9o9ZJZ1"
      }
    },
    {
      "cell_type": "code",
      "source": [
        "model.summary()"
      ],
      "metadata": {
        "colab": {
          "base_uri": "https://localhost:8080/"
        },
        "id": "ylfrvG4lLFBG",
        "outputId": "c2620274-1f6e-4bb5-9bd3-0124f015ab97"
      },
      "execution_count": null,
      "outputs": [
        {
          "output_type": "stream",
          "name": "stdout",
          "text": [
            "Model: \"sequential\"\n",
            "_________________________________________________________________\n",
            " Layer (type)                Output Shape              Param #   \n",
            "=================================================================\n",
            " conv2d (Conv2D)             (None, 26, 26, 32)        320       \n",
            "                                                                 \n",
            " conv2d_1 (Conv2D)           (None, 24, 24, 64)        18496     \n",
            "                                                                 \n",
            " max_pooling2d (MaxPooling2D  (None, 12, 12, 64)       0         \n",
            " )                                                               \n",
            "                                                                 \n",
            " dropout (Dropout)           (None, 12, 12, 64)        0         \n",
            "                                                                 \n",
            " flatten (Flatten)           (None, 9216)              0         \n",
            "                                                                 \n",
            " dense (Dense)               (None, 128)               1179776   \n",
            "                                                                 \n",
            " dropout_1 (Dropout)         (None, 128)               0         \n",
            "                                                                 \n",
            " dense_1 (Dense)             (None, 10)                1290      \n",
            "                                                                 \n",
            "=================================================================\n",
            "Total params: 1,199,882\n",
            "Trainable params: 1,199,882\n",
            "Non-trainable params: 0\n",
            "_________________________________________________________________\n"
          ]
        }
      ]
    },
    {
      "cell_type": "code",
      "source": [
        "model.compile(loss='categorical_crossentropy', optimizer='nadam', metrics=['accuracy'])"
      ],
      "metadata": {
        "id": "VklR0RN0Zsa4"
      },
      "execution_count": null,
      "outputs": []
    },
    {
      "cell_type": "code",
      "source": [
        "model.fit(X_train, y_train, batch_size=128, epochs=10, verbose=1, validation_data=(X_valid, y_valid))"
      ],
      "metadata": {
        "colab": {
          "base_uri": "https://localhost:8080/"
        },
        "id": "TYT8sHWsbtG-",
        "outputId": "07d0593e-e094-4aac-b261-412ad885ad16"
      },
      "execution_count": null,
      "outputs": [
        {
          "output_type": "stream",
          "name": "stdout",
          "text": [
            "Epoch 1/10\n",
            "469/469 [==============================] - 18s 11ms/step - loss: 0.2307 - accuracy: 0.9297 - val_loss: 0.0495 - val_accuracy: 0.9839\n",
            "Epoch 2/10\n",
            "469/469 [==============================] - 5s 11ms/step - loss: 0.0845 - accuracy: 0.9754 - val_loss: 0.0425 - val_accuracy: 0.9860\n",
            "Epoch 3/10\n",
            "469/469 [==============================] - 5s 10ms/step - loss: 0.0626 - accuracy: 0.9813 - val_loss: 0.0322 - val_accuracy: 0.9887\n",
            "Epoch 4/10\n",
            "469/469 [==============================] - 5s 11ms/step - loss: 0.0508 - accuracy: 0.9842 - val_loss: 0.0316 - val_accuracy: 0.9898\n",
            "Epoch 5/10\n",
            "469/469 [==============================] - 5s 11ms/step - loss: 0.0445 - accuracy: 0.9863 - val_loss: 0.0298 - val_accuracy: 0.9899\n",
            "Epoch 6/10\n",
            "469/469 [==============================] - 5s 11ms/step - loss: 0.0376 - accuracy: 0.9883 - val_loss: 0.0374 - val_accuracy: 0.9877\n",
            "Epoch 7/10\n",
            "469/469 [==============================] - 5s 11ms/step - loss: 0.0330 - accuracy: 0.9900 - val_loss: 0.0275 - val_accuracy: 0.9909\n",
            "Epoch 8/10\n",
            "469/469 [==============================] - 5s 11ms/step - loss: 0.0309 - accuracy: 0.9898 - val_loss: 0.0286 - val_accuracy: 0.9902\n",
            "Epoch 9/10\n",
            "469/469 [==============================] - 5s 10ms/step - loss: 0.0280 - accuracy: 0.9910 - val_loss: 0.0344 - val_accuracy: 0.9890\n",
            "Epoch 10/10\n",
            "469/469 [==============================] - 5s 11ms/step - loss: 0.0261 - accuracy: 0.9914 - val_loss: 0.0320 - val_accuracy: 0.9909\n"
          ]
        },
        {
          "output_type": "execute_result",
          "data": {
            "text/plain": [
              "<keras.callbacks.History at 0x7f49f060e050>"
            ]
          },
          "metadata": {},
          "execution_count": 10
        }
      ]
    },
    {
      "cell_type": "markdown",
      "source": [
        "# AlexNet"
      ],
      "metadata": {
        "id": "rFM6ZFphyDTQ"
      }
    },
    {
      "cell_type": "code",
      "source": [
        "from keras.layers import BatchNormalization"
      ],
      "metadata": {
        "id": "xHh5wqpUbwK-"
      },
      "execution_count": null,
      "outputs": []
    },
    {
      "cell_type": "code",
      "source": [
        "model = Sequential()\n",
        "\n",
        "# First Conv-Pool Block\n",
        "model.add(Conv2D(96, kernel_size=(11, 11), strides=(4, 4), activation='relu',\n",
        "          input_shape=(224, 224, 3)))\n",
        "model.add(MaxPooling2D(pool_size=(3, 3), strides=(2, 2)))\n",
        "model.add(BatchNormalization())\n",
        "\n",
        "# Second Conv-Pool Block\n",
        "model.add(Conv2D(256, kernel_size=(5, 5), activation='relu'))\n",
        "model.add(MaxPooling2D(pool_size=(3, 3), strides=(2, 2)))\n",
        "model.add(BatchNormalization())\n",
        "\n",
        "# Third Conv-Pool Block\n",
        "model.add(Conv2D(256, kernel_size=(3, 3), activation='relu'))\n",
        "model.add(Conv2D(384, kernel_size=(3, 3), activation='relu'))\n",
        "model.add(Conv2D(384, kernel_size=(3, 3), activation='relu'))\n",
        "model.add(MaxPooling2D(pool_size=(3, 3), strides=(2, 2)))\n",
        "model.add(BatchNormalization())\n",
        "\n",
        "# Dense Layers\n",
        "model.add(Flatten())\n",
        "model.add(Dense(4096, activation='tanh'))\n",
        "model.add(Dropout(0.5))\n",
        "model.add(Dense(4096, activation='tanh'))\n",
        "model.add(Dropout(0.5))\n",
        "\n",
        "# Output Layer\n",
        "model.add(Dense(17, activation='softmax'))"
      ],
      "metadata": {
        "id": "r96FuGz00Cks"
      },
      "execution_count": null,
      "outputs": []
    },
    {
      "cell_type": "markdown",
      "source": [
        "# Object Detection"
      ],
      "metadata": {
        "id": "ppeBwjNDYPTa"
      }
    },
    {
      "cell_type": "code",
      "source": [
        "from keras.applications.vgg19 import VGG19\n",
        "from keras.models import Sequential\n",
        "from keras.layers import Dense, Dropout, Flatten\n",
        "from keras.preprocessing.image import ImageDataGenerator"
      ],
      "metadata": {
        "id": "gMxYohw72bDX"
      },
      "execution_count": null,
      "outputs": []
    },
    {
      "cell_type": "code",
      "source": [
        "# Load the pre-trained VGG19 model\n",
        "vgg19 = VGG19(include_top=False,\n",
        "              weights=\"imagenet\", # load imagenet data parameters trained\n",
        "              input_shape=(224, 224, 3),\n",
        "              pooling=None)\n",
        "\n",
        "# Freeze all the layers in the base VGGNet19 model\n",
        "# The parameters in these layers will not be updated during training.\n",
        "for layer in vgg19.layers:\n",
        "    layer.trainable = False"
      ],
      "metadata": {
        "id": "6VBgjSAGhf1v"
      },
      "execution_count": null,
      "outputs": []
    },
    {
      "cell_type": "code",
      "source": [
        "# Instantiate the sequential model and add the VGG19 model\n",
        "model = Sequential()\n",
        "model.add(vgg19)\n",
        "\n",
        "# Add the custom layers atop the VGG19 model\n",
        "model.add(Flatten(name=\"flattened\"))\n",
        "model.add(Dropout(0.5, name=\"dropout\"))\n",
        "model.add(Dense(2, activation=\"softmax\", name=\"predictions\"))\n",
        "\n",
        "# Compile the model for training\n",
        "model.compile(optimizer='adam', loss='categorical_crossentropy', \n",
        "              metrics=['accuracy'])"
      ],
      "metadata": {
        "id": "1EM2WcMBjE1V"
      },
      "execution_count": null,
      "outputs": []
    },
    {
      "cell_type": "code",
      "source": [
        "! wget -c https://www.dropbox.com/s/86r9z1kb42422up/hot-dog-not-hot-dog.tar.gz\n",
        "! tar -xzf hot-dog-not-hot-dog.tar.gz"
      ],
      "metadata": {
        "colab": {
          "base_uri": "https://localhost:8080/"
        },
        "id": "yc9CUI6nEN2N",
        "outputId": "bbc4f89a-4be3-4344-e161-b709b13197da"
      },
      "execution_count": null,
      "outputs": [
        {
          "output_type": "stream",
          "name": "stdout",
          "text": [
            "--2022-09-26 23:10:27--  https://www.dropbox.com/s/86r9z1kb42422up/hot-dog-not-hot-dog.tar.gz\n",
            "Resolving www.dropbox.com (www.dropbox.com)... 162.125.1.18, 2620:100:6016:18::a27d:112\n",
            "Connecting to www.dropbox.com (www.dropbox.com)|162.125.1.18|:443... connected.\n",
            "HTTP request sent, awaiting response... 302 Found\n",
            "Location: /s/raw/86r9z1kb42422up/hot-dog-not-hot-dog.tar.gz [following]\n",
            "--2022-09-26 23:10:27--  https://www.dropbox.com/s/raw/86r9z1kb42422up/hot-dog-not-hot-dog.tar.gz\n",
            "Reusing existing connection to www.dropbox.com:443.\n",
            "HTTP request sent, awaiting response... 404 Not Found\n",
            "2022-09-26 23:10:27 ERROR 404: Not Found.\n",
            "\n",
            "tar (child): hot-dog-not-hot-dog.tar.gz: Cannot open: No such file or directory\n",
            "tar (child): Error is not recoverable: exiting now\n",
            "tar: Child returned status 2\n",
            "tar: Error is not recoverable: exiting now\n"
          ]
        }
      ]
    },
    {
      "cell_type": "code",
      "source": [
        "# Instantiate two image generator classes\n",
        "train_datagen = ImageDataGenerator(\n",
        "    rescale=1.0/255,\n",
        "    data_format='channels_last',\n",
        "    rotation_range=30,\n",
        "    horizontal_flip=True,\n",
        "    fill_mode='reflect')\n",
        "\n",
        "valid_datagen = ImageDataGenerator(\n",
        "    rescale=1.0/225,\n",
        "    data_format='channels_last')\n",
        "\n",
        "# Define the batch size\n",
        "batch_size = 32\n",
        "\n",
        "# Define the train and validation generators: \n",
        "train_generator = train_datagen.flow_from_directory(\n",
        "    directory='./hot-dog-not-hot-dog/train',\n",
        "    target_size=(224, 224),\n",
        "    classes=['hot_dog','not_hot_dog'],\n",
        "    class_mode='categorical',\n",
        "    batch_size=batch_size,\n",
        "    shuffle=True,\n",
        "    seed=42)\n",
        "\n",
        "valid_generator = valid_datagen.flow_from_directory(\n",
        "    directory='./hot-dog-not-hot-dog/test',\n",
        "    target_size=(224, 224),\n",
        "    classes=['hot_dog','not_hot_dog'],\n",
        "    class_mode='categorical',\n",
        "    batch_size=batch_size,\n",
        "    shuffle=True,\n",
        "    seed=42)"
      ],
      "metadata": {
        "colab": {
          "base_uri": "https://localhost:8080/"
        },
        "id": "8LmMCn-XCHCV",
        "outputId": "b744c6b3-b843-4154-cd29-2f6b16426dfa"
      },
      "execution_count": null,
      "outputs": [
        {
          "output_type": "stream",
          "name": "stdout",
          "text": [
            "Found 0 images belonging to 2 classes.\n",
            "Found 0 images belonging to 2 classes.\n"
          ]
        }
      ]
    },
    {
      "cell_type": "code",
      "source": [
        "model.fit_generator(train_generator, steps_per_epoch=15, \n",
        "                    epochs=16, validation_data=valid_generator, \n",
        "                    validation_steps=15)"
      ],
      "metadata": {
        "id": "2Uhca-auEzbN"
      },
      "execution_count": null,
      "outputs": []
    }
  ]
}