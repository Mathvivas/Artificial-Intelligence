{
  "nbformat": 4,
  "nbformat_minor": 0,
  "metadata": {
    "colab": {
      "provenance": [],
      "authorship_tag": "ABX9TyN4ZXBpJ3EjvSsmthRjXOk4"
    },
    "kernelspec": {
      "name": "python3",
      "display_name": "Python 3"
    },
    "language_info": {
      "name": "python"
    }
  },
  "cells": [
    {
      "cell_type": "code",
      "execution_count": 1,
      "metadata": {
        "colab": {
          "base_uri": "https://localhost:8080/"
        },
        "id": "_w-CRP-0HLdl",
        "outputId": "b79d7dd2-cbe8-48e3-e677-664a6a992755"
      },
      "outputs": [
        {
          "output_type": "stream",
          "name": "stdout",
          "text": [
            "Looking in indexes: https://pypi.org/simple, https://us-python.pkg.dev/colab-wheels/public/simple/\n",
            "Collecting spacy==3.2.0\n",
            "  Downloading spacy-3.2.0-cp38-cp38-manylinux_2_17_x86_64.manylinux2014_x86_64.whl (6.2 MB)\n",
            "\u001b[2K     \u001b[90m━━━━━━━━━━━━━━━━━━━━━━━━━━━━━━━━━━━━━━━━\u001b[0m \u001b[32m6.2/6.2 MB\u001b[0m \u001b[31m32.6 MB/s\u001b[0m eta \u001b[36m0:00:00\u001b[0m\n",
            "\u001b[?25hRequirement already satisfied: numpy>=1.15.0 in /usr/local/lib/python3.8/dist-packages (from spacy==3.2.0) (1.21.6)\n",
            "Collecting typer<0.5.0,>=0.3.0\n",
            "  Downloading typer-0.4.2-py3-none-any.whl (27 kB)\n",
            "Requirement already satisfied: langcodes<4.0.0,>=3.2.0 in /usr/local/lib/python3.8/dist-packages (from spacy==3.2.0) (3.3.0)\n",
            "Requirement already satisfied: cymem<2.1.0,>=2.0.2 in /usr/local/lib/python3.8/dist-packages (from spacy==3.2.0) (2.0.7)\n",
            "Requirement already satisfied: murmurhash<1.1.0,>=0.28.0 in /usr/local/lib/python3.8/dist-packages (from spacy==3.2.0) (1.0.9)\n",
            "Requirement already satisfied: setuptools in /usr/local/lib/python3.8/dist-packages (from spacy==3.2.0) (57.4.0)\n",
            "Requirement already satisfied: srsly<3.0.0,>=2.4.1 in /usr/local/lib/python3.8/dist-packages (from spacy==3.2.0) (2.4.5)\n",
            "Requirement already satisfied: spacy-loggers<2.0.0,>=1.0.0 in /usr/local/lib/python3.8/dist-packages (from spacy==3.2.0) (1.0.4)\n",
            "Requirement already satisfied: preshed<3.1.0,>=3.0.2 in /usr/local/lib/python3.8/dist-packages (from spacy==3.2.0) (3.0.8)\n",
            "Requirement already satisfied: catalogue<2.1.0,>=2.0.6 in /usr/local/lib/python3.8/dist-packages (from spacy==3.2.0) (2.0.8)\n",
            "Requirement already satisfied: jinja2 in /usr/local/lib/python3.8/dist-packages (from spacy==3.2.0) (2.11.3)\n",
            "Collecting thinc<8.1.0,>=8.0.12\n",
            "  Downloading thinc-8.0.17-cp38-cp38-manylinux_2_17_x86_64.manylinux2014_x86_64.whl (671 kB)\n",
            "\u001b[2K     \u001b[90m━━━━━━━━━━━━━━━━━━━━━━━━━━━━━━━━━━━━━━\u001b[0m \u001b[32m671.1/671.1 KB\u001b[0m \u001b[31m38.2 MB/s\u001b[0m eta \u001b[36m0:00:00\u001b[0m\n",
            "\u001b[?25hRequirement already satisfied: pathy>=0.3.5 in /usr/local/lib/python3.8/dist-packages (from spacy==3.2.0) (0.10.1)\n",
            "Requirement already satisfied: blis<0.8.0,>=0.4.0 in /usr/local/lib/python3.8/dist-packages (from spacy==3.2.0) (0.7.9)\n",
            "Collecting pydantic!=1.8,!=1.8.1,<1.9.0,>=1.7.4\n",
            "  Downloading pydantic-1.8.2-cp38-cp38-manylinux2014_x86_64.whl (13.7 MB)\n",
            "\u001b[2K     \u001b[90m━━━━━━━━━━━━━━━━━━━━━━━━━━━━━━━━━━━━━━━━\u001b[0m \u001b[32m13.7/13.7 MB\u001b[0m \u001b[31m50.1 MB/s\u001b[0m eta \u001b[36m0:00:00\u001b[0m\n",
            "\u001b[?25hRequirement already satisfied: wasabi<1.1.0,>=0.8.1 in /usr/local/lib/python3.8/dist-packages (from spacy==3.2.0) (0.10.1)\n",
            "Requirement already satisfied: spacy-legacy<3.1.0,>=3.0.8 in /usr/local/lib/python3.8/dist-packages (from spacy==3.2.0) (3.0.10)\n",
            "Requirement already satisfied: packaging>=20.0 in /usr/local/lib/python3.8/dist-packages (from spacy==3.2.0) (21.3)\n",
            "Requirement already satisfied: tqdm<5.0.0,>=4.38.0 in /usr/local/lib/python3.8/dist-packages (from spacy==3.2.0) (4.64.1)\n",
            "Requirement already satisfied: requests<3.0.0,>=2.13.0 in /usr/local/lib/python3.8/dist-packages (from spacy==3.2.0) (2.25.1)\n",
            "Requirement already satisfied: pyparsing!=3.0.5,>=2.0.2 in /usr/local/lib/python3.8/dist-packages (from packaging>=20.0->spacy==3.2.0) (3.0.9)\n",
            "Requirement already satisfied: smart-open<7.0.0,>=5.2.1 in /usr/local/lib/python3.8/dist-packages (from pathy>=0.3.5->spacy==3.2.0) (6.3.0)\n",
            "Requirement already satisfied: typing-extensions>=3.7.4.3 in /usr/local/lib/python3.8/dist-packages (from pydantic!=1.8,!=1.8.1,<1.9.0,>=1.7.4->spacy==3.2.0) (4.4.0)\n",
            "Requirement already satisfied: urllib3<1.27,>=1.21.1 in /usr/local/lib/python3.8/dist-packages (from requests<3.0.0,>=2.13.0->spacy==3.2.0) (1.24.3)\n",
            "Requirement already satisfied: chardet<5,>=3.0.2 in /usr/local/lib/python3.8/dist-packages (from requests<3.0.0,>=2.13.0->spacy==3.2.0) (4.0.0)\n",
            "Requirement already satisfied: idna<3,>=2.5 in /usr/local/lib/python3.8/dist-packages (from requests<3.0.0,>=2.13.0->spacy==3.2.0) (2.10)\n",
            "Requirement already satisfied: certifi>=2017.4.17 in /usr/local/lib/python3.8/dist-packages (from requests<3.0.0,>=2.13.0->spacy==3.2.0) (2022.12.7)\n",
            "Requirement already satisfied: click<9.0.0,>=7.1.1 in /usr/local/lib/python3.8/dist-packages (from typer<0.5.0,>=0.3.0->spacy==3.2.0) (7.1.2)\n",
            "Requirement already satisfied: MarkupSafe>=0.23 in /usr/local/lib/python3.8/dist-packages (from jinja2->spacy==3.2.0) (2.0.1)\n",
            "Installing collected packages: typer, pydantic, thinc, spacy\n",
            "  Attempting uninstall: typer\n",
            "    Found existing installation: typer 0.7.0\n",
            "    Uninstalling typer-0.7.0:\n",
            "      Successfully uninstalled typer-0.7.0\n",
            "  Attempting uninstall: pydantic\n",
            "    Found existing installation: pydantic 1.10.2\n",
            "    Uninstalling pydantic-1.10.2:\n",
            "      Successfully uninstalled pydantic-1.10.2\n",
            "  Attempting uninstall: thinc\n",
            "    Found existing installation: thinc 8.1.6\n",
            "    Uninstalling thinc-8.1.6:\n",
            "      Successfully uninstalled thinc-8.1.6\n",
            "  Attempting uninstall: spacy\n",
            "    Found existing installation: spacy 3.4.4\n",
            "    Uninstalling spacy-3.4.4:\n",
            "      Successfully uninstalled spacy-3.4.4\n",
            "\u001b[31mERROR: pip's dependency resolver does not currently take into account all the packages that are installed. This behaviour is the source of the following dependency conflicts.\n",
            "en-core-web-sm 3.4.1 requires spacy<3.5.0,>=3.4.0, but you have spacy 3.2.0 which is incompatible.\u001b[0m\u001b[31m\n",
            "\u001b[0mSuccessfully installed pydantic-1.8.2 spacy-3.2.0 thinc-8.0.17 typer-0.4.2\n"
          ]
        }
      ],
      "source": [
        "!pip install -U spacy==3.2.0"
      ]
    },
    {
      "cell_type": "markdown",
      "source": [
        "### Downloading a Large Pretrained Portuguese Model"
      ],
      "metadata": {
        "id": "C4DRPG2dKr6O"
      }
    },
    {
      "cell_type": "code",
      "source": [
        "!python -m spacy download 'pt_core_news_lg'"
      ],
      "metadata": {
        "colab": {
          "base_uri": "https://localhost:8080/"
        },
        "id": "IKr1wYdeKdyn",
        "outputId": "b11119ba-2660-4c5c-9c70-6ea7325f9c9f"
      },
      "execution_count": 2,
      "outputs": [
        {
          "output_type": "stream",
          "name": "stdout",
          "text": [
            "/usr/local/lib/python3.8/dist-packages/torch/cuda/__init__.py:497: UserWarning: Can't initialize NVML\n",
            "  warnings.warn(\"Can't initialize NVML\")\n",
            "Looking in indexes: https://pypi.org/simple, https://us-python.pkg.dev/colab-wheels/public/simple/\n",
            "Collecting pt-core-news-lg==3.2.0\n",
            "  Downloading https://github.com/explosion/spacy-models/releases/download/pt_core_news_lg-3.2.0/pt_core_news_lg-3.2.0-py3-none-any.whl (577.4 MB)\n",
            "\u001b[2K     \u001b[90m━━━━━━━━━━━━━━━━━━━━━━━━━━━━━━━━━━━━━━━\u001b[0m \u001b[32m577.4/577.4 MB\u001b[0m \u001b[31m2.6 MB/s\u001b[0m eta \u001b[36m0:00:00\u001b[0m\n",
            "\u001b[?25hRequirement already satisfied: spacy<3.3.0,>=3.2.0 in /usr/local/lib/python3.8/dist-packages (from pt-core-news-lg==3.2.0) (3.2.0)\n",
            "Requirement already satisfied: thinc<8.1.0,>=8.0.12 in /usr/local/lib/python3.8/dist-packages (from spacy<3.3.0,>=3.2.0->pt-core-news-lg==3.2.0) (8.0.17)\n",
            "Requirement already satisfied: tqdm<5.0.0,>=4.38.0 in /usr/local/lib/python3.8/dist-packages (from spacy<3.3.0,>=3.2.0->pt-core-news-lg==3.2.0) (4.64.1)\n",
            "Requirement already satisfied: requests<3.0.0,>=2.13.0 in /usr/local/lib/python3.8/dist-packages (from spacy<3.3.0,>=3.2.0->pt-core-news-lg==3.2.0) (2.25.1)\n",
            "Requirement already satisfied: spacy-legacy<3.1.0,>=3.0.8 in /usr/local/lib/python3.8/dist-packages (from spacy<3.3.0,>=3.2.0->pt-core-news-lg==3.2.0) (3.0.10)\n",
            "Requirement already satisfied: wasabi<1.1.0,>=0.8.1 in /usr/local/lib/python3.8/dist-packages (from spacy<3.3.0,>=3.2.0->pt-core-news-lg==3.2.0) (0.10.1)\n",
            "Requirement already satisfied: blis<0.8.0,>=0.4.0 in /usr/local/lib/python3.8/dist-packages (from spacy<3.3.0,>=3.2.0->pt-core-news-lg==3.2.0) (0.7.9)\n",
            "Requirement already satisfied: spacy-loggers<2.0.0,>=1.0.0 in /usr/local/lib/python3.8/dist-packages (from spacy<3.3.0,>=3.2.0->pt-core-news-lg==3.2.0) (1.0.4)\n",
            "Requirement already satisfied: typer<0.5.0,>=0.3.0 in /usr/local/lib/python3.8/dist-packages (from spacy<3.3.0,>=3.2.0->pt-core-news-lg==3.2.0) (0.4.2)\n",
            "Requirement already satisfied: preshed<3.1.0,>=3.0.2 in /usr/local/lib/python3.8/dist-packages (from spacy<3.3.0,>=3.2.0->pt-core-news-lg==3.2.0) (3.0.8)\n",
            "Requirement already satisfied: srsly<3.0.0,>=2.4.1 in /usr/local/lib/python3.8/dist-packages (from spacy<3.3.0,>=3.2.0->pt-core-news-lg==3.2.0) (2.4.5)\n",
            "Requirement already satisfied: numpy>=1.15.0 in /usr/local/lib/python3.8/dist-packages (from spacy<3.3.0,>=3.2.0->pt-core-news-lg==3.2.0) (1.21.6)\n",
            "Requirement already satisfied: setuptools in /usr/local/lib/python3.8/dist-packages (from spacy<3.3.0,>=3.2.0->pt-core-news-lg==3.2.0) (57.4.0)\n",
            "Requirement already satisfied: pathy>=0.3.5 in /usr/local/lib/python3.8/dist-packages (from spacy<3.3.0,>=3.2.0->pt-core-news-lg==3.2.0) (0.10.1)\n",
            "Requirement already satisfied: catalogue<2.1.0,>=2.0.6 in /usr/local/lib/python3.8/dist-packages (from spacy<3.3.0,>=3.2.0->pt-core-news-lg==3.2.0) (2.0.8)\n",
            "Requirement already satisfied: pydantic!=1.8,!=1.8.1,<1.9.0,>=1.7.4 in /usr/local/lib/python3.8/dist-packages (from spacy<3.3.0,>=3.2.0->pt-core-news-lg==3.2.0) (1.8.2)\n",
            "Requirement already satisfied: cymem<2.1.0,>=2.0.2 in /usr/local/lib/python3.8/dist-packages (from spacy<3.3.0,>=3.2.0->pt-core-news-lg==3.2.0) (2.0.7)\n",
            "Requirement already satisfied: jinja2 in /usr/local/lib/python3.8/dist-packages (from spacy<3.3.0,>=3.2.0->pt-core-news-lg==3.2.0) (2.11.3)\n",
            "Requirement already satisfied: murmurhash<1.1.0,>=0.28.0 in /usr/local/lib/python3.8/dist-packages (from spacy<3.3.0,>=3.2.0->pt-core-news-lg==3.2.0) (1.0.9)\n",
            "Requirement already satisfied: langcodes<4.0.0,>=3.2.0 in /usr/local/lib/python3.8/dist-packages (from spacy<3.3.0,>=3.2.0->pt-core-news-lg==3.2.0) (3.3.0)\n",
            "Requirement already satisfied: packaging>=20.0 in /usr/local/lib/python3.8/dist-packages (from spacy<3.3.0,>=3.2.0->pt-core-news-lg==3.2.0) (21.3)\n",
            "Requirement already satisfied: pyparsing!=3.0.5,>=2.0.2 in /usr/local/lib/python3.8/dist-packages (from packaging>=20.0->spacy<3.3.0,>=3.2.0->pt-core-news-lg==3.2.0) (3.0.9)\n",
            "Requirement already satisfied: smart-open<7.0.0,>=5.2.1 in /usr/local/lib/python3.8/dist-packages (from pathy>=0.3.5->spacy<3.3.0,>=3.2.0->pt-core-news-lg==3.2.0) (6.3.0)\n",
            "Requirement already satisfied: typing-extensions>=3.7.4.3 in /usr/local/lib/python3.8/dist-packages (from pydantic!=1.8,!=1.8.1,<1.9.0,>=1.7.4->spacy<3.3.0,>=3.2.0->pt-core-news-lg==3.2.0) (4.4.0)\n",
            "Requirement already satisfied: urllib3<1.27,>=1.21.1 in /usr/local/lib/python3.8/dist-packages (from requests<3.0.0,>=2.13.0->spacy<3.3.0,>=3.2.0->pt-core-news-lg==3.2.0) (1.24.3)\n",
            "Requirement already satisfied: chardet<5,>=3.0.2 in /usr/local/lib/python3.8/dist-packages (from requests<3.0.0,>=2.13.0->spacy<3.3.0,>=3.2.0->pt-core-news-lg==3.2.0) (4.0.0)\n",
            "Requirement already satisfied: idna<3,>=2.5 in /usr/local/lib/python3.8/dist-packages (from requests<3.0.0,>=2.13.0->spacy<3.3.0,>=3.2.0->pt-core-news-lg==3.2.0) (2.10)\n",
            "Requirement already satisfied: certifi>=2017.4.17 in /usr/local/lib/python3.8/dist-packages (from requests<3.0.0,>=2.13.0->spacy<3.3.0,>=3.2.0->pt-core-news-lg==3.2.0) (2022.12.7)\n",
            "Requirement already satisfied: click<9.0.0,>=7.1.1 in /usr/local/lib/python3.8/dist-packages (from typer<0.5.0,>=0.3.0->spacy<3.3.0,>=3.2.0->pt-core-news-lg==3.2.0) (7.1.2)\n",
            "Requirement already satisfied: MarkupSafe>=0.23 in /usr/local/lib/python3.8/dist-packages (from jinja2->spacy<3.3.0,>=3.2.0->pt-core-news-lg==3.2.0) (2.0.1)\n",
            "Installing collected packages: pt-core-news-lg\n",
            "Successfully installed pt-core-news-lg-3.2.0\n",
            "\u001b[38;5;2m✔ Download and installation successful\u001b[0m\n",
            "You can now load the package via spacy.load('pt_core_news_lg')\n"
          ]
        }
      ]
    },
    {
      "cell_type": "code",
      "source": [
        "import spacy"
      ],
      "metadata": {
        "colab": {
          "base_uri": "https://localhost:8080/"
        },
        "id": "F6xyPJBJLEy2",
        "outputId": "7181a810-7f96-456c-a1fc-e1adcdf04304"
      },
      "execution_count": 3,
      "outputs": [
        {
          "output_type": "stream",
          "name": "stderr",
          "text": [
            "/usr/local/lib/python3.8/dist-packages/torch/cuda/__init__.py:497: UserWarning: Can't initialize NVML\n",
            "  warnings.warn(\"Can't initialize NVML\")\n"
          ]
        }
      ]
    },
    {
      "cell_type": "code",
      "source": [
        "nlp = spacy.load('pt_core_news_lg')"
      ],
      "metadata": {
        "id": "9gh7d0cBLZwn"
      },
      "execution_count": 4,
      "outputs": []
    },
    {
      "cell_type": "code",
      "source": [
        "type(nlp)"
      ],
      "metadata": {
        "colab": {
          "base_uri": "https://localhost:8080/"
        },
        "id": "_luQPWGtLqZ4",
        "outputId": "cc2c54f6-ef72-40e1-8070-8158876f79cd"
      },
      "execution_count": 5,
      "outputs": [
        {
          "output_type": "execute_result",
          "data": {
            "text/plain": [
              "spacy.lang.pt.Portuguese"
            ]
          },
          "metadata": {},
          "execution_count": 5
        }
      ]
    },
    {
      "cell_type": "markdown",
      "source": [
        "- Shows all the features that are going to be applied creating a doc"
      ],
      "metadata": {
        "id": "OtFK1_uGMOK_"
      }
    },
    {
      "cell_type": "code",
      "source": [
        "nlp.pipe_names"
      ],
      "metadata": {
        "colab": {
          "base_uri": "https://localhost:8080/"
        },
        "id": "Na4H5FyNLwOh",
        "outputId": "c5164ef2-64de-4c51-c361-a542004226cc"
      },
      "execution_count": 6,
      "outputs": [
        {
          "output_type": "execute_result",
          "data": {
            "text/plain": [
              "['tok2vec', 'morphologizer', 'parser', 'attribute_ruler', 'lemmatizer', 'ner']"
            ]
          },
          "metadata": {},
          "execution_count": 6
        }
      ]
    },
    {
      "cell_type": "markdown",
      "source": [
        "### Creating a doc"
      ],
      "metadata": {
        "id": "13Ct5TI9MeGg"
      }
    },
    {
      "cell_type": "code",
      "source": [
        "doc = nlp('As ações do Magazine Luiza S.A., Franca, Brasil, acumularam \\\n",
        "baixa de 70% ao ano. Assim já devolveram todos os ganhos do período da \\\n",
        "pandemia.')"
      ],
      "metadata": {
        "id": "JrFGVFh2MCMU"
      },
      "execution_count": 7,
      "outputs": []
    },
    {
      "cell_type": "code",
      "source": [
        "print(f'Words in Doc: {len(doc.vocab)}')\n",
        "print(f'Tokens in Doc: {len(doc)}')"
      ],
      "metadata": {
        "colab": {
          "base_uri": "https://localhost:8080/"
        },
        "id": "hLjn8YTNNLTM",
        "outputId": "e950ab85-637f-4614-83e0-bbb6b71b6bb7"
      },
      "execution_count": 15,
      "outputs": [
        {
          "output_type": "stream",
          "name": "stdout",
          "text": [
            "Words in Doc: 375\n",
            "Tokens in Doc: 30\n"
          ]
        }
      ]
    },
    {
      "cell_type": "code",
      "source": [
        "type(doc)"
      ],
      "metadata": {
        "colab": {
          "base_uri": "https://localhost:8080/"
        },
        "id": "K6HnCi6KNPzi",
        "outputId": "f359cfb0-ce65-4d25-e479-137a4f615d5c"
      },
      "execution_count": 9,
      "outputs": [
        {
          "output_type": "execute_result",
          "data": {
            "text/plain": [
              "spacy.tokens.doc.Doc"
            ]
          },
          "metadata": {},
          "execution_count": 9
        }
      ]
    },
    {
      "cell_type": "markdown",
      "source": [
        "## Checking Tokens in Doc"
      ],
      "metadata": {
        "id": "9NJt9vT9O3K6"
      }
    },
    {
      "cell_type": "code",
      "source": [
        "for token in doc:\n",
        "    print(token.text)"
      ],
      "metadata": {
        "colab": {
          "base_uri": "https://localhost:8080/"
        },
        "id": "dNOc2p0rNTUi",
        "outputId": "ea5d7a86-be9d-4049-f156-cc595c070bef"
      },
      "execution_count": 11,
      "outputs": [
        {
          "output_type": "stream",
          "name": "stdout",
          "text": [
            "As\n",
            "ações\n",
            "do\n",
            "Magazine\n",
            "Luiza\n",
            "S.A.\n",
            ",\n",
            "Franca\n",
            ",\n",
            "Brasil\n",
            ",\n",
            "acumularam\n",
            "baixa\n",
            "de\n",
            "70\n",
            "%\n",
            "ao\n",
            "ano\n",
            ".\n",
            "Assim\n",
            "já\n",
            "devolveram\n",
            "todos\n",
            "os\n",
            "ganhos\n",
            "do\n",
            "período\n",
            "da\n",
            "pandemia\n",
            ".\n"
          ]
        }
      ]
    },
    {
      "cell_type": "code",
      "source": [
        "doc[:3]"
      ],
      "metadata": {
        "colab": {
          "base_uri": "https://localhost:8080/"
        },
        "id": "OMy6UOx8PA3H",
        "outputId": "c32581dc-3bc8-4130-e87c-bbaac196657e"
      },
      "execution_count": 13,
      "outputs": [
        {
          "output_type": "execute_result",
          "data": {
            "text/plain": [
              "As ações do"
            ]
          },
          "metadata": {},
          "execution_count": 13
        }
      ]
    },
    {
      "cell_type": "markdown",
      "source": [
        "### Separating Tokens"
      ],
      "metadata": {
        "id": "k_dk5pZQSnjZ"
      }
    },
    {
      "cell_type": "code",
      "source": [
        "print('Tokens: ', [token.text for token in doc])\n",
        "print('Stop Word: ', [token.is_stop for token in doc])\n",
        "print('Alphanumeric: ', [token.is_alpha for token in doc])\n",
        "print('Uppercase: ', [token.is_upper for token in doc])\n",
        "print('Ponctuation: ', [token.is_punct for token in doc])\n",
        "print('Number: ', [token.like_num for token in doc])\n",
        "print('Start Sentence: ', [token.is_sent_start for token in doc])\n",
        "print('Format: ', [token.shape_ for token in doc])"
      ],
      "metadata": {
        "colab": {
          "base_uri": "https://localhost:8080/"
        },
        "id": "3wdb1LE5QbZ9",
        "outputId": "920e58c4-31fe-4491-86fb-5d6b168615a2"
      },
      "execution_count": 17,
      "outputs": [
        {
          "output_type": "stream",
          "name": "stdout",
          "text": [
            "Tokens:  ['As', 'ações', 'do', 'Magazine', 'Luiza', 'S.A.', ',', 'Franca', ',', 'Brasil', ',', 'acumularam', 'baixa', 'de', '70', '%', 'ao', 'ano', '.', 'Assim', 'já', 'devolveram', 'todos', 'os', 'ganhos', 'do', 'período', 'da', 'pandemia', '.']\n",
            "Stop Word:  [True, False, True, False, False, False, False, False, False, False, False, False, False, True, False, False, True, False, False, True, True, False, True, True, False, True, False, True, False, False]\n",
            "Alphanumeric:  [True, True, True, True, True, False, False, True, False, True, False, True, True, True, False, False, True, True, False, True, True, True, True, True, True, True, True, True, True, False]\n",
            "Uppercase:  [False, False, False, False, False, True, False, False, False, False, False, False, False, False, False, False, False, False, False, False, False, False, False, False, False, False, False, False, False, False]\n",
            "Ponctuation:  [False, False, False, False, False, False, True, False, True, False, True, False, False, False, False, True, False, False, True, False, False, False, False, False, False, False, False, False, False, True]\n",
            "Number:  [False, False, False, False, False, False, False, False, False, False, False, False, False, False, True, False, False, False, False, False, False, False, False, False, False, False, False, False, False, False]\n",
            "Start Sentence:  [True, False, False, False, False, False, False, False, False, False, False, False, False, False, False, False, False, False, False, True, False, False, False, False, False, False, False, False, False, False]\n",
            "Format:  ['Xx', 'xxxx', 'xx', 'Xxxxx', 'Xxxxx', 'X.X.', ',', 'Xxxxx', ',', 'Xxxxx', ',', 'xxxx', 'xxxx', 'xx', 'dd', '%', 'xx', 'xxx', '.', 'Xxxxx', 'xx', 'xxxx', 'xxxx', 'xx', 'xxxx', 'xx', 'xxxx', 'xx', 'xxxx', '.']\n"
          ]
        }
      ]
    },
    {
      "cell_type": "code",
      "source": [
        "for token in doc:\n",
        "    if token.like_num:\n",
        "        print(f'Number Found: {token.text}')\n",
        "    if token.is_punct:\n",
        "        print(f'Punctuation Found: {token.text}')"
      ],
      "metadata": {
        "colab": {
          "base_uri": "https://localhost:8080/"
        },
        "id": "n9FHTY3gTt7V",
        "outputId": "9ef9e58f-c321-46aa-b45f-ceee3e3fc012"
      },
      "execution_count": 18,
      "outputs": [
        {
          "output_type": "stream",
          "name": "stdout",
          "text": [
            "Punctuation Found: ,\n",
            "Punctuation Found: ,\n",
            "Punctuation Found: ,\n",
            "Number Found: 70\n",
            "Punctuation Found: %\n",
            "Punctuation Found: .\n",
            "Punctuation Found: .\n"
          ]
        }
      ]
    },
    {
      "cell_type": "code",
      "source": [
        "for token in doc:\n",
        "    print(token.text, ' - ', token.pos_, ' - ', token.dep_,\n",
        "           ' - ', token.lemma_, ' - ', token.shape_)"
      ],
      "metadata": {
        "colab": {
          "base_uri": "https://localhost:8080/"
        },
        "id": "F82G1txaWvH0",
        "outputId": "3751b462-8cd7-401b-ceb3-c231903e0518"
      },
      "execution_count": 19,
      "outputs": [
        {
          "output_type": "stream",
          "name": "stdout",
          "text": [
            "As  -  DET  -  det  -  As  -  Xx\n",
            "ações  -  NOUN  -  nsubj  -  ações  -  xxxx\n",
            "do  -  ADP  -  case  -  do  -  xx\n",
            "Magazine  -  PROPN  -  nmod  -  Magazine  -  Xxxxx\n",
            "Luiza  -  PROPN  -  appos  -  Luiza  -  Xxxxx\n",
            "S.A.  -  PROPN  -  flat:name  -  S.A.  -  X.X.\n",
            ",  -  PUNCT  -  punct  -  ,  -  ,\n",
            "Franca  -  PROPN  -  conj  -  Franca  -  Xxxxx\n",
            ",  -  PUNCT  -  punct  -  ,  -  ,\n",
            "Brasil  -  PROPN  -  conj  -  Brasil  -  Xxxxx\n",
            ",  -  PUNCT  -  punct  -  ,  -  ,\n",
            "acumularam  -  VERB  -  ROOT  -  acumular  -  xxxx\n",
            "baixa  -  NOUN  -  obj  -  baixo  -  xxxx\n",
            "de  -  ADP  -  case  -  de  -  xx\n",
            "70  -  NUM  -  nummod  -  70  -  dd\n",
            "%  -  SYM  -  nmod  -  %  -  %\n",
            "ao  -  ADP  -  case  -  ao  -  xx\n",
            "ano  -  NOUN  -  obl  -  ano  -  xxx\n",
            ".  -  PUNCT  -  punct  -  .  -  .\n",
            "Assim  -  ADV  -  advmod  -  Assim  -  Xxxxx\n",
            "já  -  ADV  -  advmod  -  já  -  xx\n",
            "devolveram  -  VERB  -  ROOT  -  devolver  -  xxxx\n",
            "todos  -  DET  -  det  -  todo  -  xxxx\n",
            "os  -  DET  -  det  -  o  -  xx\n",
            "ganhos  -  NOUN  -  obj  -  ganho  -  xxxx\n",
            "do  -  ADP  -  case  -  do  -  xx\n",
            "período  -  NOUN  -  nmod  -  período  -  xxxx\n",
            "da  -  ADP  -  case  -  da  -  xx\n",
            "pandemia  -  NOUN  -  nmod  -  pandemia  -  xxxx\n",
            ".  -  PUNCT  -  punct  -  .  -  .\n"
          ]
        }
      ]
    },
    {
      "cell_type": "code",
      "source": [
        "for token in doc:\n",
        "    print(token.text, ' - ', token.morph)"
      ],
      "metadata": {
        "colab": {
          "base_uri": "https://localhost:8080/"
        },
        "id": "nptVwWH9YaDB",
        "outputId": "5b757add-e483-42de-9312-b8a73ab2597f"
      },
      "execution_count": 20,
      "outputs": [
        {
          "output_type": "stream",
          "name": "stdout",
          "text": [
            "As  -  Definite=Def|Gender=Fem|Number=Plur|PronType=Art\n",
            "ações  -  Gender=Fem|Number=Plur\n",
            "do  -  Definite=Def|Gender=Masc|Number=Sing|PronType=Art\n",
            "Magazine  -  Gender=Masc|Number=Sing\n",
            "Luiza  -  Gender=Fem|Number=Sing\n",
            "S.A.  -  Number=Sing\n",
            ",  -  \n",
            "Franca  -  Gender=Fem|Number=Sing\n",
            ",  -  \n",
            "Brasil  -  Gender=Masc|Number=Sing\n",
            ",  -  \n",
            "acumularam  -  Mood=Ind|Number=Plur|Person=3|Tense=Past|VerbForm=Fin\n",
            "baixa  -  Gender=Fem|Number=Sing\n",
            "de  -  \n",
            "70  -  NumType=Card\n",
            "%  -  \n",
            "ao  -  Definite=Def|Gender=Masc|Number=Sing|PronType=Art\n",
            "ano  -  Gender=Masc|Number=Sing\n",
            ".  -  \n",
            "Assim  -  \n",
            "já  -  \n",
            "devolveram  -  Mood=Ind|Number=Plur|Person=3|Tense=Past|VerbForm=Fin\n",
            "todos  -  Gender=Masc|Number=Plur|PronType=Tot\n",
            "os  -  Definite=Def|Gender=Masc|Number=Plur|PronType=Art\n",
            "ganhos  -  Gender=Masc|Number=Plur\n",
            "do  -  Definite=Def|Gender=Masc|Number=Sing|PronType=Art\n",
            "período  -  Gender=Masc|Number=Sing\n",
            "da  -  Definite=Def|Gender=Fem|Number=Sing|PronType=Art\n",
            "pandemia  -  Gender=Fem|Number=Sing\n",
            ".  -  \n"
          ]
        }
      ]
    },
    {
      "cell_type": "code",
      "source": [
        "for token in doc:\n",
        "    print(token.text, ' - ', token.tag_)"
      ],
      "metadata": {
        "colab": {
          "base_uri": "https://localhost:8080/"
        },
        "id": "oqeaUw3YaT3p",
        "outputId": "09409685-b390-47c9-efd0-5883086aaf2c"
      },
      "execution_count": 21,
      "outputs": [
        {
          "output_type": "stream",
          "name": "stdout",
          "text": [
            "As  -  DET\n",
            "ações  -  NOUN\n",
            "do  -  ADP\n",
            "Magazine  -  PROPN\n",
            "Luiza  -  PROPN\n",
            "S.A.  -  PROPN\n",
            ",  -  PUNCT\n",
            "Franca  -  PROPN\n",
            ",  -  PUNCT\n",
            "Brasil  -  PROPN\n",
            ",  -  PUNCT\n",
            "acumularam  -  VERB\n",
            "baixa  -  NOUN\n",
            "de  -  ADP\n",
            "70  -  NUM\n",
            "%  -  SYM\n",
            "ao  -  ADP\n",
            "ano  -  NOUN\n",
            ".  -  PUNCT\n",
            "Assim  -  ADV\n",
            "já  -  ADV\n",
            "devolveram  -  VERB\n",
            "todos  -  DET\n",
            "os  -  DET\n",
            "ganhos  -  NOUN\n",
            "do  -  ADP\n",
            "período  -  NOUN\n",
            "da  -  ADP\n",
            "pandemia  -  NOUN\n",
            ".  -  PUNCT\n"
          ]
        }
      ]
    },
    {
      "cell_type": "markdown",
      "source": [
        "## Listing Named Entities"
      ],
      "metadata": {
        "id": "aRbwYmX5b-iw"
      }
    },
    {
      "cell_type": "code",
      "source": [
        "for ent in doc.ents:\n",
        "    print(ent.text, ' - ', ent.label_)"
      ],
      "metadata": {
        "colab": {
          "base_uri": "https://localhost:8080/"
        },
        "id": "tilpHquGaYQV",
        "outputId": "e292c812-77a2-43f6-ff85-5ef21e5097d8"
      },
      "execution_count": 22,
      "outputs": [
        {
          "output_type": "stream",
          "name": "stdout",
          "text": [
            "Magazine Luiza S.A.  -  ORG\n",
            "Franca  -  LOC\n",
            "Brasil  -  LOC\n"
          ]
        }
      ]
    },
    {
      "cell_type": "markdown",
      "source": [
        "## Stop Words"
      ],
      "metadata": {
        "id": "A7PWq_-1c8am"
      }
    },
    {
      "cell_type": "code",
      "source": [
        "for token in doc:\n",
        "    if token.is_stop:\n",
        "        print('Stop Word: ', token.text)"
      ],
      "metadata": {
        "colab": {
          "base_uri": "https://localhost:8080/"
        },
        "id": "DMvNJLxycISC",
        "outputId": "d9c0f8f4-ec8d-4567-e515-66a082af6a1e"
      },
      "execution_count": 23,
      "outputs": [
        {
          "output_type": "stream",
          "name": "stdout",
          "text": [
            "Stop Word:  As\n",
            "Stop Word:  do\n",
            "Stop Word:  de\n",
            "Stop Word:  ao\n",
            "Stop Word:  Assim\n",
            "Stop Word:  já\n",
            "Stop Word:  todos\n",
            "Stop Word:  os\n",
            "Stop Word:  do\n",
            "Stop Word:  da\n"
          ]
        }
      ]
    },
    {
      "cell_type": "code",
      "source": [
        "for word in nlp.Defaults.stop_words:\n",
        "    print(word, end = ' ')"
      ],
      "metadata": {
        "colab": {
          "base_uri": "https://localhost:8080/"
        },
        "id": "bORQ6uCidKJM",
        "outputId": "5b7efc4f-64c1-421e-96fa-abdede6b3fee"
      },
      "execution_count": 29,
      "outputs": [
        {
          "output_type": "stream",
          "name": "stdout",
          "text": [
            "quanto tente ao apoia que seria sempre tendes povo coisa teu tive antes dois elas na porque favor primeira porquê dentro nem quem tivemos somos suas qual após mais és no tua para menor vens outros irá comprida minhas muitos nessa todos ele nova grupo mesmo apenas assim fora fazem máximo agora perto grandes pegar eu tais segunda vais os são desde neste tudo esses põe seu desse nós a enquanto quatro põem seis sétimo conhecida ir vocês vossas pelo vinte só dos parte boa eles estiveram oitavo muito falta mas saber forma todas nada temos segundo minha dezassete pois novas fazer dar estou nossos vem podem fazes quando primeiro até tu com estive sois nesta novo nunca debaixo cada pouco fomos então quinto vos naquele por porquanto sobre desta poder longe tuas portanto oitava nosso duas três podia esse também vezes aquela ela do onde aquilo eventual tentar zero baixo corrente me treze fazemos bom nove meio está deve vêm sim cento parece mal sete sabe local des nível área breve iniciar meu meus esta estar teve era quarto sou ambos pelos ontem ligado apoio pelas somente te doze através dão tivestes posição dezoito qualquer tão nossa dizem disso sexto certamente estes este vários sistema quer vai quais direita obrigado aí tiveste cinco sua nos faz estado dá não quarta momento fez já teus estava números à essa pontos estará num vão bastante o final ver ponto bem inclusive sexta tempo caminho deverá tens estão é fará tipo tal uma diz daquele estas pode catorze atrás diante quieta entre às aqueles ter quero nesse quieto obrigada número isso cuja querem pôde têm acerca fazia mês sei e logo cá terceira nenhuma vossa lugar estivemos você sétima sem quinta maioria naquela outra fostes possível vinda vosso aquelas vós meses dessa depois exemplo faço foram da em cima pouca ora quê lado essas valor lá ainda nossas tentei sob posso como último tenho nuns contra dezanove usa menos usar fazeis lhe ou seus outras próxima apontar puderam isto vossos maior se foi custa fui mil tentaram conhecido das foste certeza conselho poderá for próprio geral tanto questão esteve grande ali uns tem as ademais maiorias um cedo tarde alguns demais estiveste porém nas devem oito numa estivestes próximo vindo daquela relação umas vez inicio deste aqui dizer embora talvez fim tanta aos possivelmente tiveram além de pela todo ambas aquele ser toda estás novos comprido contudo veja cujo quinze dez terceiro onze adeus dezasseis algo algumas partir "
          ]
        }
      ]
    },
    {
      "cell_type": "markdown",
      "source": [
        "- Adding Stop Words\n",
        "\n",
        "```python\n",
        "nlp.Defaults.stop_words.add('any_word')\n",
        "nlp.vocab['any_word'].is_stop = True\n",
        "```\n",
        "\n"
      ],
      "metadata": {
        "id": "qa06xhvqfKrk"
      }
    },
    {
      "cell_type": "markdown",
      "source": [
        "### Removing Stop Words"
      ],
      "metadata": {
        "id": "au_Fb4TdgDG4"
      }
    },
    {
      "cell_type": "code",
      "source": [
        "token_list = []\n",
        "for token in doc:\n",
        "    token_list.append(token.text)\n",
        "\n",
        "stop_list = []\n",
        "for words in nlp.Defaults.stop_words:\n",
        "    stop_list.append(words)\n",
        "\n",
        "no_stop_list = [word for word in token_list if not word in stop_list]\n",
        "\n",
        "no_stop = ''\n",
        "for word in no_stop_list:\n",
        "    no_stop += word + ' '\n",
        "\n",
        "print(doc.text + '\\n')\n",
        "print(no_stop)"
      ],
      "metadata": {
        "colab": {
          "base_uri": "https://localhost:8080/"
        },
        "id": "ifP7EJOZdhyb",
        "outputId": "0bf3c079-310f-41f8-b43a-4c48905db76a"
      },
      "execution_count": 32,
      "outputs": [
        {
          "output_type": "stream",
          "name": "stdout",
          "text": [
            "As ações do Magazine Luiza S.A., Franca, Brasil, acumularam baixa de 70% ao ano. Assim já devolveram todos os ganhos do período da pandemia.\n",
            "\n",
            "As ações Magazine Luiza S.A. , Franca , Brasil , acumularam baixa 70 % ano . Assim devolveram ganhos período pandemia . \n"
          ]
        }
      ]
    },
    {
      "cell_type": "markdown",
      "source": [
        "## Vocabulary"
      ],
      "metadata": {
        "id": "4JAr6342iKA4"
      }
    },
    {
      "cell_type": "code",
      "source": [
        "print('Hash: ', nlp.vocab.strings['dados'])\n",
        "print('Hash: ', doc.vocab.strings['dados'])\n",
        "print('String: ', nlp.vocab.strings[6013848609874238634])"
      ],
      "metadata": {
        "colab": {
          "base_uri": "https://localhost:8080/"
        },
        "id": "Zbsj5wyogy9J",
        "outputId": "11c0746e-4c5b-48c2-9894-9ec6cc373caa"
      },
      "execution_count": 34,
      "outputs": [
        {
          "output_type": "stream",
          "name": "stdout",
          "text": [
            "Hash:  6013848609874238634\n",
            "Hash:  6013848609874238634\n",
            "String:  dados\n"
          ]
        }
      ]
    },
    {
      "cell_type": "markdown",
      "source": [
        "### Lexemes"
      ],
      "metadata": {
        "id": "3VFYTyrmi0H5"
      }
    },
    {
      "cell_type": "code",
      "source": [
        "lex = nlp.vocab['dados']\n",
        "print(lex.text, ' - ', lex.orth, ' - ', lex.is_alpha, ' - ', lex.is_lower)"
      ],
      "metadata": {
        "colab": {
          "base_uri": "https://localhost:8080/"
        },
        "id": "YGGm8BqxibG2",
        "outputId": "a7643a3f-a564-47ed-b980-d25c7f85a2c4"
      },
      "execution_count": 35,
      "outputs": [
        {
          "output_type": "stream",
          "name": "stdout",
          "text": [
            "dados  -  6013848609874238634  -  True  -  True\n"
          ]
        }
      ]
    },
    {
      "cell_type": "markdown",
      "source": [
        "## Similarity"
      ],
      "metadata": {
        "id": "f0EjLYiikW7B"
      }
    },
    {
      "cell_type": "code",
      "source": [
        "nlp('Dados são uma nova forma de ver o mundo').vector"
      ],
      "metadata": {
        "colab": {
          "base_uri": "https://localhost:8080/"
        },
        "id": "l-LtycHAnKjJ",
        "outputId": "eda4526d-9017-420e-8591-577284af7fe5"
      },
      "execution_count": 37,
      "outputs": [
        {
          "output_type": "execute_result",
          "data": {
            "text/plain": [
              "array([ 3.74417722e-01, -7.84687757e-01, -1.06618547e+00,  1.42511070e-01,\n",
              "       -2.53609443e+00,  9.61261034e-01, -1.34064341e+00, -5.13018847e-01,\n",
              "       -1.82862771e+00, -1.20371675e+00,  8.03983450e-01, -1.46619749e+00,\n",
              "        7.48330832e-01, -1.19083548e+00, -1.14571548e+00, -9.73954439e-01,\n",
              "        2.55322742e+00,  1.33652663e+00, -3.06292206e-01,  3.08923578e+00,\n",
              "       -6.45951152e-01,  8.52983713e-01, -1.47281444e+00,  1.51861548e+00,\n",
              "       -7.03798890e-01,  3.02385569e-01, -3.65707874e-01,  1.53983450e+00,\n",
              "        1.58586666e-01,  5.06432831e-01,  2.38269970e-01, -5.78311160e-02,\n",
              "       -1.86192679e+00, -1.60669100e+00, -5.77388823e-01,  1.24430454e+00,\n",
              "       -9.02556539e-01,  5.10628402e-01, -7.98452139e-01, -8.21067810e-01,\n",
              "       -2.03801441e+00,  1.31628776e+00,  1.22451890e+00, -3.25624526e-01,\n",
              "       -1.10244441e+00,  4.14362282e-01, -1.69109440e+00,  3.55230629e-01,\n",
              "        1.13238883e+00, -5.61491325e-02, -7.20430076e-01, -1.53850234e+00,\n",
              "       -8.44185472e-01, -1.27657008e+00, -2.38537818e-01, -4.77579117e-01,\n",
              "        1.90167105e+00, -1.69253320e-01,  2.02412039e-01, -5.74673355e-01,\n",
              "        1.76200378e+00,  1.84260472e-03,  7.02685595e-01,  2.19501376e+00,\n",
              "       -5.91993332e-01,  9.51983988e-01,  4.54781175e-01,  1.09658885e+00,\n",
              "       -2.60640025e-01, -2.79089957e-01, -3.46486688e-01, -6.68563306e-01,\n",
              "        7.54292250e-01,  7.99066722e-02,  7.38700256e-02, -7.49371111e-01,\n",
              "        1.95147753e+00,  1.06435561e+00, -1.41220891e+00, -3.69474471e-01,\n",
              "       -1.68489993e-01,  8.21212292e-01,  1.02281117e+00,  9.56465483e-01,\n",
              "        6.59500211e-02, -2.45613980e+00,  3.93618941e-01, -1.22842216e+00,\n",
              "        4.24424469e-01, -1.73841107e+00, -5.07620037e-01,  2.50200772e+00,\n",
              "        1.70522785e+00, -8.82888913e-01, -3.57155278e-02,  1.92899965e-02,\n",
              "        3.03072023e+00,  1.19927776e+00, -2.66111779e+00, -7.06781959e-03,\n",
              "        8.24022293e-01,  1.51205778e+00, -1.40115869e+00,  1.59368932e-01,\n",
              "        9.12482262e-01, -1.21898985e+00, -5.10569990e-01, -4.28426832e-01,\n",
              "        2.94615000e-01, -6.80639982e-01, -2.48334467e-01,  1.15978874e-01,\n",
              "       -5.53571165e-01, -5.14354289e-01, -1.44910562e+00, -8.73716712e-01,\n",
              "        2.21027565e+00, -1.36251032e-01, -2.53496647e-01,  6.45463526e-01,\n",
              "        4.04463291e-01, -2.98645067e+00, -3.11954379e-01, -8.76122177e-01,\n",
              "        3.34755540e-01, -2.87369847e-01,  2.08805561e+00,  3.65342230e-01,\n",
              "        5.24816751e-01,  8.78870010e-01,  3.84373128e-01, -3.84539776e-02,\n",
              "       -2.96313375e-01, -6.83516622e-01,  9.96768951e-01,  7.63850868e-01,\n",
              "       -2.20326722e-01, -1.94736695e+00,  6.24434471e-01,  2.03408217e+00,\n",
              "       -1.83151102e+00, -2.81406730e-01, -2.82060027e-01, -4.65545535e-01,\n",
              "       -2.46370339e+00,  2.15098873e-01,  1.02083337e+00,  6.61376655e-01,\n",
              "       -2.57961655e+00, -3.99602264e-01,  1.20587218e+00, -1.46073282e-01,\n",
              "        3.27410847e-02, -1.35982883e+00,  8.07655379e-02,  2.08799578e-02,\n",
              "       -3.78246516e-01, -1.00597775e+00, -9.32831466e-01, -1.61660337e+00,\n",
              "        1.87503326e+00,  5.69874525e-01, -7.33768821e-01,  1.39469790e+00,\n",
              "        2.11170316e+00,  1.93130344e-01, -7.70328760e-01, -2.43103218e+00,\n",
              "       -3.51041049e-01, -1.04999363e+00,  6.01377785e-01,  6.45669997e-01,\n",
              "        7.01934457e-01, -6.78331137e-01, -9.30223227e-01, -1.22128439e+00,\n",
              "        1.87257445e+00, -2.11985618e-01, -1.24820876e+00,  1.39945900e+00,\n",
              "        1.50959444e+00,  1.30656675e-01, -3.18479985e-01,  9.21079934e-01,\n",
              "        1.24915886e+00, -6.07842863e-01,  1.14601886e+00, -2.21857429e+00,\n",
              "        1.29533219e+00,  1.62226677e+00, -1.71152222e+00, -1.21767211e+00,\n",
              "        1.26546919e-01, -2.22432041e+00,  1.24794042e+00,  3.64156604e-01,\n",
              "       -9.75929677e-01, -1.25714767e+00, -2.28577748e-01, -3.21345598e-01,\n",
              "       -1.77080119e+00,  2.20665646e+00, -7.32493341e-01,  2.91044354e-01,\n",
              "        1.02650440e+00,  3.02327722e-01,  1.36552334e+00, -9.93131220e-01,\n",
              "        1.19554436e+00,  4.67644818e-03,  1.17968225e+00, -1.30670571e+00,\n",
              "        1.62921333e+00,  7.74244547e-01, -1.52871561e+00,  1.75665581e+00,\n",
              "        1.29765570e+00, -5.45273364e-01,  8.31222177e-01, -4.76061076e-01,\n",
              "       -1.07965779e+00, -6.73526764e-01,  2.06814498e-01, -2.04077768e+00,\n",
              "       -1.99478894e-01, -6.03161097e-01, -3.88282210e-01, -2.06096220e+00,\n",
              "        1.10932326e+00, -1.65904438e+00, -3.35715562e-01, -1.39441657e+00,\n",
              "       -8.01833346e-02, -7.65833378e-01, -8.67945671e-01, -2.78276652e-01,\n",
              "        8.34534988e-02, -1.96323013e+00,  1.50211141e-01,  2.09413910e+00,\n",
              "        3.72736663e-01, -7.76842296e-01,  1.03807710e-02,  1.34910047e-01,\n",
              "        9.00550008e-01, -4.06007200e-01,  4.74999994e-02,  1.18908000e+00,\n",
              "        8.53624403e-01, -3.73622119e-01, -6.35583341e-01,  5.02865575e-02,\n",
              "       -8.84373426e-01, -1.17366779e+00,  1.68727800e-01,  4.18436706e-01,\n",
              "       -8.08499873e-01,  2.65901875e+00, -1.05807006e+00,  3.81183326e-01,\n",
              "       -1.75752783e+00,  5.78831136e-01,  2.42186666e+00,  9.71543431e-01,\n",
              "       -3.98943685e-02, -6.07993305e-01, -7.80242205e-01, -3.79734039e-02,\n",
              "        1.74075329e+00,  1.64870214e+00,  3.16191626e+00, -4.46197927e-01,\n",
              "       -5.60882568e-01,  2.73756313e+00, -1.98634577e+00, -1.94740012e-01,\n",
              "        1.97863114e+00,  6.83251143e-01,  7.15681076e-01, -8.91782641e-01,\n",
              "       -1.49708533e+00, -3.94754469e-01,  2.77553296e+00, -8.29436243e-01,\n",
              "       -1.66645050e-01,  1.24339235e+00, -1.37521553e+00, -1.36037752e-01,\n",
              "       -4.51361239e-01, -3.46667022e-02,  4.00628895e-01,  3.41183901e+00,\n",
              "       -1.57466114e+00, -5.31333447e-01,  5.78418851e-01, -1.55612099e+00,\n",
              "        1.91691101e+00, -7.63637781e-01, -1.26567578e+00,  1.15920889e+00],\n",
              "      dtype=float32)"
            ]
          },
          "metadata": {},
          "execution_count": 37
        }
      ]
    },
    {
      "cell_type": "code",
      "source": [
        "doc1 = nlp('Ele viaja regulramente de carro')\n",
        "doc2 = nlp('Ela viaja regulramente de avião')\n",
        "doc1.similarity(doc2)"
      ],
      "metadata": {
        "colab": {
          "base_uri": "https://localhost:8080/"
        },
        "id": "EIjJ8YGLi_bp",
        "outputId": "060b4a1e-f9ce-4e1a-8fd8-8f22690992d6"
      },
      "execution_count": 36,
      "outputs": [
        {
          "output_type": "execute_result",
          "data": {
            "text/plain": [
              "0.8806810316303624"
            ]
          },
          "metadata": {},
          "execution_count": 36
        }
      ]
    },
    {
      "cell_type": "code",
      "source": [
        "doc3 = nlp('Devemos dizer comprimento ou cumprimento?')\n",
        "tokenA = doc3[2]\n",
        "print(tokenA)\n",
        "tokenB = doc3[4]\n",
        "print(tokenB)\n",
        "tokenA.similarity(tokenB)"
      ],
      "metadata": {
        "colab": {
          "base_uri": "https://localhost:8080/"
        },
        "id": "gFg0X2mKmwkF",
        "outputId": "fb459a48-b903-4b2e-d20d-555fc651d285"
      },
      "execution_count": 39,
      "outputs": [
        {
          "output_type": "stream",
          "name": "stdout",
          "text": [
            "comprimento\n",
            "cumprimento\n"
          ]
        },
        {
          "output_type": "execute_result",
          "data": {
            "text/plain": [
              "0.580434"
            ]
          },
          "metadata": {},
          "execution_count": 39
        }
      ]
    },
    {
      "cell_type": "code",
      "source": [
        "doc4 = nlp('Ele pede descrição. Ele pede discrição')\n",
        "print(doc4[0:3])\n",
        "print(doc4[4:7])\n",
        "doc4[0:3].similarity(doc4[4:7])"
      ],
      "metadata": {
        "colab": {
          "base_uri": "https://localhost:8080/"
        },
        "id": "daEj7ouynj7n",
        "outputId": "0554734f-590d-4654-eaec-8e7787a90fb2"
      },
      "execution_count": 41,
      "outputs": [
        {
          "output_type": "stream",
          "name": "stdout",
          "text": [
            "Ele pede descrição\n",
            "Ele pede discrição\n"
          ]
        },
        {
          "output_type": "execute_result",
          "data": {
            "text/plain": [
              "0.96300536"
            ]
          },
          "metadata": {},
          "execution_count": 41
        }
      ]
    },
    {
      "cell_type": "markdown",
      "source": [
        "## Searching Expressions with Matcher"
      ],
      "metadata": {
        "id": "7P74C-xFodFZ"
      }
    },
    {
      "cell_type": "code",
      "source": [
        "from spacy.matcher import Matcher"
      ],
      "metadata": {
        "id": "oeT886WMoO4Q"
      },
      "execution_count": 42,
      "outputs": []
    },
    {
      "cell_type": "code",
      "source": [
        "doc5 = nlp('Você pode ligar para (11) - 998877665 ou (21) 94255031')\n",
        "matcher = Matcher(nlp.vocab)"
      ],
      "metadata": {
        "id": "4bS-UJHapHFI"
      },
      "execution_count": 46,
      "outputs": []
    },
    {
      "cell_type": "code",
      "source": [
        "pattern = [\n",
        "    {'ORTH': '('},\n",
        "    {'SHAPE': 'dd'},\n",
        "    {'ORTH': ')'},\n",
        "    {'ORTH': '-', 'OP': '?'},\n",
        "    {'IS_DIGIT': True}\n",
        "    ]"
      ],
      "metadata": {
        "id": "-Jl7q4lVqWc4"
      },
      "execution_count": 47,
      "outputs": []
    },
    {
      "cell_type": "code",
      "source": [
        "matcher.add('Phone', [pattern])\n",
        "matches = matcher(doc5)\n",
        "print(matches)\n",
        "for id, inicio, fim in matches:\n",
        "    print(doc5[inicio:fim])"
      ],
      "metadata": {
        "colab": {
          "base_uri": "https://localhost:8080/"
        },
        "id": "v2jldjnBq7hM",
        "outputId": "d2e06832-75df-4a92-8cd2-ac4454a79ac5"
      },
      "execution_count": 49,
      "outputs": [
        {
          "output_type": "stream",
          "name": "stdout",
          "text": [
            "[(9908896510488767061, 4, 9), (9908896510488767061, 10, 14)]\n",
            "(11) - 998877665\n",
            "(21) 94255031\n"
          ]
        }
      ]
    },
    {
      "cell_type": "code",
      "source": [
        "doc6 = nlp('Estamos infectados com micro organismos. \\\n",
        "MICROORGANISMOS são perigosos. Não enxergamos \\\n",
        "micro-organismos')\n",
        "matcher = Matcher(nlp.vocab)"
      ],
      "metadata": {
        "id": "inX-d_uhrlSV"
      },
      "execution_count": 50,
      "outputs": []
    },
    {
      "cell_type": "code",
      "source": [
        "pattern1 = [{'LOWER': 'micro-organismos'}]\n",
        "pattern2 = [{'LOWER': 'microorganismos'}]\n",
        "pattern3 = [{'LOWER': 'micro'}, {'LOWER': 'organismos'}]"
      ],
      "metadata": {
        "id": "sPh4EEVhsXxQ"
      },
      "execution_count": 51,
      "outputs": []
    },
    {
      "cell_type": "code",
      "source": [
        "matcher.add('Pattern', [pattern1, pattern2, pattern3])\n",
        "matches = matcher(doc6)\n",
        "print(matches)\n",
        "for id, inicio, fim in matches:\n",
        "    print(doc6[inicio:fim])"
      ],
      "metadata": {
        "colab": {
          "base_uri": "https://localhost:8080/"
        },
        "id": "1WElocbts98e",
        "outputId": "ee8ef64d-fdcf-48fe-b3a6-d1e4e40f06a0"
      },
      "execution_count": 52,
      "outputs": [
        {
          "output_type": "stream",
          "name": "stdout",
          "text": [
            "[(2474596767086405709, 3, 5), (2474596767086405709, 6, 7), (2474596767086405709, 12, 13)]\n",
            "micro organismos\n",
            "MICROORGANISMOS\n",
            "micro-organismos\n"
          ]
        }
      ]
    },
    {
      "cell_type": "markdown",
      "source": [
        "## Displacy"
      ],
      "metadata": {
        "id": "oWtu3C-ctaA6"
      }
    },
    {
      "cell_type": "code",
      "source": [
        "from spacy import displacy"
      ],
      "metadata": {
        "id": "bNCZnAD8tLor"
      },
      "execution_count": 53,
      "outputs": []
    },
    {
      "cell_type": "code",
      "source": [
        "doc.user_data['title'] = 'Named Entities'\n",
        "displacy.render(doc, style='ent', jupyter=True)"
      ],
      "metadata": {
        "colab": {
          "base_uri": "https://localhost:8080/",
          "height": 78
        },
        "id": "2O4VaxTZt1s1",
        "outputId": "b8b74c24-89b8-4809-d6af-b3f1651212af"
      },
      "execution_count": 63,
      "outputs": [
        {
          "output_type": "display_data",
          "data": {
            "text/plain": [
              "<IPython.core.display.HTML object>"
            ],
            "text/html": [
              "<span class=\"tex2jax_ignore\"><h2 style=\"margin: 0\">Named Entities</h2>\n",
              "\n",
              "<div class=\"entities\" style=\"line-height: 2.5; direction: ltr\">As ações do \n",
              "<mark class=\"entity\" style=\"background: #7aecec; padding: 0.45em 0.6em; margin: 0 0.25em; line-height: 1; border-radius: 0.35em;\">\n",
              "    Magazine Luiza S.A.\n",
              "    <span style=\"font-size: 0.8em; font-weight: bold; line-height: 1; border-radius: 0.35em; vertical-align: middle; margin-left: 0.5rem\">ORG</span>\n",
              "</mark>\n",
              ", \n",
              "<mark class=\"entity\" style=\"background: #ff9561; padding: 0.45em 0.6em; margin: 0 0.25em; line-height: 1; border-radius: 0.35em;\">\n",
              "    Franca\n",
              "    <span style=\"font-size: 0.8em; font-weight: bold; line-height: 1; border-radius: 0.35em; vertical-align: middle; margin-left: 0.5rem\">LOC</span>\n",
              "</mark>\n",
              ", \n",
              "<mark class=\"entity\" style=\"background: #ff9561; padding: 0.45em 0.6em; margin: 0 0.25em; line-height: 1; border-radius: 0.35em;\">\n",
              "    Brasil\n",
              "    <span style=\"font-size: 0.8em; font-weight: bold; line-height: 1; border-radius: 0.35em; vertical-align: middle; margin-left: 0.5rem\">LOC</span>\n",
              "</mark>\n",
              ", acumularam baixa de 70% ao ano. Assim já devolveram todos os ganhos do período da pandemia.</div></span>"
            ]
          },
          "metadata": {}
        }
      ]
    },
    {
      "cell_type": "code",
      "source": [
        "displacy.render(doc, style='dep', jupyter=True, \n",
        "                options={'compact': False, 'distance': 150,\n",
        "                         'color': '#00ff00', 'bg': '#000000',\n",
        "                         'font': 'Consolas'})"
      ],
      "metadata": {
        "colab": {
          "base_uri": "https://localhost:8080/",
          "height": 628
        },
        "id": "omdB2QYFuEV9",
        "outputId": "16a198ae-6d7c-462b-fb42-97b92c97e487"
      },
      "execution_count": 64,
      "outputs": [
        {
          "output_type": "display_data",
          "data": {
            "text/plain": [
              "<IPython.core.display.HTML object>"
            ],
            "text/html": [
              "<span class=\"tex2jax_ignore\"><svg xmlns=\"http://www.w3.org/2000/svg\" xmlns:xlink=\"http://www.w3.org/1999/xlink\" xml:lang=\"pt\" id=\"ddb80de96e9f49dbbbcdebcb9f3a1f21-0\" class=\"displacy\" width=\"3650\" height=\"587.0\" direction=\"ltr\" style=\"max-width: none; height: 587.0px; color: #00ff00; background: #000000; font-family: Consolas; direction: ltr\">\n",
              "<text class=\"displacy-token\" fill=\"currentColor\" text-anchor=\"middle\" y=\"497.0\">\n",
              "    <tspan class=\"displacy-word\" fill=\"currentColor\" x=\"50\">As</tspan>\n",
              "    <tspan class=\"displacy-tag\" dy=\"2em\" fill=\"currentColor\" x=\"50\">DET</tspan>\n",
              "</text>\n",
              "\n",
              "<text class=\"displacy-token\" fill=\"currentColor\" text-anchor=\"middle\" y=\"497.0\">\n",
              "    <tspan class=\"displacy-word\" fill=\"currentColor\" x=\"200\">ações</tspan>\n",
              "    <tspan class=\"displacy-tag\" dy=\"2em\" fill=\"currentColor\" x=\"200\">NOUN</tspan>\n",
              "</text>\n",
              "\n",
              "<text class=\"displacy-token\" fill=\"currentColor\" text-anchor=\"middle\" y=\"497.0\">\n",
              "    <tspan class=\"displacy-word\" fill=\"currentColor\" x=\"350\">do</tspan>\n",
              "    <tspan class=\"displacy-tag\" dy=\"2em\" fill=\"currentColor\" x=\"350\">ADP</tspan>\n",
              "</text>\n",
              "\n",
              "<text class=\"displacy-token\" fill=\"currentColor\" text-anchor=\"middle\" y=\"497.0\">\n",
              "    <tspan class=\"displacy-word\" fill=\"currentColor\" x=\"500\">Magazine</tspan>\n",
              "    <tspan class=\"displacy-tag\" dy=\"2em\" fill=\"currentColor\" x=\"500\">PROPN</tspan>\n",
              "</text>\n",
              "\n",
              "<text class=\"displacy-token\" fill=\"currentColor\" text-anchor=\"middle\" y=\"497.0\">\n",
              "    <tspan class=\"displacy-word\" fill=\"currentColor\" x=\"650\">Luiza</tspan>\n",
              "    <tspan class=\"displacy-tag\" dy=\"2em\" fill=\"currentColor\" x=\"650\">PROPN</tspan>\n",
              "</text>\n",
              "\n",
              "<text class=\"displacy-token\" fill=\"currentColor\" text-anchor=\"middle\" y=\"497.0\">\n",
              "    <tspan class=\"displacy-word\" fill=\"currentColor\" x=\"800\">S.A.,</tspan>\n",
              "    <tspan class=\"displacy-tag\" dy=\"2em\" fill=\"currentColor\" x=\"800\">PROPN</tspan>\n",
              "</text>\n",
              "\n",
              "<text class=\"displacy-token\" fill=\"currentColor\" text-anchor=\"middle\" y=\"497.0\">\n",
              "    <tspan class=\"displacy-word\" fill=\"currentColor\" x=\"950\">Franca,</tspan>\n",
              "    <tspan class=\"displacy-tag\" dy=\"2em\" fill=\"currentColor\" x=\"950\">PROPN</tspan>\n",
              "</text>\n",
              "\n",
              "<text class=\"displacy-token\" fill=\"currentColor\" text-anchor=\"middle\" y=\"497.0\">\n",
              "    <tspan class=\"displacy-word\" fill=\"currentColor\" x=\"1100\">Brasil,</tspan>\n",
              "    <tspan class=\"displacy-tag\" dy=\"2em\" fill=\"currentColor\" x=\"1100\">PROPN</tspan>\n",
              "</text>\n",
              "\n",
              "<text class=\"displacy-token\" fill=\"currentColor\" text-anchor=\"middle\" y=\"497.0\">\n",
              "    <tspan class=\"displacy-word\" fill=\"currentColor\" x=\"1250\">acumularam</tspan>\n",
              "    <tspan class=\"displacy-tag\" dy=\"2em\" fill=\"currentColor\" x=\"1250\">VERB</tspan>\n",
              "</text>\n",
              "\n",
              "<text class=\"displacy-token\" fill=\"currentColor\" text-anchor=\"middle\" y=\"497.0\">\n",
              "    <tspan class=\"displacy-word\" fill=\"currentColor\" x=\"1400\">baixa</tspan>\n",
              "    <tspan class=\"displacy-tag\" dy=\"2em\" fill=\"currentColor\" x=\"1400\">NOUN</tspan>\n",
              "</text>\n",
              "\n",
              "<text class=\"displacy-token\" fill=\"currentColor\" text-anchor=\"middle\" y=\"497.0\">\n",
              "    <tspan class=\"displacy-word\" fill=\"currentColor\" x=\"1550\">de</tspan>\n",
              "    <tspan class=\"displacy-tag\" dy=\"2em\" fill=\"currentColor\" x=\"1550\">ADP</tspan>\n",
              "</text>\n",
              "\n",
              "<text class=\"displacy-token\" fill=\"currentColor\" text-anchor=\"middle\" y=\"497.0\">\n",
              "    <tspan class=\"displacy-word\" fill=\"currentColor\" x=\"1700\">70%</tspan>\n",
              "    <tspan class=\"displacy-tag\" dy=\"2em\" fill=\"currentColor\" x=\"1700\">SYM</tspan>\n",
              "</text>\n",
              "\n",
              "<text class=\"displacy-token\" fill=\"currentColor\" text-anchor=\"middle\" y=\"497.0\">\n",
              "    <tspan class=\"displacy-word\" fill=\"currentColor\" x=\"1850\">ao</tspan>\n",
              "    <tspan class=\"displacy-tag\" dy=\"2em\" fill=\"currentColor\" x=\"1850\">ADP</tspan>\n",
              "</text>\n",
              "\n",
              "<text class=\"displacy-token\" fill=\"currentColor\" text-anchor=\"middle\" y=\"497.0\">\n",
              "    <tspan class=\"displacy-word\" fill=\"currentColor\" x=\"2000\">ano.</tspan>\n",
              "    <tspan class=\"displacy-tag\" dy=\"2em\" fill=\"currentColor\" x=\"2000\">NOUN</tspan>\n",
              "</text>\n",
              "\n",
              "<text class=\"displacy-token\" fill=\"currentColor\" text-anchor=\"middle\" y=\"497.0\">\n",
              "    <tspan class=\"displacy-word\" fill=\"currentColor\" x=\"2150\">Assim</tspan>\n",
              "    <tspan class=\"displacy-tag\" dy=\"2em\" fill=\"currentColor\" x=\"2150\">ADV</tspan>\n",
              "</text>\n",
              "\n",
              "<text class=\"displacy-token\" fill=\"currentColor\" text-anchor=\"middle\" y=\"497.0\">\n",
              "    <tspan class=\"displacy-word\" fill=\"currentColor\" x=\"2300\">já</tspan>\n",
              "    <tspan class=\"displacy-tag\" dy=\"2em\" fill=\"currentColor\" x=\"2300\">ADV</tspan>\n",
              "</text>\n",
              "\n",
              "<text class=\"displacy-token\" fill=\"currentColor\" text-anchor=\"middle\" y=\"497.0\">\n",
              "    <tspan class=\"displacy-word\" fill=\"currentColor\" x=\"2450\">devolveram</tspan>\n",
              "    <tspan class=\"displacy-tag\" dy=\"2em\" fill=\"currentColor\" x=\"2450\">VERB</tspan>\n",
              "</text>\n",
              "\n",
              "<text class=\"displacy-token\" fill=\"currentColor\" text-anchor=\"middle\" y=\"497.0\">\n",
              "    <tspan class=\"displacy-word\" fill=\"currentColor\" x=\"2600\">todos</tspan>\n",
              "    <tspan class=\"displacy-tag\" dy=\"2em\" fill=\"currentColor\" x=\"2600\">DET</tspan>\n",
              "</text>\n",
              "\n",
              "<text class=\"displacy-token\" fill=\"currentColor\" text-anchor=\"middle\" y=\"497.0\">\n",
              "    <tspan class=\"displacy-word\" fill=\"currentColor\" x=\"2750\">os</tspan>\n",
              "    <tspan class=\"displacy-tag\" dy=\"2em\" fill=\"currentColor\" x=\"2750\">DET</tspan>\n",
              "</text>\n",
              "\n",
              "<text class=\"displacy-token\" fill=\"currentColor\" text-anchor=\"middle\" y=\"497.0\">\n",
              "    <tspan class=\"displacy-word\" fill=\"currentColor\" x=\"2900\">ganhos</tspan>\n",
              "    <tspan class=\"displacy-tag\" dy=\"2em\" fill=\"currentColor\" x=\"2900\">NOUN</tspan>\n",
              "</text>\n",
              "\n",
              "<text class=\"displacy-token\" fill=\"currentColor\" text-anchor=\"middle\" y=\"497.0\">\n",
              "    <tspan class=\"displacy-word\" fill=\"currentColor\" x=\"3050\">do</tspan>\n",
              "    <tspan class=\"displacy-tag\" dy=\"2em\" fill=\"currentColor\" x=\"3050\">ADP</tspan>\n",
              "</text>\n",
              "\n",
              "<text class=\"displacy-token\" fill=\"currentColor\" text-anchor=\"middle\" y=\"497.0\">\n",
              "    <tspan class=\"displacy-word\" fill=\"currentColor\" x=\"3200\">período</tspan>\n",
              "    <tspan class=\"displacy-tag\" dy=\"2em\" fill=\"currentColor\" x=\"3200\">NOUN</tspan>\n",
              "</text>\n",
              "\n",
              "<text class=\"displacy-token\" fill=\"currentColor\" text-anchor=\"middle\" y=\"497.0\">\n",
              "    <tspan class=\"displacy-word\" fill=\"currentColor\" x=\"3350\">da</tspan>\n",
              "    <tspan class=\"displacy-tag\" dy=\"2em\" fill=\"currentColor\" x=\"3350\">ADP</tspan>\n",
              "</text>\n",
              "\n",
              "<text class=\"displacy-token\" fill=\"currentColor\" text-anchor=\"middle\" y=\"497.0\">\n",
              "    <tspan class=\"displacy-word\" fill=\"currentColor\" x=\"3500\">pandemia.</tspan>\n",
              "    <tspan class=\"displacy-tag\" dy=\"2em\" fill=\"currentColor\" x=\"3500\">NOUN</tspan>\n",
              "</text>\n",
              "\n",
              "<g class=\"displacy-arrow\">\n",
              "    <path class=\"displacy-arc\" id=\"arrow-ddb80de96e9f49dbbbcdebcb9f3a1f21-0-0\" stroke-width=\"2px\" d=\"M70,452.0 C70,377.0 175.0,377.0 175.0,452.0\" fill=\"none\" stroke=\"currentColor\"/>\n",
              "    <text dy=\"1.25em\" style=\"font-size: 0.8em; letter-spacing: 1px\">\n",
              "        <textPath xlink:href=\"#arrow-ddb80de96e9f49dbbbcdebcb9f3a1f21-0-0\" class=\"displacy-label\" startOffset=\"50%\" side=\"left\" fill=\"currentColor\" text-anchor=\"middle\">det</textPath>\n",
              "    </text>\n",
              "    <path class=\"displacy-arrowhead\" d=\"M70,454.0 L62,442.0 78,442.0\" fill=\"currentColor\"/>\n",
              "</g>\n",
              "\n",
              "<g class=\"displacy-arrow\">\n",
              "    <path class=\"displacy-arc\" id=\"arrow-ddb80de96e9f49dbbbcdebcb9f3a1f21-0-1\" stroke-width=\"2px\" d=\"M220,452.0 C220,2.0 1250.0,2.0 1250.0,452.0\" fill=\"none\" stroke=\"currentColor\"/>\n",
              "    <text dy=\"1.25em\" style=\"font-size: 0.8em; letter-spacing: 1px\">\n",
              "        <textPath xlink:href=\"#arrow-ddb80de96e9f49dbbbcdebcb9f3a1f21-0-1\" class=\"displacy-label\" startOffset=\"50%\" side=\"left\" fill=\"currentColor\" text-anchor=\"middle\">nsubj</textPath>\n",
              "    </text>\n",
              "    <path class=\"displacy-arrowhead\" d=\"M220,454.0 L212,442.0 228,442.0\" fill=\"currentColor\"/>\n",
              "</g>\n",
              "\n",
              "<g class=\"displacy-arrow\">\n",
              "    <path class=\"displacy-arc\" id=\"arrow-ddb80de96e9f49dbbbcdebcb9f3a1f21-0-2\" stroke-width=\"2px\" d=\"M370,452.0 C370,377.0 475.0,377.0 475.0,452.0\" fill=\"none\" stroke=\"currentColor\"/>\n",
              "    <text dy=\"1.25em\" style=\"font-size: 0.8em; letter-spacing: 1px\">\n",
              "        <textPath xlink:href=\"#arrow-ddb80de96e9f49dbbbcdebcb9f3a1f21-0-2\" class=\"displacy-label\" startOffset=\"50%\" side=\"left\" fill=\"currentColor\" text-anchor=\"middle\">case</textPath>\n",
              "    </text>\n",
              "    <path class=\"displacy-arrowhead\" d=\"M370,454.0 L362,442.0 378,442.0\" fill=\"currentColor\"/>\n",
              "</g>\n",
              "\n",
              "<g class=\"displacy-arrow\">\n",
              "    <path class=\"displacy-arc\" id=\"arrow-ddb80de96e9f49dbbbcdebcb9f3a1f21-0-3\" stroke-width=\"2px\" d=\"M220,452.0 C220,302.0 480.0,302.0 480.0,452.0\" fill=\"none\" stroke=\"currentColor\"/>\n",
              "    <text dy=\"1.25em\" style=\"font-size: 0.8em; letter-spacing: 1px\">\n",
              "        <textPath xlink:href=\"#arrow-ddb80de96e9f49dbbbcdebcb9f3a1f21-0-3\" class=\"displacy-label\" startOffset=\"50%\" side=\"left\" fill=\"currentColor\" text-anchor=\"middle\">nmod</textPath>\n",
              "    </text>\n",
              "    <path class=\"displacy-arrowhead\" d=\"M480.0,454.0 L488.0,442.0 472.0,442.0\" fill=\"currentColor\"/>\n",
              "</g>\n",
              "\n",
              "<g class=\"displacy-arrow\">\n",
              "    <path class=\"displacy-arc\" id=\"arrow-ddb80de96e9f49dbbbcdebcb9f3a1f21-0-4\" stroke-width=\"2px\" d=\"M520,452.0 C520,377.0 625.0,377.0 625.0,452.0\" fill=\"none\" stroke=\"currentColor\"/>\n",
              "    <text dy=\"1.25em\" style=\"font-size: 0.8em; letter-spacing: 1px\">\n",
              "        <textPath xlink:href=\"#arrow-ddb80de96e9f49dbbbcdebcb9f3a1f21-0-4\" class=\"displacy-label\" startOffset=\"50%\" side=\"left\" fill=\"currentColor\" text-anchor=\"middle\">appos</textPath>\n",
              "    </text>\n",
              "    <path class=\"displacy-arrowhead\" d=\"M625.0,454.0 L633.0,442.0 617.0,442.0\" fill=\"currentColor\"/>\n",
              "</g>\n",
              "\n",
              "<g class=\"displacy-arrow\">\n",
              "    <path class=\"displacy-arc\" id=\"arrow-ddb80de96e9f49dbbbcdebcb9f3a1f21-0-5\" stroke-width=\"2px\" d=\"M670,452.0 C670,377.0 775.0,377.0 775.0,452.0\" fill=\"none\" stroke=\"currentColor\"/>\n",
              "    <text dy=\"1.25em\" style=\"font-size: 0.8em; letter-spacing: 1px\">\n",
              "        <textPath xlink:href=\"#arrow-ddb80de96e9f49dbbbcdebcb9f3a1f21-0-5\" class=\"displacy-label\" startOffset=\"50%\" side=\"left\" fill=\"currentColor\" text-anchor=\"middle\">flat:name</textPath>\n",
              "    </text>\n",
              "    <path class=\"displacy-arrowhead\" d=\"M775.0,454.0 L783.0,442.0 767.0,442.0\" fill=\"currentColor\"/>\n",
              "</g>\n",
              "\n",
              "<g class=\"displacy-arrow\">\n",
              "    <path class=\"displacy-arc\" id=\"arrow-ddb80de96e9f49dbbbcdebcb9f3a1f21-0-6\" stroke-width=\"2px\" d=\"M520,452.0 C520,227.0 935.0,227.0 935.0,452.0\" fill=\"none\" stroke=\"currentColor\"/>\n",
              "    <text dy=\"1.25em\" style=\"font-size: 0.8em; letter-spacing: 1px\">\n",
              "        <textPath xlink:href=\"#arrow-ddb80de96e9f49dbbbcdebcb9f3a1f21-0-6\" class=\"displacy-label\" startOffset=\"50%\" side=\"left\" fill=\"currentColor\" text-anchor=\"middle\">conj</textPath>\n",
              "    </text>\n",
              "    <path class=\"displacy-arrowhead\" d=\"M935.0,454.0 L943.0,442.0 927.0,442.0\" fill=\"currentColor\"/>\n",
              "</g>\n",
              "\n",
              "<g class=\"displacy-arrow\">\n",
              "    <path class=\"displacy-arc\" id=\"arrow-ddb80de96e9f49dbbbcdebcb9f3a1f21-0-7\" stroke-width=\"2px\" d=\"M520,452.0 C520,152.0 1090.0,152.0 1090.0,452.0\" fill=\"none\" stroke=\"currentColor\"/>\n",
              "    <text dy=\"1.25em\" style=\"font-size: 0.8em; letter-spacing: 1px\">\n",
              "        <textPath xlink:href=\"#arrow-ddb80de96e9f49dbbbcdebcb9f3a1f21-0-7\" class=\"displacy-label\" startOffset=\"50%\" side=\"left\" fill=\"currentColor\" text-anchor=\"middle\">conj</textPath>\n",
              "    </text>\n",
              "    <path class=\"displacy-arrowhead\" d=\"M1090.0,454.0 L1098.0,442.0 1082.0,442.0\" fill=\"currentColor\"/>\n",
              "</g>\n",
              "\n",
              "<g class=\"displacy-arrow\">\n",
              "    <path class=\"displacy-arc\" id=\"arrow-ddb80de96e9f49dbbbcdebcb9f3a1f21-0-8\" stroke-width=\"2px\" d=\"M1270,452.0 C1270,377.0 1375.0,377.0 1375.0,452.0\" fill=\"none\" stroke=\"currentColor\"/>\n",
              "    <text dy=\"1.25em\" style=\"font-size: 0.8em; letter-spacing: 1px\">\n",
              "        <textPath xlink:href=\"#arrow-ddb80de96e9f49dbbbcdebcb9f3a1f21-0-8\" class=\"displacy-label\" startOffset=\"50%\" side=\"left\" fill=\"currentColor\" text-anchor=\"middle\">obj</textPath>\n",
              "    </text>\n",
              "    <path class=\"displacy-arrowhead\" d=\"M1375.0,454.0 L1383.0,442.0 1367.0,442.0\" fill=\"currentColor\"/>\n",
              "</g>\n",
              "\n",
              "<g class=\"displacy-arrow\">\n",
              "    <path class=\"displacy-arc\" id=\"arrow-ddb80de96e9f49dbbbcdebcb9f3a1f21-0-9\" stroke-width=\"2px\" d=\"M1570,452.0 C1570,377.0 1675.0,377.0 1675.0,452.0\" fill=\"none\" stroke=\"currentColor\"/>\n",
              "    <text dy=\"1.25em\" style=\"font-size: 0.8em; letter-spacing: 1px\">\n",
              "        <textPath xlink:href=\"#arrow-ddb80de96e9f49dbbbcdebcb9f3a1f21-0-9\" class=\"displacy-label\" startOffset=\"50%\" side=\"left\" fill=\"currentColor\" text-anchor=\"middle\">case</textPath>\n",
              "    </text>\n",
              "    <path class=\"displacy-arrowhead\" d=\"M1570,454.0 L1562,442.0 1578,442.0\" fill=\"currentColor\"/>\n",
              "</g>\n",
              "\n",
              "<g class=\"displacy-arrow\">\n",
              "    <path class=\"displacy-arc\" id=\"arrow-ddb80de96e9f49dbbbcdebcb9f3a1f21-0-10\" stroke-width=\"2px\" d=\"M1420,452.0 C1420,302.0 1680.0,302.0 1680.0,452.0\" fill=\"none\" stroke=\"currentColor\"/>\n",
              "    <text dy=\"1.25em\" style=\"font-size: 0.8em; letter-spacing: 1px\">\n",
              "        <textPath xlink:href=\"#arrow-ddb80de96e9f49dbbbcdebcb9f3a1f21-0-10\" class=\"displacy-label\" startOffset=\"50%\" side=\"left\" fill=\"currentColor\" text-anchor=\"middle\">nmod</textPath>\n",
              "    </text>\n",
              "    <path class=\"displacy-arrowhead\" d=\"M1680.0,454.0 L1688.0,442.0 1672.0,442.0\" fill=\"currentColor\"/>\n",
              "</g>\n",
              "\n",
              "<g class=\"displacy-arrow\">\n",
              "    <path class=\"displacy-arc\" id=\"arrow-ddb80de96e9f49dbbbcdebcb9f3a1f21-0-11\" stroke-width=\"2px\" d=\"M1870,452.0 C1870,377.0 1975.0,377.0 1975.0,452.0\" fill=\"none\" stroke=\"currentColor\"/>\n",
              "    <text dy=\"1.25em\" style=\"font-size: 0.8em; letter-spacing: 1px\">\n",
              "        <textPath xlink:href=\"#arrow-ddb80de96e9f49dbbbcdebcb9f3a1f21-0-11\" class=\"displacy-label\" startOffset=\"50%\" side=\"left\" fill=\"currentColor\" text-anchor=\"middle\">case</textPath>\n",
              "    </text>\n",
              "    <path class=\"displacy-arrowhead\" d=\"M1870,454.0 L1862,442.0 1878,442.0\" fill=\"currentColor\"/>\n",
              "</g>\n",
              "\n",
              "<g class=\"displacy-arrow\">\n",
              "    <path class=\"displacy-arc\" id=\"arrow-ddb80de96e9f49dbbbcdebcb9f3a1f21-0-12\" stroke-width=\"2px\" d=\"M1270,452.0 C1270,77.0 1995.0,77.0 1995.0,452.0\" fill=\"none\" stroke=\"currentColor\"/>\n",
              "    <text dy=\"1.25em\" style=\"font-size: 0.8em; letter-spacing: 1px\">\n",
              "        <textPath xlink:href=\"#arrow-ddb80de96e9f49dbbbcdebcb9f3a1f21-0-12\" class=\"displacy-label\" startOffset=\"50%\" side=\"left\" fill=\"currentColor\" text-anchor=\"middle\">obl</textPath>\n",
              "    </text>\n",
              "    <path class=\"displacy-arrowhead\" d=\"M1995.0,454.0 L2003.0,442.0 1987.0,442.0\" fill=\"currentColor\"/>\n",
              "</g>\n",
              "\n",
              "<g class=\"displacy-arrow\">\n",
              "    <path class=\"displacy-arc\" id=\"arrow-ddb80de96e9f49dbbbcdebcb9f3a1f21-0-13\" stroke-width=\"2px\" d=\"M2170,452.0 C2170,302.0 2430.0,302.0 2430.0,452.0\" fill=\"none\" stroke=\"currentColor\"/>\n",
              "    <text dy=\"1.25em\" style=\"font-size: 0.8em; letter-spacing: 1px\">\n",
              "        <textPath xlink:href=\"#arrow-ddb80de96e9f49dbbbcdebcb9f3a1f21-0-13\" class=\"displacy-label\" startOffset=\"50%\" side=\"left\" fill=\"currentColor\" text-anchor=\"middle\">advmod</textPath>\n",
              "    </text>\n",
              "    <path class=\"displacy-arrowhead\" d=\"M2170,454.0 L2162,442.0 2178,442.0\" fill=\"currentColor\"/>\n",
              "</g>\n",
              "\n",
              "<g class=\"displacy-arrow\">\n",
              "    <path class=\"displacy-arc\" id=\"arrow-ddb80de96e9f49dbbbcdebcb9f3a1f21-0-14\" stroke-width=\"2px\" d=\"M2320,452.0 C2320,377.0 2425.0,377.0 2425.0,452.0\" fill=\"none\" stroke=\"currentColor\"/>\n",
              "    <text dy=\"1.25em\" style=\"font-size: 0.8em; letter-spacing: 1px\">\n",
              "        <textPath xlink:href=\"#arrow-ddb80de96e9f49dbbbcdebcb9f3a1f21-0-14\" class=\"displacy-label\" startOffset=\"50%\" side=\"left\" fill=\"currentColor\" text-anchor=\"middle\">advmod</textPath>\n",
              "    </text>\n",
              "    <path class=\"displacy-arrowhead\" d=\"M2320,454.0 L2312,442.0 2328,442.0\" fill=\"currentColor\"/>\n",
              "</g>\n",
              "\n",
              "<g class=\"displacy-arrow\">\n",
              "    <path class=\"displacy-arc\" id=\"arrow-ddb80de96e9f49dbbbcdebcb9f3a1f21-0-15\" stroke-width=\"2px\" d=\"M2620,452.0 C2620,302.0 2880.0,302.0 2880.0,452.0\" fill=\"none\" stroke=\"currentColor\"/>\n",
              "    <text dy=\"1.25em\" style=\"font-size: 0.8em; letter-spacing: 1px\">\n",
              "        <textPath xlink:href=\"#arrow-ddb80de96e9f49dbbbcdebcb9f3a1f21-0-15\" class=\"displacy-label\" startOffset=\"50%\" side=\"left\" fill=\"currentColor\" text-anchor=\"middle\">det</textPath>\n",
              "    </text>\n",
              "    <path class=\"displacy-arrowhead\" d=\"M2620,454.0 L2612,442.0 2628,442.0\" fill=\"currentColor\"/>\n",
              "</g>\n",
              "\n",
              "<g class=\"displacy-arrow\">\n",
              "    <path class=\"displacy-arc\" id=\"arrow-ddb80de96e9f49dbbbcdebcb9f3a1f21-0-16\" stroke-width=\"2px\" d=\"M2770,452.0 C2770,377.0 2875.0,377.0 2875.0,452.0\" fill=\"none\" stroke=\"currentColor\"/>\n",
              "    <text dy=\"1.25em\" style=\"font-size: 0.8em; letter-spacing: 1px\">\n",
              "        <textPath xlink:href=\"#arrow-ddb80de96e9f49dbbbcdebcb9f3a1f21-0-16\" class=\"displacy-label\" startOffset=\"50%\" side=\"left\" fill=\"currentColor\" text-anchor=\"middle\">det</textPath>\n",
              "    </text>\n",
              "    <path class=\"displacy-arrowhead\" d=\"M2770,454.0 L2762,442.0 2778,442.0\" fill=\"currentColor\"/>\n",
              "</g>\n",
              "\n",
              "<g class=\"displacy-arrow\">\n",
              "    <path class=\"displacy-arc\" id=\"arrow-ddb80de96e9f49dbbbcdebcb9f3a1f21-0-17\" stroke-width=\"2px\" d=\"M2470,452.0 C2470,227.0 2885.0,227.0 2885.0,452.0\" fill=\"none\" stroke=\"currentColor\"/>\n",
              "    <text dy=\"1.25em\" style=\"font-size: 0.8em; letter-spacing: 1px\">\n",
              "        <textPath xlink:href=\"#arrow-ddb80de96e9f49dbbbcdebcb9f3a1f21-0-17\" class=\"displacy-label\" startOffset=\"50%\" side=\"left\" fill=\"currentColor\" text-anchor=\"middle\">obj</textPath>\n",
              "    </text>\n",
              "    <path class=\"displacy-arrowhead\" d=\"M2885.0,454.0 L2893.0,442.0 2877.0,442.0\" fill=\"currentColor\"/>\n",
              "</g>\n",
              "\n",
              "<g class=\"displacy-arrow\">\n",
              "    <path class=\"displacy-arc\" id=\"arrow-ddb80de96e9f49dbbbcdebcb9f3a1f21-0-18\" stroke-width=\"2px\" d=\"M3070,452.0 C3070,377.0 3175.0,377.0 3175.0,452.0\" fill=\"none\" stroke=\"currentColor\"/>\n",
              "    <text dy=\"1.25em\" style=\"font-size: 0.8em; letter-spacing: 1px\">\n",
              "        <textPath xlink:href=\"#arrow-ddb80de96e9f49dbbbcdebcb9f3a1f21-0-18\" class=\"displacy-label\" startOffset=\"50%\" side=\"left\" fill=\"currentColor\" text-anchor=\"middle\">case</textPath>\n",
              "    </text>\n",
              "    <path class=\"displacy-arrowhead\" d=\"M3070,454.0 L3062,442.0 3078,442.0\" fill=\"currentColor\"/>\n",
              "</g>\n",
              "\n",
              "<g class=\"displacy-arrow\">\n",
              "    <path class=\"displacy-arc\" id=\"arrow-ddb80de96e9f49dbbbcdebcb9f3a1f21-0-19\" stroke-width=\"2px\" d=\"M2920,452.0 C2920,302.0 3180.0,302.0 3180.0,452.0\" fill=\"none\" stroke=\"currentColor\"/>\n",
              "    <text dy=\"1.25em\" style=\"font-size: 0.8em; letter-spacing: 1px\">\n",
              "        <textPath xlink:href=\"#arrow-ddb80de96e9f49dbbbcdebcb9f3a1f21-0-19\" class=\"displacy-label\" startOffset=\"50%\" side=\"left\" fill=\"currentColor\" text-anchor=\"middle\">nmod</textPath>\n",
              "    </text>\n",
              "    <path class=\"displacy-arrowhead\" d=\"M3180.0,454.0 L3188.0,442.0 3172.0,442.0\" fill=\"currentColor\"/>\n",
              "</g>\n",
              "\n",
              "<g class=\"displacy-arrow\">\n",
              "    <path class=\"displacy-arc\" id=\"arrow-ddb80de96e9f49dbbbcdebcb9f3a1f21-0-20\" stroke-width=\"2px\" d=\"M3370,452.0 C3370,377.0 3475.0,377.0 3475.0,452.0\" fill=\"none\" stroke=\"currentColor\"/>\n",
              "    <text dy=\"1.25em\" style=\"font-size: 0.8em; letter-spacing: 1px\">\n",
              "        <textPath xlink:href=\"#arrow-ddb80de96e9f49dbbbcdebcb9f3a1f21-0-20\" class=\"displacy-label\" startOffset=\"50%\" side=\"left\" fill=\"currentColor\" text-anchor=\"middle\">case</textPath>\n",
              "    </text>\n",
              "    <path class=\"displacy-arrowhead\" d=\"M3370,454.0 L3362,442.0 3378,442.0\" fill=\"currentColor\"/>\n",
              "</g>\n",
              "\n",
              "<g class=\"displacy-arrow\">\n",
              "    <path class=\"displacy-arc\" id=\"arrow-ddb80de96e9f49dbbbcdebcb9f3a1f21-0-21\" stroke-width=\"2px\" d=\"M3220,452.0 C3220,302.0 3480.0,302.0 3480.0,452.0\" fill=\"none\" stroke=\"currentColor\"/>\n",
              "    <text dy=\"1.25em\" style=\"font-size: 0.8em; letter-spacing: 1px\">\n",
              "        <textPath xlink:href=\"#arrow-ddb80de96e9f49dbbbcdebcb9f3a1f21-0-21\" class=\"displacy-label\" startOffset=\"50%\" side=\"left\" fill=\"currentColor\" text-anchor=\"middle\">nmod</textPath>\n",
              "    </text>\n",
              "    <path class=\"displacy-arrowhead\" d=\"M3480.0,454.0 L3488.0,442.0 3472.0,442.0\" fill=\"currentColor\"/>\n",
              "</g>\n",
              "</svg></span>"
            ]
          },
          "metadata": {}
        }
      ]
    },
    {
      "cell_type": "markdown",
      "source": [
        "## Customizing Pipelines"
      ],
      "metadata": {
        "id": "wEtlhN8qvYqD"
      }
    },
    {
      "cell_type": "code",
      "source": [
        "print('Default Pipeline: ', nlp.pipe_names)"
      ],
      "metadata": {
        "colab": {
          "base_uri": "https://localhost:8080/"
        },
        "id": "b8wxG34YuM7d",
        "outputId": "1fec58de-d4c0-430c-e841-7ba16066e324"
      },
      "execution_count": 66,
      "outputs": [
        {
          "output_type": "stream",
          "name": "stdout",
          "text": [
            "Default Pipeline:  ['tok2vec', 'morphologizer', 'parser', 'attribute_ruler', 'lemmatizer', 'ner']\n"
          ]
        }
      ]
    },
    {
      "cell_type": "markdown",
      "source": [
        "- Removing a Pipeline\n",
        "\n",
        "```python\n",
        "nlp.remove_pipe('tok2vec')\n",
        "```\n",
        "- Adding a Pipeline\n",
        "\n",
        "```python\n",
        "nlp.add_pipe('tok2vec')\n",
        "```\n",
        "\n"
      ],
      "metadata": {
        "id": "_ksPw3NZwlPw"
      }
    }
  ]
}