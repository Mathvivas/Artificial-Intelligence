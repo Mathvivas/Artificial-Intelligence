{
  "nbformat": 4,
  "nbformat_minor": 0,
  "metadata": {
    "colab": {
      "provenance": [],
      "authorship_tag": "ABX9TyOpTIhyRVrYOWaJkN2LwAli"
    },
    "kernelspec": {
      "name": "python3",
      "display_name": "Python 3"
    },
    "language_info": {
      "name": "python"
    }
  },
  "cells": [
    {
      "cell_type": "markdown",
      "source": [
        "- Book: Modern Computer Vision with PyTorch (by V Kishore Ayyadevara)"
      ],
      "metadata": {
        "id": "ziqHxSpWzwXU"
      }
    },
    {
      "cell_type": "code",
      "execution_count": 1,
      "metadata": {
        "id": "I_aR8nmHzrpq"
      },
      "outputs": [],
      "source": [
        "import torch\n",
        "import numpy as np"
      ]
    },
    {
      "cell_type": "code",
      "source": [
        "x = torch.tensor([[1, 2]])\n",
        "y = torch.tensor([[1], [2]])"
      ],
      "metadata": {
        "id": "eFBJj8k00UTc"
      },
      "execution_count": 2,
      "outputs": []
    },
    {
      "cell_type": "code",
      "source": [
        "print(x.shape) # One entity of two items\n",
        "print(y.shape) # Two entities of one item each\n",
        "print(x.dtype)"
      ],
      "metadata": {
        "colab": {
          "base_uri": "https://localhost:8080/"
        },
        "id": "JXNkxujl0l__",
        "outputId": "c2207387-aee6-4799-d992-2c0c29053bff"
      },
      "execution_count": 3,
      "outputs": [
        {
          "output_type": "stream",
          "name": "stdout",
          "text": [
            "torch.Size([1, 2])\n",
            "torch.Size([2, 1])\n",
            "torch.int64\n"
          ]
        }
      ]
    },
    {
      "cell_type": "code",
      "source": [
        "# The entire tensor is coerced to the most generic data type\n",
        "# Boolean and integer will be converted to float\n",
        "z = torch.tensor([False, 1, 2.0])\n",
        "z"
      ],
      "metadata": {
        "colab": {
          "base_uri": "https://localhost:8080/"
        },
        "id": "puuuOj1T0smt",
        "outputId": "0e2ec03a-a73e-4128-e85f-1741df0e5653"
      },
      "execution_count": 4,
      "outputs": [
        {
          "output_type": "execute_result",
          "data": {
            "text/plain": [
              "tensor([0., 1., 2.])"
            ]
          },
          "metadata": {},
          "execution_count": 4
        }
      ]
    },
    {
      "cell_type": "code",
      "source": [
        "# Generate three rows and four columns of values between 0 and 10 \n",
        "# (including the low value but not including the high value):\n",
        "torch.randint(low = 0, high = 10, size=(3, 4))"
      ],
      "metadata": {
        "colab": {
          "base_uri": "https://localhost:8080/"
        },
        "id": "ufK0_0j129Hi",
        "outputId": "84c5289d-ff7b-4373-ec33-7e65b8939fd1"
      },
      "execution_count": 5,
      "outputs": [
        {
          "output_type": "execute_result",
          "data": {
            "text/plain": [
              "tensor([[6, 6, 5, 4],\n",
              "        [4, 8, 7, 4],\n",
              "        [5, 2, 3, 9]])"
            ]
          },
          "metadata": {},
          "execution_count": 5
        }
      ]
    },
    {
      "cell_type": "code",
      "source": [
        "# Generate random numbers between 0 and 1 with three rows and four columns:\n",
        "torch.rand(3, 4)"
      ],
      "metadata": {
        "colab": {
          "base_uri": "https://localhost:8080/"
        },
        "id": "rbKcokhD4iXW",
        "outputId": "dbfc02dd-7154-4bd5-c989-7819c59e8940"
      },
      "execution_count": 6,
      "outputs": [
        {
          "output_type": "execute_result",
          "data": {
            "text/plain": [
              "tensor([[0.9849, 0.3347, 0.0359, 0.9507],\n",
              "        [0.5953, 0.9354, 0.9886, 0.0706],\n",
              "        [0.2765, 0.7761, 0.6845, 0.7257]])"
            ]
          },
          "metadata": {},
          "execution_count": 6
        }
      ]
    },
    {
      "cell_type": "code",
      "source": [
        "# Generate numbers that follow a normal distribution with three rows \n",
        "# and four columns:\n",
        "torch.randn((3, 4))"
      ],
      "metadata": {
        "colab": {
          "base_uri": "https://localhost:8080/"
        },
        "id": "UNpfHT_O4vNt",
        "outputId": "2ecca55d-42e5-48ab-8a59-df5495992626"
      },
      "execution_count": 7,
      "outputs": [
        {
          "output_type": "execute_result",
          "data": {
            "text/plain": [
              "tensor([[-1.0306,  0.5267, -0.4937, -0.3433],\n",
              "        [ 1.5461, -1.8359, -0.6820, -1.2371],\n",
              "        [-0.0892,  0.0720,  1.1049, -0.8068]])"
            ]
          },
          "metadata": {},
          "execution_count": 7
        }
      ]
    },
    {
      "cell_type": "code",
      "source": [
        "# Converting a NumPy array into a Torch Tensor\n",
        "w = np.array([[10, 20, 30], [2, 3, 4]])\n",
        "t = torch.tensor(w)\n",
        "print(type(w), type(t))"
      ],
      "metadata": {
        "colab": {
          "base_uri": "https://localhost:8080/"
        },
        "id": "0uZQnCSN40wD",
        "outputId": "893f152d-75d6-48ac-d931-f6445cf22257"
      },
      "execution_count": 8,
      "outputs": [
        {
          "output_type": "stream",
          "name": "stdout",
          "text": [
            "<class 'numpy.ndarray'> <class 'torch.Tensor'>\n"
          ]
        }
      ]
    },
    {
      "cell_type": "code",
      "source": [
        "print(t * 10)\n",
        "print(t.add(10))"
      ],
      "metadata": {
        "id": "6wTAK6G75hTA",
        "colab": {
          "base_uri": "https://localhost:8080/"
        },
        "outputId": "63693f0b-b382-4915-8c6a-8abee167f5f8"
      },
      "execution_count": 9,
      "outputs": [
        {
          "output_type": "stream",
          "name": "stdout",
          "text": [
            "tensor([[100, 200, 300],\n",
            "        [ 20,  30,  40]])\n",
            "tensor([[20, 30, 40],\n",
            "        [12, 13, 14]])\n"
          ]
        }
      ]
    },
    {
      "cell_type": "code",
      "source": [
        "a = torch.tensor([2, 3, 1, 0])\n",
        "print(a.view(4, 1))\n",
        "print(a.view(2, 2))"
      ],
      "metadata": {
        "colab": {
          "base_uri": "https://localhost:8080/"
        },
        "id": "wKG9zpvuj3P9",
        "outputId": "1b505dd9-3b5b-49da-fd47-986074116f40"
      },
      "execution_count": 10,
      "outputs": [
        {
          "output_type": "stream",
          "name": "stdout",
          "text": [
            "tensor([[2],\n",
            "        [3],\n",
            "        [1],\n",
            "        [0]])\n",
            "tensor([[2, 3],\n",
            "        [1, 0]])\n"
          ]
        }
      ]
    },
    {
      "cell_type": "code",
      "source": [
        "b = torch.randn(10, 1, 10)\n",
        "b"
      ],
      "metadata": {
        "colab": {
          "base_uri": "https://localhost:8080/"
        },
        "id": "CKhC9T9Xl01J",
        "outputId": "aa149b1c-9031-414e-ce02-15c4fe2ddc0e"
      },
      "execution_count": 11,
      "outputs": [
        {
          "output_type": "execute_result",
          "data": {
            "text/plain": [
              "tensor([[[ 0.3001,  0.3935,  0.3426,  0.5858, -0.8186, -0.5725,  1.2204,\n",
              "          -1.2701,  1.1452, -1.0914]],\n",
              "\n",
              "        [[ 1.3420,  1.6341,  1.9246,  0.1690,  1.1529,  0.7251, -0.3221,\n",
              "          -0.0148, -1.2967,  0.7628]],\n",
              "\n",
              "        [[-0.1560, -0.4068,  0.2309,  0.6819, -1.6082,  0.0975, -0.7519,\n",
              "           0.1028, -0.7416, -0.1093]],\n",
              "\n",
              "        [[ 0.6672, -1.7822, -0.0278, -1.7921,  0.7995,  0.3004,  0.8734,\n",
              "          -0.0700, -0.9231,  0.0340]],\n",
              "\n",
              "        [[ 0.6079,  1.3624, -0.7337, -1.2239, -2.4320,  0.9371,  0.0570,\n",
              "           0.0589, -0.4057,  0.0283]],\n",
              "\n",
              "        [[-0.6116, -0.9230,  1.3840, -0.9112, -0.8597,  0.1090,  0.2663,\n",
              "          -0.6295,  0.2484,  1.0828]],\n",
              "\n",
              "        [[-1.9557,  1.2847, -0.0115,  0.9619,  1.8508,  0.7090,  0.4256,\n",
              "           1.2222,  2.5250,  1.1731]],\n",
              "\n",
              "        [[-0.1167, -0.4298,  0.1686,  0.4208, -0.3630,  0.1809, -0.6260,\n",
              "           1.0841, -1.8940,  0.8860]],\n",
              "\n",
              "        [[-0.6272, -2.2329,  0.5582,  0.3875,  0.1616,  0.0823, -0.6751,\n",
              "           0.5345, -2.0348,  0.4402]],\n",
              "\n",
              "        [[ 0.7097, -0.0896,  0.5418, -1.4007,  0.4244, -0.0447, -0.2521,\n",
              "           2.0494,  0.2395,  0.9766]]])"
            ]
          },
          "metadata": {},
          "execution_count": 11
        }
      ]
    },
    {
      "cell_type": "markdown",
      "source": [
        "#### Creating a Fake Dimension"
      ],
      "metadata": {
        "id": "KyKlpv3WqaHk"
      }
    },
    {
      "cell_type": "code",
      "source": [
        "c = b.squeeze(1)\n",
        "c.shape"
      ],
      "metadata": {
        "colab": {
          "base_uri": "https://localhost:8080/"
        },
        "id": "5vTYkXaZqhmP",
        "outputId": "43d029b6-ca87-47b8-d640-f7b628749e0f"
      },
      "execution_count": 12,
      "outputs": [
        {
          "output_type": "execute_result",
          "data": {
            "text/plain": [
              "torch.Size([10, 10])"
            ]
          },
          "metadata": {},
          "execution_count": 12
        }
      ]
    },
    {
      "cell_type": "code",
      "source": [
        "c1, c2, c3 = c[None], c[:,None], c[:,:,None]\n",
        "print(c1.shape, c2.shape, c3.shape)"
      ],
      "metadata": {
        "colab": {
          "base_uri": "https://localhost:8080/"
        },
        "id": "ekAquvRdqZwH",
        "outputId": "ef866bd2-8150-4e36-d884-8a28dfdbc88c"
      },
      "execution_count": 13,
      "outputs": [
        {
          "output_type": "stream",
          "name": "stdout",
          "text": [
            "torch.Size([1, 10, 10]) torch.Size([10, 1, 10]) torch.Size([10, 10, 1])\n"
          ]
        }
      ]
    },
    {
      "cell_type": "markdown",
      "source": [
        "# Gradients"
      ],
      "metadata": {
        "id": "Ul_mwNhS9Fen"
      }
    },
    {
      "cell_type": "code",
      "source": [
        "x = torch.tensor([[2., -1.], [1., 1.]], requires_grad=True)\n",
        "x"
      ],
      "metadata": {
        "colab": {
          "base_uri": "https://localhost:8080/"
        },
        "id": "pDV-p_MFtx_C",
        "outputId": "91d77a9c-8b76-4df7-a0b3-c8fe20892610"
      },
      "execution_count": 14,
      "outputs": [
        {
          "output_type": "execute_result",
          "data": {
            "text/plain": [
              "tensor([[ 2., -1.],\n",
              "        [ 1.,  1.]], requires_grad=True)"
            ]
          },
          "metadata": {},
          "execution_count": 14
        }
      ]
    },
    {
      "cell_type": "markdown",
      "source": [
        "$out = \\sum_{i=1}^{4} x^{2}_i$"
      ],
      "metadata": {
        "id": "rwDpwTA9t-xs"
      }
    },
    {
      "cell_type": "code",
      "source": [
        "out = x.pow(2).sum()\n",
        "out"
      ],
      "metadata": {
        "colab": {
          "base_uri": "https://localhost:8080/"
        },
        "id": "N-Sod1-et-cI",
        "outputId": "f1a9c7af-f725-44d5-92e8-ed025e94b0fa"
      },
      "execution_count": 15,
      "outputs": [
        {
          "output_type": "execute_result",
          "data": {
            "text/plain": [
              "tensor(7., grad_fn=<SumBackward0>)"
            ]
          },
          "metadata": {},
          "execution_count": 15
        }
      ]
    },
    {
      "cell_type": "code",
      "source": [
        "out.backward()"
      ],
      "metadata": {
        "id": "gc4rSlOq9OCP"
      },
      "execution_count": 16,
      "outputs": []
    },
    {
      "cell_type": "code",
      "source": [
        "# Gradient of the previous function is 2x\n",
        "x.grad"
      ],
      "metadata": {
        "colab": {
          "base_uri": "https://localhost:8080/"
        },
        "id": "IPKVXVxPurWa",
        "outputId": "bd964f0e-1c15-4948-e341-c322a3163f34"
      },
      "execution_count": 17,
      "outputs": [
        {
          "output_type": "execute_result",
          "data": {
            "text/plain": [
              "tensor([[ 4., -2.],\n",
              "        [ 2.,  2.]])"
            ]
          },
          "metadata": {},
          "execution_count": 17
        }
      ]
    },
    {
      "cell_type": "markdown",
      "source": [
        "# Implementing the Neural Network"
      ],
      "metadata": {
        "id": "H870dRvB5COE"
      }
    },
    {
      "cell_type": "code",
      "source": [
        "# Addition of Two Numbers\n",
        "# Input\n",
        "x = [[1, 2], [3, 4], [5, 6], [7, 8]]\n",
        "# Output\n",
        "y = [[3], [7], [11], [15]]"
      ],
      "metadata": {
        "id": "mBhwdTfmu0Hg"
      },
      "execution_count": 18,
      "outputs": []
    },
    {
      "cell_type": "code",
      "source": [
        "x = torch.tensor(x).float()\n",
        "y = torch.tensor(y).float()"
      ],
      "metadata": {
        "id": "Rk7FIPSq5Mg3"
      },
      "execution_count": 19,
      "outputs": []
    },
    {
      "cell_type": "code",
      "source": [
        "device = 'cuda' if torch.cuda.is_available() else 'cpu'\n",
        "x = x.to(device)\n",
        "y = y.to(device)"
      ],
      "metadata": {
        "id": "Og_VLCNG6WgE"
      },
      "execution_count": 20,
      "outputs": []
    },
    {
      "cell_type": "code",
      "source": [
        "# Libraries\n",
        "import torch.nn as nn\n",
        "from torch.optim import SGD\n",
        "import matplotlib.pyplot as plt\n",
        "%matplotlib inline"
      ],
      "metadata": {
        "id": "m987ikE16lcU"
      },
      "execution_count": 21,
      "outputs": []
    },
    {
      "cell_type": "code",
      "source": [
        "print(nn.Linear(2, 7))"
      ],
      "metadata": {
        "colab": {
          "base_uri": "https://localhost:8080/"
        },
        "id": "j7SVUFtx8CHF",
        "outputId": "f1ee685e-a623-4142-beb4-7ef6504fce21"
      },
      "execution_count": 22,
      "outputs": [
        {
          "output_type": "stream",
          "name": "stdout",
          "text": [
            "Linear(in_features=2, out_features=7, bias=True)\n"
          ]
        }
      ]
    },
    {
      "cell_type": "markdown",
      "source": [
        "## Model Architecture"
      ],
      "metadata": {
        "id": "idSToOP89H4j"
      }
    },
    {
      "cell_type": "code",
      "source": [
        "class MyNeuralNet(nn.Module):\n",
        "    def __init__(self):\n",
        "        super().__init__()\n",
        "        self.input_to_hidden_layer = nn.Linear(2, 8)\n",
        "        self.hidden_layer_activation = nn.ReLU()\n",
        "        self.hidden_to_output_layer = nn.Linear(8, 1)\n",
        "\n",
        "    def forward(self, x):\n",
        "        a = self.input_to_hidden_layer(x)\n",
        "        b = self.hidden_layer_activation(a)\n",
        "        c = self.hidden_to_output_layer(b)\n",
        "        return c"
      ],
      "metadata": {
        "id": "1PTHWyLm7Az0"
      },
      "execution_count": 23,
      "outputs": []
    },
    {
      "cell_type": "code",
      "source": [
        "net = MyNeuralNet().to(device)"
      ],
      "metadata": {
        "id": "eTJpbNqP82ZA"
      },
      "execution_count": 24,
      "outputs": []
    },
    {
      "cell_type": "code",
      "source": [
        "# Checking the initial weights\n",
        "net.input_to_hidden_layer.weight"
      ],
      "metadata": {
        "colab": {
          "base_uri": "https://localhost:8080/"
        },
        "id": "iugxgcmo9BsU",
        "outputId": "c29dd290-da50-484f-ee8d-2f496d1cfb0e"
      },
      "execution_count": 25,
      "outputs": [
        {
          "output_type": "execute_result",
          "data": {
            "text/plain": [
              "Parameter containing:\n",
              "tensor([[ 0.3184,  0.0209],\n",
              "        [ 0.4545,  0.0709],\n",
              "        [ 0.2515,  0.0427],\n",
              "        [ 0.7050,  0.0527],\n",
              "        [ 0.1115, -0.0730],\n",
              "        [-0.6489, -0.6244],\n",
              "        [-0.6341, -0.2813],\n",
              "        [ 0.0354, -0.5548]], requires_grad=True)"
            ]
          },
          "metadata": {},
          "execution_count": 25
        }
      ]
    },
    {
      "cell_type": "code",
      "source": [
        "# Obtaining the parameters\n",
        "net.parameters()"
      ],
      "metadata": {
        "colab": {
          "base_uri": "https://localhost:8080/"
        },
        "id": "ChnaAeRw9Te2",
        "outputId": "801105ce-7da8-4db9-deda-4b1f1bb51eb3"
      },
      "execution_count": 26,
      "outputs": [
        {
          "output_type": "execute_result",
          "data": {
            "text/plain": [
              "<generator object Module.parameters at 0x7f9a303be580>"
            ]
          },
          "metadata": {},
          "execution_count": 26
        }
      ]
    },
    {
      "cell_type": "code",
      "source": [
        "for par in net.parameters():\n",
        "    print(par)"
      ],
      "metadata": {
        "colab": {
          "base_uri": "https://localhost:8080/"
        },
        "id": "t2magcWu9h0g",
        "outputId": "efd68a12-0584-49ea-c18e-c05e08eaddef"
      },
      "execution_count": 27,
      "outputs": [
        {
          "output_type": "stream",
          "name": "stdout",
          "text": [
            "Parameter containing:\n",
            "tensor([[ 0.3184,  0.0209],\n",
            "        [ 0.4545,  0.0709],\n",
            "        [ 0.2515,  0.0427],\n",
            "        [ 0.7050,  0.0527],\n",
            "        [ 0.1115, -0.0730],\n",
            "        [-0.6489, -0.6244],\n",
            "        [-0.6341, -0.2813],\n",
            "        [ 0.0354, -0.5548]], requires_grad=True)\n",
            "Parameter containing:\n",
            "tensor([-0.0900, -0.5369,  0.5942, -0.5002,  0.4604, -0.6288, -0.5055,  0.6828],\n",
            "       requires_grad=True)\n",
            "Parameter containing:\n",
            "tensor([[-0.1658,  0.1974, -0.0462, -0.2021,  0.3331,  0.0514,  0.1286,  0.2590]],\n",
            "       requires_grad=True)\n",
            "Parameter containing:\n",
            "tensor([0.0892], requires_grad=True)\n"
          ]
        }
      ]
    },
    {
      "cell_type": "code",
      "source": [
        "# Mean Squared Error (continuous output)\n",
        "loss = nn.MSELoss()"
      ],
      "metadata": {
        "id": "wy9hhKIo9rbv"
      },
      "execution_count": 28,
      "outputs": []
    },
    {
      "cell_type": "code",
      "source": [
        "_y = net(x)\n",
        "loss_value = loss(_y, y)\n",
        "loss_value"
      ],
      "metadata": {
        "colab": {
          "base_uri": "https://localhost:8080/"
        },
        "id": "tFnYMz7x-7Br",
        "outputId": "3ffa426a-4deb-4a2d-c9d0-70e2994f6fbd"
      },
      "execution_count": 29,
      "outputs": [
        {
          "output_type": "execute_result",
          "data": {
            "text/plain": [
              "tensor(107.3276, grad_fn=<MseLossBackward0>)"
            ]
          },
          "metadata": {},
          "execution_count": 29
        }
      ]
    },
    {
      "cell_type": "code",
      "source": [
        "# Stochastic Gradient Descent\n",
        "opt = SGD(net.parameters(), lr = 0.001)"
      ],
      "metadata": {
        "id": "UKMOhxT7ABDH"
      },
      "execution_count": 30,
      "outputs": []
    },
    {
      "cell_type": "code",
      "source": [
        "loss_history = []\n",
        "for _ in range(50):\n",
        "    # Flush the previous epoch's gradients\n",
        "    opt.zero_grad()\n",
        "    # Compute loss\n",
        "    loss_value = loss(net(x), y)\n",
        "    # Perform back-propagation\n",
        "    loss_value.backward()\n",
        "    # Update the weights according to the gradients computed\n",
        "    opt.step()\n",
        "    loss_history.append(loss_value)"
      ],
      "metadata": {
        "id": "gylNa4Q4EOKl"
      },
      "execution_count": 31,
      "outputs": []
    },
    {
      "cell_type": "code",
      "source": [
        "losses = [ loss.detach().numpy() for loss in loss_history]\n",
        "plt.plot(losses)\n",
        "plt.title('Loss Variation Over Increasing Epochs')\n",
        "plt.xlabel('Epochs')\n",
        "plt.ylabel('Loss Value')"
      ],
      "metadata": {
        "colab": {
          "base_uri": "https://localhost:8080/",
          "height": 312
        },
        "id": "7BGQ4sX8GBdN",
        "outputId": "5839bbb8-eae2-442c-bb2f-d539aa4a3d0a"
      },
      "execution_count": 32,
      "outputs": [
        {
          "output_type": "execute_result",
          "data": {
            "text/plain": [
              "Text(0, 0.5, 'Loss Value')"
            ]
          },
          "metadata": {},
          "execution_count": 32
        },
        {
          "output_type": "display_data",
          "data": {
            "text/plain": [
              "<Figure size 432x288 with 1 Axes>"
            ],
            "image/png": "[encoded data removed]"
          },
          "metadata": {
            "needs_background": "light"
          }
        }
      ]
    },
    {
      "cell_type": "markdown",
      "source": [
        "# Using Batch Sizes"
      ],
      "metadata": {
        "id": "NmO2_-JtLpAu"
      }
    },
    {
      "cell_type": "code",
      "source": [
        "from torch.utils.data import Dataset, DataLoader\n",
        "import time"
      ],
      "metadata": {
        "id": "gn8uilBmHNSu"
      },
      "execution_count": 33,
      "outputs": []
    },
    {
      "cell_type": "code",
      "source": [
        "x = [[1,2],[3,4],[5,6],[7,8]]\n",
        "y = [[3],[7],[11],[15]]\n",
        "x = torch.tensor(x).float()\n",
        "y = torch.tensor(y).float()"
      ],
      "metadata": {
        "id": "igYJKOnYLztx"
      },
      "execution_count": 34,
      "outputs": []
    },
    {
      "cell_type": "code",
      "source": [
        "class MyDataset(Dataset):\n",
        "    def __init__(self, x, y):\n",
        "        self.x = torch.tensor(x).float()\n",
        "        self.y = torch.tensor(y).float()\n",
        "\n",
        "    def __len__(self):\n",
        "        return len(self.x)\n",
        "\n",
        "    def __getitem__(self, ix):\n",
        "        return self.x[ix], self.y[ix]"
      ],
      "metadata": {
        "id": "6FNCx9lhL3Ad"
      },
      "execution_count": 35,
      "outputs": []
    },
    {
      "cell_type": "code",
      "source": [
        "ds = MyDataset(x, y)"
      ],
      "metadata": {
        "colab": {
          "base_uri": "https://localhost:8080/"
        },
        "id": "bc_wMVKqMq5k",
        "outputId": "77248411-28d3-40bc-9e76-8574d9b79bae"
      },
      "execution_count": 36,
      "outputs": [
        {
          "output_type": "stream",
          "name": "stderr",
          "text": [
            "<ipython-input-35-94cb611d7f95>:3: UserWarning: To copy construct from a tensor, it is recommended to use sourceTensor.clone().detach() or sourceTensor.clone().detach().requires_grad_(True), rather than torch.tensor(sourceTensor).\n",
            "  self.x = torch.tensor(x).float()\n",
            "<ipython-input-35-94cb611d7f95>:4: UserWarning: To copy construct from a tensor, it is recommended to use sourceTensor.clone().detach() or sourceTensor.clone().detach().requires_grad_(True), rather than torch.tensor(sourceTensor).\n",
            "  self.y = torch.tensor(y).float()\n"
          ]
        }
      ]
    },
    {
      "cell_type": "code",
      "source": [
        "dl = DataLoader(ds, batch_size=2, shuffle=True)"
      ],
      "metadata": {
        "id": "kcNGPES9MtWg"
      },
      "execution_count": 37,
      "outputs": []
    },
    {
      "cell_type": "code",
      "source": [
        "# To fetch the batches from dl, we loop through it:\n",
        "for x, y in dl:\n",
        "    print(f'x = {x}',f'y = {y}')"
      ],
      "metadata": {
        "colab": {
          "base_uri": "https://localhost:8080/"
        },
        "id": "kPbqzmHOM-R0",
        "outputId": "e557ef44-5763-40ec-8dba-f632f836bce7"
      },
      "execution_count": 38,
      "outputs": [
        {
          "output_type": "stream",
          "name": "stdout",
          "text": [
            "x = tensor([[1., 2.],\n",
            "        [3., 4.]]) y = tensor([[3.],\n",
            "        [7.]])\n",
            "x = tensor([[7., 8.],\n",
            "        [5., 6.]]) y = tensor([[15.],\n",
            "        [11.]])\n"
          ]
        }
      ]
    },
    {
      "cell_type": "code",
      "source": [
        "net = MyNeuralNet().to(device)\n",
        "loss = nn.MSELoss()\n",
        "opt = SGD(net.parameters(), lr = 0.001)"
      ],
      "metadata": {
        "id": "IWmwDlR1NVBb"
      },
      "execution_count": 39,
      "outputs": []
    },
    {
      "cell_type": "code",
      "source": [
        "loss_history = []\n",
        "start = time.time()\n",
        "for _ in range(50):\n",
        "    for data in dl:\n",
        "        x, y = data\n",
        "        opt.zero_grad()\n",
        "        loss_value = loss(net(x), y)\n",
        "        loss_value.backward()\n",
        "        opt.step()\n",
        "        loss_history.append(loss_value)\n",
        "end = time.time()\n",
        "print(end - start)"
      ],
      "metadata": {
        "colab": {
          "base_uri": "https://localhost:8080/"
        },
        "id": "Ps7RK8bBOq-_",
        "outputId": "7b56d25f-d8b5-4d47-db9e-419824b054a6"
      },
      "execution_count": 40,
      "outputs": [
        {
          "output_type": "stream",
          "name": "stdout",
          "text": [
            "0.06815528869628906\n"
          ]
        }
      ]
    },
    {
      "cell_type": "markdown",
      "source": [
        "# Predicting New Data Points"
      ],
      "metadata": {
        "id": "TBhTfOWQTG7x"
      }
    },
    {
      "cell_type": "code",
      "source": [
        "val_x = [[10, 11]]\n",
        "val_x = torch.tensor(val_x).float().to(device)"
      ],
      "metadata": {
        "id": "6emJ609iPHK6"
      },
      "execution_count": 41,
      "outputs": []
    },
    {
      "cell_type": "code",
      "source": [
        "net(val_x)"
      ],
      "metadata": {
        "colab": {
          "base_uri": "https://localhost:8080/"
        },
        "id": "RtvtcSroTggh",
        "outputId": "211b84a0-3078-4d17-e64e-c5d19dfe5b5d"
      },
      "execution_count": 42,
      "outputs": [
        {
          "output_type": "execute_result",
          "data": {
            "text/plain": [
              "tensor([[21.1943]], grad_fn=<AddmmBackward0>)"
            ]
          },
          "metadata": {},
          "execution_count": 42
        }
      ]
    },
    {
      "cell_type": "markdown",
      "source": [
        "# Implementing a Custom Loss Function"
      ],
      "metadata": {
        "id": "DeZ22UxMUXj6"
      }
    },
    {
      "cell_type": "code",
      "source": [
        "x = [[1,2],[3,4],[5,6],[7,8]]\n",
        "y = [[3],[7],[11],[15]]\n",
        "x = torch.tensor(x).float()\n",
        "y = torch.tensor(y).float()\n",
        "x = x.to(device)\n",
        "y = y.to(device)"
      ],
      "metadata": {
        "id": "vKVADZA1UA9r"
      },
      "execution_count": 43,
      "outputs": []
    },
    {
      "cell_type": "code",
      "source": [
        "def my_mean_squared_error(_y, y):\n",
        "    loss = (_y - y) ** 2\n",
        "    loss = loss.mean()\n",
        "    return loss"
      ],
      "metadata": {
        "id": "kTY5xifeU0T5"
      },
      "execution_count": 44,
      "outputs": []
    },
    {
      "cell_type": "code",
      "source": [
        "# Using the built-in function\n",
        "loss = nn.MSELoss()\n",
        "loss_value = loss(net(x), y)\n",
        "loss_value"
      ],
      "metadata": {
        "colab": {
          "base_uri": "https://localhost:8080/"
        },
        "id": "UBcKLt0rVLri",
        "outputId": "5c5c947a-bdd2-43cb-8b5a-730ecb3d4661"
      },
      "execution_count": 45,
      "outputs": [
        {
          "output_type": "execute_result",
          "data": {
            "text/plain": [
              "tensor(0.0108, grad_fn=<MseLossBackward0>)"
            ]
          },
          "metadata": {},
          "execution_count": 45
        }
      ]
    },
    {
      "cell_type": "code",
      "source": [
        "# Using my function\n",
        "my_mean_squared_error(net(x), y)"
      ],
      "metadata": {
        "colab": {
          "base_uri": "https://localhost:8080/"
        },
        "id": "2SMGt_ZeVaOZ",
        "outputId": "1d5bcb92-e904-415a-a655-184058d5acba"
      },
      "execution_count": 46,
      "outputs": [
        {
          "output_type": "execute_result",
          "data": {
            "text/plain": [
              "tensor(0.0108, grad_fn=<MeanBackward0>)"
            ]
          },
          "metadata": {},
          "execution_count": 46
        }
      ]
    },
    {
      "cell_type": "markdown",
      "source": [
        "# Fetching the Values of Intermediate Layers"
      ],
      "metadata": {
        "id": "3AnX9fCsWD4k"
      }
    },
    {
      "cell_type": "code",
      "source": [
        "input_to_hidden = net.input_to_hidden_layer(x)\n",
        "hidden_activation = net.hidden_layer_activation(input_to_hidden)\n",
        "hidden_activation"
      ],
      "metadata": {
        "colab": {
          "base_uri": "https://localhost:8080/"
        },
        "id": "MYaA8_OeVp7o",
        "outputId": "0ae2c47c-ddfe-4206-b34a-041feb53ab7b"
      },
      "execution_count": 47,
      "outputs": [
        {
          "output_type": "execute_result",
          "data": {
            "text/plain": [
              "tensor([[ 1.5162,  1.9890,  0.0000,  1.6689,  0.0000,  0.0000,  0.0000,  0.0000],\n",
              "        [ 3.2782,  5.1130,  0.0000,  3.6540,  0.0000,  0.0000,  0.0000,  0.0000],\n",
              "        [ 5.0401,  8.2369,  0.0000,  5.6392,  0.0000,  0.0000,  0.0000,  0.0000],\n",
              "        [ 6.8021, 11.3609,  0.0000,  7.6243,  0.0000,  0.0000,  0.0000,  0.0000]],\n",
              "       grad_fn=<ReluBackward0>)"
            ]
          },
          "metadata": {},
          "execution_count": 47
        }
      ]
    },
    {
      "cell_type": "markdown",
      "source": [
        "### Another Way\n",
        "\n",
        "- Return more than one value in the function\n",
        "\n",
        "```python\n",
        "def forward(self, x):\n",
        "        hidden1 = self.input_to_hidden_layer(x)\n",
        "        hidden2 = self.hidden_layer_activation(hidden1)\n",
        "        output = self.hidden_to_output_layer(hidden2)\n",
        "        return output, hidden2\n",
        "```\n",
        "\n",
        "- To access the hidden layer values:\n",
        "\n",
        "```python\n",
        "net = <class_name>().to(device)\n",
        "net(x)[1]  # hidden2\n",
        "```\n",
        "\n",
        "\n",
        "\n",
        "\n"
      ],
      "metadata": {
        "id": "41WT2cO6ZDlF"
      }
    },
    {
      "cell_type": "markdown",
      "source": [
        "# Sequential Method\n",
        "\n",
        "- Other way of creating a Neural Network"
      ],
      "metadata": {
        "id": "8odnZDyf9mTI"
      }
    },
    {
      "cell_type": "code",
      "source": [
        "x = [[1,2],[3,4],[5,6],[7,8]]\n",
        "y = [[3],[7],[11],[15]]"
      ],
      "metadata": {
        "id": "Gqw89oJBW6mk"
      },
      "execution_count": 48,
      "outputs": []
    },
    {
      "cell_type": "code",
      "source": [
        "class MyDataset(Dataset):\n",
        "    def __init__(self, x, y):\n",
        "        self.x = torch.tensor(x).float().to(device)\n",
        "        self.y = torch.tensor(y).float().to(device)\n",
        "    def __getitem__(self, ix):\n",
        "        return self.x[ix], self.y[ix]\n",
        "    def __len__(self): \n",
        "        return len(self.x)"
      ],
      "metadata": {
        "id": "qTGgiAIc-cA0"
      },
      "execution_count": 49,
      "outputs": []
    },
    {
      "cell_type": "code",
      "source": [
        "ds = MyDataset(x, y)\n",
        "dl = DataLoader(ds, batch_size=2, shuffle=True)"
      ],
      "metadata": {
        "id": "KiSksapJ-lXO"
      },
      "execution_count": 50,
      "outputs": []
    },
    {
      "cell_type": "markdown",
      "source": [
        "### Defining the Model Architecture using the Sequential method"
      ],
      "metadata": {
        "id": "-GzvsKWk-0wx"
      }
    },
    {
      "cell_type": "code",
      "source": [
        "model = nn.Sequential(\n",
        "    nn.Linear(2, 8),\n",
        "    nn.ReLU(),\n",
        "    nn.Linear(8, 1)\n",
        ").to(device)"
      ],
      "metadata": {
        "id": "UMVjJqUH-zfX"
      },
      "execution_count": 52,
      "outputs": []
    },
    {
      "cell_type": "code",
      "source": [
        "from torchsummary import summary"
      ],
      "metadata": {
        "id": "edYr_f_H_GZ0"
      },
      "execution_count": 53,
      "outputs": []
    },
    {
      "cell_type": "code",
      "source": [
        "summary(model, (1, 2))"
      ],
      "metadata": {
        "colab": {
          "base_uri": "https://localhost:8080/"
        },
        "id": "Ka8HJGgh_j4c",
        "outputId": "98d66b26-19ed-437f-9959-1fa6bae2b42b"
      },
      "execution_count": 61,
      "outputs": [
        {
          "output_type": "stream",
          "name": "stdout",
          "text": [
            "----------------------------------------------------------------\n",
            "        Layer (type)               Output Shape         Param #\n",
            "================================================================\n",
            "            Linear-1                 [-1, 1, 8]              24\n",
            "              ReLU-2                 [-1, 1, 8]               0\n",
            "            Linear-3                 [-1, 1, 1]               9\n",
            "================================================================\n",
            "Total params: 33\n",
            "Trainable params: 33\n",
            "Non-trainable params: 0\n",
            "----------------------------------------------------------------\n",
            "Input size (MB): 0.00\n",
            "Forward/backward pass size (MB): 0.00\n",
            "Params size (MB): 0.00\n",
            "Estimated Total Size (MB): 0.00\n",
            "----------------------------------------------------------------\n"
          ]
        }
      ]
    },
    {
      "cell_type": "markdown",
      "source": [
        "- -1 represents that there can be as many data points as the batch size"
      ],
      "metadata": {
        "id": "QPvBlh5BB7KY"
      }
    },
    {
      "cell_type": "code",
      "source": [
        "loss_func = nn.MSELoss()\n",
        "opt = SGD(model.parameters(), lr = 0.001)\n",
        "loss_history = []\n",
        "start = time.time()\n",
        "for _ in range(50):\n",
        "    for ix, iy in dl:\n",
        "        opt.zero_grad()\n",
        "        loss_value = loss_func(model(ix),iy)\n",
        "        loss_value.backward()\n",
        "        opt.step()\n",
        "        loss_history.append(loss_value)\n",
        "end = time.time()\n",
        "print(end - start)"
      ],
      "metadata": {
        "colab": {
          "base_uri": "https://localhost:8080/"
        },
        "id": "XweUsG-DBDVL",
        "outputId": "69fa980e-602f-42d4-9657-a18cece7c876"
      },
      "execution_count": 69,
      "outputs": [
        {
          "output_type": "stream",
          "name": "stdout",
          "text": [
            "0.12270641326904297\n"
          ]
        }
      ]
    },
    {
      "cell_type": "code",
      "source": [
        "val = [[8, 9], [10, 11], [1.5, 2.5]]\n",
        "model(torch.tensor(val).float().to(device))"
      ],
      "metadata": {
        "colab": {
          "base_uri": "https://localhost:8080/"
        },
        "id": "NuaJucskC8T1",
        "outputId": "e6df6012-4392-4c91-f95e-8778f18963f6"
      },
      "execution_count": 71,
      "outputs": [
        {
          "output_type": "execute_result",
          "data": {
            "text/plain": [
              "tensor([[16.7293],\n",
              "        [20.5432],\n",
              "        [ 4.3236]], grad_fn=<AddmmBackward0>)"
            ]
          },
          "metadata": {},
          "execution_count": 71
        }
      ]
    },
    {
      "cell_type": "code",
      "source": [
        "model.state_dict()"
      ],
      "metadata": {
        "colab": {
          "base_uri": "https://localhost:8080/"
        },
        "id": "t7z9gvJ4DEr9",
        "outputId": "77c9e9fc-b3a8-49ec-f42f-81273b9838c9"
      },
      "execution_count": 72,
      "outputs": [
        {
          "output_type": "execute_result",
          "data": {
            "text/plain": [
              "OrderedDict([('0.weight', tensor([[ 0.6577,  0.4167],\n",
              "                      [ 0.0163,  0.5411],\n",
              "                      [-0.4313,  0.3788],\n",
              "                      [-0.3176, -0.3822],\n",
              "                      [ 0.5068,  0.9300],\n",
              "                      [-0.3608, -0.0192],\n",
              "                      [ 0.4405,  0.1938],\n",
              "                      [-0.3001,  0.5985]])),\n",
              "             ('0.bias',\n",
              "              tensor([ 0.3501, -0.2226, -0.0784, -0.2939, -0.0418, -0.1189, -0.5606,  0.0575])),\n",
              "             ('2.weight',\n",
              "              tensor([[ 0.4693,  0.3360, -0.0475,  0.2818,  0.8215, -0.1858,  0.0050,  0.1068]])),\n",
              "             ('2.bias', tensor([0.2089]))])"
            ]
          },
          "metadata": {},
          "execution_count": 72
        }
      ]
    },
    {
      "cell_type": "markdown",
      "source": [
        "- The keys are the names of the model's layers and the values correspond to the weights of these layers."
      ],
      "metadata": {
        "id": "hiLScPd2GIVt"
      }
    },
    {
      "cell_type": "markdown",
      "source": [
        "# Saving the Model"
      ],
      "metadata": {
        "id": "2yy_Me2-GN4A"
      }
    },
    {
      "cell_type": "code",
      "source": [
        "torch.save(model.to('cpu').state_dict(), 'model.pth')"
      ],
      "metadata": {
        "id": "qMJ2jOxwFWK2"
      },
      "execution_count": 73,
      "outputs": []
    },
    {
      "cell_type": "markdown",
      "source": [
        "# Loading the Model"
      ],
      "metadata": {
        "id": "nL7_1x6nGiig"
      }
    },
    {
      "cell_type": "code",
      "source": [
        "model = nn.Sequential(\n",
        "            nn.Linear(2, 8),\n",
        "            nn.ReLU(),\n",
        "            nn.Linear(8, 1)\n",
        "        ).to(device)"
      ],
      "metadata": {
        "id": "lJ3OFZlqGb-R"
      },
      "execution_count": 74,
      "outputs": []
    },
    {
      "cell_type": "code",
      "source": [
        "state_dict = torch.load('model.pth')"
      ],
      "metadata": {
        "id": "rxN9AI2-GpHY"
      },
      "execution_count": 76,
      "outputs": []
    },
    {
      "cell_type": "code",
      "source": [
        "model.load_state_dict(state_dict)\n",
        "model.to(device)\n",
        "model(torch.tensor(val).float().to(device))"
      ],
      "metadata": {
        "colab": {
          "base_uri": "https://localhost:8080/"
        },
        "id": "TYKGCRM1GrSn",
        "outputId": "2204f078-4bc0-442f-a871-9ade160600bd"
      },
      "execution_count": 77,
      "outputs": [
        {
          "output_type": "execute_result",
          "data": {
            "text/plain": [
              "tensor([[16.7293],\n",
              "        [20.5432],\n",
              "        [ 4.3236]], grad_fn=<AddmmBackward0>)"
            ]
          },
          "metadata": {},
          "execution_count": 77
        }
      ]
    }
  ]
}