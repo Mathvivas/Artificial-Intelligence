{
  "nbformat": 4,
  "nbformat_minor": 0,
  "metadata": {
    "colab": {
      "provenance": [],
      "authorship_tag": "ABX9TyPeee77QoNBbssY/XgbGOob"
    },
    "kernelspec": {
      "name": "python3",
      "display_name": "Python 3"
    },
    "language_info": {
      "name": "python"
    }
  },
  "cells": [
    {
      "cell_type": "markdown",
      "source": [
        "# Introduction to Tensors"
      ],
      "metadata": {
        "id": "GjtzPQczN-DK"
      }
    },
    {
      "cell_type": "code",
      "execution_count": 1,
      "metadata": {
        "colab": {
          "base_uri": "https://localhost:8080/"
        },
        "id": "QO94HAoTNUsg",
        "outputId": "a4c70018-e5da-404a-c600-8bd360d0c2f0"
      },
      "outputs": [
        {
          "output_type": "stream",
          "name": "stdout",
          "text": [
            "2.9.2\n"
          ]
        }
      ],
      "source": [
        "import tensorflow as tf\n",
        "print(tf.__version__)"
      ]
    },
    {
      "cell_type": "code",
      "source": [
        "# Create Tensors with tf.constant()\n",
        "scalar = tf.constant(7)\n",
        "scalar"
      ],
      "metadata": {
        "colab": {
          "base_uri": "https://localhost:8080/"
        },
        "id": "taoCWZGwOeX3",
        "outputId": "def18a6f-70a9-48d8-eb1e-384d8c450f6b"
      },
      "execution_count": 2,
      "outputs": [
        {
          "output_type": "execute_result",
          "data": {
            "text/plain": [
              "<tf.Tensor: shape=(), dtype=int32, numpy=7>"
            ]
          },
          "metadata": {},
          "execution_count": 2
        }
      ]
    },
    {
      "cell_type": "code",
      "source": [
        "# Check the number of dimensions of a tensor\n",
        "scalar.ndim"
      ],
      "metadata": {
        "colab": {
          "base_uri": "https://localhost:8080/"
        },
        "id": "-XGCXGy6Ol7N",
        "outputId": "d9de56e4-4b0b-455c-f7f8-b93edb741341"
      },
      "execution_count": 3,
      "outputs": [
        {
          "output_type": "execute_result",
          "data": {
            "text/plain": [
              "0"
            ]
          },
          "metadata": {},
          "execution_count": 3
        }
      ]
    },
    {
      "cell_type": "code",
      "source": [
        "# Create a vector\n",
        "vector = tf.constant([10, 10])\n",
        "vector"
      ],
      "metadata": {
        "colab": {
          "base_uri": "https://localhost:8080/"
        },
        "id": "P0T3l7pTO9CU",
        "outputId": "868c1707-f4d2-449a-f119-0195d2248940"
      },
      "execution_count": 4,
      "outputs": [
        {
          "output_type": "execute_result",
          "data": {
            "text/plain": [
              "<tf.Tensor: shape=(2,), dtype=int32, numpy=array([10, 10], dtype=int32)>"
            ]
          },
          "metadata": {},
          "execution_count": 4
        }
      ]
    },
    {
      "cell_type": "code",
      "source": [
        "# Check the dimensions of the vector\n",
        "vector.ndim"
      ],
      "metadata": {
        "colab": {
          "base_uri": "https://localhost:8080/"
        },
        "id": "9gQfpNGVPJIY",
        "outputId": "21ba6335-4f08-4f25-dbb6-916b8a6d4af7"
      },
      "execution_count": 5,
      "outputs": [
        {
          "output_type": "execute_result",
          "data": {
            "text/plain": [
              "1"
            ]
          },
          "metadata": {},
          "execution_count": 5
        }
      ]
    },
    {
      "cell_type": "code",
      "source": [
        "# Create a matrix\n",
        "matrix = tf.constant([[10, 7],\n",
        "                     [7, 10]])\n",
        "matrix"
      ],
      "metadata": {
        "colab": {
          "base_uri": "https://localhost:8080/"
        },
        "id": "8_3cB2qfPTjr",
        "outputId": "ab10695c-430a-4c17-bbf2-7e6ab3827042"
      },
      "execution_count": 6,
      "outputs": [
        {
          "output_type": "execute_result",
          "data": {
            "text/plain": [
              "<tf.Tensor: shape=(2, 2), dtype=int32, numpy=\n",
              "array([[10,  7],\n",
              "       [ 7, 10]], dtype=int32)>"
            ]
          },
          "metadata": {},
          "execution_count": 6
        }
      ]
    },
    {
      "cell_type": "code",
      "source": [
        "matrix.ndim"
      ],
      "metadata": {
        "colab": {
          "base_uri": "https://localhost:8080/"
        },
        "id": "3l_kY608P093",
        "outputId": "a5cb4ce6-9f0d-4002-e60b-a41b337553b9"
      },
      "execution_count": 7,
      "outputs": [
        {
          "output_type": "execute_result",
          "data": {
            "text/plain": [
              "2"
            ]
          },
          "metadata": {},
          "execution_count": 7
        }
      ]
    },
    {
      "cell_type": "code",
      "source": [
        "# Create another matrix\n",
        "another_matrix = tf.constant([[10., 7.],\n",
        "                              [3., 2.],\n",
        "                              [8., 9.]], dtype=tf.float16)\n",
        "another_matrix"
      ],
      "metadata": {
        "colab": {
          "base_uri": "https://localhost:8080/"
        },
        "id": "FAEodYqPQEMG",
        "outputId": "9395a752-3494-45bb-c1ef-89a66c18d173"
      },
      "execution_count": 8,
      "outputs": [
        {
          "output_type": "execute_result",
          "data": {
            "text/plain": [
              "<tf.Tensor: shape=(3, 2), dtype=float16, numpy=\n",
              "array([[10.,  7.],\n",
              "       [ 3.,  2.],\n",
              "       [ 8.,  9.]], dtype=float16)>"
            ]
          },
          "metadata": {},
          "execution_count": 8
        }
      ]
    },
    {
      "cell_type": "code",
      "source": [
        "another_matrix.ndim"
      ],
      "metadata": {
        "colab": {
          "base_uri": "https://localhost:8080/"
        },
        "id": "P_sX_0fdQnX8",
        "outputId": "a87055e7-ac24-448b-bbe5-f2f9988ec9cd"
      },
      "execution_count": 9,
      "outputs": [
        {
          "output_type": "execute_result",
          "data": {
            "text/plain": [
              "2"
            ]
          },
          "metadata": {},
          "execution_count": 9
        }
      ]
    },
    {
      "cell_type": "markdown",
      "source": [
        "![image.png](data:image/png;base64,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)"
      ],
      "metadata": {
        "id": "rbzw2rqFamdq"
      }
    },
    {
      "cell_type": "markdown",
      "source": [
        "- **another_matrix dimension**\n",
        "    - Batch: 3 (3 vectors)\n",
        "    - Height: 2"
      ],
      "metadata": {
        "id": "FU65iHfSZyjF"
      }
    },
    {
      "cell_type": "code",
      "source": [
        "# Create a tensor\n",
        "tensor = tf.constant([[[1, 2, 3],\n",
        "                       [4, 5, 6]],\n",
        "                      [[7, 8, 9],\n",
        "                       [10, 11, 12]],\n",
        "                      [[13, 14, 15],\n",
        "                       [16, 17, 18]]])\n",
        "tensor"
      ],
      "metadata": {
        "colab": {
          "base_uri": "https://localhost:8080/"
        },
        "id": "aJjbBrqVQ5Ng",
        "outputId": "2e1367a4-cd80-469b-fa90-a5e9a342e947"
      },
      "execution_count": 10,
      "outputs": [
        {
          "output_type": "execute_result",
          "data": {
            "text/plain": [
              "<tf.Tensor: shape=(3, 2, 3), dtype=int32, numpy=\n",
              "array([[[ 1,  2,  3],\n",
              "        [ 4,  5,  6]],\n",
              "\n",
              "       [[ 7,  8,  9],\n",
              "        [10, 11, 12]],\n",
              "\n",
              "       [[13, 14, 15],\n",
              "        [16, 17, 18]]], dtype=int32)>"
            ]
          },
          "metadata": {},
          "execution_count": 10
        }
      ]
    },
    {
      "cell_type": "code",
      "source": [
        "tensor.ndim"
      ],
      "metadata": {
        "colab": {
          "base_uri": "https://localhost:8080/"
        },
        "id": "Sw0R5lXKRTWg",
        "outputId": "7189a93a-afa3-4f79-e199-b6d851ab0b79"
      },
      "execution_count": 11,
      "outputs": [
        {
          "output_type": "execute_result",
          "data": {
            "text/plain": [
              "3"
            ]
          },
          "metadata": {},
          "execution_count": 11
        }
      ]
    },
    {
      "cell_type": "markdown",
      "source": [
        "- **tensor dimension**\n",
        "    - Batch: 3 (3 matrix)\n",
        "    - Height: 2\n",
        "    - Width: 3"
      ],
      "metadata": {
        "id": "riAKdFSMauuL"
      }
    },
    {
      "cell_type": "markdown",
      "source": [
        "- Scalar: single number\n",
        "- Vector: a number with direction (wind speed and direction\n",
        "- Matrix: a 2-dimensional array of numbers\n",
        "- Tensor: an n-dimension array of numbers (when n can be any number, a 0-dimensional tensor ia a scalar, a 1-dimensional tensor is a vector)"
      ],
      "metadata": {
        "id": "7WoJQIEqRqvx"
      }
    },
    {
      "cell_type": "markdown",
      "source": [
        "## Creating Tensors with tf.Variable()"
      ],
      "metadata": {
        "id": "I1qajgcCRdmo"
      }
    },
    {
      "cell_type": "code",
      "source": [
        "# Create the same tensor with tf.Variable()\n",
        "changeable_tensor = tf.Variable([10, 7])\n",
        "unchangeable_tensor = tf.constant([10, 7])\n",
        "changeable_tensor, unchangeable_tensor"
      ],
      "metadata": {
        "colab": {
          "base_uri": "https://localhost:8080/"
        },
        "id": "EnpXJ_LzSZgY",
        "outputId": "45164254-d28a-40ec-ea61-f10076526820"
      },
      "execution_count": 12,
      "outputs": [
        {
          "output_type": "execute_result",
          "data": {
            "text/plain": [
              "(<tf.Variable 'Variable:0' shape=(2,) dtype=int32, numpy=array([10,  7], dtype=int32)>,\n",
              " <tf.Tensor: shape=(2,), dtype=int32, numpy=array([10,  7], dtype=int32)>)"
            ]
          },
          "metadata": {},
          "execution_count": 12
        }
      ]
    },
    {
      "cell_type": "code",
      "source": [
        "# Changing one of the elements in the changeable tensor\n",
        "#changeable_tensor[0] = 7 # ERROR"
      ],
      "metadata": {
        "id": "4HZaoxyrSbp0"
      },
      "execution_count": 13,
      "outputs": []
    },
    {
      "cell_type": "code",
      "source": [
        "changeable_tensor[0].assign(7)\n",
        "changeable_tensor"
      ],
      "metadata": {
        "colab": {
          "base_uri": "https://localhost:8080/"
        },
        "id": "YlLvCvdhTUCF",
        "outputId": "a0b2170d-eec1-4fe0-a2d8-8d34f5ecbecf"
      },
      "execution_count": 14,
      "outputs": [
        {
          "output_type": "execute_result",
          "data": {
            "text/plain": [
              "<tf.Variable 'Variable:0' shape=(2,) dtype=int32, numpy=array([7, 7], dtype=int32)>"
            ]
          },
          "metadata": {},
          "execution_count": 14
        }
      ]
    },
    {
      "cell_type": "markdown",
      "source": [
        "## Creating Random Tensors"
      ],
      "metadata": {
        "id": "1KVVo80mT8u_"
      }
    },
    {
      "cell_type": "code",
      "source": [
        "# Create two random (but the same) tensor\n",
        "random_1 = tf.random.Generator.from_seed(42)\n",
        "random_1 = random_1.normal(shape=(3, 2))\n",
        "random_1"
      ],
      "metadata": {
        "colab": {
          "base_uri": "https://localhost:8080/"
        },
        "id": "JUp0D0hNTZIq",
        "outputId": "34d4baf1-5f7d-4d20-aa8e-eccf62362fbc"
      },
      "execution_count": 15,
      "outputs": [
        {
          "output_type": "execute_result",
          "data": {
            "text/plain": [
              "<tf.Tensor: shape=(3, 2), dtype=float32, numpy=\n",
              "array([[-0.7565803 , -0.06854702],\n",
              "       [ 0.07595026, -1.2573844 ],\n",
              "       [-0.23193763, -1.8107855 ]], dtype=float32)>"
            ]
          },
          "metadata": {},
          "execution_count": 15
        }
      ]
    },
    {
      "cell_type": "code",
      "source": [
        "random_2 = tf.random.Generator.from_seed(42)\n",
        "random_2 = random_2.normal(shape=(3, 2))\n",
        "random_1, random_2, random_1 == random_2"
      ],
      "metadata": {
        "colab": {
          "base_uri": "https://localhost:8080/"
        },
        "id": "28hi_w1JU6Zq",
        "outputId": "643eb508-027e-469a-8d5b-f8758d657348"
      },
      "execution_count": 16,
      "outputs": [
        {
          "output_type": "execute_result",
          "data": {
            "text/plain": [
              "(<tf.Tensor: shape=(3, 2), dtype=float32, numpy=\n",
              " array([[-0.7565803 , -0.06854702],\n",
              "        [ 0.07595026, -1.2573844 ],\n",
              "        [-0.23193763, -1.8107855 ]], dtype=float32)>,\n",
              " <tf.Tensor: shape=(3, 2), dtype=float32, numpy=\n",
              " array([[-0.7565803 , -0.06854702],\n",
              "        [ 0.07595026, -1.2573844 ],\n",
              "        [-0.23193763, -1.8107855 ]], dtype=float32)>,\n",
              " <tf.Tensor: shape=(3, 2), dtype=bool, numpy=\n",
              " array([[ True,  True],\n",
              "        [ True,  True],\n",
              "        [ True,  True]])>)"
            ]
          },
          "metadata": {},
          "execution_count": 16
        }
      ]
    },
    {
      "cell_type": "markdown",
      "source": [
        "### Shuffle the Order of Elements in a Tensor\n",
        "- Useful when trying to learn which food is presented, if the first 1000 images are from one food, the weights will be adjusted only for that food, before starting to see the second food"
      ],
      "metadata": {
        "id": "X9Y9ccq3V9-Y"
      }
    },
    {
      "cell_type": "code",
      "source": [
        "not_shuffled = tf.constant([[10, 7],\n",
        "                            [3, 4],\n",
        "                            [2, 5]])\n",
        "not_shuffled.ndim"
      ],
      "metadata": {
        "colab": {
          "base_uri": "https://localhost:8080/"
        },
        "id": "6iXFkpBaWYmR",
        "outputId": "be4359ce-ff01-4cd0-f69f-93a1fc36ab82"
      },
      "execution_count": 17,
      "outputs": [
        {
          "output_type": "execute_result",
          "data": {
            "text/plain": [
              "2"
            ]
          },
          "metadata": {},
          "execution_count": 17
        }
      ]
    },
    {
      "cell_type": "code",
      "source": [
        "not_shuffled"
      ],
      "metadata": {
        "colab": {
          "base_uri": "https://localhost:8080/"
        },
        "id": "AKgJPQ8JXceU",
        "outputId": "8a52b82e-ad8e-4347-983e-049b0daefe82"
      },
      "execution_count": 18,
      "outputs": [
        {
          "output_type": "execute_result",
          "data": {
            "text/plain": [
              "<tf.Tensor: shape=(3, 2), dtype=int32, numpy=\n",
              "array([[10,  7],\n",
              "       [ 3,  4],\n",
              "       [ 2,  5]], dtype=int32)>"
            ]
          },
          "metadata": {},
          "execution_count": 18
        }
      ]
    },
    {
      "cell_type": "code",
      "source": [
        "# Shuffle the non_shuffled tensor\n",
        "tf.random.set_seed(42)\n",
        "tf.random.shuffle(not_shuffled, seed=42)"
      ],
      "metadata": {
        "colab": {
          "base_uri": "https://localhost:8080/"
        },
        "id": "mTKVFTJ9XfNT",
        "outputId": "5052f656-986f-4c8e-b9b4-fa265ee580ed"
      },
      "execution_count": 19,
      "outputs": [
        {
          "output_type": "execute_result",
          "data": {
            "text/plain": [
              "<tf.Tensor: shape=(3, 2), dtype=int32, numpy=\n",
              "array([[10,  7],\n",
              "       [ 3,  4],\n",
              "       [ 2,  5]], dtype=int32)>"
            ]
          },
          "metadata": {},
          "execution_count": 19
        }
      ]
    },
    {
      "cell_type": "code",
      "source": [
        "tf.random.set_seed(1234)\n",
        "print(tf.random.uniform([1]))  # generates 'A1'\n",
        "print(tf.random.uniform([1]))  # generates 'A2'\n",
        "print(tf.random.uniform([1]))  # generates 'A3'\n",
        "print(tf.random.uniform([1]))  # generates 'A4'"
      ],
      "metadata": {
        "colab": {
          "base_uri": "https://localhost:8080/"
        },
        "id": "nzL4kDIqbYm8",
        "outputId": "2bbf31fd-afdc-4860-8566-b0587bd8149f"
      },
      "execution_count": 20,
      "outputs": [
        {
          "output_type": "stream",
          "name": "stdout",
          "text": [
            "tf.Tensor([0.5380393], shape=(1,), dtype=float32)\n",
            "tf.Tensor([0.3253647], shape=(1,), dtype=float32)\n",
            "tf.Tensor([0.59750986], shape=(1,), dtype=float32)\n",
            "tf.Tensor([0.9099175], shape=(1,), dtype=float32)\n"
          ]
        }
      ]
    },
    {
      "cell_type": "code",
      "source": [
        "tf.random.set_seed(1234)\n",
        "print(tf.random.uniform([1]))  # generates 'A1'\n",
        "print(tf.random.uniform([1]))  # generates 'A2'\n",
        "print(tf.random.uniform([1]))  # generates 'A3'\n",
        "print(tf.random.uniform([1]))  # generates 'A4'"
      ],
      "metadata": {
        "colab": {
          "base_uri": "https://localhost:8080/"
        },
        "id": "E2or44UFd21Z",
        "outputId": "6b158b5d-5217-4f20-ccca-1d0d1f33cc50"
      },
      "execution_count": 21,
      "outputs": [
        {
          "output_type": "stream",
          "name": "stdout",
          "text": [
            "tf.Tensor([0.5380393], shape=(1,), dtype=float32)\n",
            "tf.Tensor([0.3253647], shape=(1,), dtype=float32)\n",
            "tf.Tensor([0.59750986], shape=(1,), dtype=float32)\n",
            "tf.Tensor([0.9099175], shape=(1,), dtype=float32)\n"
          ]
        }
      ]
    },
    {
      "cell_type": "code",
      "source": [
        "@tf.function\n",
        "def foo():\n",
        "  a = tf.random.uniform([1], seed=1)\n",
        "  b = tf.random.uniform([1], seed=1)\n",
        "  return a, b\n",
        "print(foo())  # prints '(A1, A1)'\n",
        "print(foo())  # prints '(A2, A2)'\n",
        "\n",
        "@tf.function\n",
        "def bar():\n",
        "  a = tf.random.uniform([1])\n",
        "  b = tf.random.uniform([1])\n",
        "  return a, b\n",
        "print(bar())  # prints '(A1, A2)'\n",
        "print(bar())  # prints '(A3, A4)'"
      ],
      "metadata": {
        "colab": {
          "base_uri": "https://localhost:8080/"
        },
        "id": "8gDt2K91eVP5",
        "outputId": "bf9de845-313a-409e-9582-e985024d4143"
      },
      "execution_count": 22,
      "outputs": [
        {
          "output_type": "stream",
          "name": "stdout",
          "text": [
            "(<tf.Tensor: shape=(1,), dtype=float32, numpy=array([0.1689806], dtype=float32)>, <tf.Tensor: shape=(1,), dtype=float32, numpy=array([0.1689806], dtype=float32)>)\n",
            "(<tf.Tensor: shape=(1,), dtype=float32, numpy=array([0.7539084], dtype=float32)>, <tf.Tensor: shape=(1,), dtype=float32, numpy=array([0.7539084], dtype=float32)>)\n",
            "(<tf.Tensor: shape=(1,), dtype=float32, numpy=array([0.13047123], dtype=float32)>, <tf.Tensor: shape=(1,), dtype=float32, numpy=array([0.1689806], dtype=float32)>)\n",
            "(<tf.Tensor: shape=(1,), dtype=float32, numpy=array([0.6087816], dtype=float32)>, <tf.Tensor: shape=(1,), dtype=float32, numpy=array([0.7539084], dtype=float32)>)\n"
          ]
        }
      ]
    },
    {
      "cell_type": "markdown",
      "source": [
        "### Other Ways to Make Tensors"
      ],
      "metadata": {
        "id": "xOUXLmndhCUw"
      }
    },
    {
      "cell_type": "code",
      "source": [
        "# Create a tensor of all ones\n",
        "tf.ones([10, 7])"
      ],
      "metadata": {
        "colab": {
          "base_uri": "https://localhost:8080/"
        },
        "id": "DSvzcWjpfgtA",
        "outputId": "ebe24d21-d4eb-4675-e9c3-91cacaaeb71c"
      },
      "execution_count": 23,
      "outputs": [
        {
          "output_type": "execute_result",
          "data": {
            "text/plain": [
              "<tf.Tensor: shape=(10, 7), dtype=float32, numpy=\n",
              "array([[1., 1., 1., 1., 1., 1., 1.],\n",
              "       [1., 1., 1., 1., 1., 1., 1.],\n",
              "       [1., 1., 1., 1., 1., 1., 1.],\n",
              "       [1., 1., 1., 1., 1., 1., 1.],\n",
              "       [1., 1., 1., 1., 1., 1., 1.],\n",
              "       [1., 1., 1., 1., 1., 1., 1.],\n",
              "       [1., 1., 1., 1., 1., 1., 1.],\n",
              "       [1., 1., 1., 1., 1., 1., 1.],\n",
              "       [1., 1., 1., 1., 1., 1., 1.],\n",
              "       [1., 1., 1., 1., 1., 1., 1.]], dtype=float32)>"
            ]
          },
          "metadata": {},
          "execution_count": 23
        }
      ]
    },
    {
      "cell_type": "code",
      "source": [
        "# Create a tensor of all zeros\n",
        "tf.zeros(shape=(3, 4))"
      ],
      "metadata": {
        "colab": {
          "base_uri": "https://localhost:8080/"
        },
        "id": "onR5Q4MuhRqI",
        "outputId": "981d0971-ca7f-45bc-9e2c-5bbae4a6c3aa"
      },
      "execution_count": 24,
      "outputs": [
        {
          "output_type": "execute_result",
          "data": {
            "text/plain": [
              "<tf.Tensor: shape=(3, 4), dtype=float32, numpy=\n",
              "array([[0., 0., 0., 0.],\n",
              "       [0., 0., 0., 0.],\n",
              "       [0., 0., 0., 0.]], dtype=float32)>"
            ]
          },
          "metadata": {},
          "execution_count": 24
        }
      ]
    },
    {
      "cell_type": "markdown",
      "source": [
        "### Turning NumPy arrays into Tensors"
      ],
      "metadata": {
        "id": "RRcXebcwhgyA"
      }
    },
    {
      "cell_type": "code",
      "source": [
        "import numpy as np"
      ],
      "metadata": {
        "id": "RMYOQYW1hXgo"
      },
      "execution_count": 25,
      "outputs": []
    },
    {
      "cell_type": "markdown",
      "source": [
        "- X = tf.constant(some_matrix)\n",
        "    - capital for matrix or tensor\n",
        "- y = tf.constant(vector)\n",
        "    - non-capital for vector"
      ],
      "metadata": {
        "id": "bzrwqvnqhwYK"
      }
    },
    {
      "cell_type": "code",
      "source": [
        "# Create a numpy array between 1 and 25\n",
        "numpy_A = np.arange(1, 25, dtype=np.int32)\n",
        "numpy_A"
      ],
      "metadata": {
        "colab": {
          "base_uri": "https://localhost:8080/"
        },
        "id": "VHVksmrVhpQx",
        "outputId": "530b60f8-56d0-4d3a-98fd-4c6ad1f310d8"
      },
      "execution_count": 26,
      "outputs": [
        {
          "output_type": "execute_result",
          "data": {
            "text/plain": [
              "array([ 1,  2,  3,  4,  5,  6,  7,  8,  9, 10, 11, 12, 13, 14, 15, 16, 17,\n",
              "       18, 19, 20, 21, 22, 23, 24], dtype=int32)"
            ]
          },
          "metadata": {},
          "execution_count": 26
        }
      ]
    },
    {
      "cell_type": "code",
      "source": [
        "A = tf.constant(numpy_A)\n",
        "A"
      ],
      "metadata": {
        "colab": {
          "base_uri": "https://localhost:8080/"
        },
        "id": "2qTqfivEiQsx",
        "outputId": "b036aa40-30a7-48c4-e9eb-d5920de4dd5d"
      },
      "execution_count": 27,
      "outputs": [
        {
          "output_type": "execute_result",
          "data": {
            "text/plain": [
              "<tf.Tensor: shape=(24,), dtype=int32, numpy=\n",
              "array([ 1,  2,  3,  4,  5,  6,  7,  8,  9, 10, 11, 12, 13, 14, 15, 16, 17,\n",
              "       18, 19, 20, 21, 22, 23, 24], dtype=int32)>"
            ]
          },
          "metadata": {},
          "execution_count": 27
        }
      ]
    },
    {
      "cell_type": "markdown",
      "source": [
        "- 2 * 3 * 4 = 24 \n",
        "- 3 * 8 = 24\n",
        "- To readjust the shape of a tensor, the number must add up to the same number in the original tensor"
      ],
      "metadata": {
        "id": "mStyLZ8xjayt"
      }
    },
    {
      "cell_type": "code",
      "source": [
        "B = tf.constant(numpy_A, shape=(2, 3, 4))\n",
        "B"
      ],
      "metadata": {
        "colab": {
          "base_uri": "https://localhost:8080/"
        },
        "id": "xadA0fO4iYFp",
        "outputId": "075bac7a-ed70-4ee2-82ee-67afa9721e3e"
      },
      "execution_count": 28,
      "outputs": [
        {
          "output_type": "execute_result",
          "data": {
            "text/plain": [
              "<tf.Tensor: shape=(2, 3, 4), dtype=int32, numpy=\n",
              "array([[[ 1,  2,  3,  4],\n",
              "        [ 5,  6,  7,  8],\n",
              "        [ 9, 10, 11, 12]],\n",
              "\n",
              "       [[13, 14, 15, 16],\n",
              "        [17, 18, 19, 20],\n",
              "        [21, 22, 23, 24]]], dtype=int32)>"
            ]
          },
          "metadata": {},
          "execution_count": 28
        }
      ]
    },
    {
      "cell_type": "markdown",
      "source": [
        "## Getting Information from Tensors"
      ],
      "metadata": {
        "id": "7faHP0kdjkrH"
      }
    },
    {
      "cell_type": "code",
      "source": [
        "# Create a rank 4 (4D) tensor\n",
        "rank_4_tensor = tf.zeros(shape=[2, 3, 4, 5])\n",
        "rank_4_tensor"
      ],
      "metadata": {
        "colab": {
          "base_uri": "https://localhost:8080/"
        },
        "id": "hJlILwQgiomP",
        "outputId": "6dd7916f-b876-480c-fc12-22de46bd8266"
      },
      "execution_count": 29,
      "outputs": [
        {
          "output_type": "execute_result",
          "data": {
            "text/plain": [
              "<tf.Tensor: shape=(2, 3, 4, 5), dtype=float32, numpy=\n",
              "array([[[[0., 0., 0., 0., 0.],\n",
              "         [0., 0., 0., 0., 0.],\n",
              "         [0., 0., 0., 0., 0.],\n",
              "         [0., 0., 0., 0., 0.]],\n",
              "\n",
              "        [[0., 0., 0., 0., 0.],\n",
              "         [0., 0., 0., 0., 0.],\n",
              "         [0., 0., 0., 0., 0.],\n",
              "         [0., 0., 0., 0., 0.]],\n",
              "\n",
              "        [[0., 0., 0., 0., 0.],\n",
              "         [0., 0., 0., 0., 0.],\n",
              "         [0., 0., 0., 0., 0.],\n",
              "         [0., 0., 0., 0., 0.]]],\n",
              "\n",
              "\n",
              "       [[[0., 0., 0., 0., 0.],\n",
              "         [0., 0., 0., 0., 0.],\n",
              "         [0., 0., 0., 0., 0.],\n",
              "         [0., 0., 0., 0., 0.]],\n",
              "\n",
              "        [[0., 0., 0., 0., 0.],\n",
              "         [0., 0., 0., 0., 0.],\n",
              "         [0., 0., 0., 0., 0.],\n",
              "         [0., 0., 0., 0., 0.]],\n",
              "\n",
              "        [[0., 0., 0., 0., 0.],\n",
              "         [0., 0., 0., 0., 0.],\n",
              "         [0., 0., 0., 0., 0.],\n",
              "         [0., 0., 0., 0., 0.]]]], dtype=float32)>"
            ]
          },
          "metadata": {},
          "execution_count": 29
        }
      ]
    },
    {
      "cell_type": "markdown",
      "source": [
        "👀 **TIP:** Inside 2 batches, there are 3 matrices, inside 3 matrices, there are 4 vectors and inside 4 vectors, there are 5 columns"
      ],
      "metadata": {
        "id": "TIJOrcLolJLh"
      }
    },
    {
      "cell_type": "code",
      "source": [
        "rank_4_tensor[0]"
      ],
      "metadata": {
        "colab": {
          "base_uri": "https://localhost:8080/"
        },
        "id": "qBtk9dgvkvRf",
        "outputId": "740930ae-f292-4653-d53d-625313f5984d"
      },
      "execution_count": 30,
      "outputs": [
        {
          "output_type": "execute_result",
          "data": {
            "text/plain": [
              "<tf.Tensor: shape=(3, 4, 5), dtype=float32, numpy=\n",
              "array([[[0., 0., 0., 0., 0.],\n",
              "        [0., 0., 0., 0., 0.],\n",
              "        [0., 0., 0., 0., 0.],\n",
              "        [0., 0., 0., 0., 0.]],\n",
              "\n",
              "       [[0., 0., 0., 0., 0.],\n",
              "        [0., 0., 0., 0., 0.],\n",
              "        [0., 0., 0., 0., 0.],\n",
              "        [0., 0., 0., 0., 0.]],\n",
              "\n",
              "       [[0., 0., 0., 0., 0.],\n",
              "        [0., 0., 0., 0., 0.],\n",
              "        [0., 0., 0., 0., 0.],\n",
              "        [0., 0., 0., 0., 0.]]], dtype=float32)>"
            ]
          },
          "metadata": {},
          "execution_count": 30
        }
      ]
    },
    {
      "cell_type": "code",
      "source": [
        "# Get various attributes of the tensor\n",
        "print('Datatype of every element: ', rank_4_tensor.dtype)\n",
        "print('Shape: ', rank_4_tensor.shape)\n",
        "print('Dimensions: ', rank_4_tensor.ndim)\n",
        "print('Size: ', tf.size(rank_4_tensor))\n",
        "print('Elements along the 0 axis: ', rank_4_tensor.shape[0])\n",
        "print('Elements along the last axis: ', rank_4_tensor.shape[-1])\n",
        "print('Total number of elements in the tensor: ', tf.size(rank_4_tensor).numpy())"
      ],
      "metadata": {
        "colab": {
          "base_uri": "https://localhost:8080/"
        },
        "id": "hjhQKry_l1be",
        "outputId": "bf18baf6-402b-4278-823a-acd04e7e7381"
      },
      "execution_count": 31,
      "outputs": [
        {
          "output_type": "stream",
          "name": "stdout",
          "text": [
            "Datatype of every element:  <dtype: 'float32'>\n",
            "Shape:  (2, 3, 4, 5)\n",
            "Dimensions:  4\n",
            "Size:  tf.Tensor(120, shape=(), dtype=int32)\n",
            "Elements along the 0 axis:  2\n",
            "Elements along the last axis:  5\n",
            "Total number of elements in the tensor:  120\n"
          ]
        }
      ]
    },
    {
      "cell_type": "markdown",
      "source": [
        "## Indexing Tensors"
      ],
      "metadata": {
        "id": "g_CvLqekow55"
      }
    },
    {
      "cell_type": "code",
      "source": [
        "# Remeber\n",
        "some_list = [1, 2, 3, 4]\n",
        "some_list[:2]"
      ],
      "metadata": {
        "colab": {
          "base_uri": "https://localhost:8080/"
        },
        "id": "rSTpoP0OpcXf",
        "outputId": "cde1f10f-de9c-454c-8677-be7fe7c05f87"
      },
      "execution_count": 32,
      "outputs": [
        {
          "output_type": "execute_result",
          "data": {
            "text/plain": [
              "[1, 2]"
            ]
          },
          "metadata": {},
          "execution_count": 32
        }
      ]
    },
    {
      "cell_type": "code",
      "source": [
        "# Get the first 2 elements of each dimension\n",
        "rank_4_tensor[:2, :2, :2, :2]"
      ],
      "metadata": {
        "colab": {
          "base_uri": "https://localhost:8080/"
        },
        "id": "SNfef3McmrBm",
        "outputId": "19c5c4d2-e1cd-4d8c-cf49-734c6499d2e0"
      },
      "execution_count": 33,
      "outputs": [
        {
          "output_type": "execute_result",
          "data": {
            "text/plain": [
              "<tf.Tensor: shape=(2, 2, 2, 2), dtype=float32, numpy=\n",
              "array([[[[0., 0.],\n",
              "         [0., 0.]],\n",
              "\n",
              "        [[0., 0.],\n",
              "         [0., 0.]]],\n",
              "\n",
              "\n",
              "       [[[0., 0.],\n",
              "         [0., 0.]],\n",
              "\n",
              "        [[0., 0.],\n",
              "         [0., 0.]]]], dtype=float32)>"
            ]
          },
          "metadata": {},
          "execution_count": 33
        }
      ]
    },
    {
      "cell_type": "code",
      "source": [
        "# Get the first element from each dimension from each index except for \n",
        "# the final one\n",
        "rank_4_tensor[:1, :1, :1, :]"
      ],
      "metadata": {
        "colab": {
          "base_uri": "https://localhost:8080/"
        },
        "id": "UH1INnlrpjjy",
        "outputId": "45958971-cd94-4339-a67f-b146a8155756"
      },
      "execution_count": 34,
      "outputs": [
        {
          "output_type": "execute_result",
          "data": {
            "text/plain": [
              "<tf.Tensor: shape=(1, 1, 1, 5), dtype=float32, numpy=array([[[[0., 0., 0., 0., 0.]]]], dtype=float32)>"
            ]
          },
          "metadata": {},
          "execution_count": 34
        }
      ]
    },
    {
      "cell_type": "code",
      "source": [
        "# Create a rank 2 (2D) tensor\n",
        "rank_2_tensor = tf.constant([[10, 7],\n",
        "                             [3, 4]])\n",
        "rank_2_tensor.shape, rank_2_tensor.ndim"
      ],
      "metadata": {
        "colab": {
          "base_uri": "https://localhost:8080/"
        },
        "id": "3_mqz9eysUng",
        "outputId": "c3de403a-4aee-4922-eba5-b7cfdc9b0052"
      },
      "execution_count": 35,
      "outputs": [
        {
          "output_type": "execute_result",
          "data": {
            "text/plain": [
              "(TensorShape([2, 2]), 2)"
            ]
          },
          "metadata": {},
          "execution_count": 35
        }
      ]
    },
    {
      "cell_type": "code",
      "source": [
        "# Get the last item of each of row of the rank_2 tensor\n",
        "rank_2_tensor[:, -1]"
      ],
      "metadata": {
        "colab": {
          "base_uri": "https://localhost:8080/"
        },
        "id": "hBwmb3k-tNfw",
        "outputId": "22d2f2c1-f60a-476c-ee97-4a60c5be6b4c"
      },
      "execution_count": 36,
      "outputs": [
        {
          "output_type": "execute_result",
          "data": {
            "text/plain": [
              "<tf.Tensor: shape=(2,), dtype=int32, numpy=array([7, 4], dtype=int32)>"
            ]
          },
          "metadata": {},
          "execution_count": 36
        }
      ]
    },
    {
      "cell_type": "markdown",
      "source": [
        "### Add Dimension"
      ],
      "metadata": {
        "id": "L4Bh7oLLvKDO"
      }
    },
    {
      "cell_type": "code",
      "source": [
        "# Add in extra dimension to the rank 2 tensor\n",
        "rank_3_tensor = rank_2_tensor[..., tf.newaxis]\n",
        "rank_3_tensor, rank_2_tensor"
      ],
      "metadata": {
        "colab": {
          "base_uri": "https://localhost:8080/"
        },
        "id": "XFWpZI_stvly",
        "outputId": "bc666ab1-a25b-45d8-9390-c54dc8840ee1"
      },
      "execution_count": 37,
      "outputs": [
        {
          "output_type": "execute_result",
          "data": {
            "text/plain": [
              "(<tf.Tensor: shape=(2, 2, 1), dtype=int32, numpy=\n",
              " array([[[10],\n",
              "         [ 7]],\n",
              " \n",
              "        [[ 3],\n",
              "         [ 4]]], dtype=int32)>, <tf.Tensor: shape=(2, 2), dtype=int32, numpy=\n",
              " array([[10,  7],\n",
              "        [ 3,  4]], dtype=int32)>)"
            ]
          },
          "metadata": {},
          "execution_count": 37
        }
      ]
    },
    {
      "cell_type": "code",
      "source": [
        "# ALternative to tf.newaxis\n",
        "tf.expand_dims(rank_2_tensor, axis=-1) # Expand the final axis"
      ],
      "metadata": {
        "colab": {
          "base_uri": "https://localhost:8080/"
        },
        "id": "4XePb2ZGuUXa",
        "outputId": "af63dfbd-60b5-4d29-b392-b92087c1ab56"
      },
      "execution_count": 38,
      "outputs": [
        {
          "output_type": "execute_result",
          "data": {
            "text/plain": [
              "<tf.Tensor: shape=(2, 2, 1), dtype=int32, numpy=\n",
              "array([[[10],\n",
              "        [ 7]],\n",
              "\n",
              "       [[ 3],\n",
              "        [ 4]]], dtype=int32)>"
            ]
          },
          "metadata": {},
          "execution_count": 38
        }
      ]
    },
    {
      "cell_type": "code",
      "source": [
        "tf.expand_dims(rank_2_tensor, axis=0)"
      ],
      "metadata": {
        "colab": {
          "base_uri": "https://localhost:8080/"
        },
        "id": "ENhSVybsut5g",
        "outputId": "3e7d409f-f476-4820-e85d-0d86db0b0b15"
      },
      "execution_count": 39,
      "outputs": [
        {
          "output_type": "execute_result",
          "data": {
            "text/plain": [
              "<tf.Tensor: shape=(1, 2, 2), dtype=int32, numpy=\n",
              "array([[[10,  7],\n",
              "        [ 3,  4]]], dtype=int32)>"
            ]
          },
          "metadata": {},
          "execution_count": 39
        }
      ]
    },
    {
      "cell_type": "markdown",
      "source": [
        "## Manipulating Tensors (Tensor Operations)"
      ],
      "metadata": {
        "id": "E7nktAPrvO2d"
      }
    },
    {
      "cell_type": "markdown",
      "source": [
        "### Basic Operations"
      ],
      "metadata": {
        "id": "1qECedtKvcCG"
      }
    },
    {
      "cell_type": "code",
      "source": [
        "# Adding values to a tensor\n",
        "tensor = tf.constant([[10, 7],\n",
        "                      [3, 4]])\n",
        "tensor + 10"
      ],
      "metadata": {
        "colab": {
          "base_uri": "https://localhost:8080/"
        },
        "id": "aPMJQ_OQvCGk",
        "outputId": "2d94039e-9236-4130-f825-2ed01d9d58a3"
      },
      "execution_count": 40,
      "outputs": [
        {
          "output_type": "execute_result",
          "data": {
            "text/plain": [
              "<tf.Tensor: shape=(2, 2), dtype=int32, numpy=\n",
              "array([[20, 17],\n",
              "       [13, 14]], dtype=int32)>"
            ]
          },
          "metadata": {},
          "execution_count": 40
        }
      ]
    },
    {
      "cell_type": "code",
      "source": [
        "# Multiplying a tensor\n",
        "print(tensor * 10)\n",
        "print(tf.multiply(tensor, 10)) # tf.math is FASTER"
      ],
      "metadata": {
        "colab": {
          "base_uri": "https://localhost:8080/"
        },
        "id": "WPvnSxBVvqkY",
        "outputId": "73371e1a-27b7-4567-c9f8-1b7d1ea034d0"
      },
      "execution_count": 41,
      "outputs": [
        {
          "output_type": "stream",
          "name": "stdout",
          "text": [
            "tf.Tensor(\n",
            "[[100  70]\n",
            " [ 30  40]], shape=(2, 2), dtype=int32)\n",
            "tf.Tensor(\n",
            "[[100  70]\n",
            " [ 30  40]], shape=(2, 2), dtype=int32)\n"
          ]
        }
      ]
    },
    {
      "cell_type": "code",
      "source": [
        "# Substracting a tensor\n",
        "tensor - 10"
      ],
      "metadata": {
        "colab": {
          "base_uri": "https://localhost:8080/"
        },
        "id": "XJ-2MaO1wDLt",
        "outputId": "8312cb3c-5236-4987-e77f-63fca4f20ba3"
      },
      "execution_count": 42,
      "outputs": [
        {
          "output_type": "execute_result",
          "data": {
            "text/plain": [
              "<tf.Tensor: shape=(2, 2), dtype=int32, numpy=\n",
              "array([[ 0, -3],\n",
              "       [-7, -6]], dtype=int32)>"
            ]
          },
          "metadata": {},
          "execution_count": 42
        }
      ]
    },
    {
      "cell_type": "markdown",
      "source": [
        "### Matrix Multiplication\n",
        "- The inner dimensions must match\n",
        "- The resulting matrix has the shape of the outer dimensions\n",
        "\n",
        "<br>\n",
        "\n",
        "$\\begin{bmatrix}\n",
        "A & B & C\\\\\n",
        "D & E & F\\\\\n",
        "G & H & I\n",
        "\\end{bmatrix}\n",
        "X\n",
        "\\begin{bmatrix}\n",
        "J & K\\\\\n",
        "L & M\\\\\n",
        "N & O\n",
        "\\end{bmatrix}$\n",
        "\n",
        "<br>\n",
        "\n",
        "3x**3** & **3**x2 (matching inner dimensions)\n",
        "\n",
        "**Result:** 3x2"
      ],
      "metadata": {
        "id": "xDEbcEuiwsYP"
      }
    },
    {
      "cell_type": "code",
      "source": [
        "tf.matmul(tensor, tensor)"
      ],
      "metadata": {
        "colab": {
          "base_uri": "https://localhost:8080/"
        },
        "id": "72rH3nu7wG-G",
        "outputId": "f8b64e0e-9e56-4a63-dc7d-18f7eb784d1b"
      },
      "execution_count": 43,
      "outputs": [
        {
          "output_type": "execute_result",
          "data": {
            "text/plain": [
              "<tf.Tensor: shape=(2, 2), dtype=int32, numpy=\n",
              "array([[121,  98],\n",
              "       [ 42,  37]], dtype=int32)>"
            ]
          },
          "metadata": {},
          "execution_count": 43
        }
      ]
    },
    {
      "cell_type": "code",
      "source": [
        "X = tf.constant([[1, 2],\n",
        "                 [3, 4],\n",
        "                 [5, 6]])"
      ],
      "metadata": {
        "id": "y-K36fTSyoT7",
        "colab": {
          "base_uri": "https://localhost:8080/"
        },
        "outputId": "6254f40d-3d93-4886-db2e-6463466bab6d"
      },
      "execution_count": 46,
      "outputs": [
        {
          "output_type": "execute_result",
          "data": {
            "text/plain": [
              "<tf.Tensor: shape=(3, 2), dtype=int32, numpy=\n",
              "array([[1, 2],\n",
              "       [3, 4],\n",
              "       [5, 6]], dtype=int32)>"
            ]
          },
          "metadata": {},
          "execution_count": 46
        }
      ]
    },
    {
      "cell_type": "code",
      "source": [
        "X, tf.transpose(X), tf.reshape(X, shape=(2, 3))"
      ],
      "metadata": {
        "colab": {
          "base_uri": "https://localhost:8080/"
        },
        "id": "45XaacQpL5z7",
        "outputId": "194b7f1c-38f8-44e3-844f-d3a251188145"
      },
      "execution_count": 47,
      "outputs": [
        {
          "output_type": "execute_result",
          "data": {
            "text/plain": [
              "(<tf.Tensor: shape=(3, 2), dtype=int32, numpy=\n",
              " array([[1, 2],\n",
              "        [3, 4],\n",
              "        [5, 6]], dtype=int32)>, <tf.Tensor: shape=(2, 3), dtype=int32, numpy=\n",
              " array([[1, 3, 5],\n",
              "        [2, 4, 6]], dtype=int32)>, <tf.Tensor: shape=(2, 3), dtype=int32, numpy=\n",
              " array([[1, 2, 3],\n",
              "        [4, 5, 6]], dtype=int32)>)"
            ]
          },
          "metadata": {},
          "execution_count": 47
        }
      ]
    },
    {
      "cell_type": "markdown",
      "source": [
        "- When performing matrix multiplication, if one of the axes doesn't line up, it's better to transpose than to reshape it"
      ],
      "metadata": {
        "id": "TDnOLzwDPdNP"
      }
    },
    {
      "cell_type": "markdown",
      "source": [
        "### Changing the Datatype of a Tensor"
      ],
      "metadata": {
        "id": "94oZjsmWP428"
      }
    },
    {
      "cell_type": "code",
      "source": [
        "# Creating a tensor with default datatype (int32 or float32)\n",
        "B = tf.constant([1.7, 7.4])\n",
        "B.dtype"
      ],
      "metadata": {
        "colab": {
          "base_uri": "https://localhost:8080/"
        },
        "id": "95PRVe-YMXG6",
        "outputId": "c66375c4-f774-478e-af26-d8a0e7a8cf8a"
      },
      "execution_count": 53,
      "outputs": [
        {
          "output_type": "execute_result",
          "data": {
            "text/plain": [
              "tf.float32"
            ]
          },
          "metadata": {},
          "execution_count": 53
        }
      ]
    },
    {
      "cell_type": "code",
      "source": [
        "C = tf.constant([7, 10])\n",
        "C.dtype"
      ],
      "metadata": {
        "colab": {
          "base_uri": "https://localhost:8080/"
        },
        "id": "B2gnTUh5QOAq",
        "outputId": "3e40b65a-5b56-4a90-bd03-e1a2d67c532f"
      },
      "execution_count": 54,
      "outputs": [
        {
          "output_type": "execute_result",
          "data": {
            "text/plain": [
              "tf.int32"
            ]
          },
          "metadata": {},
          "execution_count": 54
        }
      ]
    },
    {
      "cell_type": "code",
      "source": [
        "# Change to float32 to float16 (reduced precision)\n",
        "D = tf.cast(B, dtype=tf.float16)\n",
        "D"
      ],
      "metadata": {
        "colab": {
          "base_uri": "https://localhost:8080/"
        },
        "id": "SCeve-PCQUE4",
        "outputId": "267382c5-47e9-4550-c626-c80cd317098a"
      },
      "execution_count": 55,
      "outputs": [
        {
          "output_type": "execute_result",
          "data": {
            "text/plain": [
              "<tf.Tensor: shape=(2,), dtype=float16, numpy=array([1.7, 7.4], dtype=float16)>"
            ]
          },
          "metadata": {},
          "execution_count": 55
        }
      ]
    },
    {
      "cell_type": "code",
      "source": [
        "# Change from int32 to float32\n",
        "E = tf.cast(C, dtype=tf.float32)\n",
        "E.dtype, C.dtype"
      ],
      "metadata": {
        "colab": {
          "base_uri": "https://localhost:8080/"
        },
        "id": "P7zzsJ8gRAWz",
        "outputId": "e29309ef-0daf-4eae-8e36-d02f2b677d95"
      },
      "execution_count": 56,
      "outputs": [
        {
          "output_type": "execute_result",
          "data": {
            "text/plain": [
              "(tf.float32, tf.int32)"
            ]
          },
          "metadata": {},
          "execution_count": 56
        }
      ]
    },
    {
      "cell_type": "markdown",
      "source": [
        "### Aggregating Tensors"
      ],
      "metadata": {
        "id": "sC1LuUgFRvOP"
      }
    },
    {
      "cell_type": "code",
      "source": [
        "D = tf.constant([-7, -10])\n",
        "D"
      ],
      "metadata": {
        "colab": {
          "base_uri": "https://localhost:8080/"
        },
        "id": "hgpTlpyCRgP0",
        "outputId": "373ae7ae-584b-4848-ed0c-c00fab7a4dad"
      },
      "execution_count": 57,
      "outputs": [
        {
          "output_type": "execute_result",
          "data": {
            "text/plain": [
              "<tf.Tensor: shape=(2,), dtype=int32, numpy=array([ -7, -10], dtype=int32)>"
            ]
          },
          "metadata": {},
          "execution_count": 57
        }
      ]
    },
    {
      "cell_type": "code",
      "source": [
        "# Getting the absolute values\n",
        "tf.abs(D)"
      ],
      "metadata": {
        "colab": {
          "base_uri": "https://localhost:8080/"
        },
        "id": "7NL6QwirSws-",
        "outputId": "9db073b5-f381-497f-cb51-b3adba017883"
      },
      "execution_count": 58,
      "outputs": [
        {
          "output_type": "execute_result",
          "data": {
            "text/plain": [
              "<tf.Tensor: shape=(2,), dtype=int32, numpy=array([ 7, 10], dtype=int32)>"
            ]
          },
          "metadata": {},
          "execution_count": 58
        }
      ]
    },
    {
      "cell_type": "code",
      "source": [
        "# Creating a random tensor with values between 0 and 100 of size 50\n",
        "E = tf.constant(np.random.randint(0, 100, size=50))\n",
        "E"
      ],
      "metadata": {
        "colab": {
          "base_uri": "https://localhost:8080/"
        },
        "id": "RX_j0bupS2HQ",
        "outputId": "cdc4e3ac-0ac9-4808-ebb8-9ced96722a44"
      },
      "execution_count": 59,
      "outputs": [
        {
          "output_type": "execute_result",
          "data": {
            "text/plain": [
              "<tf.Tensor: shape=(50,), dtype=int64, numpy=\n",
              "array([12, 58, 99, 12, 26, 60, 65, 27, 64, 42, 93, 61, 45, 79,  9, 30, 38,\n",
              "       36, 86, 70, 37, 91, 26, 78, 77, 21, 98, 74, 52, 55,  0, 40, 71, 97,\n",
              "       98, 44, 32, 79, 77, 33, 62, 28, 54, 59, 29,  7, 63, 36, 76, 86])>"
            ]
          },
          "metadata": {},
          "execution_count": 59
        }
      ]
    },
    {
      "cell_type": "code",
      "source": [
        "print('Size: ', tf.size(E))\n",
        "print('Shape: ', E.shape) \n",
        "print('Dimensions: ', E.ndim)"
      ],
      "metadata": {
        "colab": {
          "base_uri": "https://localhost:8080/"
        },
        "id": "4vuqMcoJTe8E",
        "outputId": "759566de-6fdf-4a8d-9338-7e51b2e994cb"
      },
      "execution_count": 61,
      "outputs": [
        {
          "output_type": "stream",
          "name": "stdout",
          "text": [
            "Size:  tf.Tensor(50, shape=(), dtype=int32)\n",
            "Shape:  (50,)\n",
            "Dimensions:  1\n"
          ]
        }
      ]
    },
    {
      "cell_type": "code",
      "source": [
        "# Finding teh minimum\n",
        "tf.reduce_min(E)"
      ],
      "metadata": {
        "colab": {
          "base_uri": "https://localhost:8080/"
        },
        "id": "MQJnFDrnTlsb",
        "outputId": "beb12322-24c1-4928-8460-48feac8db058"
      },
      "execution_count": 62,
      "outputs": [
        {
          "output_type": "execute_result",
          "data": {
            "text/plain": [
              "<tf.Tensor: shape=(), dtype=int64, numpy=0>"
            ]
          },
          "metadata": {},
          "execution_count": 62
        }
      ]
    },
    {
      "cell_type": "code",
      "source": [
        "# Finding the maximum\n",
        "tf.reduce_max(E)"
      ],
      "metadata": {
        "colab": {
          "base_uri": "https://localhost:8080/"
        },
        "id": "W7QIyx_XUA0v",
        "outputId": "72f98c28-f189-4851-e5e9-b147cc0da1f5"
      },
      "execution_count": 63,
      "outputs": [
        {
          "output_type": "execute_result",
          "data": {
            "text/plain": [
              "<tf.Tensor: shape=(), dtype=int64, numpy=99>"
            ]
          },
          "metadata": {},
          "execution_count": 63
        }
      ]
    },
    {
      "cell_type": "code",
      "source": [
        "# Finding the mean\n",
        "tf.reduce_mean(E)"
      ],
      "metadata": {
        "colab": {
          "base_uri": "https://localhost:8080/"
        },
        "id": "qbO9TtOaUF4A",
        "outputId": "b42dcca6-33b6-470f-f62f-0b184ee16922"
      },
      "execution_count": 64,
      "outputs": [
        {
          "output_type": "execute_result",
          "data": {
            "text/plain": [
              "<tf.Tensor: shape=(), dtype=int64, numpy=53>"
            ]
          },
          "metadata": {},
          "execution_count": 64
        }
      ]
    },
    {
      "cell_type": "code",
      "source": [
        "# Finding the sum\n",
        "tf.reduce_sum(E)"
      ],
      "metadata": {
        "colab": {
          "base_uri": "https://localhost:8080/"
        },
        "id": "7rpoqwUSUJLb",
        "outputId": "0be8285b-cb25-44d3-e92d-6987da1ce492"
      },
      "execution_count": 65,
      "outputs": [
        {
          "output_type": "execute_result",
          "data": {
            "text/plain": [
              "<tf.Tensor: shape=(), dtype=int64, numpy=2692>"
            ]
          },
          "metadata": {},
          "execution_count": 65
        }
      ]
    },
    {
      "cell_type": "code",
      "source": [
        "# Finding the variance\n",
        "import tensorflow_probability as tfp\n",
        "tfp.stats.variance(E)"
      ],
      "metadata": {
        "colab": {
          "base_uri": "https://localhost:8080/"
        },
        "id": "_LJUWMzMUNIZ",
        "outputId": "8a91703c-8293-447d-9926-d8cfa34c8aa6"
      },
      "execution_count": 68,
      "outputs": [
        {
          "output_type": "execute_result",
          "data": {
            "text/plain": [
              "<tf.Tensor: shape=(), dtype=int64, numpy=722>"
            ]
          },
          "metadata": {},
          "execution_count": 68
        }
      ]
    },
    {
      "cell_type": "code",
      "source": [
        "# Finding the standard deviation\n",
        "tf.math.reduce_std(tf.cast(E, dtype=tf.float32))"
      ],
      "metadata": {
        "colab": {
          "base_uri": "https://localhost:8080/"
        },
        "id": "cXf-u0IgUjGT",
        "outputId": "a1ee07aa-aec3-41c7-eb08-c9265c444a44"
      },
      "execution_count": 69,
      "outputs": [
        {
          "output_type": "execute_result",
          "data": {
            "text/plain": [
              "<tf.Tensor: shape=(), dtype=float32, numpy=26.859905>"
            ]
          },
          "metadata": {},
          "execution_count": 69
        }
      ]
    },
    {
      "cell_type": "markdown",
      "source": [
        "### Find the Positional Minimum and Maximum"
      ],
      "metadata": {
        "id": "m3ZGeECCWGtt"
      }
    },
    {
      "cell_type": "code",
      "source": [
        "# Create a tensor for finding positional min and max\n",
        "tf.random.set_seed(42)\n",
        "F = tf.random.uniform(shape=[50])\n",
        "F"
      ],
      "metadata": {
        "colab": {
          "base_uri": "https://localhost:8080/"
        },
        "id": "zXPLSleZU_2i",
        "outputId": "be9bab45-783b-47c0-94cf-af93087eebd5"
      },
      "execution_count": 70,
      "outputs": [
        {
          "output_type": "execute_result",
          "data": {
            "text/plain": [
              "<tf.Tensor: shape=(50,), dtype=float32, numpy=\n",
              "array([0.6645621 , 0.44100678, 0.3528825 , 0.46448255, 0.03366041,\n",
              "       0.68467236, 0.74011743, 0.8724445 , 0.22632635, 0.22319686,\n",
              "       0.3103881 , 0.7223358 , 0.13318717, 0.5480639 , 0.5746088 ,\n",
              "       0.8996835 , 0.00946367, 0.5212307 , 0.6345445 , 0.1993283 ,\n",
              "       0.72942245, 0.54583454, 0.10756552, 0.6767061 , 0.6602763 ,\n",
              "       0.33695042, 0.60141766, 0.21062577, 0.8527372 , 0.44062173,\n",
              "       0.9485276 , 0.23752594, 0.81179297, 0.5263394 , 0.494308  ,\n",
              "       0.21612847, 0.8457197 , 0.8718841 , 0.3083862 , 0.6868038 ,\n",
              "       0.23764038, 0.7817228 , 0.9671384 , 0.06870162, 0.79873943,\n",
              "       0.66028714, 0.5871513 , 0.16461694, 0.7381023 , 0.32054043],\n",
              "      dtype=float32)>"
            ]
          },
          "metadata": {},
          "execution_count": 70
        }
      ]
    },
    {
      "cell_type": "code",
      "source": [
        "# Finding the positional maximum\n",
        "tf.argmax(F)"
      ],
      "metadata": {
        "colab": {
          "base_uri": "https://localhost:8080/"
        },
        "id": "qgkbhv4YXVTk",
        "outputId": "5672c254-fbd6-4ecb-c2e1-e2d8a4c59cd9"
      },
      "execution_count": 71,
      "outputs": [
        {
          "output_type": "execute_result",
          "data": {
            "text/plain": [
              "<tf.Tensor: shape=(), dtype=int64, numpy=42>"
            ]
          },
          "metadata": {},
          "execution_count": 71
        }
      ]
    },
    {
      "cell_type": "code",
      "source": [
        "# Index on the largest value position\n",
        "F[tf.argmax(F)]"
      ],
      "metadata": {
        "colab": {
          "base_uri": "https://localhost:8080/"
        },
        "id": "rCt1LopvXkp0",
        "outputId": "dbc5b810-e592-4c73-ddbb-4218b0e05007"
      },
      "execution_count": 72,
      "outputs": [
        {
          "output_type": "execute_result",
          "data": {
            "text/plain": [
              "<tf.Tensor: shape=(), dtype=float32, numpy=0.9671384>"
            ]
          },
          "metadata": {},
          "execution_count": 72
        }
      ]
    },
    {
      "cell_type": "code",
      "source": [
        "# Finding the maximim value of F\n",
        "tf.reduce_max(F)"
      ],
      "metadata": {
        "colab": {
          "base_uri": "https://localhost:8080/"
        },
        "id": "v30vPpwlXsWU",
        "outputId": "8c5dd8a2-1f1c-4656-a0a3-bbc8dc2751f7"
      },
      "execution_count": 73,
      "outputs": [
        {
          "output_type": "execute_result",
          "data": {
            "text/plain": [
              "<tf.Tensor: shape=(), dtype=float32, numpy=0.9671384>"
            ]
          },
          "metadata": {},
          "execution_count": 73
        }
      ]
    },
    {
      "cell_type": "code",
      "source": [
        "# Finding the positional minimum\n",
        "tf.argmin(F)"
      ],
      "metadata": {
        "colab": {
          "base_uri": "https://localhost:8080/"
        },
        "id": "DjzZYfUZXxS8",
        "outputId": "b7c91d03-0673-43f9-88eb-f18d7ddbba83"
      },
      "execution_count": 74,
      "outputs": [
        {
          "output_type": "execute_result",
          "data": {
            "text/plain": [
              "<tf.Tensor: shape=(), dtype=int64, numpy=16>"
            ]
          },
          "metadata": {},
          "execution_count": 74
        }
      ]
    },
    {
      "cell_type": "code",
      "source": [
        "# Index on the lowest value position\n",
        "F[tf.argmin(F)]"
      ],
      "metadata": {
        "colab": {
          "base_uri": "https://localhost:8080/"
        },
        "id": "X0YT7l_VYIB6",
        "outputId": "1755c002-8aac-4f10-a0b2-1354cdc68263"
      },
      "execution_count": 75,
      "outputs": [
        {
          "output_type": "execute_result",
          "data": {
            "text/plain": [
              "<tf.Tensor: shape=(), dtype=float32, numpy=0.009463668>"
            ]
          },
          "metadata": {},
          "execution_count": 75
        }
      ]
    },
    {
      "cell_type": "markdown",
      "source": [
        "## Squeezing a Tensor (Removing all single dimensions)"
      ],
      "metadata": {
        "id": "Ky3Dz9hGYZm8"
      }
    },
    {
      "cell_type": "code",
      "source": [
        "# Create a tensor\n",
        "tf.random.set_seed(42)\n",
        "G = tf.constant(tf.random.uniform(shape=[50]), shape=[1, 1, 1, 1, 50])\n",
        "G"
      ],
      "metadata": {
        "colab": {
          "base_uri": "https://localhost:8080/"
        },
        "id": "Kep67mhMYLzG",
        "outputId": "6402fa01-9083-4c63-e20a-e2e55e94756a"
      },
      "execution_count": 76,
      "outputs": [
        {
          "output_type": "execute_result",
          "data": {
            "text/plain": [
              "<tf.Tensor: shape=(1, 1, 1, 1, 50), dtype=float32, numpy=\n",
              "array([[[[[0.6645621 , 0.44100678, 0.3528825 , 0.46448255, 0.03366041,\n",
              "           0.68467236, 0.74011743, 0.8724445 , 0.22632635, 0.22319686,\n",
              "           0.3103881 , 0.7223358 , 0.13318717, 0.5480639 , 0.5746088 ,\n",
              "           0.8996835 , 0.00946367, 0.5212307 , 0.6345445 , 0.1993283 ,\n",
              "           0.72942245, 0.54583454, 0.10756552, 0.6767061 , 0.6602763 ,\n",
              "           0.33695042, 0.60141766, 0.21062577, 0.8527372 , 0.44062173,\n",
              "           0.9485276 , 0.23752594, 0.81179297, 0.5263394 , 0.494308  ,\n",
              "           0.21612847, 0.8457197 , 0.8718841 , 0.3083862 , 0.6868038 ,\n",
              "           0.23764038, 0.7817228 , 0.9671384 , 0.06870162, 0.79873943,\n",
              "           0.66028714, 0.5871513 , 0.16461694, 0.7381023 , 0.32054043]]]]],\n",
              "      dtype=float32)>"
            ]
          },
          "metadata": {},
          "execution_count": 76
        }
      ]
    },
    {
      "cell_type": "code",
      "source": [
        "G.ndim"
      ],
      "metadata": {
        "colab": {
          "base_uri": "https://localhost:8080/"
        },
        "id": "e2ULdF1zYqlp",
        "outputId": "8fc64049-edc4-4e89-bb94-0fd1bb34df3f"
      },
      "execution_count": 77,
      "outputs": [
        {
          "output_type": "execute_result",
          "data": {
            "text/plain": [
              "5"
            ]
          },
          "metadata": {},
          "execution_count": 77
        }
      ]
    },
    {
      "cell_type": "code",
      "source": [
        "G_squeezed = tf.squeeze(G)\n",
        "G_squeezed, G_squeezed.shape, G_squeezed.ndim"
      ],
      "metadata": {
        "colab": {
          "base_uri": "https://localhost:8080/"
        },
        "id": "KYonkBpcYwNU",
        "outputId": "57aac41b-764a-4ff4-de21-29f8151993c5"
      },
      "execution_count": 78,
      "outputs": [
        {
          "output_type": "execute_result",
          "data": {
            "text/plain": [
              "(<tf.Tensor: shape=(50,), dtype=float32, numpy=\n",
              " array([0.6645621 , 0.44100678, 0.3528825 , 0.46448255, 0.03366041,\n",
              "        0.68467236, 0.74011743, 0.8724445 , 0.22632635, 0.22319686,\n",
              "        0.3103881 , 0.7223358 , 0.13318717, 0.5480639 , 0.5746088 ,\n",
              "        0.8996835 , 0.00946367, 0.5212307 , 0.6345445 , 0.1993283 ,\n",
              "        0.72942245, 0.54583454, 0.10756552, 0.6767061 , 0.6602763 ,\n",
              "        0.33695042, 0.60141766, 0.21062577, 0.8527372 , 0.44062173,\n",
              "        0.9485276 , 0.23752594, 0.81179297, 0.5263394 , 0.494308  ,\n",
              "        0.21612847, 0.8457197 , 0.8718841 , 0.3083862 , 0.6868038 ,\n",
              "        0.23764038, 0.7817228 , 0.9671384 , 0.06870162, 0.79873943,\n",
              "        0.66028714, 0.5871513 , 0.16461694, 0.7381023 , 0.32054043],\n",
              "       dtype=float32)>, TensorShape([50]), 1)"
            ]
          },
          "metadata": {},
          "execution_count": 78
        }
      ]
    },
    {
      "cell_type": "markdown",
      "source": [
        "## One-hot Encoding Tensor"
      ],
      "metadata": {
        "id": "d5O0bvatZE1V"
      }
    },
    {
      "cell_type": "code",
      "source": [
        "# Create a list of indices\n",
        "some_list = [0, 1, 2, 3] # Could be red, green, blue, purple\n",
        "\n",
        "# One-hot encode the list of indices\n",
        "tf.one_hot(some_list, depth=4)"
      ],
      "metadata": {
        "colab": {
          "base_uri": "https://localhost:8080/"
        },
        "id": "vnZY7HI2Y7kh",
        "outputId": "823a354a-14d0-4d1f-fceb-cbcecad3f587"
      },
      "execution_count": 79,
      "outputs": [
        {
          "output_type": "execute_result",
          "data": {
            "text/plain": [
              "<tf.Tensor: shape=(4, 4), dtype=float32, numpy=\n",
              "array([[1., 0., 0., 0.],\n",
              "       [0., 1., 0., 0.],\n",
              "       [0., 0., 1., 0.],\n",
              "       [0., 0., 0., 1.]], dtype=float32)>"
            ]
          },
          "metadata": {},
          "execution_count": 79
        }
      ]
    },
    {
      "cell_type": "code",
      "source": [
        "# Specifying custom values for one hot encoding\n",
        "tf.one_hot(some_list, depth=4, on_value='On', off_value='Off')"
      ],
      "metadata": {
        "colab": {
          "base_uri": "https://localhost:8080/"
        },
        "id": "2UkHVYeCZ2Sm",
        "outputId": "6a4ae9f4-e41b-4891-de38-58099d572725"
      },
      "execution_count": 80,
      "outputs": [
        {
          "output_type": "execute_result",
          "data": {
            "text/plain": [
              "<tf.Tensor: shape=(4, 4), dtype=string, numpy=\n",
              "array([[b'On', b'Off', b'Off', b'Off'],\n",
              "       [b'Off', b'On', b'Off', b'Off'],\n",
              "       [b'Off', b'Off', b'On', b'Off'],\n",
              "       [b'Off', b'Off', b'Off', b'On']], dtype=object)>"
            ]
          },
          "metadata": {},
          "execution_count": 80
        }
      ]
    },
    {
      "cell_type": "code",
      "source": [
        "tf.one_hot(some_list, depth=3)"
      ],
      "metadata": {
        "colab": {
          "base_uri": "https://localhost:8080/"
        },
        "id": "V9FkIbTraRbl",
        "outputId": "31f4c1f7-a5d6-4bcb-a8f3-89cbbfb630da"
      },
      "execution_count": 84,
      "outputs": [
        {
          "output_type": "execute_result",
          "data": {
            "text/plain": [
              "<tf.Tensor: shape=(4, 3), dtype=float32, numpy=\n",
              "array([[1., 0., 0.],\n",
              "       [0., 1., 0.],\n",
              "       [0., 0., 1.],\n",
              "       [0., 0., 0.]], dtype=float32)>"
            ]
          },
          "metadata": {},
          "execution_count": 84
        }
      ]
    },
    {
      "cell_type": "markdown",
      "source": [
        "## More Math Functions"
      ],
      "metadata": {
        "id": "9yG6-jPPeqw_"
      }
    },
    {
      "cell_type": "markdown",
      "source": [
        "### Squaring, log, square root"
      ],
      "metadata": {
        "id": "04bbbMISetg8"
      }
    },
    {
      "cell_type": "code",
      "source": [
        "H = tf.range(1, 10)\n",
        "H"
      ],
      "metadata": {
        "colab": {
          "base_uri": "https://localhost:8080/"
        },
        "id": "1mPEwdvraiP4",
        "outputId": "2c3abe8b-8a05-48db-f4e3-22277eae64d3"
      },
      "execution_count": 85,
      "outputs": [
        {
          "output_type": "execute_result",
          "data": {
            "text/plain": [
              "<tf.Tensor: shape=(9,), dtype=int32, numpy=array([1, 2, 3, 4, 5, 6, 7, 8, 9], dtype=int32)>"
            ]
          },
          "metadata": {},
          "execution_count": 85
        }
      ]
    },
    {
      "cell_type": "code",
      "source": [
        "# Square\n",
        "tf.square(H)"
      ],
      "metadata": {
        "colab": {
          "base_uri": "https://localhost:8080/"
        },
        "id": "CkKFpaTreydF",
        "outputId": "50acc2fa-74bd-4f7f-ec54-b60bbe7d7847"
      },
      "execution_count": 86,
      "outputs": [
        {
          "output_type": "execute_result",
          "data": {
            "text/plain": [
              "<tf.Tensor: shape=(9,), dtype=int32, numpy=array([ 1,  4,  9, 16, 25, 36, 49, 64, 81], dtype=int32)>"
            ]
          },
          "metadata": {},
          "execution_count": 86
        }
      ]
    },
    {
      "cell_type": "code",
      "source": [
        "# Square Root\n",
        "tf.sqrt(tf.cast(H, dtype=tf.float32))"
      ],
      "metadata": {
        "colab": {
          "base_uri": "https://localhost:8080/"
        },
        "id": "zXB9FHQAe2Ey",
        "outputId": "9c3e09e1-5b87-4c65-cabe-b1e6409df413"
      },
      "execution_count": 88,
      "outputs": [
        {
          "output_type": "execute_result",
          "data": {
            "text/plain": [
              "<tf.Tensor: shape=(9,), dtype=float32, numpy=\n",
              "array([1.       , 1.4142135, 1.7320508, 2.       , 2.236068 , 2.4494898,\n",
              "       2.6457512, 2.828427 , 3.       ], dtype=float32)>"
            ]
          },
          "metadata": {},
          "execution_count": 88
        }
      ]
    },
    {
      "cell_type": "code",
      "source": [
        "# Log\n",
        "tf.math.log(tf.cast(H, dtype=tf.float32))"
      ],
      "metadata": {
        "colab": {
          "base_uri": "https://localhost:8080/"
        },
        "id": "2EFW8vVJfE5j",
        "outputId": "4856a633-d888-46b5-d6e3-b7b3720671d9"
      },
      "execution_count": 90,
      "outputs": [
        {
          "output_type": "execute_result",
          "data": {
            "text/plain": [
              "<tf.Tensor: shape=(9,), dtype=float32, numpy=\n",
              "array([0.       , 0.6931472, 1.0986123, 1.3862944, 1.609438 , 1.7917595,\n",
              "       1.9459102, 2.0794415, 2.1972246], dtype=float32)>"
            ]
          },
          "metadata": {},
          "execution_count": 90
        }
      ]
    },
    {
      "cell_type": "markdown",
      "source": [
        "## Tensors and NumPy"
      ],
      "metadata": {
        "id": "qIvQdl_tf1cZ"
      }
    },
    {
      "cell_type": "code",
      "source": [
        "# Create a tensor directly from a NumPy array\n",
        "J = tf.constant(np.array([3., 7., 10.]))\n",
        "J"
      ],
      "metadata": {
        "colab": {
          "base_uri": "https://localhost:8080/"
        },
        "id": "63kvtgCDfbcw",
        "outputId": "54b7f607-4bd0-412a-baa0-a379d2f712d7"
      },
      "execution_count": 91,
      "outputs": [
        {
          "output_type": "execute_result",
          "data": {
            "text/plain": [
              "<tf.Tensor: shape=(3,), dtype=float64, numpy=array([ 3.,  7., 10.])>"
            ]
          },
          "metadata": {},
          "execution_count": 91
        }
      ]
    },
    {
      "cell_type": "code",
      "source": [
        "# Convert the tensor back to a NumPy array\n",
        "np.array(J), type(np.array(J))"
      ],
      "metadata": {
        "colab": {
          "base_uri": "https://localhost:8080/"
        },
        "id": "8yKj5A9QgKga",
        "outputId": "4f3fad76-07c3-4a80-f10c-86c163017574"
      },
      "execution_count": 92,
      "outputs": [
        {
          "output_type": "execute_result",
          "data": {
            "text/plain": [
              "(array([ 3.,  7., 10.]), numpy.ndarray)"
            ]
          },
          "metadata": {},
          "execution_count": 92
        }
      ]
    },
    {
      "cell_type": "code",
      "source": [
        "# Convert tensor J to a NumPy array\n",
        "J.numpy(), type(J.numpy())"
      ],
      "metadata": {
        "colab": {
          "base_uri": "https://localhost:8080/"
        },
        "id": "Ej5Osl9PgRBi",
        "outputId": "b49c2915-6670-4dd0-d829-3f30bdf35265"
      },
      "execution_count": 93,
      "outputs": [
        {
          "output_type": "execute_result",
          "data": {
            "text/plain": [
              "(array([ 3.,  7., 10.]), numpy.ndarray)"
            ]
          },
          "metadata": {},
          "execution_count": 93
        }
      ]
    },
    {
      "cell_type": "code",
      "source": [
        "J = tf.constant([3.])\n",
        "J.numpy()[0]"
      ],
      "metadata": {
        "colab": {
          "base_uri": "https://localhost:8080/"
        },
        "id": "C6zRz8q2gW_T",
        "outputId": "9ee6c20a-0928-4b53-d8a7-17f3752b7c4d"
      },
      "execution_count": 97,
      "outputs": [
        {
          "output_type": "stream",
          "name": "stdout",
          "text": [
            "tf.Tensor(3.0, shape=(), dtype=float32)\n"
          ]
        },
        {
          "output_type": "execute_result",
          "data": {
            "text/plain": [
              "3.0"
            ]
          },
          "metadata": {},
          "execution_count": 97
        }
      ]
    },
    {
      "cell_type": "code",
      "source": [
        "# The default types of each are slightly different\n",
        "numpy_J = tf.constant(np.array([3., 7., 10.]))\n",
        "tensor_J = tf.constant([3., 7., 10.])\n",
        "numpy_J.dtype, tensor_J.dtype"
      ],
      "metadata": {
        "colab": {
          "base_uri": "https://localhost:8080/"
        },
        "id": "qlqYxbFhggkQ",
        "outputId": "33a3c323-0651-4890-cccc-585018bfa8b0"
      },
      "execution_count": 98,
      "outputs": [
        {
          "output_type": "execute_result",
          "data": {
            "text/plain": [
              "(tf.float64, tf.float32)"
            ]
          },
          "metadata": {},
          "execution_count": 98
        }
      ]
    },
    {
      "cell_type": "markdown",
      "source": [
        "## Finding Access to GPUs"
      ],
      "metadata": {
        "id": "p2XYcrq_hl7S"
      }
    },
    {
      "cell_type": "code",
      "source": [
        "tf.config.list_physical_devices()"
      ],
      "metadata": {
        "colab": {
          "base_uri": "https://localhost:8080/"
        },
        "id": "x18b7rolg9jJ",
        "outputId": "62ddedd2-d00f-4501-d714-d698e2bebe67"
      },
      "execution_count": 99,
      "outputs": [
        {
          "output_type": "execute_result",
          "data": {
            "text/plain": [
              "[PhysicalDevice(name='/physical_device:CPU:0', device_type='CPU')]"
            ]
          },
          "metadata": {},
          "execution_count": 99
        }
      ]
    },
    {
      "cell_type": "code",
      "source": [
        "# When GPU is active\n",
        "!nvidia-smi"
      ],
      "metadata": {
        "colab": {
          "base_uri": "https://localhost:8080/"
        },
        "id": "ky2Ym-SCh69A",
        "outputId": "b5416c4d-af8c-4580-f518-d50c8e461bac"
      },
      "execution_count": 100,
      "outputs": [
        {
          "output_type": "stream",
          "name": "stdout",
          "text": [
            "NVIDIA-SMI has failed because it couldn't communicate with the NVIDIA driver. Make sure that the latest NVIDIA driver is installed and running.\n",
            "\n"
          ]
        }
      ]
    }
  ]
}