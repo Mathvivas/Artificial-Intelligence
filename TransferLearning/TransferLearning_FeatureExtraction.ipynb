{
  "nbformat": 4,
  "nbformat_minor": 0,
  "metadata": {
    "colab": {
      "provenance": [],
      "authorship_tag": "ABX9TyMtzDkjFFzLCm5YZU9CnBRD"
    },
    "kernelspec": {
      "name": "python3",
      "display_name": "Python 3"
    },
    "language_info": {
      "name": "python"
    },
    "accelerator": "GPU",
    "gpuClass": "standard"
  },
  "cells": [
    {
      "cell_type": "markdown",
      "source": [
        "# Transfer Learning Part 1: Feature Extraction\n",
        "\n",
        "- Transfer learning is leveraging a working model's existing architecture and learned patterns for your own problem.\n",
        "\n",
        "- **Feature Extraction**: Only the output layer and the dataset change. The hidden layers stay the same.\n",
        "\n",
        "- **Fine-tuning**: Top layers can get trained on new data."
      ],
      "metadata": {
        "id": "pwGK2ShIuNyL"
      }
    },
    {
      "cell_type": "code",
      "execution_count": 1,
      "metadata": {
        "colab": {
          "base_uri": "https://localhost:8080/"
        },
        "id": "gC-wlaakrwth",
        "outputId": "2ea62d87-0308-40a3-f46e-ac59835e64a1"
      },
      "outputs": [
        {
          "output_type": "stream",
          "name": "stdout",
          "text": [
            "Sat Jan 21 02:25:59 2023       \n",
            "+-----------------------------------------------------------------------------+\n",
            "| NVIDIA-SMI 460.32.03    Driver Version: 460.32.03    CUDA Version: 11.2     |\n",
            "|-------------------------------+----------------------+----------------------+\n",
            "| GPU  Name        Persistence-M| Bus-Id        Disp.A | Volatile Uncorr. ECC |\n",
            "| Fan  Temp  Perf  Pwr:Usage/Cap|         Memory-Usage | GPU-Util  Compute M. |\n",
            "|                               |                      |               MIG M. |\n",
            "|===============================+======================+======================|\n",
            "|   0  Tesla T4            Off  | 00000000:00:04.0 Off |                    0 |\n",
            "| N/A   37C    P0    25W /  70W |      0MiB / 15109MiB |      0%      Default |\n",
            "|                               |                      |                  N/A |\n",
            "+-------------------------------+----------------------+----------------------+\n",
            "                                                                               \n",
            "+-----------------------------------------------------------------------------+\n",
            "| Processes:                                                                  |\n",
            "|  GPU   GI   CI        PID   Type   Process name                  GPU Memory |\n",
            "|        ID   ID                                                   Usage      |\n",
            "|=============================================================================|\n",
            "|  No running processes found                                                 |\n",
            "+-----------------------------------------------------------------------------+\n"
          ]
        }
      ],
      "source": [
        "# Am I unsing a GPU?\n",
        "!nvidia-smi"
      ]
    },
    {
      "cell_type": "markdown",
      "source": [
        "## Downloading and Analysing the Data"
      ],
      "metadata": {
        "id": "1lwn4nNzwaMt"
      }
    },
    {
      "cell_type": "code",
      "source": [
        "import zipfile\n",
        "\n",
        "# Getting the data (10% of 10 food classes from Food101)\n",
        "!wget https://storage.googleapis.com/ztm_tf_course/food_vision/10_food_classes_10_percent.zip\n",
        "\n",
        "# Unzip the downloaded file\n",
        "zip_ref = zipfile.ZipFile('10_food_classes_10_percent.zip', 'r')\n",
        "zip_ref.extractall()\n",
        "zip_ref.close()"
      ],
      "metadata": {
        "colab": {
          "base_uri": "https://localhost:8080/"
        },
        "id": "0L1xWxd6wVno",
        "outputId": "2014d167-ff3b-4b10-ce86-e67bd1ad69cb"
      },
      "execution_count": 2,
      "outputs": [
        {
          "output_type": "stream",
          "name": "stdout",
          "text": [
            "--2023-01-21 02:25:59--  https://storage.googleapis.com/ztm_tf_course/food_vision/10_food_classes_10_percent.zip\n",
            "Resolving storage.googleapis.com (storage.googleapis.com)... 74.125.68.128, 74.125.24.128, 142.250.4.128, ...\n",
            "Connecting to storage.googleapis.com (storage.googleapis.com)|74.125.68.128|:443... connected.\n",
            "HTTP request sent, awaiting response... 200 OK\n",
            "Length: 168546183 (161M) [application/zip]\n",
            "Saving to: ‘10_food_classes_10_percent.zip’\n",
            "\n",
            "10_food_classes_10_ 100%[===================>] 160.74M  23.6MB/s    in 7.9s    \n",
            "\n",
            "2023-01-21 02:26:08 (20.3 MB/s) - ‘10_food_classes_10_percent.zip’ saved [168546183/168546183]\n",
            "\n"
          ]
        }
      ]
    },
    {
      "cell_type": "code",
      "source": [
        "# How many images in each folder?\n",
        "import os\n",
        "\n",
        "# Walk through 10% data directory and list number of files\n",
        "for dirpath, dirnames, filenames in os.walk('10_food_classes_10_percent'):\n",
        "    print(f'There are {len(dirnames)} directories and {len(filenames)} \\\n",
        "    images in \"{dirpath}\".')"
      ],
      "metadata": {
        "colab": {
          "base_uri": "https://localhost:8080/"
        },
        "id": "K7SU6fj-xTDJ",
        "outputId": "3f28ee17-cf70-4491-f084-d2df1032f25c"
      },
      "execution_count": 3,
      "outputs": [
        {
          "output_type": "stream",
          "name": "stdout",
          "text": [
            "There are 2 directories and 0     images in \"10_food_classes_10_percent\".\n",
            "There are 10 directories and 0     images in \"10_food_classes_10_percent/train\".\n",
            "There are 0 directories and 75     images in \"10_food_classes_10_percent/train/chicken_wings\".\n",
            "There are 0 directories and 75     images in \"10_food_classes_10_percent/train/grilled_salmon\".\n",
            "There are 0 directories and 75     images in \"10_food_classes_10_percent/train/chicken_curry\".\n",
            "There are 0 directories and 75     images in \"10_food_classes_10_percent/train/steak\".\n",
            "There are 0 directories and 75     images in \"10_food_classes_10_percent/train/sushi\".\n",
            "There are 0 directories and 75     images in \"10_food_classes_10_percent/train/pizza\".\n",
            "There are 0 directories and 75     images in \"10_food_classes_10_percent/train/fried_rice\".\n",
            "There are 0 directories and 75     images in \"10_food_classes_10_percent/train/ice_cream\".\n",
            "There are 0 directories and 75     images in \"10_food_classes_10_percent/train/ramen\".\n",
            "There are 0 directories and 75     images in \"10_food_classes_10_percent/train/hamburger\".\n",
            "There are 10 directories and 0     images in \"10_food_classes_10_percent/test\".\n",
            "There are 0 directories and 250     images in \"10_food_classes_10_percent/test/chicken_wings\".\n",
            "There are 0 directories and 250     images in \"10_food_classes_10_percent/test/grilled_salmon\".\n",
            "There are 0 directories and 250     images in \"10_food_classes_10_percent/test/chicken_curry\".\n",
            "There are 0 directories and 250     images in \"10_food_classes_10_percent/test/steak\".\n",
            "There are 0 directories and 250     images in \"10_food_classes_10_percent/test/sushi\".\n",
            "There are 0 directories and 250     images in \"10_food_classes_10_percent/test/pizza\".\n",
            "There are 0 directories and 250     images in \"10_food_classes_10_percent/test/fried_rice\".\n",
            "There are 0 directories and 250     images in \"10_food_classes_10_percent/test/ice_cream\".\n",
            "There are 0 directories and 250     images in \"10_food_classes_10_percent/test/ramen\".\n",
            "There are 0 directories and 250     images in \"10_food_classes_10_percent/test/hamburger\".\n"
          ]
        }
      ]
    },
    {
      "cell_type": "markdown",
      "source": [
        "## Creating Data Loaders (Preparing the Data)"
      ],
      "metadata": {
        "id": "lTeQukTizuTq"
      }
    },
    {
      "cell_type": "code",
      "source": [
        "# Unsing ImageDataGenerator class to load images in batches\n",
        "# Setup data inputs\n",
        "from keras.preprocessing.image import ImageDataGenerator"
      ],
      "metadata": {
        "id": "-BaWpmt9zKyQ"
      },
      "execution_count": 4,
      "outputs": []
    },
    {
      "cell_type": "code",
      "source": [
        "IMAGE_SHAPE = (224, 224)\n",
        "BATCH_SIZE = 32\n",
        "\n",
        "train_dir = '10_food_classes_10_percent/train/'\n",
        "test_dir = '10_food_classes_10_percent/test/'\n",
        "\n",
        "train_datagen = ImageDataGenerator(rescale=1/255.)\n",
        "test_datagen = ImageDataGenerator(rescale=1/255.)\n",
        "\n",
        "print('Training Images:')\n",
        "train_data_10_percent = train_datagen.flow_from_directory(train_dir,\n",
        "                                                    target_size=IMAGE_SHAPE,\n",
        "                                                    batch_size=BATCH_SIZE,\n",
        "                                                    class_mode='categorical')\n",
        "\n",
        "print('Testing Images:')\n",
        "test_data = test_datagen.flow_from_directory(test_dir,\n",
        "                                             target_size=IMAGE_SHAPE,\n",
        "                                             batch_size=BATCH_SIZE,\n",
        "                                             class_mode='categorical')"
      ],
      "metadata": {
        "colab": {
          "base_uri": "https://localhost:8080/"
        },
        "id": "7OBViGnt0Gtf",
        "outputId": "ab773b7a-f97c-4160-e4d8-6e5fa51bb759"
      },
      "execution_count": 5,
      "outputs": [
        {
          "output_type": "stream",
          "name": "stdout",
          "text": [
            "Training Images:\n",
            "Found 750 images belonging to 10 classes.\n",
            "Testing Images:\n",
            "Found 2500 images belonging to 10 classes.\n"
          ]
        }
      ]
    },
    {
      "cell_type": "markdown",
      "source": [
        "## Setting Up Callbacks\n",
        "\n",
        "- Tracking experiments with the TensorBoard Callback\n",
        "- Model checkpoint with the ModelCheckpoint Callback\n",
        "- Stopping a model from training (avoiding overfitting) with the EarlyStopping Callback"
      ],
      "metadata": {
        "id": "C4ovNPJF1ngg"
      }
    },
    {
      "cell_type": "code",
      "source": [
        "import datetime\n",
        "import tensorflow as tf"
      ],
      "metadata": {
        "id": "g6-qyJwo09Y8"
      },
      "execution_count": 6,
      "outputs": []
    },
    {
      "cell_type": "code",
      "source": [
        "# Creating a TensorBoard Callback\n",
        "def create_tensorboard_callback(dir_name, experiment_name):\n",
        "    log_dir = dir_name + '/' + experiment_name + '/' + datetime.datetime.now().strftime('%Y%m%d-%H%M%S')\n",
        "    tensorboard_callback = tf.keras.callbacks.TensorBoard(log_dir=log_dir)\n",
        "    print(f'Saving TensorBoard log files to: {log_dir}')\n",
        "    return tensorboard_callback"
      ],
      "metadata": {
        "id": "_kJWUKzW4Opm"
      },
      "execution_count": 7,
      "outputs": []
    },
    {
      "cell_type": "markdown",
      "source": [
        "## Creating Models using Tensorflow Hub\n",
        "\n",
        "- Access pretrained models on: https://tfhub.dev/\n",
        "- https://tfhub.dev/tensorflow/efficientnet/b0/feature-vector/1\n",
        "- https://tfhub.dev/google/imagenet/resnet_v2_50/feature_vector/5"
      ],
      "metadata": {
        "id": "1q27tk9Z5ghJ"
      }
    },
    {
      "cell_type": "code",
      "source": [
        "# Comparing two models\n",
        "resnet_url = 'https://tfhub.dev/google/imagenet/resnet_v2_50/feature_vector/5'\n",
        "efficientnet_url = 'https://tfhub.dev/tensorflow/efficientnet/b0/feature-vector/1'"
      ],
      "metadata": {
        "id": "r2XnzAOj5PXZ"
      },
      "execution_count": 8,
      "outputs": []
    },
    {
      "cell_type": "code",
      "source": [
        "# Import dependencies\n",
        "import tensorflow_hub as hub\n",
        "from keras import layers"
      ],
      "metadata": {
        "id": "mVWU6lyE9Tjk"
      },
      "execution_count": 9,
      "outputs": []
    },
    {
      "cell_type": "code",
      "source": [
        "IMAGE_SHAPE + (3,)"
      ],
      "metadata": {
        "colab": {
          "base_uri": "https://localhost:8080/"
        },
        "id": "wQ8vHdtN_q5_",
        "outputId": "faa43fe4-e90b-4703-e4d1-86765bef7820"
      },
      "execution_count": 10,
      "outputs": [
        {
          "output_type": "execute_result",
          "data": {
            "text/plain": [
              "(224, 224, 3)"
            ]
          },
          "metadata": {},
          "execution_count": 10
        }
      ]
    },
    {
      "cell_type": "code",
      "source": [
        "# Creating a function to create e model from a URL\n",
        "def create_model(model_url, num_classes=10):\n",
        "    \"\"\"\n",
        "    Takes a Tensorflow Hub URL and creates a Keras Sequential model with it.\n",
        "\n",
        "    Args:\n",
        "        model_url (str): A Tensorflow Hub feature extraction URL.\n",
        "        num_classes (int): Number of output neurons in the output layer,\n",
        "            should be equal to number of target classes, default 10.\n",
        "\n",
        "    Returns:\n",
        "        An uncompiled Keras Sequential model with model_url as feature \n",
        "        extractor layer and Dense output layer with num_classes output neurons.\n",
        "    \"\"\"\n",
        "    # Download the pretrained model and save it as a Keras layer\n",
        "    feature_extraction_layer = hub.KerasLayer(model_url,\n",
        "                                        # Freeze the already learned patterns\n",
        "                                        trainable=False,\n",
        "                                        name='feature_extraction_layer',\n",
        "                                        input_shape=IMAGE_SHAPE+(3,))\n",
        "    \n",
        "    # Create a model\n",
        "    model = tf.keras.Sequential([\n",
        "        feature_extraction_layer,\n",
        "        layers.Dense(num_classes, activation='softmax', name='output_layer')\n",
        "    ])\n",
        "    return model"
      ],
      "metadata": {
        "id": "jPvJYzR39tVz"
      },
      "execution_count": 11,
      "outputs": []
    },
    {
      "cell_type": "markdown",
      "source": [
        "### Creating and Testing the ResNet Tensorflow Hub Feature Extraction Model"
      ],
      "metadata": {
        "id": "UQEu_ZMgAVE2"
      }
    },
    {
      "cell_type": "code",
      "source": [
        "train_data_10_percent.num_classes"
      ],
      "metadata": {
        "colab": {
          "base_uri": "https://localhost:8080/"
        },
        "id": "vODHKK99A0oJ",
        "outputId": "f8864eb7-e328-48a1-ee32-2cc2694a4089"
      },
      "execution_count": 12,
      "outputs": [
        {
          "output_type": "execute_result",
          "data": {
            "text/plain": [
              "10"
            ]
          },
          "metadata": {},
          "execution_count": 12
        }
      ]
    },
    {
      "cell_type": "code",
      "source": [
        "# Create ResNet model\n",
        "resnet_model = create_model(resnet_url,\n",
        "                            num_classes=train_data_10_percent.num_classes)"
      ],
      "metadata": {
        "id": "i--7p8ChAPuT"
      },
      "execution_count": 13,
      "outputs": []
    },
    {
      "cell_type": "code",
      "source": [
        "resnet_model.summary()"
      ],
      "metadata": {
        "colab": {
          "base_uri": "https://localhost:8080/"
        },
        "id": "x8Ux_MUIBjVZ",
        "outputId": "44a284dc-f013-4f78-e71f-66386a2f36bc"
      },
      "execution_count": 14,
      "outputs": [
        {
          "output_type": "stream",
          "name": "stdout",
          "text": [
            "Model: \"sequential\"\n",
            "_________________________________________________________________\n",
            " Layer (type)                Output Shape              Param #   \n",
            "=================================================================\n",
            " feature_extraction_layer (K  (None, 2048)             23564800  \n",
            " erasLayer)                                                      \n",
            "                                                                 \n",
            " output_layer (Dense)        (None, 10)                20490     \n",
            "                                                                 \n",
            "=================================================================\n",
            "Total params: 23,585,290\n",
            "Trainable params: 20,490\n",
            "Non-trainable params: 23,564,800\n",
            "_________________________________________________________________\n"
          ]
        }
      ]
    },
    {
      "cell_type": "markdown",
      "source": [
        "- The only trainable params are of the new output layer"
      ],
      "metadata": {
        "id": "XBSA_f-_B9NU"
      }
    },
    {
      "cell_type": "code",
      "source": [
        "# Compile the model\n",
        "resnet_model.compile(loss='categorical_crossentropy',\n",
        "                     optimizer=tf.keras.optimizers.Adam(),\n",
        "                     metrics=['accuracy'])"
      ],
      "metadata": {
        "id": "Lzc0-UWyB46S"
      },
      "execution_count": 15,
      "outputs": []
    },
    {
      "cell_type": "code",
      "source": [
        "# Fit the model\n",
        "resnet_history = resnet_model.fit(train_data_10_percent,\n",
        "                                  epochs=5,\n",
        "                                  steps_per_epoch=len(train_data_10_percent),\n",
        "                                  validation_data=test_data,\n",
        "                                  validation_steps=len(test_data),\n",
        "                                  callbacks=[create_tensorboard_callback(dir_name='tensorflow_hub',\n",
        "                                                                         experiment_name='resnet50v2')])"
      ],
      "metadata": {
        "colab": {
          "base_uri": "https://localhost:8080/"
        },
        "id": "yCoshZZPCQK8",
        "outputId": "e8fb6dbd-0bd0-472e-849f-07f97992447e"
      },
      "execution_count": 16,
      "outputs": [
        {
          "output_type": "stream",
          "name": "stdout",
          "text": [
            "Saving TensorBoard log files to: tensorflow_hub/resnet50v2/20230121-022627\n",
            "Epoch 1/5\n",
            "24/24 [==============================] - 29s 733ms/step - loss: 1.9780 - accuracy: 0.3520 - val_loss: 1.2638 - val_accuracy: 0.6036\n",
            "Epoch 2/5\n",
            "24/24 [==============================] - 15s 645ms/step - loss: 0.9331 - accuracy: 0.7227 - val_loss: 0.8756 - val_accuracy: 0.7212\n",
            "Epoch 3/5\n",
            "24/24 [==============================] - 24s 1s/step - loss: 0.6419 - accuracy: 0.8120 - val_loss: 0.7602 - val_accuracy: 0.7512\n",
            "Epoch 4/5\n",
            "24/24 [==============================] - 15s 651ms/step - loss: 0.4977 - accuracy: 0.8667 - val_loss: 0.7131 - val_accuracy: 0.7612\n",
            "Epoch 5/5\n",
            "24/24 [==============================] - 15s 645ms/step - loss: 0.3943 - accuracy: 0.9080 - val_loss: 0.6774 - val_accuracy: 0.7748\n"
          ]
        }
      ]
    },
    {
      "cell_type": "code",
      "source": [
        "import matplotlib.pyplot as plt"
      ],
      "metadata": {
        "id": "RJHzNfR1DPm7"
      },
      "execution_count": 18,
      "outputs": []
    },
    {
      "cell_type": "code",
      "source": [
        "# Creating a function to plot the loss curves\n",
        "def plot_loss_curves(history):\n",
        "    \"\"\"\n",
        "    Return separate loss curves for training and validation metrics.\n",
        "\n",
        "    Args:\n",
        "        history: Tensorflow History object.\n",
        "\n",
        "    Returns:\n",
        "        Plots of training/validation loss and accuracy metrics.\n",
        "    \"\"\"\n",
        "\n",
        "    loss = history.history['loss']\n",
        "    val_loss = history.history['val_loss']\n",
        "\n",
        "    accuracy = history.history['accuracy']\n",
        "    val_accuracy = history.history['val_accuracy']\n",
        "\n",
        "    epochs = range(len(history.history['loss']))\n",
        "\n",
        "    # Plot loss\n",
        "    plt.plot(epochs, loss, label='training_loss')\n",
        "    plt.plot(epochs, val_loss, label='val_loss')\n",
        "    plt.title('Loss')\n",
        "    plt.xlabel('Epochs')\n",
        "    plt.legend()\n",
        "\n",
        "    # Plot accuracy\n",
        "    plt.figure()\n",
        "    plt.plot(epochs, accuracy, label='training_accuracy')\n",
        "    plt.plot(epochs, val_accuracy, label='val_accuracy')\n",
        "    plt.title('Accuracy')\n",
        "    plt.xlabel('Epochs')\n",
        "    plt.legend()"
      ],
      "metadata": {
        "id": "rH5rtsazMaDP"
      },
      "execution_count": 19,
      "outputs": []
    },
    {
      "cell_type": "code",
      "source": [
        "plot_loss_curves(resnet_history)"
      ],
      "metadata": {
        "colab": {
          "base_uri": "https://localhost:8080/",
          "height": 573
        },
        "id": "smMvDdXuNYIh",
        "outputId": "43fbdcb6-1f15-4538-f042-51ed1e842360"
      },
      "execution_count": 20,
      "outputs": [
        {
          "output_type": "display_data",
          "data": {
            "text/plain": [
              "<Figure size 432x288 with 1 Axes>"
            ],
            "image/png": "[encoded data removed]"
          },
          "metadata": {
            "needs_background": "light"
          }
        },
        {
          "output_type": "display_data",
          "data": {
            "text/plain": [
              "<Figure size 432x288 with 1 Axes>"
            ],
            "image/png": "[encoded data removed]"
          },
          "metadata": {
            "needs_background": "light"
          }
        }
      ]
    },
    {
      "cell_type": "markdown",
      "source": [
        "### Creating and Testing the EfficientNetB0 Tensorflow Hub Feature Extraction Model"
      ],
      "metadata": {
        "id": "PGbVpwLMPKO-"
      }
    },
    {
      "cell_type": "code",
      "source": [
        "# Create EfficientNetB0 feature extraction model\n",
        "efficientnet_model = create_model(model_url=efficientnet_url,\n",
        "                                num_classes=train_data_10_percent.num_classes)\n",
        "\n",
        "# Compile EfficientNet Model\n",
        "efficientnet_model.compile(loss='categorical_crossentropy',\n",
        "                           optimizer=tf.keras.optimizers.Adam(),\n",
        "                           metrics=['accuracy'])\n",
        "\n",
        "# Fit EfficientNet model to 10% of training data\n",
        "efficientnet_history = efficientnet_model.fit(train_data_10_percent,\n",
        "                                    epochs=5,\n",
        "                                    steps_per_epoch=len(train_data_10_percent),\n",
        "                                    validation_data=test_data,\n",
        "                                    validation_steps=len(test_data),\n",
        "                                    callbacks=[create_tensorboard_callback(\n",
        "                                        dir_name='tensorflow_hub',\n",
        "                                        experiment_name='efficientnetb0'\n",
        "                                    )])"
      ],
      "metadata": {
        "colab": {
          "base_uri": "https://localhost:8080/"
        },
        "id": "iX1DIjV6NbJr",
        "outputId": "56ca0cf5-ba71-4ac0-afa6-40f146c1ee1e"
      },
      "execution_count": 22,
      "outputs": [
        {
          "output_type": "stream",
          "name": "stdout",
          "text": [
            "Saving TensorBoard log files to: tensorflow_hub/efficientnetb0/20230121-030036\n",
            "Epoch 1/5\n",
            "24/24 [==============================] - 24s 698ms/step - loss: 1.8214 - accuracy: 0.4467 - val_loss: 1.2814 - val_accuracy: 0.7572\n",
            "Epoch 2/5\n",
            "24/24 [==============================] - 14s 612ms/step - loss: 1.0514 - accuracy: 0.7640 - val_loss: 0.8560 - val_accuracy: 0.8264\n",
            "Epoch 3/5\n",
            "24/24 [==============================] - 14s 615ms/step - loss: 0.7539 - accuracy: 0.8253 - val_loss: 0.6896 - val_accuracy: 0.8444\n",
            "Epoch 4/5\n",
            "24/24 [==============================] - 15s 643ms/step - loss: 0.6076 - accuracy: 0.8533 - val_loss: 0.6067 - val_accuracy: 0.8548\n",
            "Epoch 5/5\n",
            "24/24 [==============================] - 14s 621ms/step - loss: 0.5144 - accuracy: 0.8853 - val_loss: 0.5527 - val_accuracy: 0.8648\n"
          ]
        }
      ]
    },
    {
      "cell_type": "code",
      "source": [
        "plot_loss_curves(efficientnet_history)"
      ],
      "metadata": {
        "colab": {
          "base_uri": "https://localhost:8080/",
          "height": 573
        },
        "id": "HjW5V0jQPvD4",
        "outputId": "edc62f34-88e8-4820-fbd1-a8150b4f9791"
      },
      "execution_count": 23,
      "outputs": [
        {
          "output_type": "display_data",
          "data": {
            "text/plain": [
              "<Figure size 432x288 with 1 Axes>"
            ],
            "image/png": "[encoded data removed]"
          },
          "metadata": {
            "needs_background": "light"
          }
        },
        {
          "output_type": "display_data",
          "data": {
            "text/plain": [
              "<Figure size 432x288 with 1 Axes>"
            ],
            "image/png": "[encoded data removed]"
          },
          "metadata": {
            "needs_background": "light"
          }
        }
      ]
    },
    {
      "cell_type": "code",
      "source": [
        "# How many layers does the efficientnetb0 feature extraction have?\n",
        "len(efficientnet_model.layers[0].weights)"
      ],
      "metadata": {
        "colab": {
          "base_uri": "https://localhost:8080/"
        },
        "id": "kT6Z8amOT0br",
        "outputId": "1f0a5fcb-9e6b-4364-8365-da2c1f563cca"
      },
      "execution_count": 24,
      "outputs": [
        {
          "output_type": "execute_result",
          "data": {
            "text/plain": [
              "309"
            ]
          },
          "metadata": {},
          "execution_count": 24
        }
      ]
    },
    {
      "cell_type": "markdown",
      "source": [
        "## Comparing the Models using TensorBoard"
      ],
      "metadata": {
        "id": "WGEkmOThWtPe"
      }
    },
    {
      "cell_type": "code",
      "source": [
        "# Upload TensorBoard dev records\n",
        "# !tensorboard dev upload --logdir ./tensorflow_hub/ \\\n",
        "#     --name \"EfficientNetB0 vs. ResNet50V2\" \\\n",
        "#     --description \"Comparing two different TF Hub feature extraction \\\n",
        "#                     model architectures using 10% of the training data\" \\\n",
        "#     --one_shot"
      ],
      "metadata": {
        "id": "emxDhB3fWyON"
      },
      "execution_count": 26,
      "outputs": []
    },
    {
      "cell_type": "markdown",
      "source": [
        "https://tensorboard.dev/experiment/NkN7NBW0TBqmXE8wANpksw/#scalars"
      ],
      "metadata": {
        "id": "eZ4QXox9Y9_V"
      }
    },
    {
      "cell_type": "code",
      "source": [
        "# Check out what TensorBoard experiments I have\n",
        "!tensorboard dev list"
      ],
      "metadata": {
        "id": "2-k5vwzRYbzN"
      },
      "execution_count": null,
      "outputs": []
    },
    {
      "cell_type": "code",
      "source": [
        "# Delete an experiment\n",
        "#!tensorboard dev delete --experiment_id <id>"
      ],
      "metadata": {
        "id": "bJY7Ze2cZ2kj"
      },
      "execution_count": null,
      "outputs": []
    }
  ]
}