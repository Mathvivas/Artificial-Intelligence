{
  "nbformat": 4,
  "nbformat_minor": 0,
  "metadata": {
    "colab": {
      "provenance": [],
      "authorship_tag": "ABX9TyMKtzwVv5//ZDfE1LTYajLp"
    },
    "kernelspec": {
      "name": "python3",
      "display_name": "Python 3"
    },
    "language_info": {
      "name": "python"
    },
    "accelerator": "GPU",
    "gpuClass": "standard"
  },
  "cells": [
    {
      "cell_type": "markdown",
      "source": [
        "# Transfer Learing: Fine Tuning"
      ],
      "metadata": {
        "id": "paz7atjEPmfB"
      }
    },
    {
      "cell_type": "code",
      "execution_count": 1,
      "metadata": {
        "colab": {
          "base_uri": "https://localhost:8080/"
        },
        "id": "oC8ObU4SN9Gg",
        "outputId": "84bbbb0e-da5e-453f-8817-ea916b54b973"
      },
      "outputs": [
        {
          "output_type": "stream",
          "name": "stdout",
          "text": [
            "Mon Jan 23 18:00:57 2023       \n",
            "+-----------------------------------------------------------------------------+\n",
            "| NVIDIA-SMI 460.32.03    Driver Version: 460.32.03    CUDA Version: 11.2     |\n",
            "|-------------------------------+----------------------+----------------------+\n",
            "| GPU  Name        Persistence-M| Bus-Id        Disp.A | Volatile Uncorr. ECC |\n",
            "| Fan  Temp  Perf  Pwr:Usage/Cap|         Memory-Usage | GPU-Util  Compute M. |\n",
            "|                               |                      |               MIG M. |\n",
            "|===============================+======================+======================|\n",
            "|   0  Tesla T4            Off  | 00000000:00:04.0 Off |                    0 |\n",
            "| N/A   46C    P0    27W /  70W |      0MiB / 15109MiB |      0%      Default |\n",
            "|                               |                      |                  N/A |\n",
            "+-------------------------------+----------------------+----------------------+\n",
            "                                                                               \n",
            "+-----------------------------------------------------------------------------+\n",
            "| Processes:                                                                  |\n",
            "|  GPU   GI   CI        PID   Type   Process name                  GPU Memory |\n",
            "|        ID   ID                                                   Usage      |\n",
            "|=============================================================================|\n",
            "|  No running processes found                                                 |\n",
            "+-----------------------------------------------------------------------------+\n"
          ]
        }
      ],
      "source": [
        "# Check if using a GPU\n",
        "!nvidia-smi"
      ]
    },
    {
      "cell_type": "markdown",
      "source": [
        "## Creating Helper Functions"
      ],
      "metadata": {
        "id": "0jU4saRAP5ln"
      }
    },
    {
      "cell_type": "code",
      "source": [
        "!wget https://raw.githubusercontent.com/mrdbourke/tensorflow-deep-learning/main/extras/helper_functions.py"
      ],
      "metadata": {
        "colab": {
          "base_uri": "https://localhost:8080/"
        },
        "id": "pU9dFJ6tP1eH",
        "outputId": "78afab9d-5091-497d-e423-a19dbfe2816d"
      },
      "execution_count": 2,
      "outputs": [
        {
          "output_type": "stream",
          "name": "stdout",
          "text": [
            "--2023-01-23 18:00:58--  https://raw.githubusercontent.com/mrdbourke/tensorflow-deep-learning/main/extras/helper_functions.py\n",
            "Resolving raw.githubusercontent.com (raw.githubusercontent.com)... 185.199.108.133, 185.199.109.133, 185.199.110.133, ...\n",
            "Connecting to raw.githubusercontent.com (raw.githubusercontent.com)|185.199.108.133|:443... connected.\n",
            "HTTP request sent, awaiting response... 200 OK\n",
            "Length: 10246 (10K) [text/plain]\n",
            "Saving to: ‘helper_functions.py’\n",
            "\n",
            "helper_functions.py 100%[===================>]  10.01K  --.-KB/s    in 0s      \n",
            "\n",
            "2023-01-23 18:00:58 (101 MB/s) - ‘helper_functions.py’ saved [10246/10246]\n",
            "\n"
          ]
        }
      ]
    },
    {
      "cell_type": "code",
      "source": [
        "# Import helper functions\n",
        "from helper_functions import create_tensorboard_callback, plot_loss_curves\n",
        "from helper_functions import unzip_data, walk_through_dir"
      ],
      "metadata": {
        "id": "AGzKyW3vQagR"
      },
      "execution_count": 3,
      "outputs": []
    },
    {
      "cell_type": "markdown",
      "source": [
        "## Getting the Data"
      ],
      "metadata": {
        "id": "DQeq0P0rRTE7"
      }
    },
    {
      "cell_type": "code",
      "source": [
        "# Get 10% of training data of 10 classes of food101\n",
        "!wget https://storage.googleapis.com/ztm_tf_course/food_vision/10_food_classes_10_percent.zip\n",
        "\n",
        "unzip_data('10_food_classes_10_percent.zip')"
      ],
      "metadata": {
        "colab": {
          "base_uri": "https://localhost:8080/"
        },
        "id": "ogmkoidtQ8jc",
        "outputId": "f0658fe4-b9da-44f9-b8a2-1276453b190c"
      },
      "execution_count": 4,
      "outputs": [
        {
          "output_type": "stream",
          "name": "stdout",
          "text": [
            "--2023-01-23 18:01:03--  https://storage.googleapis.com/ztm_tf_course/food_vision/10_food_classes_10_percent.zip\n",
            "Resolving storage.googleapis.com (storage.googleapis.com)... 108.177.112.128, 74.125.124.128, 172.217.212.128, ...\n",
            "Connecting to storage.googleapis.com (storage.googleapis.com)|108.177.112.128|:443... connected.\n",
            "HTTP request sent, awaiting response... 200 OK\n",
            "Length: 168546183 (161M) [application/zip]\n",
            "Saving to: ‘10_food_classes_10_percent.zip’\n",
            "\n",
            "10_food_classes_10_ 100%[===================>] 160.74M   129MB/s    in 1.2s    \n",
            "\n",
            "2023-01-23 18:01:04 (129 MB/s) - ‘10_food_classes_10_percent.zip’ saved [168546183/168546183]\n",
            "\n"
          ]
        }
      ]
    },
    {
      "cell_type": "code",
      "source": [
        "# Check how many images and subdirectories are in the dataset\n",
        "walk_through_dir('10_food_classes_10_percent')"
      ],
      "metadata": {
        "colab": {
          "base_uri": "https://localhost:8080/"
        },
        "id": "kIIc2UpQSVAE",
        "outputId": "dd2a5f10-f67f-4cb4-ac66-50f7bce3ce06"
      },
      "execution_count": 5,
      "outputs": [
        {
          "output_type": "stream",
          "name": "stdout",
          "text": [
            "There are 2 directories and 0 images in '10_food_classes_10_percent'.\n",
            "There are 10 directories and 0 images in '10_food_classes_10_percent/train'.\n",
            "There are 0 directories and 75 images in '10_food_classes_10_percent/train/sushi'.\n",
            "There are 0 directories and 75 images in '10_food_classes_10_percent/train/ice_cream'.\n",
            "There are 0 directories and 75 images in '10_food_classes_10_percent/train/hamburger'.\n",
            "There are 0 directories and 75 images in '10_food_classes_10_percent/train/grilled_salmon'.\n",
            "There are 0 directories and 75 images in '10_food_classes_10_percent/train/pizza'.\n",
            "There are 0 directories and 75 images in '10_food_classes_10_percent/train/fried_rice'.\n",
            "There are 0 directories and 75 images in '10_food_classes_10_percent/train/ramen'.\n",
            "There are 0 directories and 75 images in '10_food_classes_10_percent/train/steak'.\n",
            "There are 0 directories and 75 images in '10_food_classes_10_percent/train/chicken_wings'.\n",
            "There are 0 directories and 75 images in '10_food_classes_10_percent/train/chicken_curry'.\n",
            "There are 10 directories and 0 images in '10_food_classes_10_percent/test'.\n",
            "There are 0 directories and 250 images in '10_food_classes_10_percent/test/sushi'.\n",
            "There are 0 directories and 250 images in '10_food_classes_10_percent/test/ice_cream'.\n",
            "There are 0 directories and 250 images in '10_food_classes_10_percent/test/hamburger'.\n",
            "There are 0 directories and 250 images in '10_food_classes_10_percent/test/grilled_salmon'.\n",
            "There are 0 directories and 250 images in '10_food_classes_10_percent/test/pizza'.\n",
            "There are 0 directories and 250 images in '10_food_classes_10_percent/test/fried_rice'.\n",
            "There are 0 directories and 250 images in '10_food_classes_10_percent/test/ramen'.\n",
            "There are 0 directories and 250 images in '10_food_classes_10_percent/test/steak'.\n",
            "There are 0 directories and 250 images in '10_food_classes_10_percent/test/chicken_wings'.\n",
            "There are 0 directories and 250 images in '10_food_classes_10_percent/test/chicken_curry'.\n"
          ]
        }
      ]
    },
    {
      "cell_type": "code",
      "source": [
        "# Create training and test directory paths\n",
        "train_dir = '10_food_classes_10_percent/train'\n",
        "test_dir = '10_food_classes_10_percent/test'"
      ],
      "metadata": {
        "id": "VVf5JTzFScV8"
      },
      "execution_count": 6,
      "outputs": []
    },
    {
      "cell_type": "code",
      "source": [
        "import tensorflow as tf"
      ],
      "metadata": {
        "id": "B5SC9-wUSvgB"
      },
      "execution_count": 7,
      "outputs": []
    },
    {
      "cell_type": "code",
      "source": [
        "IMG_SIZE = (224, 224)\n",
        "BATCH_SIZE = 32\n",
        "train_data_10_percent = tf.keras.preprocessing.image_dataset_from_directory(\n",
        "    directory=train_dir,\n",
        "    image_size=IMG_SIZE,\n",
        "    label_mode='categorical',\n",
        "    batch_size=BATCH_SIZE\n",
        ")\n",
        "\n",
        "test_data = tf.keras.preprocessing.image_dataset_from_directory(\n",
        "    directory=test_dir,\n",
        "    image_size=IMG_SIZE,\n",
        "    label_mode='categorical',\n",
        "    batch_size=BATCH_SIZE\n",
        ")"
      ],
      "metadata": {
        "colab": {
          "base_uri": "https://localhost:8080/"
        },
        "id": "a_VnRaKLSyhe",
        "outputId": "a78c57c1-7b2f-4b7f-8b68-c8142700e091"
      },
      "execution_count": 8,
      "outputs": [
        {
          "output_type": "stream",
          "name": "stdout",
          "text": [
            "Found 750 files belonging to 10 classes.\n",
            "Found 2500 files belonging to 10 classes.\n"
          ]
        }
      ]
    },
    {
      "cell_type": "code",
      "source": [
        "train_data_10_percent"
      ],
      "metadata": {
        "colab": {
          "base_uri": "https://localhost:8080/"
        },
        "id": "vFdXqBQyT1or",
        "outputId": "bd8067d8-7b55-49ed-aa99-de6eb7a340be"
      },
      "execution_count": 9,
      "outputs": [
        {
          "output_type": "execute_result",
          "data": {
            "text/plain": [
              "<BatchDataset element_spec=(TensorSpec(shape=(None, 224, 224, 3), dtype=tf.float32, name=None), TensorSpec(shape=(None, 10), dtype=tf.float32, name=None))>"
            ]
          },
          "metadata": {},
          "execution_count": 9
        }
      ]
    },
    {
      "cell_type": "code",
      "source": [
        "# Check the class names of the dataste\n",
        "train_data_10_percent.class_names"
      ],
      "metadata": {
        "colab": {
          "base_uri": "https://localhost:8080/"
        },
        "id": "xbuFVaDqT7n_",
        "outputId": "69f01265-7ca3-4422-9170-fb596fc2e00f"
      },
      "execution_count": 10,
      "outputs": [
        {
          "output_type": "execute_result",
          "data": {
            "text/plain": [
              "['chicken_curry',\n",
              " 'chicken_wings',\n",
              " 'fried_rice',\n",
              " 'grilled_salmon',\n",
              " 'hamburger',\n",
              " 'ice_cream',\n",
              " 'pizza',\n",
              " 'ramen',\n",
              " 'steak',\n",
              " 'sushi']"
            ]
          },
          "metadata": {},
          "execution_count": 10
        }
      ]
    },
    {
      "cell_type": "code",
      "source": [
        "# See and example of a batch of data\n",
        "for images, labels in train_data_10_percent.take(1):\n",
        "    print(images, labels)"
      ],
      "metadata": {
        "colab": {
          "base_uri": "https://localhost:8080/"
        },
        "id": "RYE63eiwUc3E",
        "outputId": "730400e6-f89d-4d2e-d116-a45d820e9169"
      },
      "execution_count": 11,
      "outputs": [
        {
          "output_type": "stream",
          "name": "stdout",
          "text": [
            "tf.Tensor(\n",
            "[[[[1.05775513e+02 7.17755127e+01 4.60612259e+01]\n",
            "   [1.04790817e+02 6.98622437e+01 4.95051041e+01]\n",
            "   [9.69336700e+01 6.16581612e+01 4.25816307e+01]\n",
            "   ...\n",
            "   [3.17908516e+01 4.07658815e+00 6.06119633e+00]\n",
            "   [4.83164749e+01 1.26480646e+01 4.33680964e+00]\n",
            "   [8.92354584e+01 4.72761917e+01 2.60771675e+01]]\n",
            "\n",
            "  [[1.10260201e+02 7.64030609e+01 5.08316345e+01]\n",
            "   [1.04877548e+02 7.01581650e+01 4.97448959e+01]\n",
            "   [9.83163223e+01 6.33163261e+01 4.41020393e+01]\n",
            "   ...\n",
            "   [8.11636276e+01 3.58064613e+01 4.11231232e+00]\n",
            "   [1.33173721e+02 8.34747086e+01 3.90562897e+01]\n",
            "   [1.62270523e+02 1.09724571e+02 5.80612450e+01]]\n",
            "\n",
            "  [[1.11556122e+02 7.95561218e+01 5.58418350e+01]\n",
            "   [9.48826523e+01 6.21530571e+01 4.24693832e+01]\n",
            "   [9.71683655e+01 6.34030609e+01 4.54234657e+01]\n",
            "   ...\n",
            "   [1.66954346e+02 1.11643112e+02 5.57194862e+01]\n",
            "   [1.64392776e+02 1.10076469e+02 4.88009720e+01]\n",
            "   [1.52413177e+02 1.03474449e+02 4.16071587e+01]]\n",
            "\n",
            "  ...\n",
            "\n",
            "  [[4.10560951e+01 1.28469152e+01 0.00000000e+00]\n",
            "   [5.11072083e+01 1.37092161e+01 0.00000000e+00]\n",
            "   [8.13879242e+01 3.06480675e+01 7.64798117e+00]\n",
            "   ...\n",
            "   [1.10357056e+02 1.31224632e+01 1.86173267e+01]\n",
            "   [9.38112183e+01 1.12704268e+01 1.29438677e+01]\n",
            "   [8.92908325e+01 1.55766020e+01 1.62857666e+01]]\n",
            "\n",
            "  [[4.16276093e+01 1.03163185e+01 0.00000000e+00]\n",
            "   [6.98012695e+01 2.55920086e+01 0.00000000e+00]\n",
            "   [1.07505310e+02 4.67909355e+01 9.23468876e+00]\n",
            "   ...\n",
            "   [1.18132675e+02 1.46990242e+01 1.86735153e+01]\n",
            "   [1.03209221e+02 1.37908382e+01 1.57857666e+01]\n",
            "   [9.43367767e+01 1.34796019e+01 1.56429443e+01]]\n",
            "\n",
            "  [[6.29234161e+01 1.94948711e+01 3.30610037e+00]\n",
            "   [1.03045853e+02 4.86172943e+01 1.38775167e+01]\n",
            "   [1.19948959e+02 5.73673286e+01 5.50000381e+00]\n",
            "   ...\n",
            "   [1.19214264e+02 1.60612164e+01 1.99234772e+01]\n",
            "   [1.16306053e+02 1.60764847e+01 2.19744854e+01]\n",
            "   [1.06555969e+02 9.31113148e+00 1.89284973e+01]]]\n",
            "\n",
            "\n",
            " [[[4.58265305e+01 3.38265305e+01 7.82653046e+00]\n",
            "   [5.76173515e+01 4.56173515e+01 1.96173477e+01]\n",
            "   [6.03571434e+01 4.59285698e+01 1.99285717e+01]\n",
            "   ...\n",
            "   [2.54724518e+02 2.51066406e+02 1.71918671e+02]\n",
            "   [2.53918350e+02 2.50178604e+02 1.87653183e+02]\n",
            "   [2.53852005e+02 2.53622421e+02 2.01260269e+02]]\n",
            "\n",
            "  [[3.74795914e+01 2.54795895e+01 1.46938705e+00]\n",
            "   [5.77142868e+01 4.37142868e+01 1.77142868e+01]\n",
            "   [6.19132652e+01 4.74846916e+01 2.06989784e+01]\n",
            "   ...\n",
            "   [2.54984695e+02 2.54285767e+02 1.66928879e+02]\n",
            "   [2.51086746e+02 2.51020432e+02 1.89459305e+02]\n",
            "   [2.51295822e+02 2.53535660e+02 2.04484741e+02]]\n",
            "\n",
            "  [[5.62193909e+01 4.05102081e+01 1.22908173e+01]\n",
            "   [6.20612259e+01 4.58469391e+01 1.94183674e+01]\n",
            "   [6.05969391e+01 4.42142868e+01 1.77857132e+01]\n",
            "   ...\n",
            "   [2.24862061e+02 2.27311081e+02 1.46780746e+02]\n",
            "   [2.52000000e+02 2.55000000e+02 1.98612350e+02]\n",
            "   [2.48841919e+02 2.54357178e+02 2.10061386e+02]]\n",
            "\n",
            "  ...\n",
            "\n",
            "  [[1.90489761e+02 8.84897690e+01 5.84697580e+00]\n",
            "   [1.82183563e+02 8.01835632e+01 0.00000000e+00]\n",
            "   [1.87882477e+02 8.57141113e+01 3.88252735e+00]\n",
            "   ...\n",
            "   [2.37918549e+02 1.09347076e+02 7.06149530e+00]\n",
            "   [2.45719513e+02 1.14806137e+02 1.32042351e+01]\n",
            "   [2.43729462e+02 1.13015053e+02 1.00866776e+01]]\n",
            "\n",
            "  [[1.81760117e+02 7.86886826e+01 4.06629896e+00]\n",
            "   [1.78704056e+02 7.56326141e+01 8.62232983e-01]\n",
            "   [1.79959183e+02 7.66887589e+01 2.37247801e+00]\n",
            "   ...\n",
            "   [2.25637817e+02 1.12852325e+02 2.24537134e-01]\n",
            "   [2.23760345e+02 1.09974846e+02 6.63377419e-02]\n",
            "   [2.29989838e+02 1.16204346e+02 9.94981110e-01]]\n",
            "\n",
            "  [[1.75540909e+02 7.25409088e+01 4.66850901e+00]\n",
            "   [1.71790726e+02 6.93876266e+01 0.00000000e+00]\n",
            "   [1.72362045e+02 6.93620453e+01 1.56113994e+00]\n",
            "   ...\n",
            "   [2.51051376e+02 1.78745712e+02 2.26024933e+01]\n",
            "   [2.53301041e+02 1.82985352e+02 2.46992111e+01]\n",
            "   [2.37153610e+02 1.63725388e+02 7.27607346e+00]]]\n",
            "\n",
            "\n",
            " [[[1.19285717e+01 1.45714293e+01 4.27040815e+00]\n",
            "   [9.47448921e+00 1.42857141e+01 9.50000000e+00]\n",
            "   [1.05765305e+01 1.06428576e+01 7.15816307e+00]\n",
            "   ...\n",
            "   [4.55610228e+00 8.63771915e+00 1.12805328e+01]\n",
            "   [8.35715580e+00 9.71429920e+00 1.13112555e+01]\n",
            "   [1.01581507e+01 9.38773060e+00 1.56275635e+01]]\n",
            "\n",
            "  [[9.55101967e+00 1.21938772e+01 8.11224461e-01]\n",
            "   [8.07653046e+00 1.30000000e+01 5.64796019e+00]\n",
            "   [1.51428576e+01 1.59285717e+01 9.38775539e+00]\n",
            "   ...\n",
            "   [8.69893742e+00 8.94387627e+00 4.71422005e+00]\n",
            "   [9.21429825e+00 1.02142982e+01 4.28574038e+00]\n",
            "   [9.07142830e+00 1.10714283e+01 8.12245369e+00]]\n",
            "\n",
            "  [[1.36428566e+01 1.60051022e+01 5.69387722e+00]\n",
            "   [8.92857075e+00 1.47142859e+01 3.18367362e+00]\n",
            "   [1.40459185e+01 1.46632652e+01 7.16836739e+00]\n",
            "   ...\n",
            "   [1.14285498e+01 7.26019955e+00 7.99993420e+00]\n",
            "   [1.02857275e+01 1.05000134e+01 7.77044439e+00]\n",
            "   [8.93364620e+00 1.01479321e+01 1.17908583e+01]]\n",
            "\n",
            "  ...\n",
            "\n",
            "  [[4.32040215e+01 4.79183083e+01 4.69897537e+01]\n",
            "   [4.93723907e+01 5.11580963e+01 4.92295685e+01]\n",
            "   [5.14999390e+01 5.63570824e+01 5.81224022e+01]\n",
            "   ...\n",
            "   [1.09168381e+02 1.28382675e+02 1.42265320e+02]\n",
            "   [1.07943871e+02 1.27158165e+02 1.41214233e+02]\n",
            "   [1.09357178e+02 1.29571472e+02 1.38571350e+02]]\n",
            "\n",
            "  [[3.48111687e+01 3.95254517e+01 4.01683083e+01]\n",
            "   [3.94182816e+01 4.04182816e+01 4.42754593e+01]\n",
            "   [4.17550240e+01 4.58825607e+01 5.03417740e+01]\n",
            "   ...\n",
            "   [1.09984695e+02 1.28326477e+02 1.37770401e+02]\n",
            "   [1.08862251e+02 1.27137749e+02 1.36999939e+02]\n",
            "   [1.09688850e+02 1.30688843e+02 1.34974487e+02]]\n",
            "\n",
            "  [[2.54847260e+01 3.01990108e+01 3.08418694e+01]\n",
            "   [2.80714626e+01 2.90714626e+01 3.30714645e+01]\n",
            "   [3.01479969e+01 3.50051384e+01 3.77908516e+01]\n",
            "   ...\n",
            "   [1.11719376e+02 1.25132660e+02 1.44066360e+02]\n",
            "   [1.09000000e+02 1.24163292e+02 1.46545898e+02]\n",
            "   [1.10357178e+02 1.27556213e+02 1.46270355e+02]]]\n",
            "\n",
            "\n",
            " ...\n",
            "\n",
            "\n",
            " [[[1.72913269e+02 1.44913269e+02 1.85913269e+02]\n",
            "   [1.74382660e+02 1.46382660e+02 1.87382660e+02]\n",
            "   [1.75204086e+02 1.47066330e+02 1.88479599e+02]\n",
            "   ...\n",
            "   [9.03571396e+01 3.60765228e+01 7.29183807e+01]\n",
            "   [9.10051041e+01 3.72143135e+01 7.57193909e+01]\n",
            "   [9.36122360e+01 4.03725052e+01 7.83265228e+01]]\n",
            "\n",
            "  [[1.99163269e+02 1.72163269e+02 2.15163269e+02]\n",
            "   [1.93918365e+02 1.66918365e+02 2.11775513e+02]\n",
            "   [1.85658173e+02 1.58627548e+02 2.03530609e+02]\n",
            "   ...\n",
            "   [8.98010406e+01 3.28724670e+01 6.60153275e+01]\n",
            "   [9.09285583e+01 3.41428680e+01 6.73469391e+01]\n",
            "   [8.96428223e+01 3.34286041e+01 6.63061142e+01]]\n",
            "\n",
            "  [[2.25137756e+02 2.02066330e+02 2.43071442e+02]\n",
            "   [2.21729584e+02 1.99229584e+02 2.40173462e+02]\n",
            "   [2.20811234e+02 1.96454086e+02 2.37596939e+02]\n",
            "   ...\n",
            "   [8.95919113e+01 2.69285927e+01 5.53316727e+01]\n",
            "   [9.16581802e+01 3.10153217e+01 5.88010368e+01]\n",
            "   [9.38622513e+01 3.32193947e+01 6.10051079e+01]]\n",
            "\n",
            "  ...\n",
            "\n",
            "  [[1.95382507e+02 1.45382507e+02 1.56663132e+02]\n",
            "   [1.97377563e+02 1.45576523e+02 1.56979645e+02]\n",
            "   [2.01872269e+02 1.48872269e+02 1.58872269e+02]\n",
            "   ...\n",
            "   [7.44744339e+01 2.38316460e+01 5.30459099e+01]\n",
            "   [6.87142334e+01 1.99285583e+01 4.88571167e+01]\n",
            "   [6.30765305e+01 1.90765305e+01 4.60765305e+01]]\n",
            "\n",
            "  [[1.83566391e+02 1.33163330e+02 1.46372528e+02]\n",
            "   [1.93739746e+02 1.42015274e+02 1.54015274e+02]\n",
            "   [2.13448898e+02 1.59663177e+02 1.72020325e+02]\n",
            "   ...\n",
            "   [7.50153046e+01 2.33725147e+01 5.45867805e+01]\n",
            "   [7.15764542e+01 2.27907791e+01 5.27193375e+01]\n",
            "   [6.50714417e+01 2.00714417e+01 4.90714417e+01]]\n",
            "\n",
            "  [[1.95147583e+02 1.44147583e+02 1.59147583e+02]\n",
            "   [1.97214218e+02 1.47214218e+02 1.59214218e+02]\n",
            "   [2.01453873e+02 1.47668167e+02 1.60025299e+02]\n",
            "   ...\n",
            "   [7.41478806e+01 2.25050888e+01 5.37193527e+01]\n",
            "   [6.90253983e+01 2.02397194e+01 5.01682777e+01]\n",
            "   [6.50000000e+01 2.00000000e+01 4.90000000e+01]]]\n",
            "\n",
            "\n",
            " [[[1.43443878e+02 1.31443878e+02 1.05443878e+02]\n",
            "   [1.72581635e+02 1.60581635e+02 1.34581635e+02]\n",
            "   [1.74127548e+02 1.62127548e+02 1.36556122e+02]\n",
            "   ...\n",
            "   [1.72071381e+02 1.57071381e+02 1.35642853e+02]\n",
            "   [1.68663269e+02 1.53663269e+02 1.32663269e+02]\n",
            "   [1.70051056e+02 1.55051056e+02 1.36051056e+02]]\n",
            "\n",
            "  [[1.91994888e+02 1.79994888e+02 1.53994888e+02]\n",
            "   [1.65270401e+02 1.53270401e+02 1.27270401e+02]\n",
            "   [1.71474487e+02 1.59474487e+02 1.33474487e+02]\n",
            "   ...\n",
            "   [1.75617371e+02 1.60617371e+02 1.39617371e+02]\n",
            "   [1.70280670e+02 1.55280670e+02 1.34280670e+02]\n",
            "   [1.68453842e+02 1.53453842e+02 1.32453842e+02]]\n",
            "\n",
            "  [[1.65321426e+02 1.53321426e+02 1.27321426e+02]\n",
            "   [1.75642868e+02 1.63642868e+02 1.37642868e+02]\n",
            "   [1.71474487e+02 1.59520401e+02 1.33428574e+02]\n",
            "   ...\n",
            "   [1.72301056e+02 1.57301056e+02 1.36301056e+02]\n",
            "   [1.71357162e+02 1.56357162e+02 1.35357162e+02]\n",
            "   [1.71790726e+02 1.56790726e+02 1.35790726e+02]]\n",
            "\n",
            "  ...\n",
            "\n",
            "  [[1.57280731e+02 1.36923523e+02 1.15709259e+02]\n",
            "   [1.55683701e+02 1.35326492e+02 1.13683701e+02]\n",
            "   [1.53020401e+02 1.33448929e+02 1.09448929e+02]\n",
            "   ...\n",
            "   [1.53260178e+02 1.36260178e+02 1.16260170e+02]\n",
            "   [1.52474518e+02 1.37474518e+02 1.16474510e+02]\n",
            "   [1.52484772e+02 1.37484772e+02 1.16484764e+02]]\n",
            "\n",
            "  [[1.50479630e+02 1.27479630e+02 1.09479630e+02]\n",
            "   [1.55933685e+02 1.33933685e+02 1.12933693e+02]\n",
            "   [1.51857117e+02 1.29857117e+02 1.08428543e+02]\n",
            "   ...\n",
            "   [1.51729599e+02 1.34729599e+02 1.14729599e+02]\n",
            "   [1.53438675e+02 1.38438675e+02 1.17438675e+02]\n",
            "   [1.51663406e+02 1.36663406e+02 1.15663414e+02]]\n",
            "\n",
            "  [[1.56953903e+02 1.30953903e+02 1.13953911e+02]\n",
            "   [1.58040741e+02 1.33040741e+02 1.13040741e+02]\n",
            "   [1.58214569e+02 1.33214569e+02 1.12785995e+02]\n",
            "   ...\n",
            "   [1.52571442e+02 1.35571442e+02 1.15571442e+02]\n",
            "   [1.46887772e+02 1.31887772e+02 1.10887772e+02]\n",
            "   [1.52816376e+02 1.37816376e+02 1.16816383e+02]]]\n",
            "\n",
            "\n",
            " [[[1.73285721e+02 1.87285721e+02 1.88285721e+02]\n",
            "   [1.74285721e+02 1.88285721e+02 1.89285721e+02]\n",
            "   [1.76005096e+02 1.90005096e+02 1.91005096e+02]\n",
            "   ...\n",
            "   [8.08417969e+01 8.38417969e+01 7.68417969e+01]\n",
            "   [8.63571396e+01 8.72142563e+01 8.22856979e+01]\n",
            "   [8.51989899e+01 8.35101471e+01 8.12806015e+01]]\n",
            "\n",
            "  [[1.74000000e+02 1.88000000e+02 1.89000000e+02]\n",
            "   [1.74000000e+02 1.88000000e+02 1.89000000e+02]\n",
            "   [1.74928574e+02 1.88928574e+02 1.89928574e+02]\n",
            "   ...\n",
            "   [8.57143936e+01 8.71123123e+01 8.08827438e+01]\n",
            "   [8.68571320e+01 8.77244492e+01 8.27244644e+01]\n",
            "   [9.07858887e+01 8.99287491e+01 8.58573151e+01]]\n",
            "\n",
            "  [[1.72428574e+02 1.86428574e+02 1.87428574e+02]\n",
            "   [1.72428574e+02 1.86428574e+02 1.87428574e+02]\n",
            "   [1.72428574e+02 1.86428574e+02 1.87428574e+02]\n",
            "   ...\n",
            "   [7.87194443e+01 7.97194443e+01 7.20561905e+01]\n",
            "   [8.51989746e+01 8.61989746e+01 8.02142868e+01]\n",
            "   [8.94388962e+01 9.04388962e+01 8.54388962e+01]]\n",
            "\n",
            "  ...\n",
            "\n",
            "  [[1.24280609e+02 1.49280609e+02 1.56280609e+02]\n",
            "   [1.22071426e+02 1.47071426e+02 1.54071426e+02]\n",
            "   [1.21214294e+02 1.46214294e+02 1.53214294e+02]\n",
            "   ...\n",
            "   [1.14214294e+02 1.13214294e+02 1.08214294e+02]\n",
            "   [1.15214294e+02 1.12285736e+02 1.03071411e+02]\n",
            "   [1.16076538e+02 1.14076538e+02 1.00362183e+02]]\n",
            "\n",
            "  [[1.24331635e+02 1.47474472e+02 1.55403061e+02]\n",
            "   [1.23862282e+02 1.47005096e+02 1.54933685e+02]\n",
            "   [1.23857178e+02 1.47000000e+02 1.54928589e+02]\n",
            "   ...\n",
            "   [1.15000000e+02 1.14729630e+02 1.07540749e+02]\n",
            "   [1.16000000e+02 1.13071442e+02 1.03857117e+02]\n",
            "   [1.16954094e+02 1.14954094e+02 1.02500000e+02]]\n",
            "\n",
            "  [[1.25642853e+02 1.48642853e+02 1.56642853e+02]\n",
            "   [1.24045914e+02 1.47045914e+02 1.55045914e+02]\n",
            "   [1.23357147e+02 1.46357147e+02 1.54357147e+02]\n",
            "   ...\n",
            "   [1.13357147e+02 1.13357147e+02 1.03081665e+02]\n",
            "   [1.15403076e+02 1.12403076e+02 1.03494926e+02]\n",
            "   [1.16586761e+02 1.13586761e+02 1.05872467e+02]]]], shape=(32, 224, 224, 3), dtype=float32) tf.Tensor(\n",
            "[[0. 0. 0. 0. 1. 0. 0. 0. 0. 0.]\n",
            " [0. 0. 0. 0. 1. 0. 0. 0. 0. 0.]\n",
            " [0. 0. 0. 0. 0. 0. 0. 0. 0. 1.]\n",
            " [0. 0. 1. 0. 0. 0. 0. 0. 0. 0.]\n",
            " [0. 0. 0. 0. 1. 0. 0. 0. 0. 0.]\n",
            " [0. 0. 1. 0. 0. 0. 0. 0. 0. 0.]\n",
            " [0. 0. 0. 0. 0. 0. 0. 0. 0. 1.]\n",
            " [0. 0. 0. 0. 0. 0. 0. 1. 0. 0.]\n",
            " [0. 0. 0. 0. 0. 0. 0. 0. 0. 1.]\n",
            " [0. 0. 0. 1. 0. 0. 0. 0. 0. 0.]\n",
            " [0. 0. 1. 0. 0. 0. 0. 0. 0. 0.]\n",
            " [0. 0. 0. 0. 0. 0. 0. 1. 0. 0.]\n",
            " [0. 0. 0. 0. 1. 0. 0. 0. 0. 0.]\n",
            " [1. 0. 0. 0. 0. 0. 0. 0. 0. 0.]\n",
            " [0. 0. 0. 0. 0. 0. 1. 0. 0. 0.]\n",
            " [0. 0. 0. 0. 0. 0. 0. 1. 0. 0.]\n",
            " [0. 0. 0. 0. 0. 1. 0. 0. 0. 0.]\n",
            " [1. 0. 0. 0. 0. 0. 0. 0. 0. 0.]\n",
            " [0. 0. 0. 0. 0. 0. 0. 1. 0. 0.]\n",
            " [1. 0. 0. 0. 0. 0. 0. 0. 0. 0.]\n",
            " [0. 0. 1. 0. 0. 0. 0. 0. 0. 0.]\n",
            " [0. 1. 0. 0. 0. 0. 0. 0. 0. 0.]\n",
            " [0. 0. 0. 0. 0. 0. 0. 1. 0. 0.]\n",
            " [0. 0. 0. 0. 0. 0. 0. 0. 0. 1.]\n",
            " [0. 0. 0. 0. 0. 0. 1. 0. 0. 0.]\n",
            " [0. 0. 0. 1. 0. 0. 0. 0. 0. 0.]\n",
            " [0. 0. 0. 1. 0. 0. 0. 0. 0. 0.]\n",
            " [0. 0. 0. 1. 0. 0. 0. 0. 0. 0.]\n",
            " [1. 0. 0. 0. 0. 0. 0. 0. 0. 0.]\n",
            " [0. 0. 0. 0. 0. 1. 0. 0. 0. 0.]\n",
            " [0. 0. 0. 0. 0. 0. 0. 0. 1. 0.]\n",
            " [0. 1. 0. 0. 0. 0. 0. 0. 0. 0.]], shape=(32, 10), dtype=float32)\n"
          ]
        }
      ]
    },
    {
      "cell_type": "markdown",
      "source": [
        "## Model 0: Building a Transfer Learning using the Keras Functional API"
      ],
      "metadata": {
        "id": "bHzzxrGgZOf8"
      }
    },
    {
      "cell_type": "code",
      "source": [
        "# 1. Create base model with tf.keras.applications\n",
        "base_model = tf.keras.applications.EfficientNetB0(include_top=False)\n",
        "\n",
        "# 2. Freeze the base model\n",
        "base_model.trainable = False\n",
        "\n",
        "# 3. Create inputs into the model\n",
        "inputs = tf.keras.layers.Input(shape=(224, 224, 3), name='input_layer')\n",
        "\n",
        "# 4. If using a model like ResNet50V2, normalize inputs required\n",
        "# x = tf.keras.layers.experimental.preprocessing.Rescaling(1./255)(inputs)\n",
        "\n",
        "# 5. Pass the inputs to the base model\n",
        "x = base_model(inputs)\n",
        "print(f'Shape after passing inputs through base model: {x.shape}')\n",
        "\n",
        "# 6. Average pool the outputs of the base model (aggregate all the most \n",
        "# important information, reduce number of computations)\n",
        "x = tf.keras.layers.GlobalAveragePooling2D(\n",
        "    name='global_average_pooling_layer')(x)\n",
        "print(f'Shape after GlobalAveragePooling2D: {x.shape}')\n",
        "\n",
        "# 7. Create the output activation layer\n",
        "outputs = tf.keras.layers.Dense(10, \n",
        "                                activation='softmax', name='output_layer')(x)\n",
        "\n",
        "# 8. Combine the inputs with the outputs into a model\n",
        "model_0 = tf.keras.Model(inputs, outputs)\n",
        "\n",
        "# 9. Compile the model\n",
        "model_0.compile(loss='categorical_crossentropy',\n",
        "                optimizer=tf.keras.optimizers.Adam(),\n",
        "                metrics=['accuracy'])\n",
        "\n",
        "# 10. Fit the model and save it's history\n",
        "history_0 = model_0.fit(train_data_10_percent,\n",
        "                        epochs=5,\n",
        "                        steps_per_epoch=len(train_data_10_percent),\n",
        "                        validation_data=test_data,\n",
        "                        validation_steps=int(0.25 * len(test_data)),\n",
        "                        callbacks=[create_tensorboard_callback(\n",
        "                            dir_name='transfer_learning',\n",
        "                            experiment_name='10_percent_feature_extraction'\n",
        "                        )])"
      ],
      "metadata": {
        "colab": {
          "base_uri": "https://localhost:8080/"
        },
        "id": "c56oEX1fWDt3",
        "outputId": "35d29e2e-465a-418c-f8f1-41205626f4e8"
      },
      "execution_count": 12,
      "outputs": [
        {
          "output_type": "stream",
          "name": "stdout",
          "text": [
            "Downloading data from https://storage.googleapis.com/keras-applications/efficientnetb0_notop.h5\n",
            "16705208/16705208 [==============================] - 0s 0us/step\n",
            "Shape after passing inputs through base model: (None, 7, 7, 1280)\n",
            "Shape after GlobalAveragePooling2D: (None, 1280)\n",
            "Saving TensorBoard log files to: transfer_learning/10_percent_feature_extraction/20230123-180120\n",
            "Epoch 1/5\n",
            "24/24 [==============================] - 21s 254ms/step - loss: 1.9060 - accuracy: 0.4027 - val_loss: 1.3205 - val_accuracy: 0.7286\n",
            "Epoch 2/5\n",
            "24/24 [==============================] - 5s 183ms/step - loss: 1.1081 - accuracy: 0.7547 - val_loss: 0.8835 - val_accuracy: 0.8306\n",
            "Epoch 3/5\n",
            "24/24 [==============================] - 5s 182ms/step - loss: 0.7903 - accuracy: 0.8240 - val_loss: 0.6832 - val_accuracy: 0.8635\n",
            "Epoch 4/5\n",
            "24/24 [==============================] - 4s 147ms/step - loss: 0.6456 - accuracy: 0.8560 - val_loss: 0.6092 - val_accuracy: 0.8684\n",
            "Epoch 5/5\n",
            "24/24 [==============================] - 4s 149ms/step - loss: 0.5452 - accuracy: 0.8893 - val_loss: 0.5340 - val_accuracy: 0.8816\n"
          ]
        }
      ]
    },
    {
      "cell_type": "code",
      "source": [
        "# Evaluate on the full test dataset\n",
        "model_0.evaluate(test_data)"
      ],
      "metadata": {
        "colab": {
          "base_uri": "https://localhost:8080/"
        },
        "id": "08W0sF_moUth",
        "outputId": "8418fdcb-80b9-4d06-8a6a-f30a2bdbb711"
      },
      "execution_count": 13,
      "outputs": [
        {
          "output_type": "stream",
          "name": "stdout",
          "text": [
            "79/79 [==============================] - 6s 75ms/step - loss: 0.5626 - accuracy: 0.8620\n"
          ]
        },
        {
          "output_type": "execute_result",
          "data": {
            "text/plain": [
              "[0.5626005530357361, 0.8619999885559082]"
            ]
          },
          "metadata": {},
          "execution_count": 13
        }
      ]
    },
    {
      "cell_type": "code",
      "source": [
        "# Check the layers in the base model\n",
        "for layer_number, layer in enumerate(base_model.layers):\n",
        "    print(layer_number, layer)"
      ],
      "metadata": {
        "colab": {
          "base_uri": "https://localhost:8080/"
        },
        "id": "NK1PKcttowHh",
        "outputId": "ee6edbc3-93e4-47a6-e36a-aed0517c4c71"
      },
      "execution_count": 14,
      "outputs": [
        {
          "output_type": "stream",
          "name": "stdout",
          "text": [
            "0 <keras.engine.input_layer.InputLayer object at 0x7fdbbdebf7c0>\n",
            "1 <keras.layers.preprocessing.image_preprocessing.Rescaling object at 0x7fdbbdebfeb0>\n",
            "2 <keras.layers.preprocessing.normalization.Normalization object at 0x7fdbbe013160>\n",
            "3 <keras.layers.core.tf_op_layer.TFOpLambda object at 0x7fdbbe013820>\n",
            "4 <keras.layers.reshaping.zero_padding2d.ZeroPadding2D object at 0x7fdbbe0135e0>\n",
            "5 <keras.layers.convolutional.conv2d.Conv2D object at 0x7fdbbe013280>\n",
            "6 <keras.layers.normalization.batch_normalization.BatchNormalization object at 0x7fdbbe05fdf0>\n",
            "7 <keras.layers.core.activation.Activation object at 0x7fdbbd20d6a0>\n",
            "8 <keras.layers.convolutional.depthwise_conv2d.DepthwiseConv2D object at 0x7fdbbd1c1550>\n",
            "9 <keras.layers.normalization.batch_normalization.BatchNormalization object at 0x7fdbbdf95730>\n",
            "10 <keras.layers.core.activation.Activation object at 0x7fdbbdf95d30>\n",
            "11 <keras.layers.pooling.global_average_pooling2d.GlobalAveragePooling2D object at 0x7fdbbd1f23d0>\n",
            "12 <keras.layers.reshaping.reshape.Reshape object at 0x7fdbbd1f2fa0>\n",
            "13 <keras.layers.convolutional.conv2d.Conv2D object at 0x7fdbbd1c5370>\n",
            "14 <keras.layers.convolutional.conv2d.Conv2D object at 0x7fdbbd1f98e0>\n",
            "15 <keras.layers.merging.multiply.Multiply object at 0x7fdbbd1f9ee0>\n",
            "16 <keras.layers.convolutional.conv2d.Conv2D object at 0x7fdbbd18e190>\n",
            "17 <keras.layers.normalization.batch_normalization.BatchNormalization object at 0x7fdbbd18e1f0>\n",
            "18 <keras.layers.convolutional.conv2d.Conv2D object at 0x7fdbbd1c15b0>\n",
            "19 <keras.layers.normalization.batch_normalization.BatchNormalization object at 0x7fdbbd18e880>\n",
            "20 <keras.layers.core.activation.Activation object at 0x7fdbbd1a1640>\n",
            "21 <keras.layers.reshaping.zero_padding2d.ZeroPadding2D object at 0x7fdbbd1a12b0>\n",
            "22 <keras.layers.convolutional.depthwise_conv2d.DepthwiseConv2D object at 0x7fdbbd19daf0>\n",
            "23 <keras.layers.normalization.batch_normalization.BatchNormalization object at 0x7fdbbd1aa7c0>\n",
            "24 <keras.layers.core.activation.Activation object at 0x7fdbbdf95130>\n",
            "25 <keras.layers.pooling.global_average_pooling2d.GlobalAveragePooling2D object at 0x7fdbbd1aafd0>\n",
            "26 <keras.layers.reshaping.reshape.Reshape object at 0x7fdbbd1adf10>\n",
            "27 <keras.layers.convolutional.conv2d.Conv2D object at 0x7fdbbd1b2dc0>\n",
            "28 <keras.layers.convolutional.conv2d.Conv2D object at 0x7fdbbd1b24c0>\n",
            "29 <keras.layers.merging.multiply.Multiply object at 0x7fdbbd1ba520>\n",
            "30 <keras.layers.convolutional.conv2d.Conv2D object at 0x7fdbbd14a490>\n",
            "31 <keras.layers.normalization.batch_normalization.BatchNormalization object at 0x7fdbbd14a4f0>\n",
            "32 <keras.layers.convolutional.conv2d.Conv2D object at 0x7fdbbd14a310>\n",
            "33 <keras.layers.normalization.batch_normalization.BatchNormalization object at 0x7fdbbd154e20>\n",
            "34 <keras.layers.core.activation.Activation object at 0x7fdbbd154640>\n",
            "35 <keras.layers.convolutional.depthwise_conv2d.DepthwiseConv2D object at 0x7fdbbd15b490>\n",
            "36 <keras.layers.normalization.batch_normalization.BatchNormalization object at 0x7fdbbd16a3d0>\n",
            "37 <keras.layers.core.activation.Activation object at 0x7fdbbd163850>\n",
            "38 <keras.layers.pooling.global_average_pooling2d.GlobalAveragePooling2D object at 0x7fdbbd15b460>\n",
            "39 <keras.layers.reshaping.reshape.Reshape object at 0x7fdbbd171e20>\n",
            "40 <keras.layers.convolutional.conv2d.Conv2D object at 0x7fdbbd174cd0>\n",
            "41 <keras.layers.convolutional.conv2d.Conv2D object at 0x7fdbbd174fa0>\n",
            "42 <keras.layers.merging.multiply.Multiply object at 0x7fdbbd171fa0>\n",
            "43 <keras.layers.convolutional.conv2d.Conv2D object at 0x7fdbbd10fa90>\n",
            "44 <keras.layers.normalization.batch_normalization.BatchNormalization object at 0x7fdbbd10faf0>\n",
            "45 <keras.layers.regularization.dropout.Dropout object at 0x7fdbbdf6a1c0>\n",
            "46 <keras.layers.merging.add.Add object at 0x7fdbbd1156d0>\n",
            "47 <keras.layers.convolutional.conv2d.Conv2D object at 0x7fdbbd18e940>\n",
            "48 <keras.layers.normalization.batch_normalization.BatchNormalization object at 0x7fdbbd115430>\n",
            "49 <keras.layers.core.activation.Activation object at 0x7fdbbd11e670>\n",
            "50 <keras.layers.reshaping.zero_padding2d.ZeroPadding2D object at 0x7fdbbd125f10>\n",
            "51 <keras.layers.convolutional.depthwise_conv2d.DepthwiseConv2D object at 0x7fdbbd1157f0>\n",
            "52 <keras.layers.normalization.batch_normalization.BatchNormalization object at 0x7fdbbd12bb80>\n",
            "53 <keras.layers.core.activation.Activation object at 0x7fdbbd134310>\n",
            "54 <keras.layers.pooling.global_average_pooling2d.GlobalAveragePooling2D object at 0x7fdbbd134b80>\n",
            "55 <keras.layers.reshaping.reshape.Reshape object at 0x7fdbbd12e070>\n",
            "56 <keras.layers.convolutional.conv2d.Conv2D object at 0x7fdbbd13b850>\n",
            "57 <keras.layers.convolutional.conv2d.Conv2D object at 0x7fdbbd0c4af0>\n",
            "58 <keras.layers.merging.multiply.Multiply object at 0x7fdbbd0c4f10>\n",
            "59 <keras.layers.convolutional.conv2d.Conv2D object at 0x7fdbbd0cc790>\n",
            "60 <keras.layers.normalization.batch_normalization.BatchNormalization object at 0x7fdbbd0d2b80>\n",
            "61 <keras.layers.convolutional.conv2d.Conv2D object at 0x7fdbbd1340d0>\n",
            "62 <keras.layers.normalization.batch_normalization.BatchNormalization object at 0x7fdbbd0d2f10>\n",
            "63 <keras.layers.core.activation.Activation object at 0x7fdbbd16a580>\n",
            "64 <keras.layers.convolutional.depthwise_conv2d.DepthwiseConv2D object at 0x7fdbbd15bc10>\n",
            "65 <keras.layers.normalization.batch_normalization.BatchNormalization object at 0x7fdbbd1b27c0>\n",
            "66 <keras.layers.core.activation.Activation object at 0x7fdbbd0d9190>\n",
            "67 <keras.layers.pooling.global_average_pooling2d.GlobalAveragePooling2D object at 0x7fdbbd0d9e50>\n",
            "68 <keras.layers.reshaping.reshape.Reshape object at 0x7fdbbd1adf70>\n",
            "69 <keras.layers.convolutional.conv2d.Conv2D object at 0x7fdbbd0e0670>\n",
            "70 <keras.layers.convolutional.conv2d.Conv2D object at 0x7fdbbd0e0940>\n",
            "71 <keras.layers.merging.multiply.Multiply object at 0x7fdbbd0e0cd0>\n",
            "72 <keras.layers.convolutional.conv2d.Conv2D object at 0x7fdbbd0ed5e0>\n",
            "73 <keras.layers.normalization.batch_normalization.BatchNormalization object at 0x7fdbbd0f29d0>\n",
            "74 <keras.layers.regularization.dropout.Dropout object at 0x7fdbbd0f2d60>\n",
            "75 <keras.layers.merging.add.Add object at 0x7fdbbd0eda30>\n",
            "76 <keras.layers.convolutional.conv2d.Conv2D object at 0x7fdbbd115280>\n",
            "77 <keras.layers.normalization.batch_normalization.BatchNormalization object at 0x7fdbbd07ffd0>\n",
            "78 <keras.layers.core.activation.Activation object at 0x7fdbbd07f3a0>\n",
            "79 <keras.layers.reshaping.zero_padding2d.ZeroPadding2D object at 0x7fdbbd0ede20>\n",
            "80 <keras.layers.convolutional.depthwise_conv2d.DepthwiseConv2D object at 0x7fdbbd087b20>\n",
            "81 <keras.layers.normalization.batch_normalization.BatchNormalization object at 0x7fdbbd08c6d0>\n",
            "82 <keras.layers.core.activation.Activation object at 0x7fdbbd08c9a0>\n",
            "83 <keras.layers.pooling.global_average_pooling2d.GlobalAveragePooling2D object at 0x7fdbbd095df0>\n",
            "84 <keras.layers.reshaping.reshape.Reshape object at 0x7fdbbd099c10>\n",
            "85 <keras.layers.convolutional.conv2d.Conv2D object at 0x7fdbbd099a90>\n",
            "86 <keras.layers.convolutional.conv2d.Conv2D object at 0x7fdbbd095fa0>\n",
            "87 <keras.layers.merging.multiply.Multiply object at 0x7fdbbd0a8160>\n",
            "88 <keras.layers.convolutional.conv2d.Conv2D object at 0x7fdbbd0a0880>\n",
            "89 <keras.layers.normalization.batch_normalization.BatchNormalization object at 0x7fdbbd0afbe0>\n",
            "90 <keras.layers.convolutional.conv2d.Conv2D object at 0x7fdbbd0bc3d0>\n",
            "91 <keras.layers.normalization.batch_normalization.BatchNormalization object at 0x7fdbbd0bc820>\n",
            "92 <keras.layers.core.activation.Activation object at 0x7fdbbd0bcc40>\n",
            "93 <keras.layers.convolutional.depthwise_conv2d.DepthwiseConv2D object at 0x7fdbbd04a4c0>\n",
            "94 <keras.layers.normalization.batch_normalization.BatchNormalization object at 0x7fdbbd043ee0>\n",
            "95 <keras.layers.core.activation.Activation object at 0x7fdbbd043b80>\n",
            "96 <keras.layers.pooling.global_average_pooling2d.GlobalAveragePooling2D object at 0x7fdbbd05e0a0>\n",
            "97 <keras.layers.reshaping.reshape.Reshape object at 0x7fdbbd05edc0>\n",
            "98 <keras.layers.convolutional.conv2d.Conv2D object at 0x7fdbbd05e730>\n",
            "99 <keras.layers.convolutional.conv2d.Conv2D object at 0x7fdbbd05a190>\n",
            "100 <keras.layers.merging.multiply.Multiply object at 0x7fdbbd06ec70>\n",
            "101 <keras.layers.convolutional.conv2d.Conv2D object at 0x7fdbbd05e850>\n",
            "102 <keras.layers.normalization.batch_normalization.BatchNormalization object at 0x7fdbbd067760>\n",
            "103 <keras.layers.regularization.dropout.Dropout object at 0x7fdbbd0872b0>\n",
            "104 <keras.layers.merging.add.Add object at 0x7fdbbd07f670>\n",
            "105 <keras.layers.convolutional.conv2d.Conv2D object at 0x7fdbbd0a05b0>\n",
            "106 <keras.layers.normalization.batch_normalization.BatchNormalization object at 0x7fdbbd05a3a0>\n",
            "107 <keras.layers.core.activation.Activation object at 0x7fdbbd10fe20>\n",
            "108 <keras.layers.convolutional.depthwise_conv2d.DepthwiseConv2D object at 0x7fdbbd14a640>\n",
            "109 <keras.layers.normalization.batch_normalization.BatchNormalization object at 0x7fdbbd07ae80>\n",
            "110 <keras.layers.core.activation.Activation object at 0x7fdbbd07ae50>\n",
            "111 <keras.layers.pooling.global_average_pooling2d.GlobalAveragePooling2D object at 0x7fdbbd07ef40>\n",
            "112 <keras.layers.reshaping.reshape.Reshape object at 0x7fdbbd07e6d0>\n",
            "113 <keras.layers.convolutional.conv2d.Conv2D object at 0x7fdbbd0058e0>\n",
            "114 <keras.layers.convolutional.conv2d.Conv2D object at 0x7fdbbd005bb0>\n",
            "115 <keras.layers.merging.multiply.Multiply object at 0x7fdbbd005f40>\n",
            "116 <keras.layers.convolutional.conv2d.Conv2D object at 0x7fdbbd019820>\n",
            "117 <keras.layers.normalization.batch_normalization.BatchNormalization object at 0x7fdbbd021c40>\n",
            "118 <keras.layers.regularization.dropout.Dropout object at 0x7fdbbd021fd0>\n",
            "119 <keras.layers.merging.add.Add object at 0x7fdbbd02b040>\n",
            "120 <keras.layers.convolutional.conv2d.Conv2D object at 0x7fdbbd0fbd30>\n",
            "121 <keras.layers.normalization.batch_normalization.BatchNormalization object at 0x7fdbbd030f10>\n",
            "122 <keras.layers.core.activation.Activation object at 0x7fdbbd030a90>\n",
            "123 <keras.layers.convolutional.depthwise_conv2d.DepthwiseConv2D object at 0x7fdbbd019d30>\n",
            "124 <keras.layers.normalization.batch_normalization.BatchNormalization object at 0x7fdbbd03cfa0>\n",
            "125 <keras.layers.core.activation.Activation object at 0x7fdbbd03cf10>\n",
            "126 <keras.layers.pooling.global_average_pooling2d.GlobalAveragePooling2D object at 0x7fdbbcfc4ca0>\n",
            "127 <keras.layers.reshaping.reshape.Reshape object at 0x7fdbbcfc9af0>\n",
            "128 <keras.layers.convolutional.conv2d.Conv2D object at 0x7fdbbcfc47f0>\n",
            "129 <keras.layers.convolutional.conv2d.Conv2D object at 0x7fdbbcfc9c70>\n",
            "130 <keras.layers.merging.multiply.Multiply object at 0x7fdbbcfe0700>\n",
            "131 <keras.layers.convolutional.conv2d.Conv2D object at 0x7fdbbcfcebe0>\n",
            "132 <keras.layers.normalization.batch_normalization.BatchNormalization object at 0x7fdbbcfe0c40>\n",
            "133 <keras.layers.convolutional.conv2d.Conv2D object at 0x7fdbbcfed280>\n",
            "134 <keras.layers.normalization.batch_normalization.BatchNormalization object at 0x7fdbbcfed6d0>\n",
            "135 <keras.layers.core.activation.Activation object at 0x7fdbbcfedaf0>\n",
            "136 <keras.layers.convolutional.depthwise_conv2d.DepthwiseConv2D object at 0x7fdbbcffea30>\n",
            "137 <keras.layers.normalization.batch_normalization.BatchNormalization object at 0x7fdbbcfcee20>\n",
            "138 <keras.layers.core.activation.Activation object at 0x7fdbbcff6cd0>\n",
            "139 <keras.layers.pooling.global_average_pooling2d.GlobalAveragePooling2D object at 0x7fdbbcf920d0>\n",
            "140 <keras.layers.reshaping.reshape.Reshape object at 0x7fdbbcf92d00>\n",
            "141 <keras.layers.convolutional.conv2d.Conv2D object at 0x7fdbbcf925e0>\n",
            "142 <keras.layers.convolutional.conv2d.Conv2D object at 0x7fdbbcf8d130>\n",
            "143 <keras.layers.merging.multiply.Multiply object at 0x7fdbbd019ee0>\n",
            "144 <keras.layers.convolutional.conv2d.Conv2D object at 0x7fdbbcfe8970>\n",
            "145 <keras.layers.normalization.batch_normalization.BatchNormalization object at 0x7fdbbcf8d760>\n",
            "146 <keras.layers.regularization.dropout.Dropout object at 0x7fdbbd087250>\n",
            "147 <keras.layers.merging.add.Add object at 0x7fdbbd0955b0>\n",
            "148 <keras.layers.convolutional.conv2d.Conv2D object at 0x7fdbbcf82ee0>\n",
            "149 <keras.layers.normalization.batch_normalization.BatchNormalization object at 0x7fdbbd005310>\n",
            "150 <keras.layers.core.activation.Activation object at 0x7fdbbd0788b0>\n",
            "151 <keras.layers.convolutional.depthwise_conv2d.DepthwiseConv2D object at 0x7fdbbcf9f6a0>\n",
            "152 <keras.layers.normalization.batch_normalization.BatchNormalization object at 0x7fdbbcfa2ee0>\n",
            "153 <keras.layers.core.activation.Activation object at 0x7fdbbcfa7370>\n",
            "154 <keras.layers.pooling.global_average_pooling2d.GlobalAveragePooling2D object at 0x7fdbbcfac460>\n",
            "155 <keras.layers.reshaping.reshape.Reshape object at 0x7fdbbcfacfa0>\n",
            "156 <keras.layers.convolutional.conv2d.Conv2D object at 0x7fdbbcfbc190>\n",
            "157 <keras.layers.convolutional.conv2d.Conv2D object at 0x7fdbbcfb39d0>\n",
            "158 <keras.layers.merging.multiply.Multiply object at 0x7fdbbcfbc730>\n",
            "159 <keras.layers.convolutional.conv2d.Conv2D object at 0x7fdbbcf4a610>\n",
            "160 <keras.layers.normalization.batch_normalization.BatchNormalization object at 0x7fdbbcf4a670>\n",
            "161 <keras.layers.regularization.dropout.Dropout object at 0x7fdbbcf4a3a0>\n",
            "162 <keras.layers.merging.add.Add object at 0x7fdbbcf56250>\n",
            "163 <keras.layers.convolutional.conv2d.Conv2D object at 0x7fdbbd02bfa0>\n",
            "164 <keras.layers.normalization.batch_normalization.BatchNormalization object at 0x7fdbbcfbc910>\n",
            "165 <keras.layers.core.activation.Activation object at 0x7fdbbcf56760>\n",
            "166 <keras.layers.reshaping.zero_padding2d.ZeroPadding2D object at 0x7fdbbcf631f0>\n",
            "167 <keras.layers.convolutional.depthwise_conv2d.DepthwiseConv2D object at 0x7fdbbd07fdf0>\n",
            "168 <keras.layers.normalization.batch_normalization.BatchNormalization object at 0x7fdbbcf63e50>\n",
            "169 <keras.layers.core.activation.Activation object at 0x7fdbbcf76e20>\n",
            "170 <keras.layers.pooling.global_average_pooling2d.GlobalAveragePooling2D object at 0x7fdbbcf76d00>\n",
            "171 <keras.layers.reshaping.reshape.Reshape object at 0x7fdbbcf6bdf0>\n",
            "172 <keras.layers.convolutional.conv2d.Conv2D object at 0x7fdbbcfa7d00>\n",
            "173 <keras.layers.convolutional.conv2d.Conv2D object at 0x7fdbbcf4a8e0>\n",
            "174 <keras.layers.merging.multiply.Multiply object at 0x7fdbbcf637c0>\n",
            "175 <keras.layers.convolutional.conv2d.Conv2D object at 0x7fdbbcf424f0>\n",
            "176 <keras.layers.normalization.batch_normalization.BatchNormalization object at 0x7fdbbcf7e2e0>\n",
            "177 <keras.layers.convolutional.conv2d.Conv2D object at 0x7fdbbcf7e8b0>\n",
            "178 <keras.layers.normalization.batch_normalization.BatchNormalization object at 0x7fdbbd003dc0>\n",
            "179 <keras.layers.core.activation.Activation object at 0x7fdbbcf14af0>\n",
            "180 <keras.layers.convolutional.depthwise_conv2d.DepthwiseConv2D object at 0x7fdbbcf1e5b0>\n",
            "181 <keras.layers.normalization.batch_normalization.BatchNormalization object at 0x7fdbbcf1e430>\n",
            "182 <keras.layers.core.activation.Activation object at 0x7fdbbcf7ea60>\n",
            "183 <keras.layers.pooling.global_average_pooling2d.GlobalAveragePooling2D object at 0x7fdbbcf162b0>\n",
            "184 <keras.layers.reshaping.reshape.Reshape object at 0x7fdbbcf1e7f0>\n",
            "185 <keras.layers.convolutional.conv2d.Conv2D object at 0x7fdbbcf6b4c0>\n",
            "186 <keras.layers.convolutional.conv2d.Conv2D object at 0x7fdbbcfbc520>\n",
            "187 <keras.layers.merging.multiply.Multiply object at 0x7fdbbcf7e850>\n",
            "188 <keras.layers.convolutional.conv2d.Conv2D object at 0x7fdbbcf929d0>\n",
            "189 <keras.layers.normalization.batch_normalization.BatchNormalization object at 0x7fdbbd0033a0>\n",
            "190 <keras.layers.regularization.dropout.Dropout object at 0x7fdbbcf14430>\n",
            "191 <keras.layers.merging.add.Add object at 0x7fdbbcf564c0>\n",
            "192 <keras.layers.convolutional.conv2d.Conv2D object at 0x7fdbbcf560d0>\n",
            "193 <keras.layers.normalization.batch_normalization.BatchNormalization object at 0x7fdbbcfbc700>\n",
            "194 <keras.layers.core.activation.Activation object at 0x7fdbbcf2f460>\n",
            "195 <keras.layers.convolutional.depthwise_conv2d.DepthwiseConv2D object at 0x7fdbbcf32790>\n",
            "196 <keras.layers.normalization.batch_normalization.BatchNormalization object at 0x7fdbbcf6bc70>\n",
            "197 <keras.layers.core.activation.Activation object at 0x7fdbbcfac9d0>\n",
            "198 <keras.layers.pooling.global_average_pooling2d.GlobalAveragePooling2D object at 0x7fdbbcf323a0>\n",
            "199 <keras.layers.reshaping.reshape.Reshape object at 0x7fdbbcf32be0>\n",
            "200 <keras.layers.convolutional.conv2d.Conv2D object at 0x7fdbbcf4a940>\n",
            "201 <keras.layers.convolutional.conv2d.Conv2D object at 0x7fdbbcf25c40>\n",
            "202 <keras.layers.merging.multiply.Multiply object at 0x7fdbbced5220>\n",
            "203 <keras.layers.convolutional.conv2d.Conv2D object at 0x7fdbbcf92be0>\n",
            "204 <keras.layers.normalization.batch_normalization.BatchNormalization object at 0x7fdbbced57c0>\n",
            "205 <keras.layers.regularization.dropout.Dropout object at 0x7fdbbcee7e50>\n",
            "206 <keras.layers.merging.add.Add object at 0x7fdbbcee7370>\n",
            "207 <keras.layers.convolutional.conv2d.Conv2D object at 0x7fdbbcee7550>\n",
            "208 <keras.layers.normalization.batch_normalization.BatchNormalization object at 0x7fdbbcede280>\n",
            "209 <keras.layers.core.activation.Activation object at 0x7fdbbcef4eb0>\n",
            "210 <keras.layers.convolutional.depthwise_conv2d.DepthwiseConv2D object at 0x7fdbbcef4610>\n",
            "211 <keras.layers.normalization.batch_normalization.BatchNormalization object at 0x7fdbbcec04c0>\n",
            "212 <keras.layers.core.activation.Activation object at 0x7fdbbcec91c0>\n",
            "213 <keras.layers.pooling.global_average_pooling2d.GlobalAveragePooling2D object at 0x7fdbbce888e0>\n",
            "214 <keras.layers.reshaping.reshape.Reshape object at 0x7fdbbcef4430>\n",
            "215 <keras.layers.convolutional.conv2d.Conv2D object at 0x7fdbbce88c70>\n",
            "216 <keras.layers.convolutional.conv2d.Conv2D object at 0x7fdbbceec0d0>\n",
            "217 <keras.layers.merging.multiply.Multiply object at 0x7fdbbce88ca0>\n",
            "218 <keras.layers.convolutional.conv2d.Conv2D object at 0x7fdbbcf2f3a0>\n",
            "219 <keras.layers.normalization.batch_normalization.BatchNormalization object at 0x7fdbbce87880>\n",
            "220 <keras.layers.regularization.dropout.Dropout object at 0x7fdbbce87940>\n",
            "221 <keras.layers.merging.add.Add object at 0x7fdbbcee73d0>\n",
            "222 <keras.layers.convolutional.conv2d.Conv2D object at 0x7fdbbcf56700>\n",
            "223 <keras.layers.normalization.batch_normalization.BatchNormalization object at 0x7fdbbceaf460>\n",
            "224 <keras.layers.core.activation.Activation object at 0x7fdbbce9cdf0>\n",
            "225 <keras.layers.convolutional.depthwise_conv2d.DepthwiseConv2D object at 0x7fdbbceac9a0>\n",
            "226 <keras.layers.normalization.batch_normalization.BatchNormalization object at 0x7fdbbceec520>\n",
            "227 <keras.layers.core.activation.Activation object at 0x7fdbbcec0550>\n",
            "228 <keras.layers.pooling.global_average_pooling2d.GlobalAveragePooling2D object at 0x7fdbbcee76d0>\n",
            "229 <keras.layers.reshaping.reshape.Reshape object at 0x7fdbbceacd00>\n",
            "230 <keras.layers.convolutional.conv2d.Conv2D object at 0x7fdbbcfbc4f0>\n",
            "231 <keras.layers.convolutional.conv2d.Conv2D object at 0x7fdbbceaf7f0>\n",
            "232 <keras.layers.merging.multiply.Multiply object at 0x7fdbbcf8d790>\n",
            "233 <keras.layers.convolutional.conv2d.Conv2D object at 0x7fdbbce9cd90>\n",
            "234 <keras.layers.normalization.batch_normalization.BatchNormalization object at 0x7fdbb473f9a0>\n",
            "235 <keras.layers.convolutional.conv2d.Conv2D object at 0x7fdbbd1c14f0>\n",
            "236 <keras.layers.normalization.batch_normalization.BatchNormalization object at 0x7fdbbce9cd30>\n",
            "237 <keras.layers.core.activation.Activation object at 0x7fdbb474bb50>\n"
          ]
        }
      ]
    },
    {
      "cell_type": "code",
      "source": [
        "# Model summary\n",
        "base_model.summary()"
      ],
      "metadata": {
        "colab": {
          "base_uri": "https://localhost:8080/"
        },
        "id": "Nw4pq66ApFcv",
        "outputId": "5621cb24-86b1-436e-c7a3-b4a2ef2ab7b4"
      },
      "execution_count": 15,
      "outputs": [
        {
          "output_type": "stream",
          "name": "stdout",
          "text": [
            "Model: \"efficientnetb0\"\n",
            "__________________________________________________________________________________________________\n",
            " Layer (type)                   Output Shape         Param #     Connected to                     \n",
            "==================================================================================================\n",
            " input_1 (InputLayer)           [(None, None, None,  0           []                               \n",
            "                                 3)]                                                              \n",
            "                                                                                                  \n",
            " rescaling (Rescaling)          (None, None, None,   0           ['input_1[0][0]']                \n",
            "                                3)                                                                \n",
            "                                                                                                  \n",
            " normalization (Normalization)  (None, None, None,   7           ['rescaling[0][0]']              \n",
            "                                3)                                                                \n",
            "                                                                                                  \n",
            " tf.math.truediv (TFOpLambda)   (None, None, None,   0           ['normalization[0][0]']          \n",
            "                                3)                                                                \n",
            "                                                                                                  \n",
            " stem_conv_pad (ZeroPadding2D)  (None, None, None,   0           ['tf.math.truediv[0][0]']        \n",
            "                                3)                                                                \n",
            "                                                                                                  \n",
            " stem_conv (Conv2D)             (None, None, None,   864         ['stem_conv_pad[0][0]']          \n",
            "                                32)                                                               \n",
            "                                                                                                  \n",
            " stem_bn (BatchNormalization)   (None, None, None,   128         ['stem_conv[0][0]']              \n",
            "                                32)                                                               \n",
            "                                                                                                  \n",
            " stem_activation (Activation)   (None, None, None,   0           ['stem_bn[0][0]']                \n",
            "                                32)                                                               \n",
            "                                                                                                  \n",
            " block1a_dwconv (DepthwiseConv2  (None, None, None,   288        ['stem_activation[0][0]']        \n",
            " D)                             32)                                                               \n",
            "                                                                                                  \n",
            " block1a_bn (BatchNormalization  (None, None, None,   128        ['block1a_dwconv[0][0]']         \n",
            " )                              32)                                                               \n",
            "                                                                                                  \n",
            " block1a_activation (Activation  (None, None, None,   0          ['block1a_bn[0][0]']             \n",
            " )                              32)                                                               \n",
            "                                                                                                  \n",
            " block1a_se_squeeze (GlobalAver  (None, 32)          0           ['block1a_activation[0][0]']     \n",
            " agePooling2D)                                                                                    \n",
            "                                                                                                  \n",
            " block1a_se_reshape (Reshape)   (None, 1, 1, 32)     0           ['block1a_se_squeeze[0][0]']     \n",
            "                                                                                                  \n",
            " block1a_se_reduce (Conv2D)     (None, 1, 1, 8)      264         ['block1a_se_reshape[0][0]']     \n",
            "                                                                                                  \n",
            " block1a_se_expand (Conv2D)     (None, 1, 1, 32)     288         ['block1a_se_reduce[0][0]']      \n",
            "                                                                                                  \n",
            " block1a_se_excite (Multiply)   (None, None, None,   0           ['block1a_activation[0][0]',     \n",
            "                                32)                               'block1a_se_expand[0][0]']      \n",
            "                                                                                                  \n",
            " block1a_project_conv (Conv2D)  (None, None, None,   512         ['block1a_se_excite[0][0]']      \n",
            "                                16)                                                               \n",
            "                                                                                                  \n",
            " block1a_project_bn (BatchNorma  (None, None, None,   64         ['block1a_project_conv[0][0]']   \n",
            " lization)                      16)                                                               \n",
            "                                                                                                  \n",
            " block2a_expand_conv (Conv2D)   (None, None, None,   1536        ['block1a_project_bn[0][0]']     \n",
            "                                96)                                                               \n",
            "                                                                                                  \n",
            " block2a_expand_bn (BatchNormal  (None, None, None,   384        ['block2a_expand_conv[0][0]']    \n",
            " ization)                       96)                                                               \n",
            "                                                                                                  \n",
            " block2a_expand_activation (Act  (None, None, None,   0          ['block2a_expand_bn[0][0]']      \n",
            " ivation)                       96)                                                               \n",
            "                                                                                                  \n",
            " block2a_dwconv_pad (ZeroPaddin  (None, None, None,   0          ['block2a_expand_activation[0][0]\n",
            " g2D)                           96)                              ']                               \n",
            "                                                                                                  \n",
            " block2a_dwconv (DepthwiseConv2  (None, None, None,   864        ['block2a_dwconv_pad[0][0]']     \n",
            " D)                             96)                                                               \n",
            "                                                                                                  \n",
            " block2a_bn (BatchNormalization  (None, None, None,   384        ['block2a_dwconv[0][0]']         \n",
            " )                              96)                                                               \n",
            "                                                                                                  \n",
            " block2a_activation (Activation  (None, None, None,   0          ['block2a_bn[0][0]']             \n",
            " )                              96)                                                               \n",
            "                                                                                                  \n",
            " block2a_se_squeeze (GlobalAver  (None, 96)          0           ['block2a_activation[0][0]']     \n",
            " agePooling2D)                                                                                    \n",
            "                                                                                                  \n",
            " block2a_se_reshape (Reshape)   (None, 1, 1, 96)     0           ['block2a_se_squeeze[0][0]']     \n",
            "                                                                                                  \n",
            " block2a_se_reduce (Conv2D)     (None, 1, 1, 4)      388         ['block2a_se_reshape[0][0]']     \n",
            "                                                                                                  \n",
            " block2a_se_expand (Conv2D)     (None, 1, 1, 96)     480         ['block2a_se_reduce[0][0]']      \n",
            "                                                                                                  \n",
            " block2a_se_excite (Multiply)   (None, None, None,   0           ['block2a_activation[0][0]',     \n",
            "                                96)                               'block2a_se_expand[0][0]']      \n",
            "                                                                                                  \n",
            " block2a_project_conv (Conv2D)  (None, None, None,   2304        ['block2a_se_excite[0][0]']      \n",
            "                                24)                                                               \n",
            "                                                                                                  \n",
            " block2a_project_bn (BatchNorma  (None, None, None,   96         ['block2a_project_conv[0][0]']   \n",
            " lization)                      24)                                                               \n",
            "                                                                                                  \n",
            " block2b_expand_conv (Conv2D)   (None, None, None,   3456        ['block2a_project_bn[0][0]']     \n",
            "                                144)                                                              \n",
            "                                                                                                  \n",
            " block2b_expand_bn (BatchNormal  (None, None, None,   576        ['block2b_expand_conv[0][0]']    \n",
            " ization)                       144)                                                              \n",
            "                                                                                                  \n",
            " block2b_expand_activation (Act  (None, None, None,   0          ['block2b_expand_bn[0][0]']      \n",
            " ivation)                       144)                                                              \n",
            "                                                                                                  \n",
            " block2b_dwconv (DepthwiseConv2  (None, None, None,   1296       ['block2b_expand_activation[0][0]\n",
            " D)                             144)                             ']                               \n",
            "                                                                                                  \n",
            " block2b_bn (BatchNormalization  (None, None, None,   576        ['block2b_dwconv[0][0]']         \n",
            " )                              144)                                                              \n",
            "                                                                                                  \n",
            " block2b_activation (Activation  (None, None, None,   0          ['block2b_bn[0][0]']             \n",
            " )                              144)                                                              \n",
            "                                                                                                  \n",
            " block2b_se_squeeze (GlobalAver  (None, 144)         0           ['block2b_activation[0][0]']     \n",
            " agePooling2D)                                                                                    \n",
            "                                                                                                  \n",
            " block2b_se_reshape (Reshape)   (None, 1, 1, 144)    0           ['block2b_se_squeeze[0][0]']     \n",
            "                                                                                                  \n",
            " block2b_se_reduce (Conv2D)     (None, 1, 1, 6)      870         ['block2b_se_reshape[0][0]']     \n",
            "                                                                                                  \n",
            " block2b_se_expand (Conv2D)     (None, 1, 1, 144)    1008        ['block2b_se_reduce[0][0]']      \n",
            "                                                                                                  \n",
            " block2b_se_excite (Multiply)   (None, None, None,   0           ['block2b_activation[0][0]',     \n",
            "                                144)                              'block2b_se_expand[0][0]']      \n",
            "                                                                                                  \n",
            " block2b_project_conv (Conv2D)  (None, None, None,   3456        ['block2b_se_excite[0][0]']      \n",
            "                                24)                                                               \n",
            "                                                                                                  \n",
            " block2b_project_bn (BatchNorma  (None, None, None,   96         ['block2b_project_conv[0][0]']   \n",
            " lization)                      24)                                                               \n",
            "                                                                                                  \n",
            " block2b_drop (Dropout)         (None, None, None,   0           ['block2b_project_bn[0][0]']     \n",
            "                                24)                                                               \n",
            "                                                                                                  \n",
            " block2b_add (Add)              (None, None, None,   0           ['block2b_drop[0][0]',           \n",
            "                                24)                               'block2a_project_bn[0][0]']     \n",
            "                                                                                                  \n",
            " block3a_expand_conv (Conv2D)   (None, None, None,   3456        ['block2b_add[0][0]']            \n",
            "                                144)                                                              \n",
            "                                                                                                  \n",
            " block3a_expand_bn (BatchNormal  (None, None, None,   576        ['block3a_expand_conv[0][0]']    \n",
            " ization)                       144)                                                              \n",
            "                                                                                                  \n",
            " block3a_expand_activation (Act  (None, None, None,   0          ['block3a_expand_bn[0][0]']      \n",
            " ivation)                       144)                                                              \n",
            "                                                                                                  \n",
            " block3a_dwconv_pad (ZeroPaddin  (None, None, None,   0          ['block3a_expand_activation[0][0]\n",
            " g2D)                           144)                             ']                               \n",
            "                                                                                                  \n",
            " block3a_dwconv (DepthwiseConv2  (None, None, None,   3600       ['block3a_dwconv_pad[0][0]']     \n",
            " D)                             144)                                                              \n",
            "                                                                                                  \n",
            " block3a_bn (BatchNormalization  (None, None, None,   576        ['block3a_dwconv[0][0]']         \n",
            " )                              144)                                                              \n",
            "                                                                                                  \n",
            " block3a_activation (Activation  (None, None, None,   0          ['block3a_bn[0][0]']             \n",
            " )                              144)                                                              \n",
            "                                                                                                  \n",
            " block3a_se_squeeze (GlobalAver  (None, 144)         0           ['block3a_activation[0][0]']     \n",
            " agePooling2D)                                                                                    \n",
            "                                                                                                  \n",
            " block3a_se_reshape (Reshape)   (None, 1, 1, 144)    0           ['block3a_se_squeeze[0][0]']     \n",
            "                                                                                                  \n",
            " block3a_se_reduce (Conv2D)     (None, 1, 1, 6)      870         ['block3a_se_reshape[0][0]']     \n",
            "                                                                                                  \n",
            " block3a_se_expand (Conv2D)     (None, 1, 1, 144)    1008        ['block3a_se_reduce[0][0]']      \n",
            "                                                                                                  \n",
            " block3a_se_excite (Multiply)   (None, None, None,   0           ['block3a_activation[0][0]',     \n",
            "                                144)                              'block3a_se_expand[0][0]']      \n",
            "                                                                                                  \n",
            " block3a_project_conv (Conv2D)  (None, None, None,   5760        ['block3a_se_excite[0][0]']      \n",
            "                                40)                                                               \n",
            "                                                                                                  \n",
            " block3a_project_bn (BatchNorma  (None, None, None,   160        ['block3a_project_conv[0][0]']   \n",
            " lization)                      40)                                                               \n",
            "                                                                                                  \n",
            " block3b_expand_conv (Conv2D)   (None, None, None,   9600        ['block3a_project_bn[0][0]']     \n",
            "                                240)                                                              \n",
            "                                                                                                  \n",
            " block3b_expand_bn (BatchNormal  (None, None, None,   960        ['block3b_expand_conv[0][0]']    \n",
            " ization)                       240)                                                              \n",
            "                                                                                                  \n",
            " block3b_expand_activation (Act  (None, None, None,   0          ['block3b_expand_bn[0][0]']      \n",
            " ivation)                       240)                                                              \n",
            "                                                                                                  \n",
            " block3b_dwconv (DepthwiseConv2  (None, None, None,   6000       ['block3b_expand_activation[0][0]\n",
            " D)                             240)                             ']                               \n",
            "                                                                                                  \n",
            " block3b_bn (BatchNormalization  (None, None, None,   960        ['block3b_dwconv[0][0]']         \n",
            " )                              240)                                                              \n",
            "                                                                                                  \n",
            " block3b_activation (Activation  (None, None, None,   0          ['block3b_bn[0][0]']             \n",
            " )                              240)                                                              \n",
            "                                                                                                  \n",
            " block3b_se_squeeze (GlobalAver  (None, 240)         0           ['block3b_activation[0][0]']     \n",
            " agePooling2D)                                                                                    \n",
            "                                                                                                  \n",
            " block3b_se_reshape (Reshape)   (None, 1, 1, 240)    0           ['block3b_se_squeeze[0][0]']     \n",
            "                                                                                                  \n",
            " block3b_se_reduce (Conv2D)     (None, 1, 1, 10)     2410        ['block3b_se_reshape[0][0]']     \n",
            "                                                                                                  \n",
            " block3b_se_expand (Conv2D)     (None, 1, 1, 240)    2640        ['block3b_se_reduce[0][0]']      \n",
            "                                                                                                  \n",
            " block3b_se_excite (Multiply)   (None, None, None,   0           ['block3b_activation[0][0]',     \n",
            "                                240)                              'block3b_se_expand[0][0]']      \n",
            "                                                                                                  \n",
            " block3b_project_conv (Conv2D)  (None, None, None,   9600        ['block3b_se_excite[0][0]']      \n",
            "                                40)                                                               \n",
            "                                                                                                  \n",
            " block3b_project_bn (BatchNorma  (None, None, None,   160        ['block3b_project_conv[0][0]']   \n",
            " lization)                      40)                                                               \n",
            "                                                                                                  \n",
            " block3b_drop (Dropout)         (None, None, None,   0           ['block3b_project_bn[0][0]']     \n",
            "                                40)                                                               \n",
            "                                                                                                  \n",
            " block3b_add (Add)              (None, None, None,   0           ['block3b_drop[0][0]',           \n",
            "                                40)                               'block3a_project_bn[0][0]']     \n",
            "                                                                                                  \n",
            " block4a_expand_conv (Conv2D)   (None, None, None,   9600        ['block3b_add[0][0]']            \n",
            "                                240)                                                              \n",
            "                                                                                                  \n",
            " block4a_expand_bn (BatchNormal  (None, None, None,   960        ['block4a_expand_conv[0][0]']    \n",
            " ization)                       240)                                                              \n",
            "                                                                                                  \n",
            " block4a_expand_activation (Act  (None, None, None,   0          ['block4a_expand_bn[0][0]']      \n",
            " ivation)                       240)                                                              \n",
            "                                                                                                  \n",
            " block4a_dwconv_pad (ZeroPaddin  (None, None, None,   0          ['block4a_expand_activation[0][0]\n",
            " g2D)                           240)                             ']                               \n",
            "                                                                                                  \n",
            " block4a_dwconv (DepthwiseConv2  (None, None, None,   2160       ['block4a_dwconv_pad[0][0]']     \n",
            " D)                             240)                                                              \n",
            "                                                                                                  \n",
            " block4a_bn (BatchNormalization  (None, None, None,   960        ['block4a_dwconv[0][0]']         \n",
            " )                              240)                                                              \n",
            "                                                                                                  \n",
            " block4a_activation (Activation  (None, None, None,   0          ['block4a_bn[0][0]']             \n",
            " )                              240)                                                              \n",
            "                                                                                                  \n",
            " block4a_se_squeeze (GlobalAver  (None, 240)         0           ['block4a_activation[0][0]']     \n",
            " agePooling2D)                                                                                    \n",
            "                                                                                                  \n",
            " block4a_se_reshape (Reshape)   (None, 1, 1, 240)    0           ['block4a_se_squeeze[0][0]']     \n",
            "                                                                                                  \n",
            " block4a_se_reduce (Conv2D)     (None, 1, 1, 10)     2410        ['block4a_se_reshape[0][0]']     \n",
            "                                                                                                  \n",
            " block4a_se_expand (Conv2D)     (None, 1, 1, 240)    2640        ['block4a_se_reduce[0][0]']      \n",
            "                                                                                                  \n",
            " block4a_se_excite (Multiply)   (None, None, None,   0           ['block4a_activation[0][0]',     \n",
            "                                240)                              'block4a_se_expand[0][0]']      \n",
            "                                                                                                  \n",
            " block4a_project_conv (Conv2D)  (None, None, None,   19200       ['block4a_se_excite[0][0]']      \n",
            "                                80)                                                               \n",
            "                                                                                                  \n",
            " block4a_project_bn (BatchNorma  (None, None, None,   320        ['block4a_project_conv[0][0]']   \n",
            " lization)                      80)                                                               \n",
            "                                                                                                  \n",
            " block4b_expand_conv (Conv2D)   (None, None, None,   38400       ['block4a_project_bn[0][0]']     \n",
            "                                480)                                                              \n",
            "                                                                                                  \n",
            " block4b_expand_bn (BatchNormal  (None, None, None,   1920       ['block4b_expand_conv[0][0]']    \n",
            " ization)                       480)                                                              \n",
            "                                                                                                  \n",
            " block4b_expand_activation (Act  (None, None, None,   0          ['block4b_expand_bn[0][0]']      \n",
            " ivation)                       480)                                                              \n",
            "                                                                                                  \n",
            " block4b_dwconv (DepthwiseConv2  (None, None, None,   4320       ['block4b_expand_activation[0][0]\n",
            " D)                             480)                             ']                               \n",
            "                                                                                                  \n",
            " block4b_bn (BatchNormalization  (None, None, None,   1920       ['block4b_dwconv[0][0]']         \n",
            " )                              480)                                                              \n",
            "                                                                                                  \n",
            " block4b_activation (Activation  (None, None, None,   0          ['block4b_bn[0][0]']             \n",
            " )                              480)                                                              \n",
            "                                                                                                  \n",
            " block4b_se_squeeze (GlobalAver  (None, 480)         0           ['block4b_activation[0][0]']     \n",
            " agePooling2D)                                                                                    \n",
            "                                                                                                  \n",
            " block4b_se_reshape (Reshape)   (None, 1, 1, 480)    0           ['block4b_se_squeeze[0][0]']     \n",
            "                                                                                                  \n",
            " block4b_se_reduce (Conv2D)     (None, 1, 1, 20)     9620        ['block4b_se_reshape[0][0]']     \n",
            "                                                                                                  \n",
            " block4b_se_expand (Conv2D)     (None, 1, 1, 480)    10080       ['block4b_se_reduce[0][0]']      \n",
            "                                                                                                  \n",
            " block4b_se_excite (Multiply)   (None, None, None,   0           ['block4b_activation[0][0]',     \n",
            "                                480)                              'block4b_se_expand[0][0]']      \n",
            "                                                                                                  \n",
            " block4b_project_conv (Conv2D)  (None, None, None,   38400       ['block4b_se_excite[0][0]']      \n",
            "                                80)                                                               \n",
            "                                                                                                  \n",
            " block4b_project_bn (BatchNorma  (None, None, None,   320        ['block4b_project_conv[0][0]']   \n",
            " lization)                      80)                                                               \n",
            "                                                                                                  \n",
            " block4b_drop (Dropout)         (None, None, None,   0           ['block4b_project_bn[0][0]']     \n",
            "                                80)                                                               \n",
            "                                                                                                  \n",
            " block4b_add (Add)              (None, None, None,   0           ['block4b_drop[0][0]',           \n",
            "                                80)                               'block4a_project_bn[0][0]']     \n",
            "                                                                                                  \n",
            " block4c_expand_conv (Conv2D)   (None, None, None,   38400       ['block4b_add[0][0]']            \n",
            "                                480)                                                              \n",
            "                                                                                                  \n",
            " block4c_expand_bn (BatchNormal  (None, None, None,   1920       ['block4c_expand_conv[0][0]']    \n",
            " ization)                       480)                                                              \n",
            "                                                                                                  \n",
            " block4c_expand_activation (Act  (None, None, None,   0          ['block4c_expand_bn[0][0]']      \n",
            " ivation)                       480)                                                              \n",
            "                                                                                                  \n",
            " block4c_dwconv (DepthwiseConv2  (None, None, None,   4320       ['block4c_expand_activation[0][0]\n",
            " D)                             480)                             ']                               \n",
            "                                                                                                  \n",
            " block4c_bn (BatchNormalization  (None, None, None,   1920       ['block4c_dwconv[0][0]']         \n",
            " )                              480)                                                              \n",
            "                                                                                                  \n",
            " block4c_activation (Activation  (None, None, None,   0          ['block4c_bn[0][0]']             \n",
            " )                              480)                                                              \n",
            "                                                                                                  \n",
            " block4c_se_squeeze (GlobalAver  (None, 480)         0           ['block4c_activation[0][0]']     \n",
            " agePooling2D)                                                                                    \n",
            "                                                                                                  \n",
            " block4c_se_reshape (Reshape)   (None, 1, 1, 480)    0           ['block4c_se_squeeze[0][0]']     \n",
            "                                                                                                  \n",
            " block4c_se_reduce (Conv2D)     (None, 1, 1, 20)     9620        ['block4c_se_reshape[0][0]']     \n",
            "                                                                                                  \n",
            " block4c_se_expand (Conv2D)     (None, 1, 1, 480)    10080       ['block4c_se_reduce[0][0]']      \n",
            "                                                                                                  \n",
            " block4c_se_excite (Multiply)   (None, None, None,   0           ['block4c_activation[0][0]',     \n",
            "                                480)                              'block4c_se_expand[0][0]']      \n",
            "                                                                                                  \n",
            " block4c_project_conv (Conv2D)  (None, None, None,   38400       ['block4c_se_excite[0][0]']      \n",
            "                                80)                                                               \n",
            "                                                                                                  \n",
            " block4c_project_bn (BatchNorma  (None, None, None,   320        ['block4c_project_conv[0][0]']   \n",
            " lization)                      80)                                                               \n",
            "                                                                                                  \n",
            " block4c_drop (Dropout)         (None, None, None,   0           ['block4c_project_bn[0][0]']     \n",
            "                                80)                                                               \n",
            "                                                                                                  \n",
            " block4c_add (Add)              (None, None, None,   0           ['block4c_drop[0][0]',           \n",
            "                                80)                               'block4b_add[0][0]']            \n",
            "                                                                                                  \n",
            " block5a_expand_conv (Conv2D)   (None, None, None,   38400       ['block4c_add[0][0]']            \n",
            "                                480)                                                              \n",
            "                                                                                                  \n",
            " block5a_expand_bn (BatchNormal  (None, None, None,   1920       ['block5a_expand_conv[0][0]']    \n",
            " ization)                       480)                                                              \n",
            "                                                                                                  \n",
            " block5a_expand_activation (Act  (None, None, None,   0          ['block5a_expand_bn[0][0]']      \n",
            " ivation)                       480)                                                              \n",
            "                                                                                                  \n",
            " block5a_dwconv (DepthwiseConv2  (None, None, None,   12000      ['block5a_expand_activation[0][0]\n",
            " D)                             480)                             ']                               \n",
            "                                                                                                  \n",
            " block5a_bn (BatchNormalization  (None, None, None,   1920       ['block5a_dwconv[0][0]']         \n",
            " )                              480)                                                              \n",
            "                                                                                                  \n",
            " block5a_activation (Activation  (None, None, None,   0          ['block5a_bn[0][0]']             \n",
            " )                              480)                                                              \n",
            "                                                                                                  \n",
            " block5a_se_squeeze (GlobalAver  (None, 480)         0           ['block5a_activation[0][0]']     \n",
            " agePooling2D)                                                                                    \n",
            "                                                                                                  \n",
            " block5a_se_reshape (Reshape)   (None, 1, 1, 480)    0           ['block5a_se_squeeze[0][0]']     \n",
            "                                                                                                  \n",
            " block5a_se_reduce (Conv2D)     (None, 1, 1, 20)     9620        ['block5a_se_reshape[0][0]']     \n",
            "                                                                                                  \n",
            " block5a_se_expand (Conv2D)     (None, 1, 1, 480)    10080       ['block5a_se_reduce[0][0]']      \n",
            "                                                                                                  \n",
            " block5a_se_excite (Multiply)   (None, None, None,   0           ['block5a_activation[0][0]',     \n",
            "                                480)                              'block5a_se_expand[0][0]']      \n",
            "                                                                                                  \n",
            " block5a_project_conv (Conv2D)  (None, None, None,   53760       ['block5a_se_excite[0][0]']      \n",
            "                                112)                                                              \n",
            "                                                                                                  \n",
            " block5a_project_bn (BatchNorma  (None, None, None,   448        ['block5a_project_conv[0][0]']   \n",
            " lization)                      112)                                                              \n",
            "                                                                                                  \n",
            " block5b_expand_conv (Conv2D)   (None, None, None,   75264       ['block5a_project_bn[0][0]']     \n",
            "                                672)                                                              \n",
            "                                                                                                  \n",
            " block5b_expand_bn (BatchNormal  (None, None, None,   2688       ['block5b_expand_conv[0][0]']    \n",
            " ization)                       672)                                                              \n",
            "                                                                                                  \n",
            " block5b_expand_activation (Act  (None, None, None,   0          ['block5b_expand_bn[0][0]']      \n",
            " ivation)                       672)                                                              \n",
            "                                                                                                  \n",
            " block5b_dwconv (DepthwiseConv2  (None, None, None,   16800      ['block5b_expand_activation[0][0]\n",
            " D)                             672)                             ']                               \n",
            "                                                                                                  \n",
            " block5b_bn (BatchNormalization  (None, None, None,   2688       ['block5b_dwconv[0][0]']         \n",
            " )                              672)                                                              \n",
            "                                                                                                  \n",
            " block5b_activation (Activation  (None, None, None,   0          ['block5b_bn[0][0]']             \n",
            " )                              672)                                                              \n",
            "                                                                                                  \n",
            " block5b_se_squeeze (GlobalAver  (None, 672)         0           ['block5b_activation[0][0]']     \n",
            " agePooling2D)                                                                                    \n",
            "                                                                                                  \n",
            " block5b_se_reshape (Reshape)   (None, 1, 1, 672)    0           ['block5b_se_squeeze[0][0]']     \n",
            "                                                                                                  \n",
            " block5b_se_reduce (Conv2D)     (None, 1, 1, 28)     18844       ['block5b_se_reshape[0][0]']     \n",
            "                                                                                                  \n",
            " block5b_se_expand (Conv2D)     (None, 1, 1, 672)    19488       ['block5b_se_reduce[0][0]']      \n",
            "                                                                                                  \n",
            " block5b_se_excite (Multiply)   (None, None, None,   0           ['block5b_activation[0][0]',     \n",
            "                                672)                              'block5b_se_expand[0][0]']      \n",
            "                                                                                                  \n",
            " block5b_project_conv (Conv2D)  (None, None, None,   75264       ['block5b_se_excite[0][0]']      \n",
            "                                112)                                                              \n",
            "                                                                                                  \n",
            " block5b_project_bn (BatchNorma  (None, None, None,   448        ['block5b_project_conv[0][0]']   \n",
            " lization)                      112)                                                              \n",
            "                                                                                                  \n",
            " block5b_drop (Dropout)         (None, None, None,   0           ['block5b_project_bn[0][0]']     \n",
            "                                112)                                                              \n",
            "                                                                                                  \n",
            " block5b_add (Add)              (None, None, None,   0           ['block5b_drop[0][0]',           \n",
            "                                112)                              'block5a_project_bn[0][0]']     \n",
            "                                                                                                  \n",
            " block5c_expand_conv (Conv2D)   (None, None, None,   75264       ['block5b_add[0][0]']            \n",
            "                                672)                                                              \n",
            "                                                                                                  \n",
            " block5c_expand_bn (BatchNormal  (None, None, None,   2688       ['block5c_expand_conv[0][0]']    \n",
            " ization)                       672)                                                              \n",
            "                                                                                                  \n",
            " block5c_expand_activation (Act  (None, None, None,   0          ['block5c_expand_bn[0][0]']      \n",
            " ivation)                       672)                                                              \n",
            "                                                                                                  \n",
            " block5c_dwconv (DepthwiseConv2  (None, None, None,   16800      ['block5c_expand_activation[0][0]\n",
            " D)                             672)                             ']                               \n",
            "                                                                                                  \n",
            " block5c_bn (BatchNormalization  (None, None, None,   2688       ['block5c_dwconv[0][0]']         \n",
            " )                              672)                                                              \n",
            "                                                                                                  \n",
            " block5c_activation (Activation  (None, None, None,   0          ['block5c_bn[0][0]']             \n",
            " )                              672)                                                              \n",
            "                                                                                                  \n",
            " block5c_se_squeeze (GlobalAver  (None, 672)         0           ['block5c_activation[0][0]']     \n",
            " agePooling2D)                                                                                    \n",
            "                                                                                                  \n",
            " block5c_se_reshape (Reshape)   (None, 1, 1, 672)    0           ['block5c_se_squeeze[0][0]']     \n",
            "                                                                                                  \n",
            " block5c_se_reduce (Conv2D)     (None, 1, 1, 28)     18844       ['block5c_se_reshape[0][0]']     \n",
            "                                                                                                  \n",
            " block5c_se_expand (Conv2D)     (None, 1, 1, 672)    19488       ['block5c_se_reduce[0][0]']      \n",
            "                                                                                                  \n",
            " block5c_se_excite (Multiply)   (None, None, None,   0           ['block5c_activation[0][0]',     \n",
            "                                672)                              'block5c_se_expand[0][0]']      \n",
            "                                                                                                  \n",
            " block5c_project_conv (Conv2D)  (None, None, None,   75264       ['block5c_se_excite[0][0]']      \n",
            "                                112)                                                              \n",
            "                                                                                                  \n",
            " block5c_project_bn (BatchNorma  (None, None, None,   448        ['block5c_project_conv[0][0]']   \n",
            " lization)                      112)                                                              \n",
            "                                                                                                  \n",
            " block5c_drop (Dropout)         (None, None, None,   0           ['block5c_project_bn[0][0]']     \n",
            "                                112)                                                              \n",
            "                                                                                                  \n",
            " block5c_add (Add)              (None, None, None,   0           ['block5c_drop[0][0]',           \n",
            "                                112)                              'block5b_add[0][0]']            \n",
            "                                                                                                  \n",
            " block6a_expand_conv (Conv2D)   (None, None, None,   75264       ['block5c_add[0][0]']            \n",
            "                                672)                                                              \n",
            "                                                                                                  \n",
            " block6a_expand_bn (BatchNormal  (None, None, None,   2688       ['block6a_expand_conv[0][0]']    \n",
            " ization)                       672)                                                              \n",
            "                                                                                                  \n",
            " block6a_expand_activation (Act  (None, None, None,   0          ['block6a_expand_bn[0][0]']      \n",
            " ivation)                       672)                                                              \n",
            "                                                                                                  \n",
            " block6a_dwconv_pad (ZeroPaddin  (None, None, None,   0          ['block6a_expand_activation[0][0]\n",
            " g2D)                           672)                             ']                               \n",
            "                                                                                                  \n",
            " block6a_dwconv (DepthwiseConv2  (None, None, None,   16800      ['block6a_dwconv_pad[0][0]']     \n",
            " D)                             672)                                                              \n",
            "                                                                                                  \n",
            " block6a_bn (BatchNormalization  (None, None, None,   2688       ['block6a_dwconv[0][0]']         \n",
            " )                              672)                                                              \n",
            "                                                                                                  \n",
            " block6a_activation (Activation  (None, None, None,   0          ['block6a_bn[0][0]']             \n",
            " )                              672)                                                              \n",
            "                                                                                                  \n",
            " block6a_se_squeeze (GlobalAver  (None, 672)         0           ['block6a_activation[0][0]']     \n",
            " agePooling2D)                                                                                    \n",
            "                                                                                                  \n",
            " block6a_se_reshape (Reshape)   (None, 1, 1, 672)    0           ['block6a_se_squeeze[0][0]']     \n",
            "                                                                                                  \n",
            " block6a_se_reduce (Conv2D)     (None, 1, 1, 28)     18844       ['block6a_se_reshape[0][0]']     \n",
            "                                                                                                  \n",
            " block6a_se_expand (Conv2D)     (None, 1, 1, 672)    19488       ['block6a_se_reduce[0][0]']      \n",
            "                                                                                                  \n",
            " block6a_se_excite (Multiply)   (None, None, None,   0           ['block6a_activation[0][0]',     \n",
            "                                672)                              'block6a_se_expand[0][0]']      \n",
            "                                                                                                  \n",
            " block6a_project_conv (Conv2D)  (None, None, None,   129024      ['block6a_se_excite[0][0]']      \n",
            "                                192)                                                              \n",
            "                                                                                                  \n",
            " block6a_project_bn (BatchNorma  (None, None, None,   768        ['block6a_project_conv[0][0]']   \n",
            " lization)                      192)                                                              \n",
            "                                                                                                  \n",
            " block6b_expand_conv (Conv2D)   (None, None, None,   221184      ['block6a_project_bn[0][0]']     \n",
            "                                1152)                                                             \n",
            "                                                                                                  \n",
            " block6b_expand_bn (BatchNormal  (None, None, None,   4608       ['block6b_expand_conv[0][0]']    \n",
            " ization)                       1152)                                                             \n",
            "                                                                                                  \n",
            " block6b_expand_activation (Act  (None, None, None,   0          ['block6b_expand_bn[0][0]']      \n",
            " ivation)                       1152)                                                             \n",
            "                                                                                                  \n",
            " block6b_dwconv (DepthwiseConv2  (None, None, None,   28800      ['block6b_expand_activation[0][0]\n",
            " D)                             1152)                            ']                               \n",
            "                                                                                                  \n",
            " block6b_bn (BatchNormalization  (None, None, None,   4608       ['block6b_dwconv[0][0]']         \n",
            " )                              1152)                                                             \n",
            "                                                                                                  \n",
            " block6b_activation (Activation  (None, None, None,   0          ['block6b_bn[0][0]']             \n",
            " )                              1152)                                                             \n",
            "                                                                                                  \n",
            " block6b_se_squeeze (GlobalAver  (None, 1152)        0           ['block6b_activation[0][0]']     \n",
            " agePooling2D)                                                                                    \n",
            "                                                                                                  \n",
            " block6b_se_reshape (Reshape)   (None, 1, 1, 1152)   0           ['block6b_se_squeeze[0][0]']     \n",
            "                                                                                                  \n",
            " block6b_se_reduce (Conv2D)     (None, 1, 1, 48)     55344       ['block6b_se_reshape[0][0]']     \n",
            "                                                                                                  \n",
            " block6b_se_expand (Conv2D)     (None, 1, 1, 1152)   56448       ['block6b_se_reduce[0][0]']      \n",
            "                                                                                                  \n",
            " block6b_se_excite (Multiply)   (None, None, None,   0           ['block6b_activation[0][0]',     \n",
            "                                1152)                             'block6b_se_expand[0][0]']      \n",
            "                                                                                                  \n",
            " block6b_project_conv (Conv2D)  (None, None, None,   221184      ['block6b_se_excite[0][0]']      \n",
            "                                192)                                                              \n",
            "                                                                                                  \n",
            " block6b_project_bn (BatchNorma  (None, None, None,   768        ['block6b_project_conv[0][0]']   \n",
            " lization)                      192)                                                              \n",
            "                                                                                                  \n",
            " block6b_drop (Dropout)         (None, None, None,   0           ['block6b_project_bn[0][0]']     \n",
            "                                192)                                                              \n",
            "                                                                                                  \n",
            " block6b_add (Add)              (None, None, None,   0           ['block6b_drop[0][0]',           \n",
            "                                192)                              'block6a_project_bn[0][0]']     \n",
            "                                                                                                  \n",
            " block6c_expand_conv (Conv2D)   (None, None, None,   221184      ['block6b_add[0][0]']            \n",
            "                                1152)                                                             \n",
            "                                                                                                  \n",
            " block6c_expand_bn (BatchNormal  (None, None, None,   4608       ['block6c_expand_conv[0][0]']    \n",
            " ization)                       1152)                                                             \n",
            "                                                                                                  \n",
            " block6c_expand_activation (Act  (None, None, None,   0          ['block6c_expand_bn[0][0]']      \n",
            " ivation)                       1152)                                                             \n",
            "                                                                                                  \n",
            " block6c_dwconv (DepthwiseConv2  (None, None, None,   28800      ['block6c_expand_activation[0][0]\n",
            " D)                             1152)                            ']                               \n",
            "                                                                                                  \n",
            " block6c_bn (BatchNormalization  (None, None, None,   4608       ['block6c_dwconv[0][0]']         \n",
            " )                              1152)                                                             \n",
            "                                                                                                  \n",
            " block6c_activation (Activation  (None, None, None,   0          ['block6c_bn[0][0]']             \n",
            " )                              1152)                                                             \n",
            "                                                                                                  \n",
            " block6c_se_squeeze (GlobalAver  (None, 1152)        0           ['block6c_activation[0][0]']     \n",
            " agePooling2D)                                                                                    \n",
            "                                                                                                  \n",
            " block6c_se_reshape (Reshape)   (None, 1, 1, 1152)   0           ['block6c_se_squeeze[0][0]']     \n",
            "                                                                                                  \n",
            " block6c_se_reduce (Conv2D)     (None, 1, 1, 48)     55344       ['block6c_se_reshape[0][0]']     \n",
            "                                                                                                  \n",
            " block6c_se_expand (Conv2D)     (None, 1, 1, 1152)   56448       ['block6c_se_reduce[0][0]']      \n",
            "                                                                                                  \n",
            " block6c_se_excite (Multiply)   (None, None, None,   0           ['block6c_activation[0][0]',     \n",
            "                                1152)                             'block6c_se_expand[0][0]']      \n",
            "                                                                                                  \n",
            " block6c_project_conv (Conv2D)  (None, None, None,   221184      ['block6c_se_excite[0][0]']      \n",
            "                                192)                                                              \n",
            "                                                                                                  \n",
            " block6c_project_bn (BatchNorma  (None, None, None,   768        ['block6c_project_conv[0][0]']   \n",
            " lization)                      192)                                                              \n",
            "                                                                                                  \n",
            " block6c_drop (Dropout)         (None, None, None,   0           ['block6c_project_bn[0][0]']     \n",
            "                                192)                                                              \n",
            "                                                                                                  \n",
            " block6c_add (Add)              (None, None, None,   0           ['block6c_drop[0][0]',           \n",
            "                                192)                              'block6b_add[0][0]']            \n",
            "                                                                                                  \n",
            " block6d_expand_conv (Conv2D)   (None, None, None,   221184      ['block6c_add[0][0]']            \n",
            "                                1152)                                                             \n",
            "                                                                                                  \n",
            " block6d_expand_bn (BatchNormal  (None, None, None,   4608       ['block6d_expand_conv[0][0]']    \n",
            " ization)                       1152)                                                             \n",
            "                                                                                                  \n",
            " block6d_expand_activation (Act  (None, None, None,   0          ['block6d_expand_bn[0][0]']      \n",
            " ivation)                       1152)                                                             \n",
            "                                                                                                  \n",
            " block6d_dwconv (DepthwiseConv2  (None, None, None,   28800      ['block6d_expand_activation[0][0]\n",
            " D)                             1152)                            ']                               \n",
            "                                                                                                  \n",
            " block6d_bn (BatchNormalization  (None, None, None,   4608       ['block6d_dwconv[0][0]']         \n",
            " )                              1152)                                                             \n",
            "                                                                                                  \n",
            " block6d_activation (Activation  (None, None, None,   0          ['block6d_bn[0][0]']             \n",
            " )                              1152)                                                             \n",
            "                                                                                                  \n",
            " block6d_se_squeeze (GlobalAver  (None, 1152)        0           ['block6d_activation[0][0]']     \n",
            " agePooling2D)                                                                                    \n",
            "                                                                                                  \n",
            " block6d_se_reshape (Reshape)   (None, 1, 1, 1152)   0           ['block6d_se_squeeze[0][0]']     \n",
            "                                                                                                  \n",
            " block6d_se_reduce (Conv2D)     (None, 1, 1, 48)     55344       ['block6d_se_reshape[0][0]']     \n",
            "                                                                                                  \n",
            " block6d_se_expand (Conv2D)     (None, 1, 1, 1152)   56448       ['block6d_se_reduce[0][0]']      \n",
            "                                                                                                  \n",
            " block6d_se_excite (Multiply)   (None, None, None,   0           ['block6d_activation[0][0]',     \n",
            "                                1152)                             'block6d_se_expand[0][0]']      \n",
            "                                                                                                  \n",
            " block6d_project_conv (Conv2D)  (None, None, None,   221184      ['block6d_se_excite[0][0]']      \n",
            "                                192)                                                              \n",
            "                                                                                                  \n",
            " block6d_project_bn (BatchNorma  (None, None, None,   768        ['block6d_project_conv[0][0]']   \n",
            " lization)                      192)                                                              \n",
            "                                                                                                  \n",
            " block6d_drop (Dropout)         (None, None, None,   0           ['block6d_project_bn[0][0]']     \n",
            "                                192)                                                              \n",
            "                                                                                                  \n",
            " block6d_add (Add)              (None, None, None,   0           ['block6d_drop[0][0]',           \n",
            "                                192)                              'block6c_add[0][0]']            \n",
            "                                                                                                  \n",
            " block7a_expand_conv (Conv2D)   (None, None, None,   221184      ['block6d_add[0][0]']            \n",
            "                                1152)                                                             \n",
            "                                                                                                  \n",
            " block7a_expand_bn (BatchNormal  (None, None, None,   4608       ['block7a_expand_conv[0][0]']    \n",
            " ization)                       1152)                                                             \n",
            "                                                                                                  \n",
            " block7a_expand_activation (Act  (None, None, None,   0          ['block7a_expand_bn[0][0]']      \n",
            " ivation)                       1152)                                                             \n",
            "                                                                                                  \n",
            " block7a_dwconv (DepthwiseConv2  (None, None, None,   10368      ['block7a_expand_activation[0][0]\n",
            " D)                             1152)                            ']                               \n",
            "                                                                                                  \n",
            " block7a_bn (BatchNormalization  (None, None, None,   4608       ['block7a_dwconv[0][0]']         \n",
            " )                              1152)                                                             \n",
            "                                                                                                  \n",
            " block7a_activation (Activation  (None, None, None,   0          ['block7a_bn[0][0]']             \n",
            " )                              1152)                                                             \n",
            "                                                                                                  \n",
            " block7a_se_squeeze (GlobalAver  (None, 1152)        0           ['block7a_activation[0][0]']     \n",
            " agePooling2D)                                                                                    \n",
            "                                                                                                  \n",
            " block7a_se_reshape (Reshape)   (None, 1, 1, 1152)   0           ['block7a_se_squeeze[0][0]']     \n",
            "                                                                                                  \n",
            " block7a_se_reduce (Conv2D)     (None, 1, 1, 48)     55344       ['block7a_se_reshape[0][0]']     \n",
            "                                                                                                  \n",
            " block7a_se_expand (Conv2D)     (None, 1, 1, 1152)   56448       ['block7a_se_reduce[0][0]']      \n",
            "                                                                                                  \n",
            " block7a_se_excite (Multiply)   (None, None, None,   0           ['block7a_activation[0][0]',     \n",
            "                                1152)                             'block7a_se_expand[0][0]']      \n",
            "                                                                                                  \n",
            " block7a_project_conv (Conv2D)  (None, None, None,   368640      ['block7a_se_excite[0][0]']      \n",
            "                                320)                                                              \n",
            "                                                                                                  \n",
            " block7a_project_bn (BatchNorma  (None, None, None,   1280       ['block7a_project_conv[0][0]']   \n",
            " lization)                      320)                                                              \n",
            "                                                                                                  \n",
            " top_conv (Conv2D)              (None, None, None,   409600      ['block7a_project_bn[0][0]']     \n",
            "                                1280)                                                             \n",
            "                                                                                                  \n",
            " top_bn (BatchNormalization)    (None, None, None,   5120        ['top_conv[0][0]']               \n",
            "                                1280)                                                             \n",
            "                                                                                                  \n",
            " top_activation (Activation)    (None, None, None,   0           ['top_bn[0][0]']                 \n",
            "                                1280)                                                             \n",
            "                                                                                                  \n",
            "==================================================================================================\n",
            "Total params: 4,049,571\n",
            "Trainable params: 0\n",
            "Non-trainable params: 4,049,571\n",
            "__________________________________________________________________________________________________\n"
          ]
        }
      ]
    },
    {
      "cell_type": "code",
      "source": [
        "# Summary of the whole model\n",
        "model_0.summary()"
      ],
      "metadata": {
        "colab": {
          "base_uri": "https://localhost:8080/"
        },
        "id": "MGCTu2RVqRZn",
        "outputId": "beac6010-b103-4f8a-f2bb-3ec5f2e7d5de"
      },
      "execution_count": 16,
      "outputs": [
        {
          "output_type": "stream",
          "name": "stdout",
          "text": [
            "Model: \"model\"\n",
            "_________________________________________________________________\n",
            " Layer (type)                Output Shape              Param #   \n",
            "=================================================================\n",
            " input_layer (InputLayer)    [(None, 224, 224, 3)]     0         \n",
            "                                                                 \n",
            " efficientnetb0 (Functional)  (None, None, None, 1280)  4049571  \n",
            "                                                                 \n",
            " global_average_pooling_laye  (None, 1280)             0         \n",
            " r (GlobalAveragePooling2D)                                      \n",
            "                                                                 \n",
            " output_layer (Dense)        (None, 10)                12810     \n",
            "                                                                 \n",
            "=================================================================\n",
            "Total params: 4,062,381\n",
            "Trainable params: 12,810\n",
            "Non-trainable params: 4,049,571\n",
            "_________________________________________________________________\n"
          ]
        }
      ]
    },
    {
      "cell_type": "code",
      "source": [
        "# Check the model's training curves\n",
        "plot_loss_curves(history_0)"
      ],
      "metadata": {
        "colab": {
          "base_uri": "https://localhost:8080/",
          "height": 573
        },
        "id": "ivFLZjEpqlur",
        "outputId": "7bba7f78-013b-48ae-c7d5-7fda329c4dc8"
      },
      "execution_count": 17,
      "outputs": [
        {
          "output_type": "display_data",
          "data": {
            "text/plain": [
              "<Figure size 432x288 with 1 Axes>"
            ],
            "image/png": "[encoded data removed]"
          },
          "metadata": {
            "needs_background": "light"
          }
        },
        {
          "output_type": "display_data",
          "data": {
            "text/plain": [
              "<Figure size 432x288 with 1 Axes>"
            ],
            "image/png": "[encoded data removed]"
          },
          "metadata": {
            "needs_background": "light"
          }
        }
      ]
    },
    {
      "cell_type": "markdown",
      "source": [
        "## Getting a Feature Vector from the Trained Model"
      ],
      "metadata": {
        "id": "EOyNbKODrMjp"
      }
    },
    {
      "cell_type": "code",
      "source": [
        "# Define the input shape\n",
        "input_shape = (1, 4, 4, 3)\n",
        "\n",
        "# Create a random tensor\n",
        "tf.random.set_seed(42)\n",
        "input_tensor = tf.random.normal(input_shape)\n",
        "print(f'Random input tensor:\\n {input_tensor}\\n')\n",
        "\n",
        "# Pass the random tensor through a global average pooling 2D layer\n",
        "global_average_pooled_tensor = tf.keras.layers.GlobalAveragePooling2D()(input_tensor)\n",
        "print(f'2D global average pooled random tensor:\\n {global_average_pooled_tensor}\\n')\n",
        "\n",
        "# Check the shape of the different tensors\n",
        "print(f'Shape of input tensor: {input_tensor.shape}')\n",
        "print(f'Shape of Global Average Pooled 2D Tensor: {global_average_pooled_tensor.shape}')"
      ],
      "metadata": {
        "colab": {
          "base_uri": "https://localhost:8080/"
        },
        "id": "liY_gtWOq5Un",
        "outputId": "db19aab8-7b56-412e-e129-b48578f67563"
      },
      "execution_count": 18,
      "outputs": [
        {
          "output_type": "stream",
          "name": "stdout",
          "text": [
            "Random input tensor:\n",
            " [[[[ 0.3274685  -0.8426258   0.3194337 ]\n",
            "   [-1.4075519  -2.3880599  -1.0392479 ]\n",
            "   [-0.5573232   0.539707    1.6994323 ]\n",
            "   [ 0.28893656 -1.5066116  -0.2645474 ]]\n",
            "\n",
            "  [[-0.59722406 -1.9171132  -0.62044144]\n",
            "   [ 0.8504023  -0.40604794 -3.0258412 ]\n",
            "   [ 0.9058464   0.29855987 -0.22561555]\n",
            "   [-0.7616443  -1.8917141  -0.93847126]]\n",
            "\n",
            "  [[ 0.77852213 -0.47338897  0.97772694]\n",
            "   [ 0.24694404  0.20573747 -0.5256233 ]\n",
            "   [ 0.32410017  0.02545409 -0.10638497]\n",
            "   [-0.6369475   1.1603122   0.2507359 ]]\n",
            "\n",
            "  [[-0.41728503  0.4012578  -1.4145443 ]\n",
            "   [-0.5931857  -1.6617213   0.33567193]\n",
            "   [ 0.10815629  0.23479682 -0.56668764]\n",
            "   [-0.35819843  0.88698614  0.52744764]]]]\n",
            "\n",
            "2D global average pooled random tensor:\n",
            " [[-0.09368646 -0.45840448 -0.2885598 ]]\n",
            "\n",
            "Shape of input tensor: (1, 4, 4, 3)\n",
            "Shape of Global Average Pooled 2D Tensor: (1, 3)\n"
          ]
        }
      ]
    },
    {
      "cell_type": "markdown",
      "source": [
        "- Removes the two inner dimensions"
      ],
      "metadata": {
        "id": "StGXsSsvtuzQ"
      }
    },
    {
      "cell_type": "code",
      "source": [
        "# Replicating the GlobalAveragePool2D layer\n",
        "tf.reduce_mean(input_tensor, axis=[1, 2])"
      ],
      "metadata": {
        "colab": {
          "base_uri": "https://localhost:8080/"
        },
        "id": "8PuD2jNQsTjn",
        "outputId": "e951d0ee-9b99-4c44-88be-bc0613bf6e12"
      },
      "execution_count": 19,
      "outputs": [
        {
          "output_type": "execute_result",
          "data": {
            "text/plain": [
              "<tf.Tensor: shape=(1, 3), dtype=float32, numpy=array([[-0.09368646, -0.45840448, -0.2885598 ]], dtype=float32)>"
            ]
          },
          "metadata": {},
          "execution_count": 19
        }
      ]
    },
    {
      "cell_type": "markdown",
      "source": [
        "## Running a Series of Transfer Learning Experiments\n",
        "\n",
        "1. `model_1`: use feature extraction transfer learning with 1% of the training data with data augmentation\n",
        "\n",
        "2. `model_2`: use feature extraction transfer learning with 10% of the training data with data augmentation\n",
        "\n",
        "3. `model_3`: use fine-tuning transfer learning on 10% of the training data with data augmentation\n",
        "\n",
        "4. `model_4`: use fine-tuning transfer learning on 100% of the training data with data augmentation"
      ],
      "metadata": {
        "id": "vk1Kg0afvXki"
      }
    },
    {
      "cell_type": "markdown",
      "source": [
        "### Getting and Preprocessing Data for model_1"
      ],
      "metadata": {
        "id": "OmVXgkmbxgJg"
      }
    },
    {
      "cell_type": "code",
      "source": [
        "# Download and unzip data\n",
        "! wget https://storage.googleapis.com/ztm_tf_course/food_vision/10_food_classes_1_percent.zip\n",
        "\n",
        "unzip_data('10_food_classes_1_percent.zip')"
      ],
      "metadata": {
        "colab": {
          "base_uri": "https://localhost:8080/"
        },
        "id": "gNRVmO95uASL",
        "outputId": "f46dd3b9-61b2-4e45-8881-0f1fa37f5aad"
      },
      "execution_count": 20,
      "outputs": [
        {
          "output_type": "stream",
          "name": "stdout",
          "text": [
            "--2023-01-23 18:02:10--  https://storage.googleapis.com/ztm_tf_course/food_vision/10_food_classes_1_percent.zip\n",
            "Resolving storage.googleapis.com (storage.googleapis.com)... 173.194.74.128, 173.194.192.128, 172.217.219.128, ...\n",
            "Connecting to storage.googleapis.com (storage.googleapis.com)|173.194.74.128|:443... connected.\n",
            "HTTP request sent, awaiting response... 200 OK\n",
            "Length: 133612354 (127M) [application/zip]\n",
            "Saving to: ‘10_food_classes_1_percent.zip’\n",
            "\n",
            "10_food_classes_1_p 100%[===================>] 127.42M  54.3MB/s    in 2.3s    \n",
            "\n",
            "2023-01-23 18:02:12 (54.3 MB/s) - ‘10_food_classes_1_percent.zip’ saved [133612354/133612354]\n",
            "\n"
          ]
        }
      ]
    },
    {
      "cell_type": "code",
      "source": [
        "# Creating training and test dirs\n",
        "train_dir_1_percent = '10_food_classes_1_percent/train'\n",
        "test_dir = '10_food_classes_1_percent/test'"
      ],
      "metadata": {
        "id": "Htd2Gf1Sw_Uq"
      },
      "execution_count": 21,
      "outputs": []
    },
    {
      "cell_type": "code",
      "source": [
        "# How many images are there?\n",
        "walk_through_dir('10_food_classes_1_percent')"
      ],
      "metadata": {
        "colab": {
          "base_uri": "https://localhost:8080/"
        },
        "id": "zfbXB8BvxJB7",
        "outputId": "ad447ec1-e3d0-405c-98ac-a4c615ba3ebc"
      },
      "execution_count": 22,
      "outputs": [
        {
          "output_type": "stream",
          "name": "stdout",
          "text": [
            "There are 2 directories and 0 images in '10_food_classes_1_percent'.\n",
            "There are 10 directories and 0 images in '10_food_classes_1_percent/train'.\n",
            "There are 0 directories and 7 images in '10_food_classes_1_percent/train/sushi'.\n",
            "There are 0 directories and 7 images in '10_food_classes_1_percent/train/ice_cream'.\n",
            "There are 0 directories and 7 images in '10_food_classes_1_percent/train/hamburger'.\n",
            "There are 0 directories and 7 images in '10_food_classes_1_percent/train/grilled_salmon'.\n",
            "There are 0 directories and 7 images in '10_food_classes_1_percent/train/pizza'.\n",
            "There are 0 directories and 7 images in '10_food_classes_1_percent/train/fried_rice'.\n",
            "There are 0 directories and 7 images in '10_food_classes_1_percent/train/ramen'.\n",
            "There are 0 directories and 7 images in '10_food_classes_1_percent/train/steak'.\n",
            "There are 0 directories and 7 images in '10_food_classes_1_percent/train/chicken_wings'.\n",
            "There are 0 directories and 7 images in '10_food_classes_1_percent/train/chicken_curry'.\n",
            "There are 10 directories and 0 images in '10_food_classes_1_percent/test'.\n",
            "There are 0 directories and 250 images in '10_food_classes_1_percent/test/sushi'.\n",
            "There are 0 directories and 250 images in '10_food_classes_1_percent/test/ice_cream'.\n",
            "There are 0 directories and 250 images in '10_food_classes_1_percent/test/hamburger'.\n",
            "There are 0 directories and 250 images in '10_food_classes_1_percent/test/grilled_salmon'.\n",
            "There are 0 directories and 250 images in '10_food_classes_1_percent/test/pizza'.\n",
            "There are 0 directories and 250 images in '10_food_classes_1_percent/test/fried_rice'.\n",
            "There are 0 directories and 250 images in '10_food_classes_1_percent/test/ramen'.\n",
            "There are 0 directories and 250 images in '10_food_classes_1_percent/test/steak'.\n",
            "There are 0 directories and 250 images in '10_food_classes_1_percent/test/chicken_wings'.\n",
            "There are 0 directories and 250 images in '10_food_classes_1_percent/test/chicken_curry'.\n"
          ]
        }
      ]
    },
    {
      "cell_type": "code",
      "source": [
        "# Setup data loaders\n",
        "IMG_SIZE = (224, 224)\n",
        "train_data_1_percent = tf.keras.preprocessing.image_dataset_from_directory(\n",
        "    train_dir_1_percent,\n",
        "    label_mode='categorical',\n",
        "    image_size=IMG_SIZE,\n",
        "    batch_size=BATCH_SIZE\n",
        ")\n",
        "\n",
        "test_data = tf.keras.preprocessing.image_dataset_from_directory(\n",
        "    test_dir,\n",
        "    label_mode='categorical',\n",
        "    image_size=IMG_SIZE,\n",
        "    batch_size=BATCH_SIZE\n",
        ")"
      ],
      "metadata": {
        "colab": {
          "base_uri": "https://localhost:8080/"
        },
        "id": "bQcd_rGVxQWm",
        "outputId": "8f64d4f9-1d24-4a23-c3d4-e4af70aca8ec"
      },
      "execution_count": 23,
      "outputs": [
        {
          "output_type": "stream",
          "name": "stdout",
          "text": [
            "Found 70 files belonging to 10 classes.\n",
            "Found 2500 files belonging to 10 classes.\n"
          ]
        }
      ]
    },
    {
      "cell_type": "markdown",
      "source": [
        "### Adding Data Augmentation Right Into the Model"
      ],
      "metadata": {
        "id": "gRCPXzqxyhwo"
      }
    },
    {
      "cell_type": "code",
      "source": [
        "from tensorflow import keras\n",
        "from keras import layers\n",
        "from tensorflow.keras.layers.experimental import preprocessing"
      ],
      "metadata": {
        "id": "4A5YvFocyUmB"
      },
      "execution_count": 24,
      "outputs": []
    },
    {
      "cell_type": "code",
      "source": [
        "# Create data augmentation stage\n",
        "data_augmentation = keras.Sequential([\n",
        "    preprocessing.RandomFlip('horizontal'),\n",
        "    preprocessing.RandomRotation(0.2),\n",
        "    preprocessing.RandomZoom(0.2),\n",
        "    preprocessing.RandomHeight(0.2),\n",
        "    preprocessing.RandomWidth(0.2),\n",
        "], name='data_augmentation')"
      ],
      "metadata": {
        "id": "TsS-SGGRzHnP"
      },
      "execution_count": 25,
      "outputs": []
    },
    {
      "cell_type": "markdown",
      "source": [
        "### Visualize the Data Augmentation Layer"
      ],
      "metadata": {
        "id": "g9lMo6py2Qwu"
      }
    },
    {
      "cell_type": "code",
      "source": [
        "import matplotlib.pyplot as plt\n",
        "import matplotlib.image as mpimg\n",
        "import os\n",
        "import random"
      ],
      "metadata": {
        "id": "A378LZTxzxGz"
      },
      "execution_count": 26,
      "outputs": []
    },
    {
      "cell_type": "code",
      "source": [
        "# View a random image and compare it to it's augmented version\n",
        "target_class = random.choice(train_data_1_percent.class_names)\n",
        "target_dir = '10_food_classes_1_percent/train/' + target_class\n",
        "print(target_dir)\n",
        "random_image = random.choice(os.listdir(target_dir))\n",
        "random_image_path = target_dir + '/' + random_image\n",
        "print(random_image_path)\n",
        "\n",
        "# Read in random image\n",
        "img = mpimg.imread(random_image_path)\n",
        "plt.imshow(img)\n",
        "plt.title(f'Original Random Image from class: {target_class}')\n",
        "plt.axis(False)\n",
        "\n",
        "# Plotting the augmented random image\n",
        "augmented_img = data_augmentation(img, training=True)\n",
        "plt.figure()\n",
        "plt.imshow(augmented_img / 255.)\n",
        "plt.title(f'Augmented Random Image from class: {target_class}')\n",
        "plt.axis(False)"
      ],
      "metadata": {
        "colab": {
          "base_uri": "https://localhost:8080/",
          "height": 563
        },
        "id": "r4onzcQ92hgu",
        "outputId": "7ca5c7c0-1e59-4f3b-a92f-5c58ef370fc2"
      },
      "execution_count": 27,
      "outputs": [
        {
          "output_type": "stream",
          "name": "stdout",
          "text": [
            "10_food_classes_1_percent/train/steak\n",
            "10_food_classes_1_percent/train/steak/612551.jpg\n"
          ]
        },
        {
          "output_type": "execute_result",
          "data": {
            "text/plain": [
              "(-0.5, 573.5, 415.5, -0.5)"
            ]
          },
          "metadata": {},
          "execution_count": 27
        },
        {
          "output_type": "display_data",
          "data": {
            "text/plain": [
              "<Figure size 432x288 with 1 Axes>"
            ],
            "image/png": "[encoded data removed]"
          },
          "metadata": {
            "needs_background": "light"
          }
        },
        {
          "output_type": "display_data",
          "data": {
            "text/plain": [
              "<Figure size 432x288 with 1 Axes>"
            ],
            "image/png": "[encoded data removed]"
          },
          "metadata": {
            "needs_background": "light"
          }
        }
      ]
    },
    {
      "cell_type": "markdown",
      "source": [
        "### Model 1: Feature Extraction Transfer Learning on 1% of the Data with Data Augmentation"
      ],
      "metadata": {
        "id": "synmqS2k6ZQH"
      }
    },
    {
      "cell_type": "code",
      "source": [
        "# Setup input shape and base model, freezing the base model layers\n",
        "input_shape = IMG_SIZE + (3,)\n",
        "base_model = tf.keras.applications.EfficientNetB0(include_top=False)\n",
        "base_model.trainable = False\n",
        "\n",
        "# Create input layer\n",
        "inputs = layers.Input(shape=input_shape, name='input_layer')\n",
        "\n",
        "# Add in data augmentation Sequential model as a layer\n",
        "x = data_augmentation(inputs)\n",
        "\n",
        "# Give base_model the inputs (after augmented) and don't train it\n",
        "x = base_model(x, training=False)\n",
        "\n",
        "# Pool output features of the base model\n",
        "x = layers.GlobalAveragePooling2D(name='global_average_pooling_layer')(x)\n",
        "\n",
        "# Put a dense layer on as the output\n",
        "outputs = layers.Dense(10, activation='softmax', name='output_layer')(x)\n",
        "\n",
        "# Make a model using the inputs and outputs\n",
        "model_1 = keras.Model(inputs, outputs)\n",
        "\n",
        "# Compile the model\n",
        "model_1.compile(loss='categorical_crossentropy',\n",
        "                optimizer=tf.keras.optimizers.Adam(),\n",
        "                metrics=['accuracy'])\n",
        "\n",
        "# Fit the model\n",
        "history_1 = model_1.fit(train_data_1_percent,\n",
        "                        epochs=5,\n",
        "                        steps_per_epoch=len(train_data_1_percent),\n",
        "                        validation_data=test_data,\n",
        "                        validation_steps=int(0.25 * len(test_data)),\n",
        "                        # Track model training logs\n",
        "                        callbacks=[create_tensorboard_callback(\n",
        "                            dir_name='transfer_learning',\n",
        "                            experiment_name='1_percent_data_aug'\n",
        "                        )])"
      ],
      "metadata": {
        "colab": {
          "base_uri": "https://localhost:8080/"
        },
        "id": "b6D-tXD22wI2",
        "outputId": "345f8f84-ecc1-4336-e297-23f23165640a"
      },
      "execution_count": 28,
      "outputs": [
        {
          "output_type": "stream",
          "name": "stderr",
          "text": [
            "WARNING:tensorflow:Model was constructed with shape (512, 509, 3) for input KerasTensor(type_spec=TensorSpec(shape=(512, 509, 3), dtype=tf.uint8, name='random_flip_input'), name='random_flip_input', description=\"created by layer 'random_flip_input'\"), but it was called on an input with incompatible shape (None, 224, 224, 3).\n"
          ]
        },
        {
          "output_type": "stream",
          "name": "stdout",
          "text": [
            "Saving TensorBoard log files to: transfer_learning/1_percent_data_aug/20230123-180216\n",
            "Epoch 1/5\n"
          ]
        },
        {
          "output_type": "stream",
          "name": "stderr",
          "text": [
            "WARNING:tensorflow:Model was constructed with shape (512, 509, 3) for input KerasTensor(type_spec=TensorSpec(shape=(512, 509, 3), dtype=tf.uint8, name='random_flip_input'), name='random_flip_input', description=\"created by layer 'random_flip_input'\"), but it was called on an input with incompatible shape (None, 224, 224, 3).\n",
            "WARNING:tensorflow:Model was constructed with shape (512, 509, 3) for input KerasTensor(type_spec=TensorSpec(shape=(512, 509, 3), dtype=tf.uint8, name='random_flip_input'), name='random_flip_input', description=\"created by layer 'random_flip_input'\"), but it was called on an input with incompatible shape (None, 224, 224, 3).\n"
          ]
        },
        {
          "output_type": "stream",
          "name": "stdout",
          "text": [
            "3/3 [==============================] - ETA: 0s - loss: 2.3846 - accuracy: 0.1143"
          ]
        },
        {
          "output_type": "stream",
          "name": "stderr",
          "text": [
            "WARNING:tensorflow:Model was constructed with shape (512, 509, 3) for input KerasTensor(type_spec=TensorSpec(shape=(512, 509, 3), dtype=tf.uint8, name='random_flip_input'), name='random_flip_input', description=\"created by layer 'random_flip_input'\"), but it was called on an input with incompatible shape (None, 224, 224, 3).\n"
          ]
        },
        {
          "output_type": "stream",
          "name": "stdout",
          "text": [
            "\b\b\b\b\b\b\b\b\b\b\b\b\b\b\b\b\b\b\b\b\b\b\b\b\b\b\b\b\b\b\b\b\b\b\b\b\b\b\b\b\b\b\b\b\b\b\b\b\b\b\b\b\b\b\b\b\b\b\b\b\b\b\b\b\b\b\b\b\b\b\b\b\b\b\b\b\b\b\b\b\r3/3 [==============================] - 10s 2s/step - loss: 2.3846 - accuracy: 0.1143 - val_loss: 2.2275 - val_accuracy: 0.1842\n",
            "Epoch 2/5\n",
            "3/3 [==============================] - 4s 2s/step - loss: 2.1635 - accuracy: 0.3000 - val_loss: 2.1134 - val_accuracy: 0.2484\n",
            "Epoch 3/5\n",
            "3/3 [==============================] - 6s 3s/step - loss: 2.0169 - accuracy: 0.3143 - val_loss: 1.9937 - val_accuracy: 0.2993\n",
            "Epoch 4/5\n",
            "3/3 [==============================] - 4s 1s/step - loss: 1.7360 - accuracy: 0.5857 - val_loss: 1.8856 - val_accuracy: 0.3964\n",
            "Epoch 5/5\n",
            "3/3 [==============================] - 4s 2s/step - loss: 1.6079 - accuracy: 0.6714 - val_loss: 1.7809 - val_accuracy: 0.4704\n"
          ]
        }
      ]
    },
    {
      "cell_type": "code",
      "source": [
        "# Check model summary\n",
        "model_1.summary()"
      ],
      "metadata": {
        "colab": {
          "base_uri": "https://localhost:8080/"
        },
        "id": "E60Pb-eX8wbB",
        "outputId": "10fade9d-f024-43d2-ba7d-78419ee1e6c1"
      },
      "execution_count": 29,
      "outputs": [
        {
          "output_type": "stream",
          "name": "stdout",
          "text": [
            "Model: \"model_1\"\n",
            "_________________________________________________________________\n",
            " Layer (type)                Output Shape              Param #   \n",
            "=================================================================\n",
            " input_layer (InputLayer)    [(None, 224, 224, 3)]     0         \n",
            "                                                                 \n",
            " data_augmentation (Sequenti  (None, None, 3)          0         \n",
            " al)                                                             \n",
            "                                                                 \n",
            " efficientnetb0 (Functional)  (None, None, None, 1280)  4049571  \n",
            "                                                                 \n",
            " global_average_pooling_laye  (None, 1280)             0         \n",
            " r (GlobalAveragePooling2D)                                      \n",
            "                                                                 \n",
            " output_layer (Dense)        (None, 10)                12810     \n",
            "                                                                 \n",
            "=================================================================\n",
            "Total params: 4,062,381\n",
            "Trainable params: 12,810\n",
            "Non-trainable params: 4,049,571\n",
            "_________________________________________________________________\n"
          ]
        }
      ]
    },
    {
      "cell_type": "code",
      "source": [
        "# Evaluate on the full test dataset\n",
        "results_1_percent_data_aug = model_1.evaluate(test_data)\n",
        "results_1_percent_data_aug"
      ],
      "metadata": {
        "colab": {
          "base_uri": "https://localhost:8080/"
        },
        "id": "iWDWfPLK9Vi-",
        "outputId": "52473b9d-58f4-45d8-be9a-edc25ec7ca78"
      },
      "execution_count": 30,
      "outputs": [
        {
          "output_type": "stream",
          "name": "stdout",
          "text": [
            "79/79 [==============================] - 6s 71ms/step - loss: 1.7902 - accuracy: 0.4620\n"
          ]
        },
        {
          "output_type": "execute_result",
          "data": {
            "text/plain": [
              "[1.7901538610458374, 0.4620000123977661]"
            ]
          },
          "metadata": {},
          "execution_count": 30
        }
      ]
    },
    {
      "cell_type": "code",
      "source": [
        "# Loss curves\n",
        "plot_loss_curves(history_1)"
      ],
      "metadata": {
        "colab": {
          "base_uri": "https://localhost:8080/",
          "height": 573
        },
        "id": "AKql0oZT9sjC",
        "outputId": "1d7f3acb-f4e1-4cde-96e7-ccc4faf49edd"
      },
      "execution_count": 31,
      "outputs": [
        {
          "output_type": "display_data",
          "data": {
            "text/plain": [
              "<Figure size 432x288 with 1 Axes>"
            ],
            "image/png": "[encoded data removed]"
          },
          "metadata": {
            "needs_background": "light"
          }
        },
        {
          "output_type": "display_data",
          "data": {
            "text/plain": [
              "<Figure size 432x288 with 1 Axes>"
            ],
            "image/png": "[encoded data removed]"
          },
          "metadata": {
            "needs_background": "light"
          }
        }
      ]
    },
    {
      "cell_type": "markdown",
      "source": [
        "## Model 2: Feature Extraction Transfer Learning Model with 10% of Data and Data Augmentation"
      ],
      "metadata": {
        "id": "Pbur_EMW-0yP"
      }
    },
    {
      "cell_type": "code",
      "source": [
        "train_dir_10_percent = '10_food_classes_10_percent/train'\n",
        "test_dir = '10_food_classes_10_percent/test'"
      ],
      "metadata": {
        "id": "rdkICXDW-Jug"
      },
      "execution_count": 32,
      "outputs": []
    },
    {
      "cell_type": "code",
      "source": [
        "# Set data inputs\n",
        "IMG_SHAPE = (224, 224)\n",
        "train_data_10_percent = tf.keras.preprocessing.image_dataset_from_directory(\n",
        "    train_dir_10_percent,\n",
        "    label_mode='categorical',\n",
        "    image_size=IMG_SHAPE\n",
        ")\n",
        "\n",
        "test_data = tf.keras.preprocessing.image_dataset_from_directory(\n",
        "    test_dir,\n",
        "    label_mode='categorical',\n",
        "    image_size=IMG_SHAPE\n",
        ")"
      ],
      "metadata": {
        "colab": {
          "base_uri": "https://localhost:8080/"
        },
        "id": "BFv58-zs_j2R",
        "outputId": "234153a6-8fe9-467a-eeeb-5a3c019d0e2f"
      },
      "execution_count": 33,
      "outputs": [
        {
          "output_type": "stream",
          "name": "stdout",
          "text": [
            "Found 750 files belonging to 10 classes.\n",
            "Found 2500 files belonging to 10 classes.\n"
          ]
        }
      ]
    },
    {
      "cell_type": "code",
      "source": [
        "from keras.models import Sequential"
      ],
      "metadata": {
        "id": "ni2WUsIwAY57"
      },
      "execution_count": 34,
      "outputs": []
    },
    {
      "cell_type": "code",
      "source": [
        "# Create model 2 with data augmentation built in\n",
        "data_augmentation = Sequential([\n",
        "    preprocessing.RandomFlip('horizontal'),\n",
        "    preprocessing.RandomHeight(0.2),\n",
        "    preprocessing.RandomWidth(0.2),\n",
        "    preprocessing.RandomZoom(0.2),\n",
        "    preprocessing.RandomRotation(0.2)\n",
        "], name='data_augmentation')\n",
        "\n",
        "# Setup the input shape to the model\n",
        "input_shape = IMG_SHAPE + (3,)\n",
        "\n",
        "# Create a frozen base model (also called the backbone)\n",
        "base_model = tf.keras.applications.EfficientNetB0(include_top=False)\n",
        "base_model.trainable = False\n",
        "\n",
        "# Create the inputs and outputs (including the layers in between)\n",
        "inputs = layers.Input(shape=input_shape, name='input_layer')\n",
        "x = data_augmentation(inputs)\n",
        "x = base_model(x, training=False)\n",
        "x = layers.GlobalAveragePooling2D(name='global_average_pooling_2D')(x)\n",
        "outputs = layers.Dense(10, activation='softmax', name='output_layer')(x)\n",
        "model_2 = tf.keras.Model(inputs, outputs)\n",
        "\n",
        "# Compile\n",
        "model_2.compile(loss='categorical_crossentropy',\n",
        "                optimizer=tf.keras.optimizers.Adam(),\n",
        "                metrics=['accuracy'])"
      ],
      "metadata": {
        "id": "cDoyAc1aALQN"
      },
      "execution_count": 35,
      "outputs": []
    },
    {
      "cell_type": "markdown",
      "source": [
        "### Creating a Model Checkpoint Callback"
      ],
      "metadata": {
        "id": "eh1LqK83DwBt"
      }
    },
    {
      "cell_type": "code",
      "source": [
        "# Set checkpoint path\n",
        "checkpoint_path = 'ten_percent_model_checkpoints_weights/checkpoint.ckpt'\n",
        "\n",
        "# Create a ModelCheckpoint callback that saves the model's weights only\n",
        "checkpoint_callback = tf.keras.callbacks.ModelCheckpoint(\n",
        "    filepath=checkpoint_path,\n",
        "    save_weights_only=True,\n",
        "    save_best_only=False,\n",
        "    save_freq='epoch', # Save every epoch\n",
        "    verbose=1\n",
        "    )"
      ],
      "metadata": {
        "id": "RcNX3kGkDvXp"
      },
      "execution_count": 36,
      "outputs": []
    },
    {
      "cell_type": "markdown",
      "source": [
        "### Fitting Model 2 Passing in the ModelCheckpoint Callback"
      ],
      "metadata": {
        "id": "WaorM9UxzRhN"
      }
    },
    {
      "cell_type": "code",
      "source": [
        "# Fit the model saving checkpoints every epoch\n",
        "initial_epochs = 5\n",
        "history_2 = model_2.fit(train_data_10_percent,\n",
        "                        epochs=initial_epochs,\n",
        "                        validation_data=test_data,\n",
        "                        validation_steps=int(0.25 * len(test_data)),\n",
        "                        callbacks=[create_tensorboard_callback(\n",
        "                            dir_name='transfer_learning',\n",
        "                            experiment_name='10_percent_data_aug'\n",
        "                        ), checkpoint_callback])"
      ],
      "metadata": {
        "id": "8YD1CKCAF7BQ",
        "colab": {
          "base_uri": "https://localhost:8080/"
        },
        "outputId": "9cad7968-4ad5-412d-9b04-d9aad3a46520"
      },
      "execution_count": 37,
      "outputs": [
        {
          "output_type": "stream",
          "name": "stdout",
          "text": [
            "Saving TensorBoard log files to: transfer_learning/10_percent_data_aug/20230123-180646\n",
            "Epoch 1/5\n",
            "24/24 [==============================] - ETA: 0s - loss: 1.9717 - accuracy: 0.3707\n",
            "Epoch 1: saving model to ten_percent_model_checkpoints_weights/checkpoint.ckpt\n",
            "24/24 [==============================] - 18s 516ms/step - loss: 1.9717 - accuracy: 0.3707 - val_loss: 1.4110 - val_accuracy: 0.6908\n",
            "Epoch 2/5\n",
            "24/24 [==============================] - ETA: 0s - loss: 1.2887 - accuracy: 0.7107\n",
            "Epoch 2: saving model to ten_percent_model_checkpoints_weights/checkpoint.ckpt\n",
            "24/24 [==============================] - 10s 406ms/step - loss: 1.2887 - accuracy: 0.7107 - val_loss: 0.9571 - val_accuracy: 0.7878\n",
            "Epoch 3/5\n",
            "24/24 [==============================] - ETA: 0s - loss: 0.9847 - accuracy: 0.7600\n",
            "Epoch 3: saving model to ten_percent_model_checkpoints_weights/checkpoint.ckpt\n",
            "24/24 [==============================] - 11s 432ms/step - loss: 0.9847 - accuracy: 0.7600 - val_loss: 0.7631 - val_accuracy: 0.8257\n",
            "Epoch 4/5\n",
            "24/24 [==============================] - ETA: 0s - loss: 0.8509 - accuracy: 0.7973\n",
            "Epoch 4: saving model to ten_percent_model_checkpoints_weights/checkpoint.ckpt\n",
            "24/24 [==============================] - 11s 432ms/step - loss: 0.8509 - accuracy: 0.7973 - val_loss: 0.6785 - val_accuracy: 0.8257\n",
            "Epoch 5/5\n",
            "24/24 [==============================] - ETA: 0s - loss: 0.7308 - accuracy: 0.8267\n",
            "Epoch 5: saving model to ten_percent_model_checkpoints_weights/checkpoint.ckpt\n",
            "24/24 [==============================] - 10s 388ms/step - loss: 0.7308 - accuracy: 0.8267 - val_loss: 0.6002 - val_accuracy: 0.8470\n"
          ]
        }
      ]
    },
    {
      "cell_type": "code",
      "source": [
        "# Check model_2 results on all test data\n",
        "results_10_percent_data_aug = model_2.evaluate(test_data)\n",
        "results_10_percent_data_aug"
      ],
      "metadata": {
        "colab": {
          "base_uri": "https://localhost:8080/"
        },
        "id": "V6PAoZ77z6Wu",
        "outputId": "a4aaf9da-2594-4eb1-9824-522165713922"
      },
      "execution_count": 38,
      "outputs": [
        {
          "output_type": "stream",
          "name": "stdout",
          "text": [
            "79/79 [==============================] - 6s 75ms/step - loss: 0.6105 - accuracy: 0.8444\n"
          ]
        },
        {
          "output_type": "execute_result",
          "data": {
            "text/plain": [
              "[0.6104655265808105, 0.8443999886512756]"
            ]
          },
          "metadata": {},
          "execution_count": 38
        }
      ]
    },
    {
      "cell_type": "code",
      "source": [
        "# Plot model's loss curves\n",
        "plot_loss_curves(history_2)"
      ],
      "metadata": {
        "colab": {
          "base_uri": "https://localhost:8080/",
          "height": 573
        },
        "id": "3QpOEjWE0sHn",
        "outputId": "cd16974d-a295-4bdf-be4a-b2331df09e4b"
      },
      "execution_count": 39,
      "outputs": [
        {
          "output_type": "display_data",
          "data": {
            "text/plain": [
              "<Figure size 432x288 with 1 Axes>"
            ],
            "image/png": "[encoded data removed]"
          },
          "metadata": {
            "needs_background": "light"
          }
        },
        {
          "output_type": "display_data",
          "data": {
            "text/plain": [
              "<Figure size 432x288 with 1 Axes>"
            ],
            "image/png": "[encoded data removed]"
          },
          "metadata": {
            "needs_background": "light"
          }
        }
      ]
    },
    {
      "cell_type": "markdown",
      "source": [
        "### Loading in Checkpointed Weights"
      ],
      "metadata": {
        "id": "8mVA5tYY1MFI"
      }
    },
    {
      "cell_type": "code",
      "source": [
        "# Load in saved model weights and evaluate the model\n",
        "model_2.load_weights(checkpoint_path)"
      ],
      "metadata": {
        "colab": {
          "base_uri": "https://localhost:8080/"
        },
        "id": "lndMJFhq0148",
        "outputId": "5815ffbf-2734-4d09-e952-d257129e2491"
      },
      "execution_count": 40,
      "outputs": [
        {
          "output_type": "execute_result",
          "data": {
            "text/plain": [
              "<tensorflow.python.training.tracking.util.CheckpointLoadStatus at 0x7fdb560406a0>"
            ]
          },
          "metadata": {},
          "execution_count": 40
        }
      ]
    },
    {
      "cell_type": "code",
      "source": [
        "# Evaluate model_2 with loaded weights\n",
        "loaded_weights_model_results = model_2.evaluate(test_data)"
      ],
      "metadata": {
        "colab": {
          "base_uri": "https://localhost:8080/"
        },
        "id": "ylxykXkG1kOt",
        "outputId": "69c6619f-d6b6-413e-faaf-c05b3ced2bc4"
      },
      "execution_count": 41,
      "outputs": [
        {
          "output_type": "stream",
          "name": "stdout",
          "text": [
            "79/79 [==============================] - 6s 74ms/step - loss: 0.6105 - accuracy: 0.8444\n"
          ]
        }
      ]
    },
    {
      "cell_type": "code",
      "source": [
        "import numpy as np"
      ],
      "metadata": {
        "id": "8YAyZ2Bm1tZ-"
      },
      "execution_count": 43,
      "outputs": []
    },
    {
      "cell_type": "code",
      "source": [
        "# Checking to see if loaded model results are very close to the previous\n",
        "# non-loaded model results\n",
        "np.isclose(np.array(results_10_percent_data_aug), \n",
        "           np.array(loaded_weights_model_results))"
      ],
      "metadata": {
        "colab": {
          "base_uri": "https://localhost:8080/"
        },
        "id": "nz4-nZcu16b0",
        "outputId": "bbbfde4c-d13e-4184-fcfd-c17f73259a4d"
      },
      "execution_count": 44,
      "outputs": [
        {
          "output_type": "execute_result",
          "data": {
            "text/plain": [
              "array([ True,  True])"
            ]
          },
          "metadata": {},
          "execution_count": 44
        }
      ]
    },
    {
      "cell_type": "code",
      "source": [
        "# Check the difference between the two results\n",
        "print(np.array(results_10_percent_data_aug) - np.array(loaded_weights_model_results))"
      ],
      "metadata": {
        "colab": {
          "base_uri": "https://localhost:8080/"
        },
        "id": "olsuY9df2fJR",
        "outputId": "dd56ea6f-e646-456b-b45d-feba5df34c2f"
      },
      "execution_count": 45,
      "outputs": [
        {
          "output_type": "stream",
          "name": "stdout",
          "text": [
            "[5.96046448e-08 0.00000000e+00]\n"
          ]
        }
      ]
    },
    {
      "cell_type": "markdown",
      "source": [
        "## Model 3: Fine-tuning an Existing Model on 10% of the Data\n",
        "\n",
        "- Fine-tuning usually works best after training a feature extraction model for a few epochs with large amounts of custom data"
      ],
      "metadata": {
        "id": "lDAGwm0D28ig"
      }
    },
    {
      "cell_type": "code",
      "source": [
        "# Layers in loaded model\n",
        "model_2.layers"
      ],
      "metadata": {
        "colab": {
          "base_uri": "https://localhost:8080/"
        },
        "id": "osDhruQ42m9x",
        "outputId": "44563d82-8bc0-447d-b365-6f9ba6cea657"
      },
      "execution_count": 46,
      "outputs": [
        {
          "output_type": "execute_result",
          "data": {
            "text/plain": [
              "[<keras.engine.input_layer.InputLayer at 0x7fdb414e3b20>,\n",
              " <keras.engine.sequential.Sequential at 0x7fdb41755580>,\n",
              " <keras.engine.functional.Functional at 0x7fdb41490550>,\n",
              " <keras.layers.pooling.global_average_pooling2d.GlobalAveragePooling2D at 0x7fdb416fc580>,\n",
              " <keras.layers.core.dense.Dense at 0x7fdb3e196100>]"
            ]
          },
          "metadata": {},
          "execution_count": 46
        }
      ]
    },
    {
      "cell_type": "code",
      "source": [
        "# Are these layers trainable?\n",
        "for layer in model_2.layers:\n",
        "    print(layer, layer.trainable)"
      ],
      "metadata": {
        "colab": {
          "base_uri": "https://localhost:8080/"
        },
        "id": "THZ82kDl5He-",
        "outputId": "2e623b28-d9d7-40f7-a51f-a53bc5d56bec"
      },
      "execution_count": 47,
      "outputs": [
        {
          "output_type": "stream",
          "name": "stdout",
          "text": [
            "<keras.engine.input_layer.InputLayer object at 0x7fdb414e3b20> True\n",
            "<keras.engine.sequential.Sequential object at 0x7fdb41755580> True\n",
            "<keras.engine.functional.Functional object at 0x7fdb41490550> False\n",
            "<keras.layers.pooling.global_average_pooling2d.GlobalAveragePooling2D object at 0x7fdb416fc580> True\n",
            "<keras.layers.core.dense.Dense object at 0x7fdb3e196100> True\n"
          ]
        }
      ]
    },
    {
      "cell_type": "code",
      "source": [
        "# What layers are in the base model (EfficientNetB0) and are they trainable?\n",
        "for i, layer in enumerate(model_2.layers[2].layers):\n",
        "    print(i, layer.name, layer.trainable)"
      ],
      "metadata": {
        "colab": {
          "base_uri": "https://localhost:8080/"
        },
        "id": "auE6iXxQ5OXN",
        "outputId": "438d10c8-0d52-434c-f02c-7f9284f73065"
      },
      "execution_count": 49,
      "outputs": [
        {
          "output_type": "stream",
          "name": "stdout",
          "text": [
            "0 input_3 False\n",
            "1 rescaling_2 False\n",
            "2 normalization_2 False\n",
            "3 tf.math.truediv_2 False\n",
            "4 stem_conv_pad False\n",
            "5 stem_conv False\n",
            "6 stem_bn False\n",
            "7 stem_activation False\n",
            "8 block1a_dwconv False\n",
            "9 block1a_bn False\n",
            "10 block1a_activation False\n",
            "11 block1a_se_squeeze False\n",
            "12 block1a_se_reshape False\n",
            "13 block1a_se_reduce False\n",
            "14 block1a_se_expand False\n",
            "15 block1a_se_excite False\n",
            "16 block1a_project_conv False\n",
            "17 block1a_project_bn False\n",
            "18 block2a_expand_conv False\n",
            "19 block2a_expand_bn False\n",
            "20 block2a_expand_activation False\n",
            "21 block2a_dwconv_pad False\n",
            "22 block2a_dwconv False\n",
            "23 block2a_bn False\n",
            "24 block2a_activation False\n",
            "25 block2a_se_squeeze False\n",
            "26 block2a_se_reshape False\n",
            "27 block2a_se_reduce False\n",
            "28 block2a_se_expand False\n",
            "29 block2a_se_excite False\n",
            "30 block2a_project_conv False\n",
            "31 block2a_project_bn False\n",
            "32 block2b_expand_conv False\n",
            "33 block2b_expand_bn False\n",
            "34 block2b_expand_activation False\n",
            "35 block2b_dwconv False\n",
            "36 block2b_bn False\n",
            "37 block2b_activation False\n",
            "38 block2b_se_squeeze False\n",
            "39 block2b_se_reshape False\n",
            "40 block2b_se_reduce False\n",
            "41 block2b_se_expand False\n",
            "42 block2b_se_excite False\n",
            "43 block2b_project_conv False\n",
            "44 block2b_project_bn False\n",
            "45 block2b_drop False\n",
            "46 block2b_add False\n",
            "47 block3a_expand_conv False\n",
            "48 block3a_expand_bn False\n",
            "49 block3a_expand_activation False\n",
            "50 block3a_dwconv_pad False\n",
            "51 block3a_dwconv False\n",
            "52 block3a_bn False\n",
            "53 block3a_activation False\n",
            "54 block3a_se_squeeze False\n",
            "55 block3a_se_reshape False\n",
            "56 block3a_se_reduce False\n",
            "57 block3a_se_expand False\n",
            "58 block3a_se_excite False\n",
            "59 block3a_project_conv False\n",
            "60 block3a_project_bn False\n",
            "61 block3b_expand_conv False\n",
            "62 block3b_expand_bn False\n",
            "63 block3b_expand_activation False\n",
            "64 block3b_dwconv False\n",
            "65 block3b_bn False\n",
            "66 block3b_activation False\n",
            "67 block3b_se_squeeze False\n",
            "68 block3b_se_reshape False\n",
            "69 block3b_se_reduce False\n",
            "70 block3b_se_expand False\n",
            "71 block3b_se_excite False\n",
            "72 block3b_project_conv False\n",
            "73 block3b_project_bn False\n",
            "74 block3b_drop False\n",
            "75 block3b_add False\n",
            "76 block4a_expand_conv False\n",
            "77 block4a_expand_bn False\n",
            "78 block4a_expand_activation False\n",
            "79 block4a_dwconv_pad False\n",
            "80 block4a_dwconv False\n",
            "81 block4a_bn False\n",
            "82 block4a_activation False\n",
            "83 block4a_se_squeeze False\n",
            "84 block4a_se_reshape False\n",
            "85 block4a_se_reduce False\n",
            "86 block4a_se_expand False\n",
            "87 block4a_se_excite False\n",
            "88 block4a_project_conv False\n",
            "89 block4a_project_bn False\n",
            "90 block4b_expand_conv False\n",
            "91 block4b_expand_bn False\n",
            "92 block4b_expand_activation False\n",
            "93 block4b_dwconv False\n",
            "94 block4b_bn False\n",
            "95 block4b_activation False\n",
            "96 block4b_se_squeeze False\n",
            "97 block4b_se_reshape False\n",
            "98 block4b_se_reduce False\n",
            "99 block4b_se_expand False\n",
            "100 block4b_se_excite False\n",
            "101 block4b_project_conv False\n",
            "102 block4b_project_bn False\n",
            "103 block4b_drop False\n",
            "104 block4b_add False\n",
            "105 block4c_expand_conv False\n",
            "106 block4c_expand_bn False\n",
            "107 block4c_expand_activation False\n",
            "108 block4c_dwconv False\n",
            "109 block4c_bn False\n",
            "110 block4c_activation False\n",
            "111 block4c_se_squeeze False\n",
            "112 block4c_se_reshape False\n",
            "113 block4c_se_reduce False\n",
            "114 block4c_se_expand False\n",
            "115 block4c_se_excite False\n",
            "116 block4c_project_conv False\n",
            "117 block4c_project_bn False\n",
            "118 block4c_drop False\n",
            "119 block4c_add False\n",
            "120 block5a_expand_conv False\n",
            "121 block5a_expand_bn False\n",
            "122 block5a_expand_activation False\n",
            "123 block5a_dwconv False\n",
            "124 block5a_bn False\n",
            "125 block5a_activation False\n",
            "126 block5a_se_squeeze False\n",
            "127 block5a_se_reshape False\n",
            "128 block5a_se_reduce False\n",
            "129 block5a_se_expand False\n",
            "130 block5a_se_excite False\n",
            "131 block5a_project_conv False\n",
            "132 block5a_project_bn False\n",
            "133 block5b_expand_conv False\n",
            "134 block5b_expand_bn False\n",
            "135 block5b_expand_activation False\n",
            "136 block5b_dwconv False\n",
            "137 block5b_bn False\n",
            "138 block5b_activation False\n",
            "139 block5b_se_squeeze False\n",
            "140 block5b_se_reshape False\n",
            "141 block5b_se_reduce False\n",
            "142 block5b_se_expand False\n",
            "143 block5b_se_excite False\n",
            "144 block5b_project_conv False\n",
            "145 block5b_project_bn False\n",
            "146 block5b_drop False\n",
            "147 block5b_add False\n",
            "148 block5c_expand_conv False\n",
            "149 block5c_expand_bn False\n",
            "150 block5c_expand_activation False\n",
            "151 block5c_dwconv False\n",
            "152 block5c_bn False\n",
            "153 block5c_activation False\n",
            "154 block5c_se_squeeze False\n",
            "155 block5c_se_reshape False\n",
            "156 block5c_se_reduce False\n",
            "157 block5c_se_expand False\n",
            "158 block5c_se_excite False\n",
            "159 block5c_project_conv False\n",
            "160 block5c_project_bn False\n",
            "161 block5c_drop False\n",
            "162 block5c_add False\n",
            "163 block6a_expand_conv False\n",
            "164 block6a_expand_bn False\n",
            "165 block6a_expand_activation False\n",
            "166 block6a_dwconv_pad False\n",
            "167 block6a_dwconv False\n",
            "168 block6a_bn False\n",
            "169 block6a_activation False\n",
            "170 block6a_se_squeeze False\n",
            "171 block6a_se_reshape False\n",
            "172 block6a_se_reduce False\n",
            "173 block6a_se_expand False\n",
            "174 block6a_se_excite False\n",
            "175 block6a_project_conv False\n",
            "176 block6a_project_bn False\n",
            "177 block6b_expand_conv False\n",
            "178 block6b_expand_bn False\n",
            "179 block6b_expand_activation False\n",
            "180 block6b_dwconv False\n",
            "181 block6b_bn False\n",
            "182 block6b_activation False\n",
            "183 block6b_se_squeeze False\n",
            "184 block6b_se_reshape False\n",
            "185 block6b_se_reduce False\n",
            "186 block6b_se_expand False\n",
            "187 block6b_se_excite False\n",
            "188 block6b_project_conv False\n",
            "189 block6b_project_bn False\n",
            "190 block6b_drop False\n",
            "191 block6b_add False\n",
            "192 block6c_expand_conv False\n",
            "193 block6c_expand_bn False\n",
            "194 block6c_expand_activation False\n",
            "195 block6c_dwconv False\n",
            "196 block6c_bn False\n",
            "197 block6c_activation False\n",
            "198 block6c_se_squeeze False\n",
            "199 block6c_se_reshape False\n",
            "200 block6c_se_reduce False\n",
            "201 block6c_se_expand False\n",
            "202 block6c_se_excite False\n",
            "203 block6c_project_conv False\n",
            "204 block6c_project_bn False\n",
            "205 block6c_drop False\n",
            "206 block6c_add False\n",
            "207 block6d_expand_conv False\n",
            "208 block6d_expand_bn False\n",
            "209 block6d_expand_activation False\n",
            "210 block6d_dwconv False\n",
            "211 block6d_bn False\n",
            "212 block6d_activation False\n",
            "213 block6d_se_squeeze False\n",
            "214 block6d_se_reshape False\n",
            "215 block6d_se_reduce False\n",
            "216 block6d_se_expand False\n",
            "217 block6d_se_excite False\n",
            "218 block6d_project_conv False\n",
            "219 block6d_project_bn False\n",
            "220 block6d_drop False\n",
            "221 block6d_add False\n",
            "222 block7a_expand_conv False\n",
            "223 block7a_expand_bn False\n",
            "224 block7a_expand_activation False\n",
            "225 block7a_dwconv False\n",
            "226 block7a_bn False\n",
            "227 block7a_activation False\n",
            "228 block7a_se_squeeze False\n",
            "229 block7a_se_reshape False\n",
            "230 block7a_se_reduce False\n",
            "231 block7a_se_expand False\n",
            "232 block7a_se_excite False\n",
            "233 block7a_project_conv False\n",
            "234 block7a_project_bn False\n",
            "235 top_conv False\n",
            "236 top_bn False\n",
            "237 top_activation False\n"
          ]
        }
      ]
    },
    {
      "cell_type": "code",
      "source": [
        "# How many trainable variables are in the base model?\n",
        "print(len(model_2.layers[2].trainable_variables))"
      ],
      "metadata": {
        "colab": {
          "base_uri": "https://localhost:8080/"
        },
        "id": "iXyMBvEc5wiI",
        "outputId": "1ea44840-5394-48bc-b7b6-5e4e670c19d3"
      },
      "execution_count": 50,
      "outputs": [
        {
          "output_type": "stream",
          "name": "stdout",
          "text": [
            "0\n"
          ]
        }
      ]
    },
    {
      "cell_type": "code",
      "source": [
        "# To begin fine-tuning, start by setting the last 10 layers\n",
        "# base_model.trainable = True\n",
        "base_model.trainable = True\n",
        "\n",
        "# Freeze all layers except for the last 10\n",
        "for layer in base_model.layers[:-10]:\n",
        "    layer.trainable = False\n",
        "\n",
        "# Recompile (have to recompile every time changes are made)\n",
        "model_2.compile(loss='categorical_crossentropy',\n",
        "                # when fine-tuning, you tipically want to lower the learning\n",
        "                # rate by 10x\n",
        "                optimizer=tf.keras.optimizers.Adam(learning_rate=0.0001),\n",
        "                metrics=['accuracy'])"
      ],
      "metadata": {
        "id": "9n4kXvd76Faa"
      },
      "execution_count": 53,
      "outputs": []
    },
    {
      "cell_type": "code",
      "source": [
        "# Check which layers are tunable (trainable)\n",
        "for layer_number, layer in enumerate(model_2.layers[2].layers):\n",
        "    print(layer_number, layer.name, layer.trainable)"
      ],
      "metadata": {
        "colab": {
          "base_uri": "https://localhost:8080/"
        },
        "id": "wjADokyp7Jio",
        "outputId": "e3383544-cf9c-43f5-d5c6-041983819345"
      },
      "execution_count": 55,
      "outputs": [
        {
          "output_type": "stream",
          "name": "stdout",
          "text": [
            "0 input_3 False\n",
            "1 rescaling_2 False\n",
            "2 normalization_2 False\n",
            "3 tf.math.truediv_2 False\n",
            "4 stem_conv_pad False\n",
            "5 stem_conv False\n",
            "6 stem_bn False\n",
            "7 stem_activation False\n",
            "8 block1a_dwconv False\n",
            "9 block1a_bn False\n",
            "10 block1a_activation False\n",
            "11 block1a_se_squeeze False\n",
            "12 block1a_se_reshape False\n",
            "13 block1a_se_reduce False\n",
            "14 block1a_se_expand False\n",
            "15 block1a_se_excite False\n",
            "16 block1a_project_conv False\n",
            "17 block1a_project_bn False\n",
            "18 block2a_expand_conv False\n",
            "19 block2a_expand_bn False\n",
            "20 block2a_expand_activation False\n",
            "21 block2a_dwconv_pad False\n",
            "22 block2a_dwconv False\n",
            "23 block2a_bn False\n",
            "24 block2a_activation False\n",
            "25 block2a_se_squeeze False\n",
            "26 block2a_se_reshape False\n",
            "27 block2a_se_reduce False\n",
            "28 block2a_se_expand False\n",
            "29 block2a_se_excite False\n",
            "30 block2a_project_conv False\n",
            "31 block2a_project_bn False\n",
            "32 block2b_expand_conv False\n",
            "33 block2b_expand_bn False\n",
            "34 block2b_expand_activation False\n",
            "35 block2b_dwconv False\n",
            "36 block2b_bn False\n",
            "37 block2b_activation False\n",
            "38 block2b_se_squeeze False\n",
            "39 block2b_se_reshape False\n",
            "40 block2b_se_reduce False\n",
            "41 block2b_se_expand False\n",
            "42 block2b_se_excite False\n",
            "43 block2b_project_conv False\n",
            "44 block2b_project_bn False\n",
            "45 block2b_drop False\n",
            "46 block2b_add False\n",
            "47 block3a_expand_conv False\n",
            "48 block3a_expand_bn False\n",
            "49 block3a_expand_activation False\n",
            "50 block3a_dwconv_pad False\n",
            "51 block3a_dwconv False\n",
            "52 block3a_bn False\n",
            "53 block3a_activation False\n",
            "54 block3a_se_squeeze False\n",
            "55 block3a_se_reshape False\n",
            "56 block3a_se_reduce False\n",
            "57 block3a_se_expand False\n",
            "58 block3a_se_excite False\n",
            "59 block3a_project_conv False\n",
            "60 block3a_project_bn False\n",
            "61 block3b_expand_conv False\n",
            "62 block3b_expand_bn False\n",
            "63 block3b_expand_activation False\n",
            "64 block3b_dwconv False\n",
            "65 block3b_bn False\n",
            "66 block3b_activation False\n",
            "67 block3b_se_squeeze False\n",
            "68 block3b_se_reshape False\n",
            "69 block3b_se_reduce False\n",
            "70 block3b_se_expand False\n",
            "71 block3b_se_excite False\n",
            "72 block3b_project_conv False\n",
            "73 block3b_project_bn False\n",
            "74 block3b_drop False\n",
            "75 block3b_add False\n",
            "76 block4a_expand_conv False\n",
            "77 block4a_expand_bn False\n",
            "78 block4a_expand_activation False\n",
            "79 block4a_dwconv_pad False\n",
            "80 block4a_dwconv False\n",
            "81 block4a_bn False\n",
            "82 block4a_activation False\n",
            "83 block4a_se_squeeze False\n",
            "84 block4a_se_reshape False\n",
            "85 block4a_se_reduce False\n",
            "86 block4a_se_expand False\n",
            "87 block4a_se_excite False\n",
            "88 block4a_project_conv False\n",
            "89 block4a_project_bn False\n",
            "90 block4b_expand_conv False\n",
            "91 block4b_expand_bn False\n",
            "92 block4b_expand_activation False\n",
            "93 block4b_dwconv False\n",
            "94 block4b_bn False\n",
            "95 block4b_activation False\n",
            "96 block4b_se_squeeze False\n",
            "97 block4b_se_reshape False\n",
            "98 block4b_se_reduce False\n",
            "99 block4b_se_expand False\n",
            "100 block4b_se_excite False\n",
            "101 block4b_project_conv False\n",
            "102 block4b_project_bn False\n",
            "103 block4b_drop False\n",
            "104 block4b_add False\n",
            "105 block4c_expand_conv False\n",
            "106 block4c_expand_bn False\n",
            "107 block4c_expand_activation False\n",
            "108 block4c_dwconv False\n",
            "109 block4c_bn False\n",
            "110 block4c_activation False\n",
            "111 block4c_se_squeeze False\n",
            "112 block4c_se_reshape False\n",
            "113 block4c_se_reduce False\n",
            "114 block4c_se_expand False\n",
            "115 block4c_se_excite False\n",
            "116 block4c_project_conv False\n",
            "117 block4c_project_bn False\n",
            "118 block4c_drop False\n",
            "119 block4c_add False\n",
            "120 block5a_expand_conv False\n",
            "121 block5a_expand_bn False\n",
            "122 block5a_expand_activation False\n",
            "123 block5a_dwconv False\n",
            "124 block5a_bn False\n",
            "125 block5a_activation False\n",
            "126 block5a_se_squeeze False\n",
            "127 block5a_se_reshape False\n",
            "128 block5a_se_reduce False\n",
            "129 block5a_se_expand False\n",
            "130 block5a_se_excite False\n",
            "131 block5a_project_conv False\n",
            "132 block5a_project_bn False\n",
            "133 block5b_expand_conv False\n",
            "134 block5b_expand_bn False\n",
            "135 block5b_expand_activation False\n",
            "136 block5b_dwconv False\n",
            "137 block5b_bn False\n",
            "138 block5b_activation False\n",
            "139 block5b_se_squeeze False\n",
            "140 block5b_se_reshape False\n",
            "141 block5b_se_reduce False\n",
            "142 block5b_se_expand False\n",
            "143 block5b_se_excite False\n",
            "144 block5b_project_conv False\n",
            "145 block5b_project_bn False\n",
            "146 block5b_drop False\n",
            "147 block5b_add False\n",
            "148 block5c_expand_conv False\n",
            "149 block5c_expand_bn False\n",
            "150 block5c_expand_activation False\n",
            "151 block5c_dwconv False\n",
            "152 block5c_bn False\n",
            "153 block5c_activation False\n",
            "154 block5c_se_squeeze False\n",
            "155 block5c_se_reshape False\n",
            "156 block5c_se_reduce False\n",
            "157 block5c_se_expand False\n",
            "158 block5c_se_excite False\n",
            "159 block5c_project_conv False\n",
            "160 block5c_project_bn False\n",
            "161 block5c_drop False\n",
            "162 block5c_add False\n",
            "163 block6a_expand_conv False\n",
            "164 block6a_expand_bn False\n",
            "165 block6a_expand_activation False\n",
            "166 block6a_dwconv_pad False\n",
            "167 block6a_dwconv False\n",
            "168 block6a_bn False\n",
            "169 block6a_activation False\n",
            "170 block6a_se_squeeze False\n",
            "171 block6a_se_reshape False\n",
            "172 block6a_se_reduce False\n",
            "173 block6a_se_expand False\n",
            "174 block6a_se_excite False\n",
            "175 block6a_project_conv False\n",
            "176 block6a_project_bn False\n",
            "177 block6b_expand_conv False\n",
            "178 block6b_expand_bn False\n",
            "179 block6b_expand_activation False\n",
            "180 block6b_dwconv False\n",
            "181 block6b_bn False\n",
            "182 block6b_activation False\n",
            "183 block6b_se_squeeze False\n",
            "184 block6b_se_reshape False\n",
            "185 block6b_se_reduce False\n",
            "186 block6b_se_expand False\n",
            "187 block6b_se_excite False\n",
            "188 block6b_project_conv False\n",
            "189 block6b_project_bn False\n",
            "190 block6b_drop False\n",
            "191 block6b_add False\n",
            "192 block6c_expand_conv False\n",
            "193 block6c_expand_bn False\n",
            "194 block6c_expand_activation False\n",
            "195 block6c_dwconv False\n",
            "196 block6c_bn False\n",
            "197 block6c_activation False\n",
            "198 block6c_se_squeeze False\n",
            "199 block6c_se_reshape False\n",
            "200 block6c_se_reduce False\n",
            "201 block6c_se_expand False\n",
            "202 block6c_se_excite False\n",
            "203 block6c_project_conv False\n",
            "204 block6c_project_bn False\n",
            "205 block6c_drop False\n",
            "206 block6c_add False\n",
            "207 block6d_expand_conv False\n",
            "208 block6d_expand_bn False\n",
            "209 block6d_expand_activation False\n",
            "210 block6d_dwconv False\n",
            "211 block6d_bn False\n",
            "212 block6d_activation False\n",
            "213 block6d_se_squeeze False\n",
            "214 block6d_se_reshape False\n",
            "215 block6d_se_reduce False\n",
            "216 block6d_se_expand False\n",
            "217 block6d_se_excite False\n",
            "218 block6d_project_conv False\n",
            "219 block6d_project_bn False\n",
            "220 block6d_drop False\n",
            "221 block6d_add False\n",
            "222 block7a_expand_conv False\n",
            "223 block7a_expand_bn False\n",
            "224 block7a_expand_activation False\n",
            "225 block7a_dwconv False\n",
            "226 block7a_bn False\n",
            "227 block7a_activation False\n",
            "228 block7a_se_squeeze True\n",
            "229 block7a_se_reshape True\n",
            "230 block7a_se_reduce True\n",
            "231 block7a_se_expand True\n",
            "232 block7a_se_excite True\n",
            "233 block7a_project_conv True\n",
            "234 block7a_project_bn True\n",
            "235 top_conv True\n",
            "236 top_bn True\n",
            "237 top_activation True\n"
          ]
        }
      ]
    },
    {
      "cell_type": "code",
      "source": [
        "# Now that some of the layers are unfrozen, how many\n",
        "# trainable parameters are there?\n",
        "print(len(model_2.trainable_variables))"
      ],
      "metadata": {
        "colab": {
          "base_uri": "https://localhost:8080/"
        },
        "id": "vwYWhsEe8vKw",
        "outputId": "decdbd46-937e-4c9a-8c7a-cc61084aa7d6"
      },
      "execution_count": 57,
      "outputs": [
        {
          "output_type": "stream",
          "name": "stdout",
          "text": [
            "12\n"
          ]
        }
      ]
    },
    {
      "cell_type": "code",
      "source": [
        "# Fine tune for another 5 epochs\n",
        "fine_tune_epochs = initial_epochs + 5\n",
        "\n",
        "# Refit the model (same as model_2 except with more trainable layers)\n",
        "history_fine_tune_2 = model_2.fit(train_data_10_percent,\n",
        "                                  epochs=fine_tune_epochs,\n",
        "                                  validation_data=test_data,\n",
        "                                  validation_steps=int(0.25 * len(test_data)),\n",
        "                                  # Start training from previous last epoch\n",
        "                                  initial_epoch=history_2.epoch[-1],\n",
        "                                  callbacks=[create_tensorboard_callback(\n",
        "                                      dir_name='transfer_learning',\n",
        "                                      experiment_name='10_percent_fine_tune_last_10'\n",
        "                                  )])"
      ],
      "metadata": {
        "colab": {
          "base_uri": "https://localhost:8080/"
        },
        "id": "314-OwF39erF",
        "outputId": "d575d2ac-292d-40c7-9773-21f0bf52ba6c"
      },
      "execution_count": 58,
      "outputs": [
        {
          "output_type": "stream",
          "name": "stdout",
          "text": [
            "Saving TensorBoard log files to: transfer_learning/10_percent_fine_tune_last_10/20230123-185905\n",
            "Epoch 5/10\n",
            "24/24 [==============================] - 21s 566ms/step - loss: 0.6363 - accuracy: 0.8253 - val_loss: 0.4645 - val_accuracy: 0.8569\n",
            "Epoch 6/10\n",
            "24/24 [==============================] - 10s 388ms/step - loss: 0.5059 - accuracy: 0.8613 - val_loss: 0.4353 - val_accuracy: 0.8553\n",
            "Epoch 7/10\n",
            "24/24 [==============================] - 8s 323ms/step - loss: 0.4625 - accuracy: 0.8693 - val_loss: 0.4255 - val_accuracy: 0.8635\n",
            "Epoch 8/10\n",
            "24/24 [==============================] - 9s 358ms/step - loss: 0.3991 - accuracy: 0.8827 - val_loss: 0.3966 - val_accuracy: 0.8553\n",
            "Epoch 9/10\n",
            "24/24 [==============================] - 10s 388ms/step - loss: 0.3484 - accuracy: 0.9013 - val_loss: 0.3940 - val_accuracy: 0.8651\n",
            "Epoch 10/10\n",
            "24/24 [==============================] - 9s 352ms/step - loss: 0.3174 - accuracy: 0.9133 - val_loss: 0.3721 - val_accuracy: 0.8635\n"
          ]
        }
      ]
    },
    {
      "cell_type": "code",
      "source": [
        "# Evaluate the fine-tuned model (model_3)\n",
        "results_fine_tune_2 = model_2.evaluate(test_data)"
      ],
      "metadata": {
        "colab": {
          "base_uri": "https://localhost:8080/"
        },
        "id": "PJdnPiBh_4zX",
        "outputId": "3c5f8844-7405-48fa-f7ea-bcade9b0774a"
      },
      "execution_count": 59,
      "outputs": [
        {
          "output_type": "stream",
          "name": "stdout",
          "text": [
            "79/79 [==============================] - 7s 78ms/step - loss: 0.4123 - accuracy: 0.8576\n"
          ]
        }
      ]
    },
    {
      "cell_type": "code",
      "source": [
        "# Check the loss curves of the fine-tuned model\n",
        "plot_loss_curves(history_fine_tune_2)"
      ],
      "metadata": {
        "colab": {
          "base_uri": "https://localhost:8080/",
          "height": 573
        },
        "id": "GFV7VfJBAgx3",
        "outputId": "1cf014b9-3c3e-4752-f10e-2f5baf66e857"
      },
      "execution_count": 60,
      "outputs": [
        {
          "output_type": "display_data",
          "data": {
            "text/plain": [
              "<Figure size 432x288 with 1 Axes>"
            ],
            "image/png": "[encoded data removed]"
          },
          "metadata": {
            "needs_background": "light"
          }
        },
        {
          "output_type": "display_data",
          "data": {
            "text/plain": [
              "<Figure size 432x288 with 1 Axes>"
            ],
            "image/png": "[encoded data removed]"
          },
          "metadata": {
            "needs_background": "light"
          }
        }
      ]
    },
    {
      "cell_type": "code",
      "source": [
        "# Creating a function to compare training histories\n",
        "def compare_histories(original_history, new_history, initial_epochs=5):\n",
        "    \"\"\"\n",
        "    Compare two TensorFlow History objects.\n",
        "    \"\"\"\n",
        "    # Get original history measurements\n",
        "    acc = original_history.history['accuracy']\n",
        "    loss = original_history.history['loss']\n",
        "\n",
        "    val_acc = original_history.history['val_accuracy']\n",
        "    val_loss = original_history.history['val_loss']\n",
        "\n",
        "    # Combine original history\n",
        "    total_acc = acc + new_history.history['accuracy']\n",
        "    total_loss = loss + new_history.history['loss']\n",
        "\n",
        "    total_val_acc = val_acc + new_history.history['val_accuracy']\n",
        "    total_val_loss = val_loss + new_history.history['val_loss']\n",
        "\n",
        "    # Make plots for accuracy\n",
        "    plt.figure(figsize=(8, 8))\n",
        "    plt.subplot(2, 1, 1)\n",
        "    plt.plot(total_acc, label='Training Accuracy')\n",
        "    plt.plot(total_val_acc, label='Validation Accuracy')\n",
        "    plt.plot([initial_epochs-1, initial_epochs-1], plt.ylim(), \n",
        "             label='Start Fine Tuning')\n",
        "    plt.legend(loc='lower right')\n",
        "    plt.title('Training and Validation Accuracy')\n",
        "\n",
        "    # Make plots for loss\n",
        "    plt.figure(figsize=(8, 8))\n",
        "    plt.subplot(2, 1, 1)\n",
        "    plt.plot(total_loss, label='Training Loss')\n",
        "    plt.plot(total_val_loss, label='Validation Loss')\n",
        "    plt.plot([initial_epochs-1, initial_epochs-1], plt.ylim(), \n",
        "             label='Start Fine Tuning')\n",
        "    plt.legend(loc='upper right')\n",
        "    plt.title('Training and Validation Loss')"
      ],
      "metadata": {
        "id": "s4H1kbetB6Yo"
      },
      "execution_count": 68,
      "outputs": []
    },
    {
      "cell_type": "code",
      "source": [
        "compare_histories(history_2,\n",
        "                  history_fine_tune_2,\n",
        "                  initial_epochs=5)"
      ],
      "metadata": {
        "colab": {
          "base_uri": "https://localhost:8080/",
          "height": 507
        },
        "id": "iN80jhekDLXQ",
        "outputId": "0ea8549d-0e1f-477a-c2cf-1798444e29d9"
      },
      "execution_count": 69,
      "outputs": [
        {
          "output_type": "display_data",
          "data": {
            "text/plain": [
              "<Figure size 576x576 with 1 Axes>"
            ],
            "image/png": "[encoded data removed]"
          },
          "metadata": {
            "needs_background": "light"
          }
        },
        {
          "output_type": "display_data",
          "data": {
            "text/plain": [
              "<Figure size 576x576 with 1 Axes>"
            ],
            "image/png": "[encoded data removed]"
          },
          "metadata": {
            "needs_background": "light"
          }
        }
      ]
    },
    {
      "cell_type": "markdown",
      "source": [
        "## Model 4: Fine-tuning an Existing Model on All of the Data"
      ],
      "metadata": {
        "id": "zxBaeyKPEhgm"
      }
    },
    {
      "cell_type": "code",
      "source": [
        "# Download and unzip all the data\n",
        "!wget https://storage.googleapis.com/ztm_tf_course/food_vision/10_food_classes_all_data.zip\n",
        "unzip_data('10_food_classes_all_data.zip')"
      ],
      "metadata": {
        "colab": {
          "base_uri": "https://localhost:8080/"
        },
        "id": "FW8RD4B5DXQu",
        "outputId": "134640ac-87f8-46fc-e202-9c5b019b6fb8"
      },
      "execution_count": 70,
      "outputs": [
        {
          "output_type": "stream",
          "name": "stdout",
          "text": [
            "--2023-01-23 19:23:57--  https://storage.googleapis.com/ztm_tf_course/food_vision/10_food_classes_all_data.zip\n",
            "Resolving storage.googleapis.com (storage.googleapis.com)... 108.177.121.128, 142.250.103.128, 108.177.120.128, ...\n",
            "Connecting to storage.googleapis.com (storage.googleapis.com)|108.177.121.128|:443... connected.\n",
            "HTTP request sent, awaiting response... 200 OK\n",
            "Length: 519183241 (495M) [application/zip]\n",
            "Saving to: ‘10_food_classes_all_data.zip’\n",
            "\n",
            "10_food_classes_all 100%[===================>] 495.13M   197MB/s    in 2.5s    \n",
            "\n",
            "2023-01-23 19:24:00 (197 MB/s) - ‘10_food_classes_all_data.zip’ saved [519183241/519183241]\n",
            "\n"
          ]
        }
      ]
    },
    {
      "cell_type": "code",
      "source": [
        "# Setup training and test dirs\n",
        "train_dir_all_data = '10_food_classes_all_data/train'\n",
        "test_dir = '10_food_classes_all_data/test'"
      ],
      "metadata": {
        "id": "aCaHEg77Fk4I"
      },
      "execution_count": 71,
      "outputs": []
    },
    {
      "cell_type": "code",
      "source": [
        "# How many images?\n",
        "walk_through_dir('10_food_classes_all_data')"
      ],
      "metadata": {
        "colab": {
          "base_uri": "https://localhost:8080/"
        },
        "id": "yxjHSEaGFyL6",
        "outputId": "d3930e9f-bcb7-4228-896e-363f046c7643"
      },
      "execution_count": 72,
      "outputs": [
        {
          "output_type": "stream",
          "name": "stdout",
          "text": [
            "There are 2 directories and 0 images in '10_food_classes_all_data'.\n",
            "There are 10 directories and 0 images in '10_food_classes_all_data/train'.\n",
            "There are 0 directories and 750 images in '10_food_classes_all_data/train/sushi'.\n",
            "There are 0 directories and 750 images in '10_food_classes_all_data/train/ice_cream'.\n",
            "There are 0 directories and 750 images in '10_food_classes_all_data/train/hamburger'.\n",
            "There are 0 directories and 750 images in '10_food_classes_all_data/train/grilled_salmon'.\n",
            "There are 0 directories and 750 images in '10_food_classes_all_data/train/pizza'.\n",
            "There are 0 directories and 750 images in '10_food_classes_all_data/train/fried_rice'.\n",
            "There are 0 directories and 750 images in '10_food_classes_all_data/train/ramen'.\n",
            "There are 0 directories and 750 images in '10_food_classes_all_data/train/steak'.\n",
            "There are 0 directories and 750 images in '10_food_classes_all_data/train/chicken_wings'.\n",
            "There are 0 directories and 750 images in '10_food_classes_all_data/train/chicken_curry'.\n",
            "There are 10 directories and 0 images in '10_food_classes_all_data/test'.\n",
            "There are 0 directories and 250 images in '10_food_classes_all_data/test/sushi'.\n",
            "There are 0 directories and 250 images in '10_food_classes_all_data/test/ice_cream'.\n",
            "There are 0 directories and 250 images in '10_food_classes_all_data/test/hamburger'.\n",
            "There are 0 directories and 250 images in '10_food_classes_all_data/test/grilled_salmon'.\n",
            "There are 0 directories and 250 images in '10_food_classes_all_data/test/pizza'.\n",
            "There are 0 directories and 250 images in '10_food_classes_all_data/test/fried_rice'.\n",
            "There are 0 directories and 250 images in '10_food_classes_all_data/test/ramen'.\n",
            "There are 0 directories and 250 images in '10_food_classes_all_data/test/steak'.\n",
            "There are 0 directories and 250 images in '10_food_classes_all_data/test/chicken_wings'.\n",
            "There are 0 directories and 250 images in '10_food_classes_all_data/test/chicken_curry'.\n"
          ]
        }
      ]
    },
    {
      "cell_type": "code",
      "source": [
        "# Setup data inputs\n",
        "IMG_SHAPE = (224, 224)\n",
        "train_data_10_classes_full = tf.keras.preprocessing.image_dataset_from_directory(\n",
        "    train_dir_all_data,\n",
        "    label_mode='categorical',\n",
        "    image_size=IMG_SHAPE\n",
        "    )\n",
        "\n",
        "test_data = tf.keras.preprocessing.image_dataset_from_directory(\n",
        "    test_dir,\n",
        "    label_mode='categorical',\n",
        "    image_size=IMG_SHAPE\n",
        "    )"
      ],
      "metadata": {
        "colab": {
          "base_uri": "https://localhost:8080/"
        },
        "id": "A-zWX8VAF2c1",
        "outputId": "090c42c3-550c-4a89-e6f6-7e47d5ebf490"
      },
      "execution_count": 74,
      "outputs": [
        {
          "output_type": "stream",
          "name": "stdout",
          "text": [
            "Found 7500 files belonging to 10 classes.\n",
            "Found 2500 files belonging to 10 classes.\n"
          ]
        }
      ]
    },
    {
      "cell_type": "code",
      "source": [
        "# Evaluate model 2\n",
        "model_2.evaluate(test_data)"
      ],
      "metadata": {
        "colab": {
          "base_uri": "https://localhost:8080/"
        },
        "id": "5svT_HaYGmuD",
        "outputId": "5b15e57c-eea7-45c0-f011-2604227cde0e"
      },
      "execution_count": 75,
      "outputs": [
        {
          "output_type": "stream",
          "name": "stdout",
          "text": [
            "79/79 [==============================] - 7s 76ms/step - loss: 0.4123 - accuracy: 0.8576\n"
          ]
        },
        {
          "output_type": "execute_result",
          "data": {
            "text/plain": [
              "[0.41228798031806946, 0.8575999736785889]"
            ]
          },
          "metadata": {},
          "execution_count": 75
        }
      ]
    },
    {
      "cell_type": "code",
      "source": [
        "results_fine_tune_2"
      ],
      "metadata": {
        "colab": {
          "base_uri": "https://localhost:8080/"
        },
        "id": "njYZdscGHF6q",
        "outputId": "c35731b1-0df1-4896-c07a-c58640a44f71"
      },
      "execution_count": 76,
      "outputs": [
        {
          "output_type": "execute_result",
          "data": {
            "text/plain": [
              "[0.41228795051574707, 0.8575999736785889]"
            ]
          },
          "metadata": {},
          "execution_count": 76
        }
      ]
    },
    {
      "cell_type": "markdown",
      "source": [
        "### Reverting Model 2 back to the Feature Extraction Version\n",
        "\n",
        "- To train a fine-tuning, model_2 needs it's feature extraction weights back"
      ],
      "metadata": {
        "id": "wl7QgR-wHYMa"
      }
    },
    {
      "cell_type": "code",
      "source": [
        "# Load weights from checkpoint\n",
        "model_2.load_weights(checkpoint_path)"
      ],
      "metadata": {
        "colab": {
          "base_uri": "https://localhost:8080/"
        },
        "id": "SI-nbKFPHLJy",
        "outputId": "daf158ce-8a77-49a3-d92f-f1ea70a4de92"
      },
      "execution_count": 77,
      "outputs": [
        {
          "output_type": "execute_result",
          "data": {
            "text/plain": [
              "<tensorflow.python.training.tracking.util.CheckpointLoadStatus at 0x7fda586b4bb0>"
            ]
          },
          "metadata": {},
          "execution_count": 77
        }
      ]
    },
    {
      "cell_type": "code",
      "source": [
        "# Evaluate model 2\n",
        "model_2.evaluate(test_data)"
      ],
      "metadata": {
        "colab": {
          "base_uri": "https://localhost:8080/"
        },
        "id": "nrzYMW5-IFz7",
        "outputId": "ca2e71d2-f40f-4f7b-a1b1-17bfe4f6d4c4"
      },
      "execution_count": 78,
      "outputs": [
        {
          "output_type": "stream",
          "name": "stdout",
          "text": [
            "79/79 [==============================] - 6s 70ms/step - loss: 0.6105 - accuracy: 0.8444\n"
          ]
        },
        {
          "output_type": "execute_result",
          "data": {
            "text/plain": [
              "[0.6104656457901001, 0.8443999886512756]"
            ]
          },
          "metadata": {},
          "execution_count": 78
        }
      ]
    },
    {
      "cell_type": "code",
      "source": [
        "# Check to see if model 2 has been reverted back to feature extraction results\n",
        "results_10_percent_data_aug"
      ],
      "metadata": {
        "colab": {
          "base_uri": "https://localhost:8080/"
        },
        "id": "JrHOdmN5IJ5B",
        "outputId": "4f2c8bf3-d869-4272-8edc-04630e50ce5d"
      },
      "execution_count": 79,
      "outputs": [
        {
          "output_type": "execute_result",
          "data": {
            "text/plain": [
              "[0.6104655265808105, 0.8443999886512756]"
            ]
          },
          "metadata": {},
          "execution_count": 79
        }
      ]
    },
    {
      "cell_type": "code",
      "source": [
        "# Check which layers are tunable in the whole model\n",
        "for layer_number, layer in enumerate(model_2.layers):\n",
        "    print(layer_number, layer.name, layer.trainable)"
      ],
      "metadata": {
        "colab": {
          "base_uri": "https://localhost:8080/"
        },
        "id": "soPBDKhHIgVp",
        "outputId": "73b317ad-fb86-4cc1-bafa-1635ade2a382"
      },
      "execution_count": 80,
      "outputs": [
        {
          "output_type": "stream",
          "name": "stdout",
          "text": [
            "0 input_layer True\n",
            "1 data_augmentation True\n",
            "2 efficientnetb0 True\n",
            "3 global_average_pooling_2D True\n",
            "4 output_layer True\n"
          ]
        }
      ]
    },
    {
      "cell_type": "code",
      "source": [
        "# Check the base_model (EfficientNetB0) to see which layers are trainable\n",
        "for layer_number, layer in enumerate(model_2.layers[2].layers):\n",
        "    print(layer_number, layer.name, layer.trainable)"
      ],
      "metadata": {
        "colab": {
          "base_uri": "https://localhost:8080/"
        },
        "id": "8AzMQPOwJGP_",
        "outputId": "f86c5ba9-5c8e-4dcf-a853-60c7d17d80ae"
      },
      "execution_count": 81,
      "outputs": [
        {
          "output_type": "stream",
          "name": "stdout",
          "text": [
            "0 input_3 False\n",
            "1 rescaling_2 False\n",
            "2 normalization_2 False\n",
            "3 tf.math.truediv_2 False\n",
            "4 stem_conv_pad False\n",
            "5 stem_conv False\n",
            "6 stem_bn False\n",
            "7 stem_activation False\n",
            "8 block1a_dwconv False\n",
            "9 block1a_bn False\n",
            "10 block1a_activation False\n",
            "11 block1a_se_squeeze False\n",
            "12 block1a_se_reshape False\n",
            "13 block1a_se_reduce False\n",
            "14 block1a_se_expand False\n",
            "15 block1a_se_excite False\n",
            "16 block1a_project_conv False\n",
            "17 block1a_project_bn False\n",
            "18 block2a_expand_conv False\n",
            "19 block2a_expand_bn False\n",
            "20 block2a_expand_activation False\n",
            "21 block2a_dwconv_pad False\n",
            "22 block2a_dwconv False\n",
            "23 block2a_bn False\n",
            "24 block2a_activation False\n",
            "25 block2a_se_squeeze False\n",
            "26 block2a_se_reshape False\n",
            "27 block2a_se_reduce False\n",
            "28 block2a_se_expand False\n",
            "29 block2a_se_excite False\n",
            "30 block2a_project_conv False\n",
            "31 block2a_project_bn False\n",
            "32 block2b_expand_conv False\n",
            "33 block2b_expand_bn False\n",
            "34 block2b_expand_activation False\n",
            "35 block2b_dwconv False\n",
            "36 block2b_bn False\n",
            "37 block2b_activation False\n",
            "38 block2b_se_squeeze False\n",
            "39 block2b_se_reshape False\n",
            "40 block2b_se_reduce False\n",
            "41 block2b_se_expand False\n",
            "42 block2b_se_excite False\n",
            "43 block2b_project_conv False\n",
            "44 block2b_project_bn False\n",
            "45 block2b_drop False\n",
            "46 block2b_add False\n",
            "47 block3a_expand_conv False\n",
            "48 block3a_expand_bn False\n",
            "49 block3a_expand_activation False\n",
            "50 block3a_dwconv_pad False\n",
            "51 block3a_dwconv False\n",
            "52 block3a_bn False\n",
            "53 block3a_activation False\n",
            "54 block3a_se_squeeze False\n",
            "55 block3a_se_reshape False\n",
            "56 block3a_se_reduce False\n",
            "57 block3a_se_expand False\n",
            "58 block3a_se_excite False\n",
            "59 block3a_project_conv False\n",
            "60 block3a_project_bn False\n",
            "61 block3b_expand_conv False\n",
            "62 block3b_expand_bn False\n",
            "63 block3b_expand_activation False\n",
            "64 block3b_dwconv False\n",
            "65 block3b_bn False\n",
            "66 block3b_activation False\n",
            "67 block3b_se_squeeze False\n",
            "68 block3b_se_reshape False\n",
            "69 block3b_se_reduce False\n",
            "70 block3b_se_expand False\n",
            "71 block3b_se_excite False\n",
            "72 block3b_project_conv False\n",
            "73 block3b_project_bn False\n",
            "74 block3b_drop False\n",
            "75 block3b_add False\n",
            "76 block4a_expand_conv False\n",
            "77 block4a_expand_bn False\n",
            "78 block4a_expand_activation False\n",
            "79 block4a_dwconv_pad False\n",
            "80 block4a_dwconv False\n",
            "81 block4a_bn False\n",
            "82 block4a_activation False\n",
            "83 block4a_se_squeeze False\n",
            "84 block4a_se_reshape False\n",
            "85 block4a_se_reduce False\n",
            "86 block4a_se_expand False\n",
            "87 block4a_se_excite False\n",
            "88 block4a_project_conv False\n",
            "89 block4a_project_bn False\n",
            "90 block4b_expand_conv False\n",
            "91 block4b_expand_bn False\n",
            "92 block4b_expand_activation False\n",
            "93 block4b_dwconv False\n",
            "94 block4b_bn False\n",
            "95 block4b_activation False\n",
            "96 block4b_se_squeeze False\n",
            "97 block4b_se_reshape False\n",
            "98 block4b_se_reduce False\n",
            "99 block4b_se_expand False\n",
            "100 block4b_se_excite False\n",
            "101 block4b_project_conv False\n",
            "102 block4b_project_bn False\n",
            "103 block4b_drop False\n",
            "104 block4b_add False\n",
            "105 block4c_expand_conv False\n",
            "106 block4c_expand_bn False\n",
            "107 block4c_expand_activation False\n",
            "108 block4c_dwconv False\n",
            "109 block4c_bn False\n",
            "110 block4c_activation False\n",
            "111 block4c_se_squeeze False\n",
            "112 block4c_se_reshape False\n",
            "113 block4c_se_reduce False\n",
            "114 block4c_se_expand False\n",
            "115 block4c_se_excite False\n",
            "116 block4c_project_conv False\n",
            "117 block4c_project_bn False\n",
            "118 block4c_drop False\n",
            "119 block4c_add False\n",
            "120 block5a_expand_conv False\n",
            "121 block5a_expand_bn False\n",
            "122 block5a_expand_activation False\n",
            "123 block5a_dwconv False\n",
            "124 block5a_bn False\n",
            "125 block5a_activation False\n",
            "126 block5a_se_squeeze False\n",
            "127 block5a_se_reshape False\n",
            "128 block5a_se_reduce False\n",
            "129 block5a_se_expand False\n",
            "130 block5a_se_excite False\n",
            "131 block5a_project_conv False\n",
            "132 block5a_project_bn False\n",
            "133 block5b_expand_conv False\n",
            "134 block5b_expand_bn False\n",
            "135 block5b_expand_activation False\n",
            "136 block5b_dwconv False\n",
            "137 block5b_bn False\n",
            "138 block5b_activation False\n",
            "139 block5b_se_squeeze False\n",
            "140 block5b_se_reshape False\n",
            "141 block5b_se_reduce False\n",
            "142 block5b_se_expand False\n",
            "143 block5b_se_excite False\n",
            "144 block5b_project_conv False\n",
            "145 block5b_project_bn False\n",
            "146 block5b_drop False\n",
            "147 block5b_add False\n",
            "148 block5c_expand_conv False\n",
            "149 block5c_expand_bn False\n",
            "150 block5c_expand_activation False\n",
            "151 block5c_dwconv False\n",
            "152 block5c_bn False\n",
            "153 block5c_activation False\n",
            "154 block5c_se_squeeze False\n",
            "155 block5c_se_reshape False\n",
            "156 block5c_se_reduce False\n",
            "157 block5c_se_expand False\n",
            "158 block5c_se_excite False\n",
            "159 block5c_project_conv False\n",
            "160 block5c_project_bn False\n",
            "161 block5c_drop False\n",
            "162 block5c_add False\n",
            "163 block6a_expand_conv False\n",
            "164 block6a_expand_bn False\n",
            "165 block6a_expand_activation False\n",
            "166 block6a_dwconv_pad False\n",
            "167 block6a_dwconv False\n",
            "168 block6a_bn False\n",
            "169 block6a_activation False\n",
            "170 block6a_se_squeeze False\n",
            "171 block6a_se_reshape False\n",
            "172 block6a_se_reduce False\n",
            "173 block6a_se_expand False\n",
            "174 block6a_se_excite False\n",
            "175 block6a_project_conv False\n",
            "176 block6a_project_bn False\n",
            "177 block6b_expand_conv False\n",
            "178 block6b_expand_bn False\n",
            "179 block6b_expand_activation False\n",
            "180 block6b_dwconv False\n",
            "181 block6b_bn False\n",
            "182 block6b_activation False\n",
            "183 block6b_se_squeeze False\n",
            "184 block6b_se_reshape False\n",
            "185 block6b_se_reduce False\n",
            "186 block6b_se_expand False\n",
            "187 block6b_se_excite False\n",
            "188 block6b_project_conv False\n",
            "189 block6b_project_bn False\n",
            "190 block6b_drop False\n",
            "191 block6b_add False\n",
            "192 block6c_expand_conv False\n",
            "193 block6c_expand_bn False\n",
            "194 block6c_expand_activation False\n",
            "195 block6c_dwconv False\n",
            "196 block6c_bn False\n",
            "197 block6c_activation False\n",
            "198 block6c_se_squeeze False\n",
            "199 block6c_se_reshape False\n",
            "200 block6c_se_reduce False\n",
            "201 block6c_se_expand False\n",
            "202 block6c_se_excite False\n",
            "203 block6c_project_conv False\n",
            "204 block6c_project_bn False\n",
            "205 block6c_drop False\n",
            "206 block6c_add False\n",
            "207 block6d_expand_conv False\n",
            "208 block6d_expand_bn False\n",
            "209 block6d_expand_activation False\n",
            "210 block6d_dwconv False\n",
            "211 block6d_bn False\n",
            "212 block6d_activation False\n",
            "213 block6d_se_squeeze False\n",
            "214 block6d_se_reshape False\n",
            "215 block6d_se_reduce False\n",
            "216 block6d_se_expand False\n",
            "217 block6d_se_excite False\n",
            "218 block6d_project_conv False\n",
            "219 block6d_project_bn False\n",
            "220 block6d_drop False\n",
            "221 block6d_add False\n",
            "222 block7a_expand_conv False\n",
            "223 block7a_expand_bn False\n",
            "224 block7a_expand_activation False\n",
            "225 block7a_dwconv False\n",
            "226 block7a_bn False\n",
            "227 block7a_activation False\n",
            "228 block7a_se_squeeze True\n",
            "229 block7a_se_reshape True\n",
            "230 block7a_se_reduce True\n",
            "231 block7a_se_expand True\n",
            "232 block7a_se_excite True\n",
            "233 block7a_project_conv True\n",
            "234 block7a_project_bn True\n",
            "235 top_conv True\n",
            "236 top_bn True\n",
            "237 top_activation True\n"
          ]
        }
      ]
    },
    {
      "cell_type": "code",
      "source": [
        "# Compile\n",
        "model_2.compile(loss='categorical_crossentropy',\n",
        "                optimizer=tf.keras.optimizers.Adam(learning_rate=0.001),\n",
        "                metrics=['accuracy'])"
      ],
      "metadata": {
        "id": "9Wk85nRKJdUA"
      },
      "execution_count": 82,
      "outputs": []
    },
    {
      "cell_type": "code",
      "source": [
        "# Continue to train and fine-tune the model to the data (100% of training data)\n",
        "fine_tune_epochs = initial_epochs + 5\n",
        "\n",
        "history_fine_tune_10_classes_full = model_2.fit(train_data_10_classes_full,\n",
        "                                  epochs=fine_tune_epochs,\n",
        "                                  validation_data=test_data,\n",
        "                                  validation_steps=int(0.25 * len(test_data)),\n",
        "                                  initial_epoch=history_2.epoch[-1],\n",
        "                                  callbacks=[create_tensorboard_callback(\n",
        "                                      dir_name='transfer_learning',\n",
        "                                      experiment_name='full_10_classes_fine_tune_last_10'\n",
        "                                  )])"
      ],
      "metadata": {
        "colab": {
          "base_uri": "https://localhost:8080/"
        },
        "id": "BDn0T6lPKCkm",
        "outputId": "08bed19b-f440-431f-e6d6-3df341d00bd2"
      },
      "execution_count": 87,
      "outputs": [
        {
          "output_type": "stream",
          "name": "stdout",
          "text": [
            "Saving TensorBoard log files to: transfer_learning/full_10_classes_fine_tune_last_10/20230123-195529\n",
            "Epoch 5/10\n",
            "235/235 [==============================] - 57s 242ms/step - loss: 0.4884 - accuracy: 0.8444 - val_loss: 0.2449 - val_accuracy: 0.9243\n",
            "Epoch 6/10\n",
            "235/235 [==============================] - 52s 217ms/step - loss: 0.3781 - accuracy: 0.8747 - val_loss: 0.2367 - val_accuracy: 0.9211\n",
            "Epoch 7/10\n",
            "235/235 [==============================] - 46s 195ms/step - loss: 0.3065 - accuracy: 0.8972 - val_loss: 0.2445 - val_accuracy: 0.9145\n",
            "Epoch 8/10\n",
            "235/235 [==============================] - 55s 232ms/step - loss: 0.2609 - accuracy: 0.9139 - val_loss: 0.2176 - val_accuracy: 0.9227\n",
            "Epoch 9/10\n",
            "235/235 [==============================] - 53s 224ms/step - loss: 0.2104 - accuracy: 0.9297 - val_loss: 0.2230 - val_accuracy: 0.9293\n",
            "Epoch 10/10\n",
            "235/235 [==============================] - 43s 180ms/step - loss: 0.1946 - accuracy: 0.9340 - val_loss: 0.2147 - val_accuracy: 0.9342\n"
          ]
        }
      ]
    },
    {
      "cell_type": "code",
      "source": [
        "# Evluate on all of the test data\n",
        "results_fine_tune_full_data = model_2.evaluate(test_data)\n",
        "results_fine_tune_full_data"
      ],
      "metadata": {
        "colab": {
          "base_uri": "https://localhost:8080/"
        },
        "id": "El-NEM0FLU7j",
        "outputId": "a9624752-1328-4eea-dd49-e4c83cb234c2"
      },
      "execution_count": 88,
      "outputs": [
        {
          "output_type": "stream",
          "name": "stdout",
          "text": [
            "79/79 [==============================] - 6s 72ms/step - loss: 0.3028 - accuracy: 0.9104\n"
          ]
        },
        {
          "output_type": "execute_result",
          "data": {
            "text/plain": [
              "[0.302846223115921, 0.9103999733924866]"
            ]
          },
          "metadata": {},
          "execution_count": 88
        }
      ]
    },
    {
      "cell_type": "code",
      "source": [
        "# How did fine-tuning go with more data?\n",
        "compare_histories(original_history=history_2,\n",
        "                  new_history=history_fine_tune_10_classes_full,\n",
        "                  initial_epochs=5)"
      ],
      "metadata": {
        "colab": {
          "base_uri": "https://localhost:8080/",
          "height": 507
        },
        "id": "_Tb5K7hBNulz",
        "outputId": "c699d991-c497-423e-e985-43bee826d00a"
      },
      "execution_count": 89,
      "outputs": [
        {
          "output_type": "display_data",
          "data": {
            "text/plain": [
              "<Figure size 576x576 with 1 Axes>"
            ],
            "image/png": "[encoded data removed]"
          },
          "metadata": {
            "needs_background": "light"
          }
        },
        {
          "output_type": "display_data",
          "data": {
            "text/plain": [
              "<Figure size 576x576 with 1 Axes>"
            ],
            "image/png": "[encoded data removed]"
          },
          "metadata": {
            "needs_background": "light"
          }
        }
      ]
    },
    {
      "cell_type": "markdown",
      "source": [
        "## Viewing the Experiment Data on TensorBoard"
      ],
      "metadata": {
        "id": "W0w-SJDAOvEb"
      }
    },
    {
      "cell_type": "code",
      "source": [
        "!tensorboard dev upload --logdir ./transfer_learning \\\n",
        "    --name \"Transfer Learning Experiments with 10 Food101 Classes\" \\\n",
        "    --description \"A series of different transfer learning experiments with \\\n",
        "    varying amounts of data and fine-tuning.\" \\\n",
        "    --one_shot"
      ],
      "metadata": {
        "id": "pTKbizYKOJWx"
      },
      "execution_count": null,
      "outputs": []
    },
    {
      "cell_type": "markdown",
      "source": [
        "- TensorBoard Experiment Available at: https://tensorboard.dev/experiment/Se0GSduPSqGBlnB6YcmLLw/#scalars"
      ],
      "metadata": {
        "id": "PhnI37hTPiKr"
      }
    }
  ]
}