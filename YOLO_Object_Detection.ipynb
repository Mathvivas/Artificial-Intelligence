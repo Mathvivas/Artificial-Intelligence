{
  "nbformat": 4,
  "nbformat_minor": 0,
  "metadata": {
    "colab": {
      "provenance": [],
      "authorship_tag": "ABX9TyMiSe2LktJ4k0LlKGlsgmOD"
    },
    "kernelspec": {
      "name": "python3",
      "display_name": "Python 3"
    },
    "language_info": {
      "name": "python"
    }
  },
  "cells": [
    {
      "cell_type": "code",
      "execution_count": 1,
      "metadata": {
        "colab": {
          "base_uri": "https://localhost:8080/"
        },
        "id": "F8jAoHog8Tsm",
        "outputId": "418649f9-6b94-4a31-ae90-1fff025e8969"
      },
      "outputs": [
        {
          "output_type": "stream",
          "name": "stdout",
          "text": [
            "fatal: destination path 'yolov3' already exists and is not an empty directory.\n",
            "Requirement already satisfied: gitpython>=3.1.30 in /usr/local/lib/python3.10/dist-packages (from -r /content/yolov3/requirements.txt (line 5)) (3.1.36)\n",
            "Requirement already satisfied: matplotlib>=3.3 in /usr/local/lib/python3.10/dist-packages (from -r /content/yolov3/requirements.txt (line 6)) (3.7.3)\n",
            "Requirement already satisfied: numpy>=1.22.2 in /usr/local/lib/python3.10/dist-packages (from -r /content/yolov3/requirements.txt (line 7)) (1.25.2)\n",
            "Requirement already satisfied: opencv-python>=4.1.1 in /usr/local/lib/python3.10/dist-packages (from -r /content/yolov3/requirements.txt (line 8)) (4.8.0.76)\n",
            "Requirement already satisfied: Pillow>=7.1.2 in /usr/local/lib/python3.10/dist-packages (from -r /content/yolov3/requirements.txt (line 9)) (10.0.0)\n",
            "Requirement already satisfied: psutil in /usr/local/lib/python3.10/dist-packages (from -r /content/yolov3/requirements.txt (line 10)) (5.9.5)\n",
            "Requirement already satisfied: PyYAML>=5.3.1 in /usr/local/lib/python3.10/dist-packages (from -r /content/yolov3/requirements.txt (line 11)) (6.0.1)\n",
            "Requirement already satisfied: requests>=2.23.0 in /usr/local/lib/python3.10/dist-packages (from -r /content/yolov3/requirements.txt (line 12)) (2.31.0)\n",
            "Requirement already satisfied: scipy>=1.4.1 in /usr/local/lib/python3.10/dist-packages (from -r /content/yolov3/requirements.txt (line 13)) (1.11.2)\n",
            "Requirement already satisfied: thop>=0.1.1 in /usr/local/lib/python3.10/dist-packages (from -r /content/yolov3/requirements.txt (line 14)) (0.1.1.post2209072238)\n",
            "Requirement already satisfied: torch>=1.8.0 in /usr/local/lib/python3.10/dist-packages (from -r /content/yolov3/requirements.txt (line 15)) (2.0.1+cu118)\n",
            "Requirement already satisfied: torchvision>=0.9.0 in /usr/local/lib/python3.10/dist-packages (from -r /content/yolov3/requirements.txt (line 16)) (0.15.2+cu118)\n",
            "Requirement already satisfied: tqdm>=4.64.0 in /usr/local/lib/python3.10/dist-packages (from -r /content/yolov3/requirements.txt (line 17)) (4.66.1)\n",
            "Requirement already satisfied: ultralytics>=8.0.147 in /usr/local/lib/python3.10/dist-packages (from -r /content/yolov3/requirements.txt (line 18)) (8.0.178)\n",
            "Requirement already satisfied: pandas>=1.1.4 in /usr/local/lib/python3.10/dist-packages (from -r /content/yolov3/requirements.txt (line 27)) (2.1.0)\n",
            "Requirement already satisfied: seaborn>=0.11.0 in /usr/local/lib/python3.10/dist-packages (from -r /content/yolov3/requirements.txt (line 28)) (0.12.2)\n",
            "Requirement already satisfied: setuptools>=65.5.1 in /usr/local/lib/python3.10/dist-packages (from -r /content/yolov3/requirements.txt (line 42)) (68.2.2)\n",
            "Requirement already satisfied: gitdb<5,>=4.0.1 in /usr/local/lib/python3.10/dist-packages (from gitpython>=3.1.30->-r /content/yolov3/requirements.txt (line 5)) (4.0.10)\n",
            "Requirement already satisfied: contourpy>=1.0.1 in /usr/local/lib/python3.10/dist-packages (from matplotlib>=3.3->-r /content/yolov3/requirements.txt (line 6)) (1.1.0)\n",
            "Requirement already satisfied: cycler>=0.10 in /usr/local/lib/python3.10/dist-packages (from matplotlib>=3.3->-r /content/yolov3/requirements.txt (line 6)) (0.11.0)\n",
            "Requirement already satisfied: fonttools>=4.22.0 in /usr/local/lib/python3.10/dist-packages (from matplotlib>=3.3->-r /content/yolov3/requirements.txt (line 6)) (4.42.1)\n",
            "Requirement already satisfied: kiwisolver>=1.0.1 in /usr/local/lib/python3.10/dist-packages (from matplotlib>=3.3->-r /content/yolov3/requirements.txt (line 6)) (1.4.5)\n",
            "Requirement already satisfied: packaging>=20.0 in /usr/local/lib/python3.10/dist-packages (from matplotlib>=3.3->-r /content/yolov3/requirements.txt (line 6)) (23.1)\n",
            "Requirement already satisfied: pyparsing>=2.3.1 in /usr/local/lib/python3.10/dist-packages (from matplotlib>=3.3->-r /content/yolov3/requirements.txt (line 6)) (3.1.1)\n",
            "Requirement already satisfied: python-dateutil>=2.7 in /usr/local/lib/python3.10/dist-packages (from matplotlib>=3.3->-r /content/yolov3/requirements.txt (line 6)) (2.8.2)\n",
            "Requirement already satisfied: charset-normalizer<4,>=2 in /usr/local/lib/python3.10/dist-packages (from requests>=2.23.0->-r /content/yolov3/requirements.txt (line 12)) (3.2.0)\n",
            "Requirement already satisfied: idna<4,>=2.5 in /usr/local/lib/python3.10/dist-packages (from requests>=2.23.0->-r /content/yolov3/requirements.txt (line 12)) (3.4)\n",
            "Requirement already satisfied: urllib3<3,>=1.21.1 in /usr/local/lib/python3.10/dist-packages (from requests>=2.23.0->-r /content/yolov3/requirements.txt (line 12)) (2.0.4)\n",
            "Requirement already satisfied: certifi>=2017.4.17 in /usr/local/lib/python3.10/dist-packages (from requests>=2.23.0->-r /content/yolov3/requirements.txt (line 12)) (2023.7.22)\n",
            "Requirement already satisfied: filelock in /usr/local/lib/python3.10/dist-packages (from torch>=1.8.0->-r /content/yolov3/requirements.txt (line 15)) (3.12.2)\n",
            "Requirement already satisfied: typing-extensions in /usr/local/lib/python3.10/dist-packages (from torch>=1.8.0->-r /content/yolov3/requirements.txt (line 15)) (4.5.0)\n",
            "Requirement already satisfied: sympy in /usr/local/lib/python3.10/dist-packages (from torch>=1.8.0->-r /content/yolov3/requirements.txt (line 15)) (1.12)\n",
            "Requirement already satisfied: networkx in /usr/local/lib/python3.10/dist-packages (from torch>=1.8.0->-r /content/yolov3/requirements.txt (line 15)) (3.1)\n",
            "Requirement already satisfied: jinja2 in /usr/local/lib/python3.10/dist-packages (from torch>=1.8.0->-r /content/yolov3/requirements.txt (line 15)) (3.1.2)\n",
            "Requirement already satisfied: triton==2.0.0 in /usr/local/lib/python3.10/dist-packages (from torch>=1.8.0->-r /content/yolov3/requirements.txt (line 15)) (2.0.0)\n",
            "Requirement already satisfied: cmake in /usr/local/lib/python3.10/dist-packages (from triton==2.0.0->torch>=1.8.0->-r /content/yolov3/requirements.txt (line 15)) (3.27.4.1)\n",
            "Requirement already satisfied: lit in /usr/local/lib/python3.10/dist-packages (from triton==2.0.0->torch>=1.8.0->-r /content/yolov3/requirements.txt (line 15)) (16.0.6)\n",
            "Requirement already satisfied: py-cpuinfo in /usr/local/lib/python3.10/dist-packages (from ultralytics>=8.0.147->-r /content/yolov3/requirements.txt (line 18)) (9.0.0)\n",
            "Requirement already satisfied: pytz>=2020.1 in /usr/local/lib/python3.10/dist-packages (from pandas>=1.1.4->-r /content/yolov3/requirements.txt (line 27)) (2023.3.post1)\n",
            "Requirement already satisfied: tzdata>=2022.1 in /usr/local/lib/python3.10/dist-packages (from pandas>=1.1.4->-r /content/yolov3/requirements.txt (line 27)) (2023.3)\n",
            "Requirement already satisfied: smmap<6,>=3.0.1 in /usr/local/lib/python3.10/dist-packages (from gitdb<5,>=4.0.1->gitpython>=3.1.30->-r /content/yolov3/requirements.txt (line 5)) (5.0.0)\n",
            "Requirement already satisfied: six>=1.5 in /usr/local/lib/python3.10/dist-packages (from python-dateutil>=2.7->matplotlib>=3.3->-r /content/yolov3/requirements.txt (line 6)) (1.16.0)\n",
            "Requirement already satisfied: MarkupSafe>=2.0 in /usr/local/lib/python3.10/dist-packages (from jinja2->torch>=1.8.0->-r /content/yolov3/requirements.txt (line 15)) (2.1.3)\n",
            "Requirement already satisfied: mpmath>=0.19 in /usr/local/lib/python3.10/dist-packages (from sympy->torch>=1.8.0->-r /content/yolov3/requirements.txt (line 15)) (1.3.0)\n"
          ]
        }
      ],
      "source": [
        "!git clone https://github.com/ultralytics/yolov3\n",
        "!cd yolov3\n",
        "!pip install -U -r /content/yolov3/requirements.txt"
      ]
    },
    {
      "cell_type": "code",
      "source": [
        "!python /content/yolov3/detect.py --help"
      ],
      "metadata": {
        "colab": {
          "base_uri": "https://localhost:8080/"
        },
        "id": "rry2Lj6t-oU7",
        "outputId": "0459d91b-86b7-4dbf-868d-41cddbe1128a"
      },
      "execution_count": 7,
      "outputs": [
        {
          "output_type": "stream",
          "name": "stdout",
          "text": [
            "usage: detect.py\n",
            "       [-h]\n",
            "       [--weights WEIGHTS [WEIGHTS ...]]\n",
            "       [--source SOURCE]\n",
            "       [--data DATA]\n",
            "       [--imgsz IMGSZ [IMGSZ ...]]\n",
            "       [--conf-thres CONF_THRES]\n",
            "       [--iou-thres IOU_THRES]\n",
            "       [--max-det MAX_DET]\n",
            "       [--device DEVICE]\n",
            "       [--view-img]\n",
            "       [--save-txt]\n",
            "       [--save-conf]\n",
            "       [--save-crop]\n",
            "       [--nosave]\n",
            "       [--classes CLASSES [CLASSES ...]]\n",
            "       [--agnostic-nms]\n",
            "       [--augment]\n",
            "       [--visualize]\n",
            "       [--update]\n",
            "       [--project PROJECT]\n",
            "       [--name NAME]\n",
            "       [--exist-ok]\n",
            "       [--line-thickness LINE_THICKNESS]\n",
            "       [--hide-labels]\n",
            "       [--hide-conf]\n",
            "       [--half]\n",
            "       [--dnn]\n",
            "       [--vid-stride VID_STRIDE]\n",
            "\n",
            "options:\n",
            "  -h, --help\n",
            "    show this\n",
            "    help\n",
            "    message and\n",
            "    exit\n",
            "  --weights WEIGHTS [WEIGHTS ...]\n",
            "    model path\n",
            "    or triton\n",
            "    URL\n",
            "  --source SOURCE\n",
            "    file/dir/UR\n",
            "    L/glob/scre\n",
            "    en/0(webcam\n",
            "    )\n",
            "  --data DATA\n",
            "    (optional) \n",
            "    dataset.yam\n",
            "    l path\n",
            "  --imgsz IMGSZ [IMGSZ ...], --img IMGSZ [IMGSZ ...], --img-size IMGSZ [IMGSZ ...]\n",
            "    inference\n",
            "    size h,w\n",
            "  --conf-thres CONF_THRES\n",
            "    confidence\n",
            "    threshold\n",
            "  --iou-thres IOU_THRES\n",
            "    NMS IoU\n",
            "    threshold\n",
            "  --max-det MAX_DET\n",
            "    maximum\n",
            "    detections\n",
            "    per image\n",
            "  --device DEVICE\n",
            "    cuda\n",
            "    device,\n",
            "    i.e. 0 or\n",
            "    0,1,2,3 or\n",
            "    cpu\n",
            "  --view-img\n",
            "    show\n",
            "    results\n",
            "  --save-txt\n",
            "    save\n",
            "    results to\n",
            "    *.txt\n",
            "  --save-conf\n",
            "    save\n",
            "    confidences\n",
            "    in --save-\n",
            "    txt labels\n",
            "  --save-crop\n",
            "    save\n",
            "    cropped\n",
            "    prediction\n",
            "    boxes\n",
            "  --nosave\n",
            "    do not save\n",
            "    images/vide\n",
            "    os\n",
            "  --classes CLASSES [CLASSES ...]\n",
            "    filter by\n",
            "    class:\n",
            "    --classes\n",
            "    0, or\n",
            "    --classes 0\n",
            "    2 3\n",
            "  --agnostic-nms\n",
            "    class-\n",
            "    agnostic\n",
            "    NMS\n",
            "  --augment\n",
            "    augmented\n",
            "    inference\n",
            "  --visualize\n",
            "    visualize\n",
            "    features\n",
            "  --update\n",
            "    update all\n",
            "    models\n",
            "  --project PROJECT\n",
            "    save\n",
            "    results to \n",
            "    project/nam\n",
            "    e\n",
            "  --name NAME\n",
            "    save\n",
            "    results to \n",
            "    project/nam\n",
            "    e\n",
            "  --exist-ok\n",
            "    existing pr\n",
            "    oject/name\n",
            "    ok, do not\n",
            "    increment\n",
            "  --line-thickness LINE_THICKNESS\n",
            "    bounding\n",
            "    box\n",
            "    thickness\n",
            "    (pixels)\n",
            "  --hide-labels\n",
            "    hide labels\n",
            "  --hide-conf\n",
            "    hide\n",
            "    confidences\n",
            "  --half\n",
            "    use FP16\n",
            "    half-\n",
            "    precision\n",
            "    inference\n",
            "  --dnn\n",
            "    use OpenCV\n",
            "    DNN for\n",
            "    ONNX\n",
            "    inference\n",
            "  --vid-stride VID_STRIDE\n",
            "    video\n",
            "    frame-rate\n",
            "    stride\n"
          ]
        }
      ]
    },
    {
      "cell_type": "code",
      "source": [
        "!python /content/yolov3/detect.py --weights yolov3.pt --img 640 --conf 0.25 --source /content/yolov3/data/images"
      ],
      "metadata": {
        "colab": {
          "base_uri": "https://localhost:8080/"
        },
        "id": "8IOfMB00Hu-c",
        "outputId": "b06cd583-fb66-4969-bffc-d909c19ba540"
      },
      "execution_count": 9,
      "outputs": [
        {
          "output_type": "stream",
          "name": "stdout",
          "text": [
            "\u001b[34m\u001b[1mdetect: \u001b[0mweights=['yolov3.pt'], source=/content/yolov3/data/images, data=yolov3/data/coco128.yaml, imgsz=[640, 640], conf_thres=0.25, iou_thres=0.45, max_det=1000, device=, view_img=False, save_txt=False, save_conf=False, save_crop=False, nosave=False, classes=None, agnostic_nms=False, augment=False, visualize=False, update=False, project=yolov3/runs/detect, name=exp, exist_ok=False, line_thickness=3, hide_labels=False, hide_conf=False, half=False, dnn=False, vid_stride=1\n",
            "YOLOv3 🚀 v9.6.0-110-g58eca44 Python-3.10.12 torch-2.0.1+cu118 CPU\n",
            "\n",
            "Fusing layers... \n",
            "yolov3 summary: 261 layers, 61922845 parameters, 0 gradients\n",
            "image 1/4 /content/yolov3/data/images/bus.jpg: 640x480 4 persons, 1 bicycle, 1 bus, 2057.6ms\n",
            "image 2/4 /content/yolov3/data/images/designated-bike-and-bus-lanes-22729101645.jpg: 384x640 6 persons, 4 bicycles, 6 cars, 1 bus, 5 traffic lights, 2 backpacks, 2 handbags, 2616.7ms\n",
            "image 3/4 /content/yolov3/data/images/oaxaca-city-center-1024x683.jpg: 448x640 4 persons, 1 car, 1 bench, 1 bird, 1 potted plant, 2915.2ms\n",
            "image 4/4 /content/yolov3/data/images/zidane.jpg: 384x640 2 persons, 2 ties, 1541.3ms\n",
            "Speed: 2.0ms pre-process, 2282.7ms inference, 1.3ms NMS per image at shape (1, 3, 640, 640)\n",
            "Results saved to \u001b[1myolov3/runs/detect/exp2\u001b[0m\n"
          ]
        }
      ]
    },
    {
      "cell_type": "code",
      "source": [
        "!python /content/yolov3/detect.py --weights yolov3.pt --source TownCentreXVID.avi"
      ],
      "metadata": {
        "colab": {
          "base_uri": "https://localhost:8080/"
        },
        "id": "HDI-7YSYI_FV",
        "outputId": "b09f85d7-69f0-4df4-e908-e32a26e560aa"
      },
      "execution_count": 10,
      "outputs": [
        {
          "output_type": "stream",
          "name": "stdout",
          "text": [
            "\u001b[34m\u001b[1mdetect: \u001b[0mweights=['yolov3.pt'], source=TownCentreXVID.avi, data=yolov3/data/coco128.yaml, imgsz=[640, 640], conf_thres=0.25, iou_thres=0.45, max_det=1000, device=, view_img=False, save_txt=False, save_conf=False, save_crop=False, nosave=False, classes=None, agnostic_nms=False, augment=False, visualize=False, update=False, project=yolov3/runs/detect, name=exp, exist_ok=False, line_thickness=3, hide_labels=False, hide_conf=False, half=False, dnn=False, vid_stride=1\n",
            "YOLOv3 🚀 v9.6.0-110-g58eca44 Python-3.10.12 torch-2.0.1+cu118 CPU\n",
            "\n",
            "Fusing layers... \n",
            "yolov3 summary: 261 layers, 61922845 parameters, 0 gradients\n",
            "Traceback (most recent call last):\n",
            "  File \"/content/yolov3/detect.py\", line 266, in <module>\n",
            "    main(opt)\n",
            "  File \"/content/yolov3/detect.py\", line 261, in main\n",
            "    run(**vars(opt))\n",
            "  File \"/usr/local/lib/python3.10/dist-packages/torch/utils/_contextlib.py\", line 115, in decorate_context\n",
            "    return func(*args, **kwargs)\n",
            "  File \"/content/yolov3/detect.py\", line 112, in run\n",
            "    dataset = LoadImages(source, img_size=imgsz, stride=stride, auto=pt, vid_stride=vid_stride)\n",
            "  File \"/content/yolov3/utils/dataloaders.py\", line 254, in __init__\n",
            "    raise FileNotFoundError(f'{p} does not exist')\n",
            "FileNotFoundError: /content/TownCentreXVID.avi does not exist\n"
          ]
        }
      ]
    },
    {
      "cell_type": "code",
      "source": [],
      "metadata": {
        "id": "lShUuTLgMAz-"
      },
      "execution_count": null,
      "outputs": []
    }
  ]
}